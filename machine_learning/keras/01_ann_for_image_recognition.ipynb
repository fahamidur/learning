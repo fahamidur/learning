{
 "cells": [
  {
   "cell_type": "markdown",
   "id": "ce37a25e",
   "metadata": {},
   "source": [
    "# A simple ANN for image recognition\n",
    "This notebook shows how to create a simple neural network to identify hand-written characters\n",
    "\n",
    "We will be using Keras and Tensorflow to build this neural network"
   ]
  },
  {
   "cell_type": "code",
   "execution_count": 1,
   "id": "d2215012",
   "metadata": {
    "ExecuteTime": {
     "end_time": "2021-09-12T04:49:29.909444Z",
     "start_time": "2021-09-12T04:49:24.399739Z"
    }
   },
   "outputs": [],
   "source": [
    "import numpy as np\n",
    "import pandas as pd\n",
    "\n",
    "import tensorflow as tf\n",
    "from tensorflow import keras\n",
    "\n",
    "import matplotlib.pyplot as plt\n",
    "import seaborn as sns\n",
    "\n",
    "from datetime import datetime"
   ]
  },
  {
   "cell_type": "markdown",
   "id": "0253c3a6",
   "metadata": {},
   "source": [
    "## Download and Analyze Data\n",
    "We will be using MNIST dataset which has images of numbers from 0 to 9"
   ]
  },
  {
   "cell_type": "code",
   "execution_count": 2,
   "id": "3a46ac95",
   "metadata": {
    "ExecuteTime": {
     "end_time": "2021-09-12T04:49:30.611176Z",
     "start_time": "2021-09-12T04:49:29.911683Z"
    }
   },
   "outputs": [],
   "source": [
    "(X_train, y_train), (X_test, y_test) = keras.datasets.mnist.load_data()"
   ]
  },
  {
   "cell_type": "code",
   "execution_count": 3,
   "id": "cc4850ab",
   "metadata": {
    "ExecuteTime": {
     "end_time": "2021-09-12T04:49:30.616542Z",
     "start_time": "2021-09-12T04:49:30.613037Z"
    }
   },
   "outputs": [
    {
     "name": "stdout",
     "output_type": "stream",
     "text": [
      "\n",
      "(60000, 28, 28)\n",
      "(10000, 28, 28)\n",
      "(60000,)\n",
      "(10000,)\n",
      "\n"
     ]
    }
   ],
   "source": [
    "print(f\"\"\"\n",
    "{X_train.shape}\n",
    "{X_test.shape}\n",
    "{y_train.shape}\n",
    "{y_test.shape}\n",
    "\"\"\")"
   ]
  },
  {
   "cell_type": "markdown",
   "id": "a3124904",
   "metadata": {},
   "source": [
    "Let us see the data"
   ]
  },
  {
   "cell_type": "code",
   "execution_count": 4,
   "id": "2567bf40",
   "metadata": {
    "ExecuteTime": {
     "end_time": "2021-09-12T04:49:30.626278Z",
     "start_time": "2021-09-12T04:49:30.619259Z"
    }
   },
   "outputs": [
    {
     "data": {
      "text/plain": [
       "array([[  0,   0,   0,   0,   0,   0,   0,   0,   0,   0,   0,   0,   0,\n",
       "          0,   0,   0,   0,   0,   0,   0,   0,   0,   0,   0,   0,   0,\n",
       "          0,   0],\n",
       "       [  0,   0,   0,   0,   0,   0,   0,   0,   0,   0,   0,   0,   0,\n",
       "          0,   0,   0,   0,   0,   0,   0,   0,   0,   0,   0,   0,   0,\n",
       "          0,   0],\n",
       "       [  0,   0,   0,   0,   0,   0,   0,   0,   0,   0,   0,   0,   0,\n",
       "          0,   0,   0,   0,   0,   0,   0,   0,   0,   0,   0,   0,   0,\n",
       "          0,   0],\n",
       "       [  0,   0,   0,   0,   0,   0,   0,   0,   0,   0,   0,   0,   0,\n",
       "          0,   0,   0,   0,   0,   0,   0,   0,   0,   0,   0,   0,   0,\n",
       "          0,   0],\n",
       "       [  0,   0,   0,   0,   0,   0,   0,   0,   0,   0,   0,   0,   0,\n",
       "          0,   0,   0,   0,   0,   0,   0,   0,   0,   0,   0,   0,   0,\n",
       "          0,   0],\n",
       "       [  0,   0,   0,   0,   0,   0,   0,   0,   0,   0,   0,   0,   3,\n",
       "         18,  18,  18, 126, 136, 175,  26, 166, 255, 247, 127,   0,   0,\n",
       "          0,   0],\n",
       "       [  0,   0,   0,   0,   0,   0,   0,   0,  30,  36,  94, 154, 170,\n",
       "        253, 253, 253, 253, 253, 225, 172, 253, 242, 195,  64,   0,   0,\n",
       "          0,   0],\n",
       "       [  0,   0,   0,   0,   0,   0,   0,  49, 238, 253, 253, 253, 253,\n",
       "        253, 253, 253, 253, 251,  93,  82,  82,  56,  39,   0,   0,   0,\n",
       "          0,   0],\n",
       "       [  0,   0,   0,   0,   0,   0,   0,  18, 219, 253, 253, 253, 253,\n",
       "        253, 198, 182, 247, 241,   0,   0,   0,   0,   0,   0,   0,   0,\n",
       "          0,   0],\n",
       "       [  0,   0,   0,   0,   0,   0,   0,   0,  80, 156, 107, 253, 253,\n",
       "        205,  11,   0,  43, 154,   0,   0,   0,   0,   0,   0,   0,   0,\n",
       "          0,   0],\n",
       "       [  0,   0,   0,   0,   0,   0,   0,   0,   0,  14,   1, 154, 253,\n",
       "         90,   0,   0,   0,   0,   0,   0,   0,   0,   0,   0,   0,   0,\n",
       "          0,   0],\n",
       "       [  0,   0,   0,   0,   0,   0,   0,   0,   0,   0,   0, 139, 253,\n",
       "        190,   2,   0,   0,   0,   0,   0,   0,   0,   0,   0,   0,   0,\n",
       "          0,   0],\n",
       "       [  0,   0,   0,   0,   0,   0,   0,   0,   0,   0,   0,  11, 190,\n",
       "        253,  70,   0,   0,   0,   0,   0,   0,   0,   0,   0,   0,   0,\n",
       "          0,   0],\n",
       "       [  0,   0,   0,   0,   0,   0,   0,   0,   0,   0,   0,   0,  35,\n",
       "        241, 225, 160, 108,   1,   0,   0,   0,   0,   0,   0,   0,   0,\n",
       "          0,   0],\n",
       "       [  0,   0,   0,   0,   0,   0,   0,   0,   0,   0,   0,   0,   0,\n",
       "         81, 240, 253, 253, 119,  25,   0,   0,   0,   0,   0,   0,   0,\n",
       "          0,   0],\n",
       "       [  0,   0,   0,   0,   0,   0,   0,   0,   0,   0,   0,   0,   0,\n",
       "          0,  45, 186, 253, 253, 150,  27,   0,   0,   0,   0,   0,   0,\n",
       "          0,   0],\n",
       "       [  0,   0,   0,   0,   0,   0,   0,   0,   0,   0,   0,   0,   0,\n",
       "          0,   0,  16,  93, 252, 253, 187,   0,   0,   0,   0,   0,   0,\n",
       "          0,   0],\n",
       "       [  0,   0,   0,   0,   0,   0,   0,   0,   0,   0,   0,   0,   0,\n",
       "          0,   0,   0,   0, 249, 253, 249,  64,   0,   0,   0,   0,   0,\n",
       "          0,   0],\n",
       "       [  0,   0,   0,   0,   0,   0,   0,   0,   0,   0,   0,   0,   0,\n",
       "          0,  46, 130, 183, 253, 253, 207,   2,   0,   0,   0,   0,   0,\n",
       "          0,   0],\n",
       "       [  0,   0,   0,   0,   0,   0,   0,   0,   0,   0,   0,   0,  39,\n",
       "        148, 229, 253, 253, 253, 250, 182,   0,   0,   0,   0,   0,   0,\n",
       "          0,   0],\n",
       "       [  0,   0,   0,   0,   0,   0,   0,   0,   0,   0,  24, 114, 221,\n",
       "        253, 253, 253, 253, 201,  78,   0,   0,   0,   0,   0,   0,   0,\n",
       "          0,   0],\n",
       "       [  0,   0,   0,   0,   0,   0,   0,   0,  23,  66, 213, 253, 253,\n",
       "        253, 253, 198,  81,   2,   0,   0,   0,   0,   0,   0,   0,   0,\n",
       "          0,   0],\n",
       "       [  0,   0,   0,   0,   0,   0,  18, 171, 219, 253, 253, 253, 253,\n",
       "        195,  80,   9,   0,   0,   0,   0,   0,   0,   0,   0,   0,   0,\n",
       "          0,   0],\n",
       "       [  0,   0,   0,   0,  55, 172, 226, 253, 253, 253, 253, 244, 133,\n",
       "         11,   0,   0,   0,   0,   0,   0,   0,   0,   0,   0,   0,   0,\n",
       "          0,   0],\n",
       "       [  0,   0,   0,   0, 136, 253, 253, 253, 212, 135, 132,  16,   0,\n",
       "          0,   0,   0,   0,   0,   0,   0,   0,   0,   0,   0,   0,   0,\n",
       "          0,   0],\n",
       "       [  0,   0,   0,   0,   0,   0,   0,   0,   0,   0,   0,   0,   0,\n",
       "          0,   0,   0,   0,   0,   0,   0,   0,   0,   0,   0,   0,   0,\n",
       "          0,   0],\n",
       "       [  0,   0,   0,   0,   0,   0,   0,   0,   0,   0,   0,   0,   0,\n",
       "          0,   0,   0,   0,   0,   0,   0,   0,   0,   0,   0,   0,   0,\n",
       "          0,   0],\n",
       "       [  0,   0,   0,   0,   0,   0,   0,   0,   0,   0,   0,   0,   0,\n",
       "          0,   0,   0,   0,   0,   0,   0,   0,   0,   0,   0,   0,   0,\n",
       "          0,   0]], dtype=uint8)"
      ]
     },
     "execution_count": 4,
     "metadata": {},
     "output_type": "execute_result"
    }
   ],
   "source": [
    "X_train[0]"
   ]
  },
  {
   "cell_type": "code",
   "execution_count": 5,
   "id": "aaea954b",
   "metadata": {
    "ExecuteTime": {
     "end_time": "2021-09-12T04:49:30.632360Z",
     "start_time": "2021-09-12T04:49:30.628148Z"
    }
   },
   "outputs": [
    {
     "data": {
      "text/plain": [
       "array([5, 0, 4, 1, 9], dtype=uint8)"
      ]
     },
     "execution_count": 5,
     "metadata": {},
     "output_type": "execute_result"
    }
   ],
   "source": [
    "y_train[0:5]"
   ]
  },
  {
   "cell_type": "markdown",
   "id": "b0e740e1",
   "metadata": {},
   "source": [
    "Let us see how the handwritten characters look like"
   ]
  },
  {
   "cell_type": "code",
   "execution_count": 6,
   "id": "201b1672",
   "metadata": {
    "ExecuteTime": {
     "end_time": "2021-09-12T04:49:30.784943Z",
     "start_time": "2021-09-12T04:49:30.634016Z"
    }
   },
   "outputs": [
    {
     "name": "stdout",
     "output_type": "stream",
     "text": [
      "4\n"
     ]
    },
    {
     "data": {
      "text/plain": [
       "<matplotlib.image.AxesImage at 0x7fb48b1d31f0>"
      ]
     },
     "execution_count": 6,
     "metadata": {},
     "output_type": "execute_result"
    },
    {
     "data": {
      "image/png": "[encoded data removed]",
      "text/plain": [
       "<Figure size 432x288 with 1 Axes>"
      ]
     },
     "metadata": {
      "needs_background": "light"
     },
     "output_type": "display_data"
    }
   ],
   "source": [
    "idx = 2\n",
    "\n",
    "print(y_train[idx])\n",
    "plt.imshow(X_train[idx])"
   ]
  },
  {
   "cell_type": "markdown",
   "id": "0c5d5c24",
   "metadata": {},
   "source": [
    "## Min-Max Normalization\n",
    "Since each pixel has a value between 0 and 255, we divide by 255 to normalize the data"
   ]
  },
  {
   "cell_type": "code",
   "execution_count": 7,
   "id": "b60298fa",
   "metadata": {
    "ExecuteTime": {
     "end_time": "2021-09-12T04:49:31.046868Z",
     "start_time": "2021-09-12T04:49:30.787405Z"
    }
   },
   "outputs": [],
   "source": [
    "X_train = X_train/255\n",
    "X_test = X_test/255"
   ]
  },
  {
   "cell_type": "markdown",
   "id": "cc26910b",
   "metadata": {},
   "source": [
    "## Define Model Structure"
   ]
  },
  {
   "cell_type": "code",
   "execution_count": 8,
   "id": "7ff350fa",
   "metadata": {
    "ExecuteTime": {
     "end_time": "2021-09-12T04:49:32.327998Z",
     "start_time": "2021-09-12T04:49:32.323753Z"
    }
   },
   "outputs": [
    {
     "data": {
      "text/plain": [
       "(28, 28)"
      ]
     },
     "execution_count": 8,
     "metadata": {},
     "output_type": "execute_result"
    }
   ],
   "source": [
    "image_dim = X_train[0].shape\n",
    "image_dim"
   ]
  },
  {
   "cell_type": "code",
   "execution_count": 11,
   "id": "f1ec9207",
   "metadata": {
    "ExecuteTime": {
     "end_time": "2021-09-12T04:49:38.605113Z",
     "start_time": "2021-09-12T04:49:38.574013Z"
    }
   },
   "outputs": [],
   "source": [
    "model = keras.Sequential([\n",
    "    keras.layers.Flatten(input_shape=image_dim),\n",
    "    keras.layers.Dense(100, activation='relu'),\n",
    "    keras.layers.Dropout(0.2),\n",
    "    keras.layers.Dense(10, activation='softmax')\n",
    "])\n",
    "\n",
    "model.compile(\n",
    "    optimizer='adam',\n",
    "    loss='sparse_categorical_crossentropy',\n",
    "    metrics=['accuracy']\n",
    ")"
   ]
  },
  {
   "cell_type": "markdown",
   "id": "1446572f",
   "metadata": {},
   "source": [
    "## Train the model"
   ]
  },
  {
   "cell_type": "code",
   "execution_count": 13,
   "id": "c34b9cbe",
   "metadata": {
    "ExecuteTime": {
     "end_time": "2021-09-12T04:50:03.737913Z",
     "start_time": "2021-09-12T04:49:55.043873Z"
    }
   },
   "outputs": [
    {
     "name": "stdout",
     "output_type": "stream",
     "text": [
      "Epoch 1/5\n",
      "1875/1875 [==============================] - 2s 920us/step - loss: 0.0794 - accuracy: 0.9741\n",
      "Epoch 2/5\n",
      "1875/1875 [==============================] - 2s 942us/step - loss: 0.0713 - accuracy: 0.9776\n",
      "Epoch 3/5\n",
      "1875/1875 [==============================] - 2s 886us/step - loss: 0.0674 - accuracy: 0.9781\n",
      "Epoch 4/5\n",
      "1875/1875 [==============================] - 2s 906us/step - loss: 0.0584 - accuracy: 0.9807\n",
      "Epoch 5/5\n",
      "1875/1875 [==============================] - 2s 890us/step - loss: 0.0576 - accuracy: 0.9816\n"
     ]
    },
    {
     "data": {
      "text/plain": [
       "<keras.callbacks.History at 0x7fb461e6c8b0>"
      ]
     },
     "execution_count": 13,
     "metadata": {},
     "output_type": "execute_result"
    }
   ],
   "source": [
    "model.fit(X_train, y_train, epochs=5)"
   ]
  },
  {
   "cell_type": "markdown",
   "id": "54ece954",
   "metadata": {},
   "source": [
    "## Check performance on Test Data\n",
    "### Performance on entire test data"
   ]
  },
  {
   "cell_type": "code",
   "execution_count": 14,
   "id": "e51a2b2d",
   "metadata": {
    "ExecuteTime": {
     "end_time": "2021-09-12T04:50:06.678630Z",
     "start_time": "2021-09-12T04:50:06.297274Z"
    }
   },
   "outputs": [
    {
     "name": "stdout",
     "output_type": "stream",
     "text": [
      "313/313 [==============================] - 0s 633us/step - loss: 0.0752 - accuracy: 0.9782\n"
     ]
    },
    {
     "data": {
      "text/plain": [
       "[0.07517534494400024, 0.9782000184059143]"
      ]
     },
     "execution_count": 14,
     "metadata": {},
     "output_type": "execute_result"
    }
   ],
   "source": [
    "model.evaluate(X_test, y_test)"
   ]
  },
  {
   "cell_type": "markdown",
   "id": "9addf950",
   "metadata": {},
   "source": [
    "### Prediction for individual test samples\n",
    "Define the index for which we will be checking prediction"
   ]
  },
  {
   "cell_type": "code",
   "execution_count": 15,
   "id": "07f2de7f",
   "metadata": {
    "ExecuteTime": {
     "end_time": "2021-09-12T04:50:10.306686Z",
     "start_time": "2021-09-12T04:50:10.304164Z"
    }
   },
   "outputs": [],
   "source": [
    "idx = 1"
   ]
  },
  {
   "cell_type": "code",
   "execution_count": 16,
   "id": "fd0334d7",
   "metadata": {
    "ExecuteTime": {
     "end_time": "2021-09-12T04:50:10.832823Z",
     "start_time": "2021-09-12T04:50:10.706091Z"
    }
   },
   "outputs": [
    {
     "name": "stdout",
     "output_type": "stream",
     "text": [
      "2\n"
     ]
    },
    {
     "data": {
      "text/plain": [
       "<matplotlib.image.AxesImage at 0x7fb45188b310>"
      ]
     },
     "execution_count": 16,
     "metadata": {},
     "output_type": "execute_result"
    },
    {
     "data": {
      "image/png": "[encoded data removed]",
      "text/plain": [
       "<Figure size 432x288 with 1 Axes>"
      ]
     },
     "metadata": {
      "needs_background": "light"
     },
     "output_type": "display_data"
    }
   ],
   "source": [
    "print(y_test[idx])\n",
    "plt.imshow(X_test[idx])"
   ]
  },
  {
   "cell_type": "markdown",
   "id": "36a2b295",
   "metadata": {},
   "source": [
    "Get predictions for all values in test data"
   ]
  },
  {
   "cell_type": "code",
   "execution_count": 17,
   "id": "dfd5a458",
   "metadata": {
    "ExecuteTime": {
     "end_time": "2021-09-12T04:50:16.587097Z",
     "start_time": "2021-09-12T04:50:16.347282Z"
    }
   },
   "outputs": [
    {
     "data": {
      "text/plain": [
       "array([1.2939145e-12, 7.2648527e-07, 9.9999928e-01, 1.2421890e-10,\n",
       "       2.8930869e-22, 2.8100147e-10, 4.7961790e-10, 6.7533527e-19,\n",
       "       9.2688535e-10, 8.0140365e-16], dtype=float32)"
      ]
     },
     "execution_count": 17,
     "metadata": {},
     "output_type": "execute_result"
    }
   ],
   "source": [
    "y_test_predict = model.predict(X_test)\n",
    "y_test_predict[idx]"
   ]
  },
  {
   "cell_type": "markdown",
   "id": "b5d94aac",
   "metadata": {},
   "source": [
    "Print in decimal format to easily identify the max value"
   ]
  },
  {
   "cell_type": "code",
   "execution_count": 18,
   "id": "b4068555",
   "metadata": {
    "ExecuteTime": {
     "end_time": "2021-09-12T04:50:17.974562Z",
     "start_time": "2021-09-12T04:50:17.970510Z"
    }
   },
   "outputs": [
    {
     "data": {
      "text/plain": [
       "['0.000000',\n",
       " '0.000001',\n",
       " '0.999999',\n",
       " '0.000000',\n",
       " '0.000000',\n",
       " '0.000000',\n",
       " '0.000000',\n",
       " '0.000000',\n",
       " '0.000000',\n",
       " '0.000000']"
      ]
     },
     "execution_count": 18,
     "metadata": {},
     "output_type": "execute_result"
    }
   ],
   "source": [
    "[f'{i:4f}' for i in y_test_predict[idx]]"
   ]
  },
  {
   "cell_type": "markdown",
   "id": "8d366637",
   "metadata": {},
   "source": [
    "Using `np.argmax()` to find the label with max score"
   ]
  },
  {
   "cell_type": "code",
   "execution_count": 19,
   "id": "a9ffde6f",
   "metadata": {
    "ExecuteTime": {
     "end_time": "2021-09-12T04:50:20.815698Z",
     "start_time": "2021-09-12T04:50:20.811320Z"
    }
   },
   "outputs": [
    {
     "data": {
      "text/plain": [
       "2"
      ]
     },
     "execution_count": 19,
     "metadata": {},
     "output_type": "execute_result"
    }
   ],
   "source": [
    "np.argmax(y_test_predict[1])"
   ]
  },
  {
   "cell_type": "markdown",
   "id": "a548edaf",
   "metadata": {},
   "source": [
    "Get class labels for all test data prediction"
   ]
  },
  {
   "cell_type": "code",
   "execution_count": 20,
   "id": "925a489f",
   "metadata": {
    "ExecuteTime": {
     "end_time": "2021-09-12T04:50:21.879837Z",
     "start_time": "2021-09-12T04:50:21.854718Z"
    }
   },
   "outputs": [
    {
     "data": {
      "text/plain": [
       "[7, 2, 1, 0, 4]"
      ]
     },
     "execution_count": 20,
     "metadata": {},
     "output_type": "execute_result"
    }
   ],
   "source": [
    "y_test_predicted_labels = [np.argmax(i) for i in y_test_predict]\n",
    "y_test_predicted_labels[:5]"
   ]
  },
  {
   "cell_type": "markdown",
   "id": "73c26fcd",
   "metadata": {},
   "source": [
    "### Confusion Matrix"
   ]
  },
  {
   "cell_type": "code",
   "execution_count": 23,
   "id": "e6f0ca64",
   "metadata": {
    "ExecuteTime": {
     "end_time": "2021-09-12T04:51:15.263354Z",
     "start_time": "2021-09-12T04:51:15.248144Z"
    }
   },
   "outputs": [
    {
     "name": "stdout",
     "output_type": "stream",
     "text": [
      "X-axis: Predicted label\n",
      "Y-axis: True label\n"
     ]
    },
    {
     "data": {
      "text/html": [
       "<div>\n",
       "<style scoped>\n",
       "    .dataframe tbody tr th:only-of-type {\n",
       "        vertical-align: middle;\n",
       "    }\n",
       "\n",
       "    .dataframe tbody tr th {\n",
       "        vertical-align: top;\n",
       "    }\n",
       "\n",
       "    .dataframe thead th {\n",
       "        text-align: right;\n",
       "    }\n",
       "</style>\n",
       "<table border=\"1\" class=\"dataframe\">\n",
       "  <thead>\n",
       "    <tr style=\"text-align: right;\">\n",
       "      <th></th>\n",
       "      <th>0</th>\n",
       "      <th>1</th>\n",
       "      <th>2</th>\n",
       "      <th>3</th>\n",
       "      <th>4</th>\n",
       "      <th>5</th>\n",
       "      <th>6</th>\n",
       "      <th>7</th>\n",
       "      <th>8</th>\n",
       "      <th>9</th>\n",
       "    </tr>\n",
       "  </thead>\n",
       "  <tbody>\n",
       "    <tr>\n",
       "      <th>0</th>\n",
       "      <td>972</td>\n",
       "      <td>0</td>\n",
       "      <td>0</td>\n",
       "      <td>2</td>\n",
       "      <td>0</td>\n",
       "      <td>1</td>\n",
       "      <td>3</td>\n",
       "      <td>1</td>\n",
       "      <td>1</td>\n",
       "      <td>0</td>\n",
       "    </tr>\n",
       "    <tr>\n",
       "      <th>1</th>\n",
       "      <td>0</td>\n",
       "      <td>1126</td>\n",
       "      <td>2</td>\n",
       "      <td>1</td>\n",
       "      <td>0</td>\n",
       "      <td>0</td>\n",
       "      <td>1</td>\n",
       "      <td>0</td>\n",
       "      <td>5</td>\n",
       "      <td>0</td>\n",
       "    </tr>\n",
       "    <tr>\n",
       "      <th>2</th>\n",
       "      <td>3</td>\n",
       "      <td>1</td>\n",
       "      <td>1015</td>\n",
       "      <td>2</td>\n",
       "      <td>1</td>\n",
       "      <td>0</td>\n",
       "      <td>1</td>\n",
       "      <td>3</td>\n",
       "      <td>6</td>\n",
       "      <td>0</td>\n",
       "    </tr>\n",
       "    <tr>\n",
       "      <th>3</th>\n",
       "      <td>0</td>\n",
       "      <td>0</td>\n",
       "      <td>7</td>\n",
       "      <td>986</td>\n",
       "      <td>0</td>\n",
       "      <td>6</td>\n",
       "      <td>0</td>\n",
       "      <td>3</td>\n",
       "      <td>4</td>\n",
       "      <td>4</td>\n",
       "    </tr>\n",
       "    <tr>\n",
       "      <th>4</th>\n",
       "      <td>0</td>\n",
       "      <td>0</td>\n",
       "      <td>2</td>\n",
       "      <td>1</td>\n",
       "      <td>955</td>\n",
       "      <td>0</td>\n",
       "      <td>7</td>\n",
       "      <td>1</td>\n",
       "      <td>1</td>\n",
       "      <td>15</td>\n",
       "    </tr>\n",
       "    <tr>\n",
       "      <th>5</th>\n",
       "      <td>2</td>\n",
       "      <td>0</td>\n",
       "      <td>0</td>\n",
       "      <td>8</td>\n",
       "      <td>1</td>\n",
       "      <td>872</td>\n",
       "      <td>3</td>\n",
       "      <td>2</td>\n",
       "      <td>3</td>\n",
       "      <td>1</td>\n",
       "    </tr>\n",
       "    <tr>\n",
       "      <th>6</th>\n",
       "      <td>6</td>\n",
       "      <td>2</td>\n",
       "      <td>1</td>\n",
       "      <td>2</td>\n",
       "      <td>1</td>\n",
       "      <td>5</td>\n",
       "      <td>939</td>\n",
       "      <td>0</td>\n",
       "      <td>2</td>\n",
       "      <td>0</td>\n",
       "    </tr>\n",
       "    <tr>\n",
       "      <th>7</th>\n",
       "      <td>2</td>\n",
       "      <td>3</td>\n",
       "      <td>10</td>\n",
       "      <td>5</td>\n",
       "      <td>0</td>\n",
       "      <td>0</td>\n",
       "      <td>0</td>\n",
       "      <td>1003</td>\n",
       "      <td>1</td>\n",
       "      <td>4</td>\n",
       "    </tr>\n",
       "    <tr>\n",
       "      <th>8</th>\n",
       "      <td>8</td>\n",
       "      <td>0</td>\n",
       "      <td>2</td>\n",
       "      <td>11</td>\n",
       "      <td>4</td>\n",
       "      <td>6</td>\n",
       "      <td>2</td>\n",
       "      <td>4</td>\n",
       "      <td>936</td>\n",
       "      <td>1</td>\n",
       "    </tr>\n",
       "    <tr>\n",
       "      <th>9</th>\n",
       "      <td>3</td>\n",
       "      <td>5</td>\n",
       "      <td>0</td>\n",
       "      <td>8</td>\n",
       "      <td>3</td>\n",
       "      <td>4</td>\n",
       "      <td>1</td>\n",
       "      <td>4</td>\n",
       "      <td>3</td>\n",
       "      <td>978</td>\n",
       "    </tr>\n",
       "  </tbody>\n",
       "</table>\n",
       "</div>"
      ],
      "text/plain": [
       "     0     1     2    3    4    5    6     7    8    9\n",
       "0  972     0     0    2    0    1    3     1    1    0\n",
       "1    0  1126     2    1    0    0    1     0    5    0\n",
       "2    3     1  1015    2    1    0    1     3    6    0\n",
       "3    0     0     7  986    0    6    0     3    4    4\n",
       "4    0     0     2    1  955    0    7     1    1   15\n",
       "5    2     0     0    8    1  872    3     2    3    1\n",
       "6    6     2     1    2    1    5  939     0    2    0\n",
       "7    2     3    10    5    0    0    0  1003    1    4\n",
       "8    8     0     2   11    4    6    2     4  936    1\n",
       "9    3     5     0    8    3    4    1     4    3  978"
      ]
     },
     "execution_count": 23,
     "metadata": {},
     "output_type": "execute_result"
    }
   ],
   "source": [
    "conf_mat = tf.math.confusion_matrix(y_test, y_test_predicted_labels)\n",
    "\n",
    "print('X-axis: Predicted label\\nY-axis: True label')\n",
    "pd.DataFrame(conf_mat.numpy())"
   ]
  },
  {
   "cell_type": "markdown",
   "id": "9bf26d54",
   "metadata": {},
   "source": [
    "### Classification Report"
   ]
  },
  {
   "cell_type": "code",
   "execution_count": 24,
   "id": "632f7835",
   "metadata": {
    "ExecuteTime": {
     "end_time": "2021-09-12T04:51:22.685924Z",
     "start_time": "2021-09-12T04:51:22.542394Z"
    }
   },
   "outputs": [
    {
     "name": "stdout",
     "output_type": "stream",
     "text": [
      "              precision    recall  f1-score   support\n",
      "\n",
      "           0       0.98      0.99      0.98       980\n",
      "           1       0.99      0.99      0.99      1135\n",
      "           2       0.98      0.98      0.98      1032\n",
      "           3       0.96      0.98      0.97      1010\n",
      "           4       0.99      0.97      0.98       982\n",
      "           5       0.98      0.98      0.98       892\n",
      "           6       0.98      0.98      0.98       958\n",
      "           7       0.98      0.98      0.98      1028\n",
      "           8       0.97      0.96      0.97       974\n",
      "           9       0.98      0.97      0.97      1009\n",
      "\n",
      "    accuracy                           0.98     10000\n",
      "   macro avg       0.98      0.98      0.98     10000\n",
      "weighted avg       0.98      0.98      0.98     10000\n",
      "\n"
     ]
    }
   ],
   "source": [
    "from sklearn.metrics import classification_report\n",
    "\n",
    "print(classification_report(y_test, y_test_predicted_labels))"
   ]
  },
  {
   "cell_type": "markdown",
   "id": "7c2571d5",
   "metadata": {},
   "source": [
    "## Visualize using Tensorboard\n",
    "Add callback for tensorboard"
   ]
  },
  {
   "cell_type": "code",
   "execution_count": 26,
   "id": "f620abdc",
   "metadata": {
    "ExecuteTime": {
     "end_time": "2021-09-12T04:51:29.090829Z",
     "start_time": "2021-09-12T04:51:29.087408Z"
    }
   },
   "outputs": [
    {
     "name": "stderr",
     "output_type": "stream",
     "text": [
      "2021-09-12 10:21:29.088671: I tensorflow/core/profiler/lib/profiler_session.cc:131] Profiler session initializing.\n",
      "2021-09-12 10:21:29.088684: I tensorflow/core/profiler/lib/profiler_session.cc:146] Profiler session started.\n",
      "2021-09-12 10:21:29.088948: I tensorflow/core/profiler/lib/profiler_session.cc:164] Profiler session tear down.\n"
     ]
    }
   ],
   "source": [
    "logdir=\"logs/\" + datetime.now().strftime(\"%Y%m%d-%H%M%S\")\n",
    "tb_callback = keras.callbacks.TensorBoard(log_dir=logdir, write_graph=True, histogram_freq=1)"
   ]
  },
  {
   "cell_type": "code",
   "execution_count": 27,
   "id": "b3914e85",
   "metadata": {
    "ExecuteTime": {
     "end_time": "2021-09-12T04:51:55.315053Z",
     "start_time": "2021-09-12T04:51:45.824063Z"
    }
   },
   "outputs": [
    {
     "name": "stdout",
     "output_type": "stream",
     "text": [
      "Epoch 1/5\n",
      " 196/1875 [==>...........................] - ETA: 1s - loss: 0.7956 - accuracy: 0.7672"
     ]
    },
    {
     "name": "stderr",
     "output_type": "stream",
     "text": [
      "2021-09-12 10:21:46.284176: I tensorflow/core/profiler/lib/profiler_session.cc:131] Profiler session initializing.\n",
      "2021-09-12 10:21:46.284194: I tensorflow/core/profiler/lib/profiler_session.cc:146] Profiler session started.\n",
      "2021-09-12 10:21:46.286358: I tensorflow/core/profiler/lib/profiler_session.cc:66] Profiler session collecting data.\n",
      "2021-09-12 10:21:46.287749: I tensorflow/core/profiler/lib/profiler_session.cc:164] Profiler session tear down.\n",
      "2021-09-12 10:21:46.290532: I tensorflow/core/profiler/rpc/client/save_profile.cc:136] Creating directory: logs/20210912-102129/train/plugins/profile/2021_09_12_10_21_46\n",
      "\n",
      "2021-09-12 10:21:46.291352: I tensorflow/core/profiler/rpc/client/save_profile.cc:142] Dumped gzipped tool data for trace.json.gz to logs/20210912-102129/train/plugins/profile/2021_09_12_10_21_46/Harsh-Kumar.trace.json.gz\n",
      "2021-09-12 10:21:46.294292: I tensorflow/core/profiler/rpc/client/save_profile.cc:136] Creating directory: logs/20210912-102129/train/plugins/profile/2021_09_12_10_21_46\n",
      "\n",
      "2021-09-12 10:21:46.294636: I tensorflow/core/profiler/rpc/client/save_profile.cc:142] Dumped gzipped tool data for memory_profile.json.gz to logs/20210912-102129/train/plugins/profile/2021_09_12_10_21_46/Harsh-Kumar.memory_profile.json.gz\n",
      "2021-09-12 10:21:46.295718: I tensorflow/core/profiler/rpc/client/capture_profile.cc:251] Creating directory: logs/20210912-102129/train/plugins/profile/2021_09_12_10_21_46\n",
      "Dumped tool data for xplane.pb to logs/20210912-102129/train/plugins/profile/2021_09_12_10_21_46/Harsh-Kumar.xplane.pb\n",
      "Dumped tool data for overview_page.pb to logs/20210912-102129/train/plugins/profile/2021_09_12_10_21_46/Harsh-Kumar.overview_page.pb\n",
      "Dumped tool data for input_pipeline.pb to logs/20210912-102129/train/plugins/profile/2021_09_12_10_21_46/Harsh-Kumar.input_pipeline.pb\n",
      "Dumped tool data for tensorflow_stats.pb to logs/20210912-102129/train/plugins/profile/2021_09_12_10_21_46/Harsh-Kumar.tensorflow_stats.pb\n",
      "Dumped tool data for kernel_stats.pb to logs/20210912-102129/train/plugins/profile/2021_09_12_10_21_46/Harsh-Kumar.kernel_stats.pb\n",
      "\n"
     ]
    },
    {
     "name": "stdout",
     "output_type": "stream",
     "text": [
      "1875/1875 [==============================] - 2s 953us/step - loss: 0.3185 - accuracy: 0.9064\n",
      "Epoch 2/5\n",
      "1875/1875 [==============================] - 2s 964us/step - loss: 0.1555 - accuracy: 0.9546\n",
      "Epoch 3/5\n",
      "1875/1875 [==============================] - 2s 922us/step - loss: 0.1191 - accuracy: 0.9640\n",
      "Epoch 4/5\n",
      "1875/1875 [==============================] - 2s 999us/step - loss: 0.0996 - accuracy: 0.96990s - loss: 0.0984 - accu\n",
      "Epoch 5/5\n",
      "1875/1875 [==============================] - 2s 924us/step - loss: 0.0847 - accuracy: 0.9740\n"
     ]
    },
    {
     "data": {
      "text/plain": [
       "<keras.callbacks.History at 0x7fb44891d5b0>"
      ]
     },
     "execution_count": 27,
     "metadata": {},
     "output_type": "execute_result"
    }
   ],
   "source": [
    "model = keras.Sequential([\n",
    "    keras.layers.Flatten(input_shape=image_dim),\n",
    "    keras.layers.Dense(100, activation='relu'),\n",
    "    keras.layers.Dropout(0.2),\n",
    "    keras.layers.Dense(10, activation='softmax')\n",
    "])\n",
    "\n",
    "model.compile(\n",
    "    optimizer='adam',\n",
    "    loss='sparse_categorical_crossentropy',\n",
    "    metrics=['accuracy']\n",
    ")\n",
    "\n",
    "model.fit(X_train, y_train, epochs=5, callbacks=[tb_callback])"
   ]
  },
  {
   "cell_type": "code",
   "execution_count": 28,
   "id": "d9cd3f60",
   "metadata": {
    "ExecuteTime": {
     "end_time": "2021-09-12T04:51:59.865948Z",
     "start_time": "2021-09-12T04:51:55.317249Z"
    },
    "scrolled": false
   },
   "outputs": [
    {
     "data": {
      "text/html": [
       "\n",
       "      <iframe id=\"tensorboard-frame-c8063912e45f4104\" width=\"100%\" height=\"800\" frameborder=\"0\">\n",
       "      </iframe>\n",
       "      <script>\n",
       "        (function() {\n",
       "          const frame = document.getElementById(\"tensorboard-frame-c8063912e45f4104\");\n",
       "          const url = new URL(\"/\", window.location);\n",
       "          const port = 6006;\n",
       "          if (port) {\n",
       "            url.port = port;\n",
       "          }\n",
       "          frame.src = url;\n",
       "        })();\n",
       "      </script>\n",
       "    "
      ],
      "text/plain": [
       "<IPython.core.display.HTML object>"
      ]
     },
     "metadata": {},
     "output_type": "display_data"
    }
   ],
   "source": [
    "%load_ext tensorboard\n",
    "%tensorboard --logdir logs"
   ]
  },
  {
   "cell_type": "code",
   "execution_count": null,
   "id": "13e313cf",
   "metadata": {},
   "outputs": [],
   "source": []
  },
  {
   "cell_type": "code",
   "execution_count": null,
   "id": "2afaafbf",
   "metadata": {},
   "outputs": [],
   "source": []
  },
  {
   "cell_type": "code",
   "execution_count": null,
   "id": "052d3edb",
   "metadata": {},
   "outputs": [],
   "source": []
  },
  {
   "cell_type": "code",
   "execution_count": null,
   "id": "ff52fb22",
   "metadata": {},
   "outputs": [],
   "source": []
  },
  {
   "cell_type": "code",
   "execution_count": null,
   "id": "4ab12963",
   "metadata": {},
   "outputs": [],
   "source": []
  },
  {
   "cell_type": "code",
   "execution_count": null,
   "id": "c3c8d8f8",
   "metadata": {},
   "outputs": [],
   "source": []
  },
  {
   "cell_type": "code",
   "execution_count": null,
   "id": "1d5006f8",
   "metadata": {},
   "outputs": [],
   "source": []
  }
 ],
 "metadata": {
  "kernelspec": {
   "display_name": "Python 3 (ipykernel)",
   "language": "python",
   "name": "python3"
  },
  "language_info": {
   "codemirror_mode": {
    "name": "ipython",
    "version": 3
   },
   "file_extension": ".py",
   "mimetype": "text/x-python",
   "name": "python",
   "nbconvert_exporter": "python",
   "pygments_lexer": "ipython3",
   "version": "3.8.5"
  },
  "toc": {
   "base_numbering": 1,
   "nav_menu": {},
   "number_sections": true,
   "sideBar": true,
   "skip_h1_title": true,
   "title_cell": "Table of Contents",
   "title_sidebar": "Contents",
   "toc_cell": false,
   "toc_position": {
    "height": "calc(100% - 180px)",
    "left": "10px",
    "top": "150px",
    "width": "254.797px"
   },
   "toc_section_display": true,
   "toc_window_display": false
  }
 },
 "nbformat": 4,
 "nbformat_minor": 5
}
