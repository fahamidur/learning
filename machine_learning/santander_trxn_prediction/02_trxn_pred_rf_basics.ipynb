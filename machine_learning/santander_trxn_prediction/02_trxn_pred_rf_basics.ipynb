{
 "cells": [
  {
   "cell_type": "markdown",
   "metadata": {
    "papermill": {
     "duration": 0.017958,
     "end_time": "2021-04-11T11:21:06.823827",
     "exception": false,
     "start_time": "2021-04-11T11:21:06.805869",
     "status": "completed"
    },
    "tags": []
   },
   "source": [
    "# Santander Customer Transaction Prediction - Random Forest Basics\n",
    "\n",
    "In the Kaggle competition, the objective is to identify which customer will make a transaction in the future.\n",
    "\n",
    "**Link to the competition**: https://www.kaggle.com/c/santander-customer-transaction-prediction/  \n",
    "**Type of Problem**: Classification  \n",
    "**Metric for evalution**: AOC (Area Under Curve)\n",
    "\n",
    "This Python 3 environment comes with many helpful analytics libraries installed\n",
    "It is defined by the kaggle/python Docker image: https://github.com/kaggle/docker-python"
   ]
  },
  {
   "cell_type": "code",
   "execution_count": 1,
   "metadata": {
    "execution": {
     "iopub.execute_input": "2021-04-11T11:21:06.867755Z",
     "iopub.status.busy": "2021-04-11T11:21:06.866596Z",
     "iopub.status.idle": "2021-04-11T11:21:08.371443Z",
     "shell.execute_reply": "2021-04-11T11:21:08.372137Z"
    },
    "papermill": {
     "duration": 1.531295,
     "end_time": "2021-04-11T11:21:08.372468",
     "exception": false,
     "start_time": "2021-04-11T11:21:06.841173",
     "status": "completed"
    },
    "tags": []
   },
   "outputs": [],
   "source": [
    "import numpy as np # linear algebra\n",
    "import pandas as pd # data processing, CSV file I/O (e.g. pd.read_csv)\n",
    "\n",
    "from sklearn.model_selection import train_test_split\n",
    "from sklearn.ensemble import RandomForestClassifier\n",
    "\n",
    "import matplotlib.pyplot as plt \n",
    "\n",
    "from sklearn import metrics"
   ]
  },
  {
   "cell_type": "code",
   "execution_count": 2,
   "metadata": {
    "_cell_guid": "b1076dfc-b9ad-4769-8c92-a6c4dae69d19",
    "_uuid": "8f2839f25d086af736a60e9eeb907d3b93b6e0e5",
    "execution": {
     "iopub.execute_input": "2021-04-11T11:21:08.412609Z",
     "iopub.status.busy": "2021-04-11T11:21:08.411916Z",
     "iopub.status.idle": "2021-04-11T11:21:08.421321Z",
     "shell.execute_reply": "2021-04-11T11:21:08.420374Z"
    },
    "papermill": {
     "duration": 0.031419,
     "end_time": "2021-04-11T11:21:08.421515",
     "exception": false,
     "start_time": "2021-04-11T11:21:08.390096",
     "status": "completed"
    },
    "tags": []
   },
   "outputs": [
    {
     "name": "stdout",
     "output_type": "stream",
     "text": [
      "/kaggle/input/santander-customer-transaction-prediction/sample_submission.csv\n",
      "/kaggle/input/santander-customer-transaction-prediction/train.csv\n",
      "/kaggle/input/santander-customer-transaction-prediction/test.csv\n"
     ]
    }
   ],
   "source": [
    "# Input data files are available in the read-only \"../input/\" directory\n",
    "# For example, running this (by clicking run or pressing Shift+Enter) will list all files under the input directory\n",
    "\n",
    "import os\n",
    "for dirname, _, filenames in os.walk('/kaggle/input'):\n",
    "    for filename in filenames:\n",
    "        print(os.path.join(dirname, filename))\n",
    "\n",
    "# You can write up to 20GB to the current directory (/kaggle/working/) that gets preserved as output when you create a version using \"Save & Run All\" \n",
    "# You can also write temporary files to /kaggle/temp/, but they won't be saved outside of the current session"
   ]
  },
  {
   "cell_type": "markdown",
   "metadata": {
    "papermill": {
     "duration": 0.017161,
     "end_time": "2021-04-11T11:21:08.457441",
     "exception": false,
     "start_time": "2021-04-11T11:21:08.440280",
     "status": "completed"
    },
    "tags": []
   },
   "source": [
    "## Step1: Read Training Dataset"
   ]
  },
  {
   "cell_type": "code",
   "execution_count": 3,
   "metadata": {
    "execution": {
     "iopub.execute_input": "2021-04-11T11:21:08.498085Z",
     "iopub.status.busy": "2021-04-11T11:21:08.497453Z",
     "iopub.status.idle": "2021-04-11T11:21:19.739874Z",
     "shell.execute_reply": "2021-04-11T11:21:19.739235Z"
    },
    "papermill": {
     "duration": 11.265039,
     "end_time": "2021-04-11T11:21:19.740029",
     "exception": false,
     "start_time": "2021-04-11T11:21:08.474990",
     "status": "completed"
    },
    "tags": []
   },
   "outputs": [
    {
     "data": {
      "text/html": [
       "<div>\n",
       "<style scoped>\n",
       "    .dataframe tbody tr th:only-of-type {\n",
       "        vertical-align: middle;\n",
       "    }\n",
       "\n",
       "    .dataframe tbody tr th {\n",
       "        vertical-align: top;\n",
       "    }\n",
       "\n",
       "    .dataframe thead th {\n",
       "        text-align: right;\n",
       "    }\n",
       "</style>\n",
       "<table border=\"1\" class=\"dataframe\">\n",
       "  <thead>\n",
       "    <tr style=\"text-align: right;\">\n",
       "      <th></th>\n",
       "      <th>ID_code</th>\n",
       "      <th>target</th>\n",
       "      <th>var_0</th>\n",
       "      <th>var_1</th>\n",
       "      <th>var_2</th>\n",
       "      <th>var_3</th>\n",
       "      <th>var_4</th>\n",
       "      <th>var_5</th>\n",
       "      <th>var_6</th>\n",
       "      <th>var_7</th>\n",
       "      <th>...</th>\n",
       "      <th>var_190</th>\n",
       "      <th>var_191</th>\n",
       "      <th>var_192</th>\n",
       "      <th>var_193</th>\n",
       "      <th>var_194</th>\n",
       "      <th>var_195</th>\n",
       "      <th>var_196</th>\n",
       "      <th>var_197</th>\n",
       "      <th>var_198</th>\n",
       "      <th>var_199</th>\n",
       "    </tr>\n",
       "  </thead>\n",
       "  <tbody>\n",
       "    <tr>\n",
       "      <th>0</th>\n",
       "      <td>train_0</td>\n",
       "      <td>0</td>\n",
       "      <td>8.9255</td>\n",
       "      <td>-6.7863</td>\n",
       "      <td>11.9081</td>\n",
       "      <td>5.0930</td>\n",
       "      <td>11.4607</td>\n",
       "      <td>-9.2834</td>\n",
       "      <td>5.1187</td>\n",
       "      <td>18.6266</td>\n",
       "      <td>...</td>\n",
       "      <td>4.4354</td>\n",
       "      <td>3.9642</td>\n",
       "      <td>3.1364</td>\n",
       "      <td>1.6910</td>\n",
       "      <td>18.5227</td>\n",
       "      <td>-2.3978</td>\n",
       "      <td>7.8784</td>\n",
       "      <td>8.5635</td>\n",
       "      <td>12.7803</td>\n",
       "      <td>-1.0914</td>\n",
       "    </tr>\n",
       "    <tr>\n",
       "      <th>1</th>\n",
       "      <td>train_1</td>\n",
       "      <td>0</td>\n",
       "      <td>11.5006</td>\n",
       "      <td>-4.1473</td>\n",
       "      <td>13.8588</td>\n",
       "      <td>5.3890</td>\n",
       "      <td>12.3622</td>\n",
       "      <td>7.0433</td>\n",
       "      <td>5.6208</td>\n",
       "      <td>16.5338</td>\n",
       "      <td>...</td>\n",
       "      <td>7.6421</td>\n",
       "      <td>7.7214</td>\n",
       "      <td>2.5837</td>\n",
       "      <td>10.9516</td>\n",
       "      <td>15.4305</td>\n",
       "      <td>2.0339</td>\n",
       "      <td>8.1267</td>\n",
       "      <td>8.7889</td>\n",
       "      <td>18.3560</td>\n",
       "      <td>1.9518</td>\n",
       "    </tr>\n",
       "    <tr>\n",
       "      <th>2</th>\n",
       "      <td>train_2</td>\n",
       "      <td>0</td>\n",
       "      <td>8.6093</td>\n",
       "      <td>-2.7457</td>\n",
       "      <td>12.0805</td>\n",
       "      <td>7.8928</td>\n",
       "      <td>10.5825</td>\n",
       "      <td>-9.0837</td>\n",
       "      <td>6.9427</td>\n",
       "      <td>14.6155</td>\n",
       "      <td>...</td>\n",
       "      <td>2.9057</td>\n",
       "      <td>9.7905</td>\n",
       "      <td>1.6704</td>\n",
       "      <td>1.6858</td>\n",
       "      <td>21.6042</td>\n",
       "      <td>3.1417</td>\n",
       "      <td>-6.5213</td>\n",
       "      <td>8.2675</td>\n",
       "      <td>14.7222</td>\n",
       "      <td>0.3965</td>\n",
       "    </tr>\n",
       "    <tr>\n",
       "      <th>3</th>\n",
       "      <td>train_3</td>\n",
       "      <td>0</td>\n",
       "      <td>11.0604</td>\n",
       "      <td>-2.1518</td>\n",
       "      <td>8.9522</td>\n",
       "      <td>7.1957</td>\n",
       "      <td>12.5846</td>\n",
       "      <td>-1.8361</td>\n",
       "      <td>5.8428</td>\n",
       "      <td>14.9250</td>\n",
       "      <td>...</td>\n",
       "      <td>4.4666</td>\n",
       "      <td>4.7433</td>\n",
       "      <td>0.7178</td>\n",
       "      <td>1.4214</td>\n",
       "      <td>23.0347</td>\n",
       "      <td>-1.2706</td>\n",
       "      <td>-2.9275</td>\n",
       "      <td>10.2922</td>\n",
       "      <td>17.9697</td>\n",
       "      <td>-8.9996</td>\n",
       "    </tr>\n",
       "    <tr>\n",
       "      <th>4</th>\n",
       "      <td>train_4</td>\n",
       "      <td>0</td>\n",
       "      <td>9.8369</td>\n",
       "      <td>-1.4834</td>\n",
       "      <td>12.8746</td>\n",
       "      <td>6.6375</td>\n",
       "      <td>12.2772</td>\n",
       "      <td>2.4486</td>\n",
       "      <td>5.9405</td>\n",
       "      <td>19.2514</td>\n",
       "      <td>...</td>\n",
       "      <td>-1.4905</td>\n",
       "      <td>9.5214</td>\n",
       "      <td>-0.1508</td>\n",
       "      <td>9.1942</td>\n",
       "      <td>13.2876</td>\n",
       "      <td>-1.5121</td>\n",
       "      <td>3.9267</td>\n",
       "      <td>9.5031</td>\n",
       "      <td>17.9974</td>\n",
       "      <td>-8.8104</td>\n",
       "    </tr>\n",
       "    <tr>\n",
       "      <th>...</th>\n",
       "      <td>...</td>\n",
       "      <td>...</td>\n",
       "      <td>...</td>\n",
       "      <td>...</td>\n",
       "      <td>...</td>\n",
       "      <td>...</td>\n",
       "      <td>...</td>\n",
       "      <td>...</td>\n",
       "      <td>...</td>\n",
       "      <td>...</td>\n",
       "      <td>...</td>\n",
       "      <td>...</td>\n",
       "      <td>...</td>\n",
       "      <td>...</td>\n",
       "      <td>...</td>\n",
       "      <td>...</td>\n",
       "      <td>...</td>\n",
       "      <td>...</td>\n",
       "      <td>...</td>\n",
       "      <td>...</td>\n",
       "      <td>...</td>\n",
       "    </tr>\n",
       "    <tr>\n",
       "      <th>199995</th>\n",
       "      <td>train_199995</td>\n",
       "      <td>0</td>\n",
       "      <td>11.4880</td>\n",
       "      <td>-0.4956</td>\n",
       "      <td>8.2622</td>\n",
       "      <td>3.5142</td>\n",
       "      <td>10.3404</td>\n",
       "      <td>11.6081</td>\n",
       "      <td>5.6709</td>\n",
       "      <td>15.1516</td>\n",
       "      <td>...</td>\n",
       "      <td>6.1415</td>\n",
       "      <td>13.2305</td>\n",
       "      <td>3.9901</td>\n",
       "      <td>0.9388</td>\n",
       "      <td>18.0249</td>\n",
       "      <td>-1.7939</td>\n",
       "      <td>2.1661</td>\n",
       "      <td>8.5326</td>\n",
       "      <td>16.6660</td>\n",
       "      <td>-17.8661</td>\n",
       "    </tr>\n",
       "    <tr>\n",
       "      <th>199996</th>\n",
       "      <td>train_199996</td>\n",
       "      <td>0</td>\n",
       "      <td>4.9149</td>\n",
       "      <td>-2.4484</td>\n",
       "      <td>16.7052</td>\n",
       "      <td>6.6345</td>\n",
       "      <td>8.3096</td>\n",
       "      <td>-10.5628</td>\n",
       "      <td>5.8802</td>\n",
       "      <td>21.5940</td>\n",
       "      <td>...</td>\n",
       "      <td>4.9611</td>\n",
       "      <td>4.6549</td>\n",
       "      <td>0.6998</td>\n",
       "      <td>1.8341</td>\n",
       "      <td>22.2717</td>\n",
       "      <td>1.7337</td>\n",
       "      <td>-2.1651</td>\n",
       "      <td>6.7419</td>\n",
       "      <td>15.9054</td>\n",
       "      <td>0.3388</td>\n",
       "    </tr>\n",
       "    <tr>\n",
       "      <th>199997</th>\n",
       "      <td>train_199997</td>\n",
       "      <td>0</td>\n",
       "      <td>11.2232</td>\n",
       "      <td>-5.0518</td>\n",
       "      <td>10.5127</td>\n",
       "      <td>5.6456</td>\n",
       "      <td>9.3410</td>\n",
       "      <td>-5.4086</td>\n",
       "      <td>4.5555</td>\n",
       "      <td>21.5571</td>\n",
       "      <td>...</td>\n",
       "      <td>4.0651</td>\n",
       "      <td>5.4414</td>\n",
       "      <td>3.1032</td>\n",
       "      <td>4.8793</td>\n",
       "      <td>23.5311</td>\n",
       "      <td>-1.5736</td>\n",
       "      <td>1.2832</td>\n",
       "      <td>8.7155</td>\n",
       "      <td>13.8329</td>\n",
       "      <td>4.1995</td>\n",
       "    </tr>\n",
       "    <tr>\n",
       "      <th>199998</th>\n",
       "      <td>train_199998</td>\n",
       "      <td>0</td>\n",
       "      <td>9.7148</td>\n",
       "      <td>-8.6098</td>\n",
       "      <td>13.6104</td>\n",
       "      <td>5.7930</td>\n",
       "      <td>12.5173</td>\n",
       "      <td>0.5339</td>\n",
       "      <td>6.0479</td>\n",
       "      <td>17.0152</td>\n",
       "      <td>...</td>\n",
       "      <td>2.6840</td>\n",
       "      <td>8.6587</td>\n",
       "      <td>2.7337</td>\n",
       "      <td>11.1178</td>\n",
       "      <td>20.4158</td>\n",
       "      <td>-0.0786</td>\n",
       "      <td>6.7980</td>\n",
       "      <td>10.0342</td>\n",
       "      <td>15.5289</td>\n",
       "      <td>-13.9001</td>\n",
       "    </tr>\n",
       "    <tr>\n",
       "      <th>199999</th>\n",
       "      <td>train_199999</td>\n",
       "      <td>0</td>\n",
       "      <td>10.8762</td>\n",
       "      <td>-5.7105</td>\n",
       "      <td>12.1183</td>\n",
       "      <td>8.0328</td>\n",
       "      <td>11.5577</td>\n",
       "      <td>0.3488</td>\n",
       "      <td>5.2839</td>\n",
       "      <td>15.2058</td>\n",
       "      <td>...</td>\n",
       "      <td>8.9842</td>\n",
       "      <td>1.6893</td>\n",
       "      <td>0.1276</td>\n",
       "      <td>0.3766</td>\n",
       "      <td>15.2101</td>\n",
       "      <td>-2.4907</td>\n",
       "      <td>-2.2342</td>\n",
       "      <td>8.1857</td>\n",
       "      <td>12.1284</td>\n",
       "      <td>0.1385</td>\n",
       "    </tr>\n",
       "  </tbody>\n",
       "</table>\n",
       "<p>200000 rows × 202 columns</p>\n",
       "</div>"
      ],
      "text/plain": [
       "             ID_code  target    var_0   var_1    var_2   var_3    var_4  \\\n",
       "0            train_0       0   8.9255 -6.7863  11.9081  5.0930  11.4607   \n",
       "1            train_1       0  11.5006 -4.1473  13.8588  5.3890  12.3622   \n",
       "2            train_2       0   8.6093 -2.7457  12.0805  7.8928  10.5825   \n",
       "3            train_3       0  11.0604 -2.1518   8.9522  7.1957  12.5846   \n",
       "4            train_4       0   9.8369 -1.4834  12.8746  6.6375  12.2772   \n",
       "...              ...     ...      ...     ...      ...     ...      ...   \n",
       "199995  train_199995       0  11.4880 -0.4956   8.2622  3.5142  10.3404   \n",
       "199996  train_199996       0   4.9149 -2.4484  16.7052  6.6345   8.3096   \n",
       "199997  train_199997       0  11.2232 -5.0518  10.5127  5.6456   9.3410   \n",
       "199998  train_199998       0   9.7148 -8.6098  13.6104  5.7930  12.5173   \n",
       "199999  train_199999       0  10.8762 -5.7105  12.1183  8.0328  11.5577   \n",
       "\n",
       "          var_5   var_6    var_7  ...  var_190  var_191  var_192  var_193  \\\n",
       "0       -9.2834  5.1187  18.6266  ...   4.4354   3.9642   3.1364   1.6910   \n",
       "1        7.0433  5.6208  16.5338  ...   7.6421   7.7214   2.5837  10.9516   \n",
       "2       -9.0837  6.9427  14.6155  ...   2.9057   9.7905   1.6704   1.6858   \n",
       "3       -1.8361  5.8428  14.9250  ...   4.4666   4.7433   0.7178   1.4214   \n",
       "4        2.4486  5.9405  19.2514  ...  -1.4905   9.5214  -0.1508   9.1942   \n",
       "...         ...     ...      ...  ...      ...      ...      ...      ...   \n",
       "199995  11.6081  5.6709  15.1516  ...   6.1415  13.2305   3.9901   0.9388   \n",
       "199996 -10.5628  5.8802  21.5940  ...   4.9611   4.6549   0.6998   1.8341   \n",
       "199997  -5.4086  4.5555  21.5571  ...   4.0651   5.4414   3.1032   4.8793   \n",
       "199998   0.5339  6.0479  17.0152  ...   2.6840   8.6587   2.7337  11.1178   \n",
       "199999   0.3488  5.2839  15.2058  ...   8.9842   1.6893   0.1276   0.3766   \n",
       "\n",
       "        var_194  var_195  var_196  var_197  var_198  var_199  \n",
       "0       18.5227  -2.3978   7.8784   8.5635  12.7803  -1.0914  \n",
       "1       15.4305   2.0339   8.1267   8.7889  18.3560   1.9518  \n",
       "2       21.6042   3.1417  -6.5213   8.2675  14.7222   0.3965  \n",
       "3       23.0347  -1.2706  -2.9275  10.2922  17.9697  -8.9996  \n",
       "4       13.2876  -1.5121   3.9267   9.5031  17.9974  -8.8104  \n",
       "...         ...      ...      ...      ...      ...      ...  \n",
       "199995  18.0249  -1.7939   2.1661   8.5326  16.6660 -17.8661  \n",
       "199996  22.2717   1.7337  -2.1651   6.7419  15.9054   0.3388  \n",
       "199997  23.5311  -1.5736   1.2832   8.7155  13.8329   4.1995  \n",
       "199998  20.4158  -0.0786   6.7980  10.0342  15.5289 -13.9001  \n",
       "199999  15.2101  -2.4907  -2.2342   8.1857  12.1284   0.1385  \n",
       "\n",
       "[200000 rows x 202 columns]"
      ]
     },
     "execution_count": 3,
     "metadata": {},
     "output_type": "execute_result"
    }
   ],
   "source": [
    "input_dir = '/kaggle/input/santander-customer-transaction-prediction/'\n",
    "\n",
    "df_train = pd.read_csv(input_dir + '/train.csv')\n",
    "df_train"
   ]
  },
  {
   "cell_type": "markdown",
   "metadata": {
    "papermill": {
     "duration": 0.017996,
     "end_time": "2021-04-11T11:21:19.776230",
     "exception": false,
     "start_time": "2021-04-11T11:21:19.758234",
     "status": "completed"
    },
    "tags": []
   },
   "source": [
    "## Step2: Split data into train and validation set"
   ]
  },
  {
   "cell_type": "code",
   "execution_count": 4,
   "metadata": {
    "execution": {
     "iopub.execute_input": "2021-04-11T11:21:19.941574Z",
     "iopub.status.busy": "2021-04-11T11:21:19.940016Z",
     "iopub.status.idle": "2021-04-11T11:21:20.305142Z",
     "shell.execute_reply": "2021-04-11T11:21:20.305810Z"
    },
    "papermill": {
     "duration": 0.511983,
     "end_time": "2021-04-11T11:21:20.305988",
     "exception": false,
     "start_time": "2021-04-11T11:21:19.794005",
     "status": "completed"
    },
    "tags": []
   },
   "outputs": [
    {
     "data": {
      "text/plain": [
       "((160000, 200), (40000, 200), (160000,), (40000,))"
      ]
     },
     "execution_count": 4,
     "metadata": {},
     "output_type": "execute_result"
    }
   ],
   "source": [
    "var_columns = [c for c in df_train.columns if c not in ('ID_code','target')]\n",
    "\n",
    "X = df_train.loc[:, var_columns]\n",
    "y = df_train.loc[:, 'target']\n",
    "\n",
    "X_train, X_valid, y_train, y_valid = train_test_split(X, y, test_size=0.2, random_state=42)\n",
    "X_train.shape, X_valid.shape, y_train.shape, y_valid.shape"
   ]
  },
  {
   "cell_type": "markdown",
   "metadata": {
    "papermill": {
     "duration": 0.017859,
     "end_time": "2021-04-11T11:21:20.343244",
     "exception": false,
     "start_time": "2021-04-11T11:21:20.325385",
     "status": "completed"
    },
    "tags": []
   },
   "source": [
    "## Step3: Create a Random Forest Model"
   ]
  },
  {
   "cell_type": "markdown",
   "metadata": {
    "papermill": {
     "duration": 0.018002,
     "end_time": "2021-04-11T11:21:20.379365",
     "exception": false,
     "start_time": "2021-04-11T11:21:20.361363",
     "status": "completed"
    },
    "tags": []
   },
   "source": [
    "Define Model Parameters and create the model"
   ]
  },
  {
   "cell_type": "code",
   "execution_count": 5,
   "metadata": {
    "execution": {
     "iopub.execute_input": "2021-04-11T11:21:20.418788Z",
     "iopub.status.busy": "2021-04-11T11:21:20.418099Z",
     "iopub.status.idle": "2021-04-11T11:23:57.735692Z",
     "shell.execute_reply": "2021-04-11T11:23:57.736243Z"
    },
    "papermill": {
     "duration": 157.338881,
     "end_time": "2021-04-11T11:23:57.736433",
     "exception": false,
     "start_time": "2021-04-11T11:21:20.397552",
     "status": "completed"
    },
    "tags": []
   },
   "outputs": [
    {
     "data": {
      "text/plain": [
       "RandomForestClassifier(class_weight='balanced', max_depth=4, n_estimators=150)"
      ]
     },
     "execution_count": 5,
     "metadata": {},
     "output_type": "execute_result"
    }
   ],
   "source": [
    "num_trees = 150\n",
    "\n",
    "model_rf = RandomForestClassifier(n_estimators=num_trees,\n",
    "                                  max_depth=4,\n",
    "                                  class_weight='balanced')\n",
    "model_rf.fit(X_train, y_train)"
   ]
  },
  {
   "cell_type": "markdown",
   "metadata": {
    "papermill": {
     "duration": 0.018391,
     "end_time": "2021-04-11T11:23:57.773465",
     "exception": false,
     "start_time": "2021-04-11T11:23:57.755074",
     "status": "completed"
    },
    "tags": []
   },
   "source": [
    "Let us look at the performance on Training and Validation data"
   ]
  },
  {
   "cell_type": "code",
   "execution_count": 6,
   "metadata": {
    "execution": {
     "iopub.execute_input": "2021-04-11T11:23:57.814444Z",
     "iopub.status.busy": "2021-04-11T11:23:57.813772Z",
     "iopub.status.idle": "2021-04-11T11:23:59.507000Z",
     "shell.execute_reply": "2021-04-11T11:23:59.506383Z"
    },
    "papermill": {
     "duration": 1.714837,
     "end_time": "2021-04-11T11:23:59.507190",
     "exception": false,
     "start_time": "2021-04-11T11:23:57.792353",
     "status": "completed"
    },
    "tags": []
   },
   "outputs": [
    {
     "name": "stdout",
     "output_type": "stream",
     "text": [
      "AUC Train: 0.7093\n",
      "AUC Valid = 0.6965\n"
     ]
    }
   ],
   "source": [
    "y_train_pred = model_rf.predict(X_train)\n",
    "y_valid_pred = model_rf.predict(X_valid)\n",
    "\n",
    "print('AUC Train: {:.4f}\\nAUC Valid = {:.4f}'.format(metrics.roc_auc_score(y_train, y_train_pred),\n",
    "                                                     metrics.roc_auc_score(y_valid, y_valid_pred)))"
   ]
  },
  {
   "cell_type": "markdown",
   "metadata": {
    "papermill": {
     "duration": 0.018649,
     "end_time": "2021-04-11T11:23:59.545988",
     "exception": false,
     "start_time": "2021-04-11T11:23:59.527339",
     "status": "completed"
    },
    "tags": []
   },
   "source": [
    "## Step 4: Understanding Probability of prediction\n",
    "\n",
    "We can also look at the probability of prediction from the decision tree"
   ]
  },
  {
   "cell_type": "code",
   "execution_count": 7,
   "metadata": {
    "execution": {
     "iopub.execute_input": "2021-04-11T11:23:59.595509Z",
     "iopub.status.busy": "2021-04-11T11:23:59.594744Z",
     "iopub.status.idle": "2021-04-11T11:23:59.934541Z",
     "shell.execute_reply": "2021-04-11T11:23:59.933849Z"
    },
    "papermill": {
     "duration": 0.368632,
     "end_time": "2021-04-11T11:23:59.934685",
     "exception": false,
     "start_time": "2021-04-11T11:23:59.566053",
     "status": "completed"
    },
    "tags": []
   },
   "outputs": [
    {
     "name": "stdout",
     "output_type": "stream",
     "text": [
      "Probabilities \n",
      " [[0.5623344  0.4376656 ]\n",
      " [0.47866961 0.52133039]\n",
      " [0.53493225 0.46506775]\n",
      " [0.55329456 0.44670544]\n",
      " [0.47042956 0.52957044]\n",
      " [0.53616963 0.46383037]\n",
      " [0.58198981 0.41801019]\n",
      " [0.48418903 0.51581097]\n",
      " [0.5670752  0.4329248 ]\n",
      " [0.5756257  0.4243743 ]] \n",
      "\n",
      "Predictions\n",
      " [0 1 0 0 1 0 0 1 0 0]\n"
     ]
    }
   ],
   "source": [
    "y_valid_prob = model_rf.predict_proba(X_valid)\n",
    "\n",
    "print(\"Probabilities\",\n",
    "      \"\\n\",\n",
    "      y_valid_prob[:10], \n",
    "      \"\\n\\nPredictions\\n\",\n",
    "      np.array(y_valid_pred[:10]))"
   ]
  },
  {
   "cell_type": "code",
   "execution_count": 8,
   "metadata": {
    "execution": {
     "iopub.execute_input": "2021-04-11T11:23:59.980240Z",
     "iopub.status.busy": "2021-04-11T11:23:59.979230Z",
     "iopub.status.idle": "2021-04-11T11:23:59.983394Z",
     "shell.execute_reply": "2021-04-11T11:23:59.983876Z"
    },
    "papermill": {
     "duration": 0.029662,
     "end_time": "2021-04-11T11:23:59.984054",
     "exception": false,
     "start_time": "2021-04-11T11:23:59.954392",
     "status": "completed"
    },
    "tags": []
   },
   "outputs": [
    {
     "data": {
      "text/plain": [
       "array([0, 1])"
      ]
     },
     "execution_count": 8,
     "metadata": {},
     "output_type": "execute_result"
    }
   ],
   "source": [
    "model_rf.classes_"
   ]
  },
  {
   "cell_type": "markdown",
   "metadata": {
    "papermill": {
     "duration": 0.020657,
     "end_time": "2021-04-11T11:24:00.025237",
     "exception": false,
     "start_time": "2021-04-11T11:24:00.004580",
     "status": "completed"
    },
    "tags": []
   },
   "source": [
    "We can also find out the probability of prediction from each individual tree"
   ]
  },
  {
   "cell_type": "code",
   "execution_count": 9,
   "metadata": {
    "execution": {
     "iopub.execute_input": "2021-04-11T11:24:00.076915Z",
     "iopub.status.busy": "2021-04-11T11:24:00.075498Z",
     "iopub.status.idle": "2021-04-11T11:24:17.351368Z",
     "shell.execute_reply": "2021-04-11T11:24:17.349867Z"
    },
    "papermill": {
     "duration": 17.305703,
     "end_time": "2021-04-11T11:24:17.351528",
     "exception": false,
     "start_time": "2021-04-11T11:24:00.045825",
     "status": "completed"
    },
    "tags": []
   },
   "outputs": [
    {
     "data": {
      "text/plain": [
       "((150, 160000), (150, 40000))"
      ]
     },
     "execution_count": 9,
     "metadata": {},
     "output_type": "execute_result"
    }
   ],
   "source": [
    "y_train_prob_tree = np.stack([m.predict_proba(X_train)[:,1] for m in model_rf.estimators_])\n",
    "y_valid_prob_tree = np.stack([m.predict_proba(X_valid)[:,1] for m in model_rf.estimators_])\n",
    "\n",
    "y_train_prob_tree.shape, y_valid_prob_tree.shape"
   ]
  },
  {
   "cell_type": "markdown",
   "metadata": {
    "papermill": {
     "duration": 0.020192,
     "end_time": "2021-04-11T11:24:17.392301",
     "exception": false,
     "start_time": "2021-04-11T11:24:17.372109",
     "status": "completed"
    },
    "tags": []
   },
   "source": [
    "The mean value of the predictions from each tree can be used to find the probability score from Random Forest  \n",
    "A **threshold value** of `0.5` is used to identify classes in this binary class problem  \n",
    "In actual algo, the class label with the maximum probability is chosen as the predicted class  "
   ]
  },
  {
   "cell_type": "code",
   "execution_count": 10,
   "metadata": {
    "execution": {
     "iopub.execute_input": "2021-04-11T11:24:17.440272Z",
     "iopub.status.busy": "2021-04-11T11:24:17.438895Z",
     "iopub.status.idle": "2021-04-11T11:24:17.475837Z",
     "shell.execute_reply": "2021-04-11T11:24:17.475301Z"
    },
    "papermill": {
     "duration": 0.062959,
     "end_time": "2021-04-11T11:24:17.475976",
     "exception": false,
     "start_time": "2021-04-11T11:24:17.413017",
     "status": "completed"
    },
    "tags": []
   },
   "outputs": [
    {
     "data": {
      "text/plain": [
       "((160000,), (40000,))"
      ]
     },
     "execution_count": 10,
     "metadata": {},
     "output_type": "execute_result"
    }
   ],
   "source": [
    "y_train_pred_tree = (y_train_prob_tree.mean(0) > 0.5).astype(int)\n",
    "y_valid_pred_tree = (y_valid_prob_tree.mean(0) > 0.5).astype(int)\n",
    "\n",
    "y_train_pred_tree.shape, y_valid_pred_tree.shape"
   ]
  },
  {
   "cell_type": "markdown",
   "metadata": {
    "papermill": {
     "duration": 0.020714,
     "end_time": "2021-04-11T11:24:17.518217",
     "exception": false,
     "start_time": "2021-04-11T11:24:17.497503",
     "status": "completed"
    },
    "tags": []
   },
   "source": [
    "Let us compare our predicted classes from individual trees from the predictions from `model_rf.predict()`  \n",
    "Notice below that the the class labels are exactly same for both training and validation datasets"
   ]
  },
  {
   "cell_type": "code",
   "execution_count": 11,
   "metadata": {
    "execution": {
     "iopub.execute_input": "2021-04-11T11:24:17.626281Z",
     "iopub.status.busy": "2021-04-11T11:24:17.563991Z",
     "iopub.status.idle": "2021-04-11T11:24:17.648614Z",
     "shell.execute_reply": "2021-04-11T11:24:17.647554Z"
    },
    "papermill": {
     "duration": 0.109746,
     "end_time": "2021-04-11T11:24:17.648775",
     "exception": false,
     "start_time": "2021-04-11T11:24:17.539029",
     "status": "completed"
    },
    "tags": []
   },
   "outputs": [
    {
     "data": {
      "text/plain": [
       "(0, 0)"
      ]
     },
     "execution_count": 11,
     "metadata": {},
     "output_type": "execute_result"
    }
   ],
   "source": [
    "sum(y_train_pred_tree-y_train_pred), sum(y_valid_pred_tree-y_valid_pred)"
   ]
  },
  {
   "cell_type": "markdown",
   "metadata": {
    "papermill": {
     "duration": 0.021531,
     "end_time": "2021-04-11T11:24:17.692207",
     "exception": false,
     "start_time": "2021-04-11T11:24:17.670676",
     "status": "completed"
    },
    "tags": []
   },
   "source": [
    "## Step5: Find the model performance with respect to number of trees\n",
    "\n",
    "Let us repeat the earlier steps to find probabilities for each tree"
   ]
  },
  {
   "cell_type": "code",
   "execution_count": 12,
   "metadata": {
    "execution": {
     "iopub.execute_input": "2021-04-11T11:24:17.747513Z",
     "iopub.status.busy": "2021-04-11T11:24:17.746780Z",
     "iopub.status.idle": "2021-04-11T11:24:42.722012Z",
     "shell.execute_reply": "2021-04-11T11:24:42.722533Z"
    },
    "papermill": {
     "duration": 25.008959,
     "end_time": "2021-04-11T11:24:42.722721",
     "exception": false,
     "start_time": "2021-04-11T11:24:17.713762",
     "status": "completed"
    },
    "tags": []
   },
   "outputs": [
    {
     "data": {
      "text/plain": [
       "(150, 150)"
      ]
     },
     "execution_count": 12,
     "metadata": {},
     "output_type": "execute_result"
    }
   ],
   "source": [
    "# Repeating same code\n",
    "y_train_prob_tree = np.stack([m.predict_proba(X_train)[:,1] for m in model_rf.estimators_])\n",
    "y_valid_prob_tree = np.stack([m.predict_proba(X_valid)[:,1] for m in model_rf.estimators_])\n",
    "\n",
    "# Find AUC for different levels of Trees\n",
    "train_auc_trees = [metrics.roc_auc_score(y_train, (y_train_prob_tree[:i+1].mean(0) > 0.5).astype(int)) for i in range(num_trees)]\n",
    "valid_auc_trees = [metrics.roc_auc_score(y_valid, (y_valid_prob_tree[:i+1].mean(0) > 0.5).astype(int)) for i in range(num_trees)]\n",
    "\n",
    "len(train_auc_trees), len(valid_auc_trees)"
   ]
  },
  {
   "cell_type": "markdown",
   "metadata": {
    "papermill": {
     "duration": 0.021328,
     "end_time": "2021-04-11T11:24:42.765948",
     "exception": false,
     "start_time": "2021-04-11T11:24:42.744620",
     "status": "completed"
    },
    "tags": []
   },
   "source": [
    "Plot AUC with number of trees.  \n",
    "Notice that the AUC is more or less stable after about 100 trees"
   ]
  },
  {
   "cell_type": "code",
   "execution_count": 13,
   "metadata": {
    "execution": {
     "iopub.execute_input": "2021-04-11T11:24:42.829949Z",
     "iopub.status.busy": "2021-04-11T11:24:42.821613Z",
     "iopub.status.idle": "2021-04-11T11:24:43.041098Z",
     "shell.execute_reply": "2021-04-11T11:24:43.041592Z"
    },
    "papermill": {
     "duration": 0.254181,
     "end_time": "2021-04-11T11:24:43.041788",
     "exception": false,
     "start_time": "2021-04-11T11:24:42.787607",
     "status": "completed"
    },
    "tags": []
   },
   "outputs": [
    {
     "data": {
      "image/png": "[encoded data removed]",
      "text/plain": [
       "<Figure size 720x360 with 1 Axes>"
      ]
     },
     "metadata": {
      "needs_background": "light"
     },
     "output_type": "display_data"
    }
   ],
   "source": [
    "plt.figure(figsize=(10,5))\n",
    "\n",
    "plt.plot(train_auc_trees, label='Train AUC')\n",
    "plt.plot(valid_auc_trees, label='Validation AUC')\n",
    "\n",
    "plt.ylabel('Area under Curve (AUC)')\n",
    "plt.xlabel('Number of Trees')\n",
    "\n",
    "plt.legend()\n",
    "plt.show()"
   ]
  },
  {
   "cell_type": "markdown",
   "metadata": {
    "papermill": {
     "duration": 0.022582,
     "end_time": "2021-04-11T11:24:43.087890",
     "exception": false,
     "start_time": "2021-04-11T11:24:43.065308",
     "status": "completed"
    },
    "tags": []
   },
   "source": [
    "## Step 6: Find predicted values for test data\n",
    "Create the final model with entire training data"
   ]
  },
  {
   "cell_type": "code",
   "execution_count": 14,
   "metadata": {
    "execution": {
     "iopub.execute_input": "2021-04-11T11:24:43.144479Z",
     "iopub.status.busy": "2021-04-11T11:24:43.142988Z",
     "iopub.status.idle": "2021-04-11T11:26:57.444842Z",
     "shell.execute_reply": "2021-04-11T11:26:57.445373Z"
    },
    "papermill": {
     "duration": 134.334529,
     "end_time": "2021-04-11T11:26:57.445553",
     "exception": false,
     "start_time": "2021-04-11T11:24:43.111024",
     "status": "completed"
    },
    "tags": []
   },
   "outputs": [
    {
     "data": {
      "text/plain": [
       "RandomForestClassifier(class_weight='balanced', max_depth=4)"
      ]
     },
     "execution_count": 14,
     "metadata": {},
     "output_type": "execute_result"
    }
   ],
   "source": [
    "model_rf = RandomForestClassifier(n_estimators=100,\n",
    "                                  max_depth=4,\n",
    "                                  class_weight='balanced')\n",
    "model_rf.fit(X, y)"
   ]
  },
  {
   "cell_type": "markdown",
   "metadata": {
    "papermill": {
     "duration": 0.023415,
     "end_time": "2021-04-11T11:26:57.492598",
     "exception": false,
     "start_time": "2021-04-11T11:26:57.469183",
     "status": "completed"
    },
    "tags": []
   },
   "source": [
    "First read the test and sample submission data"
   ]
  },
  {
   "cell_type": "code",
   "execution_count": 15,
   "metadata": {
    "execution": {
     "iopub.execute_input": "2021-04-11T11:26:57.545635Z",
     "iopub.status.busy": "2021-04-11T11:26:57.544939Z",
     "iopub.status.idle": "2021-04-11T11:27:08.499774Z",
     "shell.execute_reply": "2021-04-11T11:27:08.499224Z"
    },
    "papermill": {
     "duration": 10.983629,
     "end_time": "2021-04-11T11:27:08.499928",
     "exception": false,
     "start_time": "2021-04-11T11:26:57.516299",
     "status": "completed"
    },
    "tags": []
   },
   "outputs": [
    {
     "data": {
      "text/plain": [
       "((200000, 201), (200000, 2))"
      ]
     },
     "execution_count": 15,
     "metadata": {},
     "output_type": "execute_result"
    }
   ],
   "source": [
    "df_test = pd.read_csv(input_dir + '/test.csv')\n",
    "df_sample_subm = pd.read_csv(input_dir + '/sample_submission.csv')\n",
    "\n",
    "df_test.shape, df_sample_subm.shape"
   ]
  },
  {
   "cell_type": "code",
   "execution_count": 16,
   "metadata": {
    "execution": {
     "iopub.execute_input": "2021-04-11T11:27:08.699948Z",
     "iopub.status.busy": "2021-04-11T11:27:08.695812Z",
     "iopub.status.idle": "2021-04-11T11:27:09.857469Z",
     "shell.execute_reply": "2021-04-11T11:27:09.857978Z"
    },
    "papermill": {
     "duration": 1.333883,
     "end_time": "2021-04-11T11:27:09.858186",
     "exception": false,
     "start_time": "2021-04-11T11:27:08.524303",
     "status": "completed"
    },
    "tags": []
   },
   "outputs": [
    {
     "data": {
      "text/html": [
       "<div>\n",
       "<style scoped>\n",
       "    .dataframe tbody tr th:only-of-type {\n",
       "        vertical-align: middle;\n",
       "    }\n",
       "\n",
       "    .dataframe tbody tr th {\n",
       "        vertical-align: top;\n",
       "    }\n",
       "\n",
       "    .dataframe thead th {\n",
       "        text-align: right;\n",
       "    }\n",
       "</style>\n",
       "<table border=\"1\" class=\"dataframe\">\n",
       "  <thead>\n",
       "    <tr style=\"text-align: right;\">\n",
       "      <th></th>\n",
       "      <th>ID_code</th>\n",
       "      <th>target</th>\n",
       "    </tr>\n",
       "  </thead>\n",
       "  <tbody>\n",
       "    <tr>\n",
       "      <th>0</th>\n",
       "      <td>test_0</td>\n",
       "      <td>1</td>\n",
       "    </tr>\n",
       "    <tr>\n",
       "      <th>1</th>\n",
       "      <td>test_1</td>\n",
       "      <td>0</td>\n",
       "    </tr>\n",
       "    <tr>\n",
       "      <th>2</th>\n",
       "      <td>test_2</td>\n",
       "      <td>0</td>\n",
       "    </tr>\n",
       "    <tr>\n",
       "      <th>3</th>\n",
       "      <td>test_3</td>\n",
       "      <td>0</td>\n",
       "    </tr>\n",
       "    <tr>\n",
       "      <th>4</th>\n",
       "      <td>test_4</td>\n",
       "      <td>0</td>\n",
       "    </tr>\n",
       "    <tr>\n",
       "      <th>...</th>\n",
       "      <td>...</td>\n",
       "      <td>...</td>\n",
       "    </tr>\n",
       "    <tr>\n",
       "      <th>199995</th>\n",
       "      <td>test_199995</td>\n",
       "      <td>0</td>\n",
       "    </tr>\n",
       "    <tr>\n",
       "      <th>199996</th>\n",
       "      <td>test_199996</td>\n",
       "      <td>0</td>\n",
       "    </tr>\n",
       "    <tr>\n",
       "      <th>199997</th>\n",
       "      <td>test_199997</td>\n",
       "      <td>0</td>\n",
       "    </tr>\n",
       "    <tr>\n",
       "      <th>199998</th>\n",
       "      <td>test_199998</td>\n",
       "      <td>1</td>\n",
       "    </tr>\n",
       "    <tr>\n",
       "      <th>199999</th>\n",
       "      <td>test_199999</td>\n",
       "      <td>1</td>\n",
       "    </tr>\n",
       "  </tbody>\n",
       "</table>\n",
       "<p>200000 rows × 2 columns</p>\n",
       "</div>"
      ],
      "text/plain": [
       "            ID_code  target\n",
       "0            test_0       1\n",
       "1            test_1       0\n",
       "2            test_2       0\n",
       "3            test_3       0\n",
       "4            test_4       0\n",
       "...             ...     ...\n",
       "199995  test_199995       0\n",
       "199996  test_199996       0\n",
       "199997  test_199997       0\n",
       "199998  test_199998       1\n",
       "199999  test_199999       1\n",
       "\n",
       "[200000 rows x 2 columns]"
      ]
     },
     "execution_count": 16,
     "metadata": {},
     "output_type": "execute_result"
    }
   ],
   "source": [
    "X_test = df_test.loc[:,var_columns]\n",
    "\n",
    "df_sample_subm['target'] = model_rf.predict(X_test)\n",
    "df_sample_subm"
   ]
  },
  {
   "cell_type": "code",
   "execution_count": 17,
   "metadata": {
    "execution": {
     "iopub.execute_input": "2021-04-11T11:27:09.912012Z",
     "iopub.status.busy": "2021-04-11T11:27:09.911015Z",
     "iopub.status.idle": "2021-04-11T11:27:10.321000Z",
     "shell.execute_reply": "2021-04-11T11:27:10.320102Z"
    },
    "papermill": {
     "duration": 0.437989,
     "end_time": "2021-04-11T11:27:10.321188",
     "exception": false,
     "start_time": "2021-04-11T11:27:09.883199",
     "status": "completed"
    },
    "tags": []
   },
   "outputs": [],
   "source": [
    "output_dir = '/kaggle/working/'\n",
    "df_sample_subm.to_csv(output_dir + '02_random_forest_scores.csv', index=False)"
   ]
  }
 ],
 "metadata": {
  "kernelspec": {
   "display_name": "Python 3",
   "language": "python",
   "name": "python3"
  },
  "language_info": {
   "codemirror_mode": {
    "name": "ipython",
    "version": 3
   },
   "file_extension": ".py",
   "mimetype": "text/x-python",
   "name": "python",
   "nbconvert_exporter": "python",
   "pygments_lexer": "ipython3",
   "version": "3.7.9"
  },
  "papermill": {
   "default_parameters": {},
   "duration": 370.568014,
   "end_time": "2021-04-11T11:27:11.055928",
   "environment_variables": {},
   "exception": null,
   "input_path": "__notebook__.ipynb",
   "output_path": "__notebook__.ipynb",
   "parameters": {},
   "start_time": "2021-04-11T11:21:00.487914",
   "version": "2.2.2"
  }
 },
 "nbformat": 4,
 "nbformat_minor": 4
}
