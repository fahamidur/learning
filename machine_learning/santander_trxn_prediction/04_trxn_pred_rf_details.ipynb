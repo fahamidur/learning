{
 "cells": [
  {
   "cell_type": "markdown",
   "metadata": {
    "papermill": {
     "duration": 0.017027,
     "end_time": "2021-04-22T11:31:29.579224",
     "exception": false,
     "start_time": "2021-04-22T11:31:29.562197",
     "status": "completed"
    },
    "tags": []
   },
   "source": [
    "# Santander Customer Transaction Prediction - Random Forest Details\n",
    "\n",
    "In the Kaggle competition, the objective is to identify which customer will make a transaction in the future.\n",
    "\n",
    "**Link to the competition**: https://www.kaggle.com/c/santander-customer-transaction-prediction/  \n",
    "**Type of Problem**: Classification  \n",
    "**Metric for evalution**: AOC (Area Under Curve)\n",
    "\n",
    "This Python 3 environment comes with many helpful analytics libraries installed\n",
    "It is defined by the kaggle/python Docker image: https://github.com/kaggle/docker-python"
   ]
  },
  {
   "cell_type": "code",
   "execution_count": 1,
   "metadata": {
    "execution": {
     "iopub.execute_input": "2021-04-22T11:31:29.617875Z",
     "iopub.status.busy": "2021-04-22T11:31:29.616955Z",
     "iopub.status.idle": "2021-04-22T11:31:31.270708Z",
     "shell.execute_reply": "2021-04-22T11:31:31.271316Z"
    },
    "papermill": {
     "duration": 1.676322,
     "end_time": "2021-04-22T11:31:31.271667",
     "exception": false,
     "start_time": "2021-04-22T11:31:29.595345",
     "status": "completed"
    },
    "tags": []
   },
   "outputs": [],
   "source": [
    "import numpy as np # linear algebra\n",
    "import pandas as pd # data processing, CSV file I/O (e.g. pd.read_csv)\n",
    "\n",
    "from sklearn.ensemble import RandomForestClassifier\n",
    "from sklearn.inspection import plot_partial_dependence\n",
    "from sklearn import metrics\n",
    "\n",
    "import matplotlib.pyplot as plt"
   ]
  },
  {
   "cell_type": "code",
   "execution_count": 2,
   "metadata": {
    "_cell_guid": "b1076dfc-b9ad-4769-8c92-a6c4dae69d19",
    "_uuid": "8f2839f25d086af736a60e9eeb907d3b93b6e0e5",
    "execution": {
     "iopub.execute_input": "2021-04-22T11:31:31.310192Z",
     "iopub.status.busy": "2021-04-22T11:31:31.309478Z",
     "iopub.status.idle": "2021-04-22T11:31:31.320146Z",
     "shell.execute_reply": "2021-04-22T11:31:31.319561Z"
    },
    "papermill": {
     "duration": 0.032483,
     "end_time": "2021-04-22T11:31:31.320314",
     "exception": false,
     "start_time": "2021-04-22T11:31:31.287831",
     "status": "completed"
    },
    "tags": []
   },
   "outputs": [
    {
     "name": "stdout",
     "output_type": "stream",
     "text": [
      "/kaggle/input/santander-customer-transaction-prediction/sample_submission.csv\n",
      "/kaggle/input/santander-customer-transaction-prediction/train.csv\n",
      "/kaggle/input/santander-customer-transaction-prediction/test.csv\n"
     ]
    }
   ],
   "source": [
    "# Input data files are available in the read-only \"../input/\" directory\n",
    "# For example, running this (by clicking run or pressing Shift+Enter) will list all files under the input directory\n",
    "\n",
    "import os\n",
    "for dirname, _, filenames in os.walk('/kaggle/input'):\n",
    "    for filename in filenames:\n",
    "        print(os.path.join(dirname, filename))\n",
    "\n",
    "# You can write up to 20GB to the current directory (/kaggle/working/) that gets preserved as output when you create a version using \"Save & Run All\" \n",
    "# You can also write temporary files to /kaggle/temp/, but they won't be saved outside of the current session"
   ]
  },
  {
   "cell_type": "markdown",
   "metadata": {
    "papermill": {
     "duration": 0.015892,
     "end_time": "2021-04-22T11:31:31.352864",
     "exception": false,
     "start_time": "2021-04-22T11:31:31.336972",
     "status": "completed"
    },
    "tags": []
   },
   "source": [
    "## Step1: Read CSV\n",
    "Read the train csv file and look at the data. There are 200K rows and 200 independent variables."
   ]
  },
  {
   "cell_type": "code",
   "execution_count": 3,
   "metadata": {
    "execution": {
     "iopub.execute_input": "2021-04-22T11:31:31.393256Z",
     "iopub.status.busy": "2021-04-22T11:31:31.392268Z",
     "iopub.status.idle": "2021-04-22T11:31:43.518235Z",
     "shell.execute_reply": "2021-04-22T11:31:43.517644Z"
    },
    "papermill": {
     "duration": 12.14932,
     "end_time": "2021-04-22T11:31:43.518376",
     "exception": false,
     "start_time": "2021-04-22T11:31:31.369056",
     "status": "completed"
    },
    "tags": []
   },
   "outputs": [
    {
     "data": {
      "text/html": [
       "<div>\n",
       "<style scoped>\n",
       "    .dataframe tbody tr th:only-of-type {\n",
       "        vertical-align: middle;\n",
       "    }\n",
       "\n",
       "    .dataframe tbody tr th {\n",
       "        vertical-align: top;\n",
       "    }\n",
       "\n",
       "    .dataframe thead th {\n",
       "        text-align: right;\n",
       "    }\n",
       "</style>\n",
       "<table border=\"1\" class=\"dataframe\">\n",
       "  <thead>\n",
       "    <tr style=\"text-align: right;\">\n",
       "      <th></th>\n",
       "      <th>ID_code</th>\n",
       "      <th>target</th>\n",
       "      <th>var_0</th>\n",
       "      <th>var_1</th>\n",
       "      <th>var_2</th>\n",
       "      <th>var_3</th>\n",
       "      <th>var_4</th>\n",
       "      <th>var_5</th>\n",
       "      <th>var_6</th>\n",
       "      <th>var_7</th>\n",
       "      <th>...</th>\n",
       "      <th>var_190</th>\n",
       "      <th>var_191</th>\n",
       "      <th>var_192</th>\n",
       "      <th>var_193</th>\n",
       "      <th>var_194</th>\n",
       "      <th>var_195</th>\n",
       "      <th>var_196</th>\n",
       "      <th>var_197</th>\n",
       "      <th>var_198</th>\n",
       "      <th>var_199</th>\n",
       "    </tr>\n",
       "  </thead>\n",
       "  <tbody>\n",
       "    <tr>\n",
       "      <th>0</th>\n",
       "      <td>train_0</td>\n",
       "      <td>0</td>\n",
       "      <td>8.9255</td>\n",
       "      <td>-6.7863</td>\n",
       "      <td>11.9081</td>\n",
       "      <td>5.0930</td>\n",
       "      <td>11.4607</td>\n",
       "      <td>-9.2834</td>\n",
       "      <td>5.1187</td>\n",
       "      <td>18.6266</td>\n",
       "      <td>...</td>\n",
       "      <td>4.4354</td>\n",
       "      <td>3.9642</td>\n",
       "      <td>3.1364</td>\n",
       "      <td>1.6910</td>\n",
       "      <td>18.5227</td>\n",
       "      <td>-2.3978</td>\n",
       "      <td>7.8784</td>\n",
       "      <td>8.5635</td>\n",
       "      <td>12.7803</td>\n",
       "      <td>-1.0914</td>\n",
       "    </tr>\n",
       "    <tr>\n",
       "      <th>1</th>\n",
       "      <td>train_1</td>\n",
       "      <td>0</td>\n",
       "      <td>11.5006</td>\n",
       "      <td>-4.1473</td>\n",
       "      <td>13.8588</td>\n",
       "      <td>5.3890</td>\n",
       "      <td>12.3622</td>\n",
       "      <td>7.0433</td>\n",
       "      <td>5.6208</td>\n",
       "      <td>16.5338</td>\n",
       "      <td>...</td>\n",
       "      <td>7.6421</td>\n",
       "      <td>7.7214</td>\n",
       "      <td>2.5837</td>\n",
       "      <td>10.9516</td>\n",
       "      <td>15.4305</td>\n",
       "      <td>2.0339</td>\n",
       "      <td>8.1267</td>\n",
       "      <td>8.7889</td>\n",
       "      <td>18.3560</td>\n",
       "      <td>1.9518</td>\n",
       "    </tr>\n",
       "    <tr>\n",
       "      <th>2</th>\n",
       "      <td>train_2</td>\n",
       "      <td>0</td>\n",
       "      <td>8.6093</td>\n",
       "      <td>-2.7457</td>\n",
       "      <td>12.0805</td>\n",
       "      <td>7.8928</td>\n",
       "      <td>10.5825</td>\n",
       "      <td>-9.0837</td>\n",
       "      <td>6.9427</td>\n",
       "      <td>14.6155</td>\n",
       "      <td>...</td>\n",
       "      <td>2.9057</td>\n",
       "      <td>9.7905</td>\n",
       "      <td>1.6704</td>\n",
       "      <td>1.6858</td>\n",
       "      <td>21.6042</td>\n",
       "      <td>3.1417</td>\n",
       "      <td>-6.5213</td>\n",
       "      <td>8.2675</td>\n",
       "      <td>14.7222</td>\n",
       "      <td>0.3965</td>\n",
       "    </tr>\n",
       "    <tr>\n",
       "      <th>3</th>\n",
       "      <td>train_3</td>\n",
       "      <td>0</td>\n",
       "      <td>11.0604</td>\n",
       "      <td>-2.1518</td>\n",
       "      <td>8.9522</td>\n",
       "      <td>7.1957</td>\n",
       "      <td>12.5846</td>\n",
       "      <td>-1.8361</td>\n",
       "      <td>5.8428</td>\n",
       "      <td>14.9250</td>\n",
       "      <td>...</td>\n",
       "      <td>4.4666</td>\n",
       "      <td>4.7433</td>\n",
       "      <td>0.7178</td>\n",
       "      <td>1.4214</td>\n",
       "      <td>23.0347</td>\n",
       "      <td>-1.2706</td>\n",
       "      <td>-2.9275</td>\n",
       "      <td>10.2922</td>\n",
       "      <td>17.9697</td>\n",
       "      <td>-8.9996</td>\n",
       "    </tr>\n",
       "    <tr>\n",
       "      <th>4</th>\n",
       "      <td>train_4</td>\n",
       "      <td>0</td>\n",
       "      <td>9.8369</td>\n",
       "      <td>-1.4834</td>\n",
       "      <td>12.8746</td>\n",
       "      <td>6.6375</td>\n",
       "      <td>12.2772</td>\n",
       "      <td>2.4486</td>\n",
       "      <td>5.9405</td>\n",
       "      <td>19.2514</td>\n",
       "      <td>...</td>\n",
       "      <td>-1.4905</td>\n",
       "      <td>9.5214</td>\n",
       "      <td>-0.1508</td>\n",
       "      <td>9.1942</td>\n",
       "      <td>13.2876</td>\n",
       "      <td>-1.5121</td>\n",
       "      <td>3.9267</td>\n",
       "      <td>9.5031</td>\n",
       "      <td>17.9974</td>\n",
       "      <td>-8.8104</td>\n",
       "    </tr>\n",
       "    <tr>\n",
       "      <th>...</th>\n",
       "      <td>...</td>\n",
       "      <td>...</td>\n",
       "      <td>...</td>\n",
       "      <td>...</td>\n",
       "      <td>...</td>\n",
       "      <td>...</td>\n",
       "      <td>...</td>\n",
       "      <td>...</td>\n",
       "      <td>...</td>\n",
       "      <td>...</td>\n",
       "      <td>...</td>\n",
       "      <td>...</td>\n",
       "      <td>...</td>\n",
       "      <td>...</td>\n",
       "      <td>...</td>\n",
       "      <td>...</td>\n",
       "      <td>...</td>\n",
       "      <td>...</td>\n",
       "      <td>...</td>\n",
       "      <td>...</td>\n",
       "      <td>...</td>\n",
       "    </tr>\n",
       "    <tr>\n",
       "      <th>199995</th>\n",
       "      <td>train_199995</td>\n",
       "      <td>0</td>\n",
       "      <td>11.4880</td>\n",
       "      <td>-0.4956</td>\n",
       "      <td>8.2622</td>\n",
       "      <td>3.5142</td>\n",
       "      <td>10.3404</td>\n",
       "      <td>11.6081</td>\n",
       "      <td>5.6709</td>\n",
       "      <td>15.1516</td>\n",
       "      <td>...</td>\n",
       "      <td>6.1415</td>\n",
       "      <td>13.2305</td>\n",
       "      <td>3.9901</td>\n",
       "      <td>0.9388</td>\n",
       "      <td>18.0249</td>\n",
       "      <td>-1.7939</td>\n",
       "      <td>2.1661</td>\n",
       "      <td>8.5326</td>\n",
       "      <td>16.6660</td>\n",
       "      <td>-17.8661</td>\n",
       "    </tr>\n",
       "    <tr>\n",
       "      <th>199996</th>\n",
       "      <td>train_199996</td>\n",
       "      <td>0</td>\n",
       "      <td>4.9149</td>\n",
       "      <td>-2.4484</td>\n",
       "      <td>16.7052</td>\n",
       "      <td>6.6345</td>\n",
       "      <td>8.3096</td>\n",
       "      <td>-10.5628</td>\n",
       "      <td>5.8802</td>\n",
       "      <td>21.5940</td>\n",
       "      <td>...</td>\n",
       "      <td>4.9611</td>\n",
       "      <td>4.6549</td>\n",
       "      <td>0.6998</td>\n",
       "      <td>1.8341</td>\n",
       "      <td>22.2717</td>\n",
       "      <td>1.7337</td>\n",
       "      <td>-2.1651</td>\n",
       "      <td>6.7419</td>\n",
       "      <td>15.9054</td>\n",
       "      <td>0.3388</td>\n",
       "    </tr>\n",
       "    <tr>\n",
       "      <th>199997</th>\n",
       "      <td>train_199997</td>\n",
       "      <td>0</td>\n",
       "      <td>11.2232</td>\n",
       "      <td>-5.0518</td>\n",
       "      <td>10.5127</td>\n",
       "      <td>5.6456</td>\n",
       "      <td>9.3410</td>\n",
       "      <td>-5.4086</td>\n",
       "      <td>4.5555</td>\n",
       "      <td>21.5571</td>\n",
       "      <td>...</td>\n",
       "      <td>4.0651</td>\n",
       "      <td>5.4414</td>\n",
       "      <td>3.1032</td>\n",
       "      <td>4.8793</td>\n",
       "      <td>23.5311</td>\n",
       "      <td>-1.5736</td>\n",
       "      <td>1.2832</td>\n",
       "      <td>8.7155</td>\n",
       "      <td>13.8329</td>\n",
       "      <td>4.1995</td>\n",
       "    </tr>\n",
       "    <tr>\n",
       "      <th>199998</th>\n",
       "      <td>train_199998</td>\n",
       "      <td>0</td>\n",
       "      <td>9.7148</td>\n",
       "      <td>-8.6098</td>\n",
       "      <td>13.6104</td>\n",
       "      <td>5.7930</td>\n",
       "      <td>12.5173</td>\n",
       "      <td>0.5339</td>\n",
       "      <td>6.0479</td>\n",
       "      <td>17.0152</td>\n",
       "      <td>...</td>\n",
       "      <td>2.6840</td>\n",
       "      <td>8.6587</td>\n",
       "      <td>2.7337</td>\n",
       "      <td>11.1178</td>\n",
       "      <td>20.4158</td>\n",
       "      <td>-0.0786</td>\n",
       "      <td>6.7980</td>\n",
       "      <td>10.0342</td>\n",
       "      <td>15.5289</td>\n",
       "      <td>-13.9001</td>\n",
       "    </tr>\n",
       "    <tr>\n",
       "      <th>199999</th>\n",
       "      <td>train_199999</td>\n",
       "      <td>0</td>\n",
       "      <td>10.8762</td>\n",
       "      <td>-5.7105</td>\n",
       "      <td>12.1183</td>\n",
       "      <td>8.0328</td>\n",
       "      <td>11.5577</td>\n",
       "      <td>0.3488</td>\n",
       "      <td>5.2839</td>\n",
       "      <td>15.2058</td>\n",
       "      <td>...</td>\n",
       "      <td>8.9842</td>\n",
       "      <td>1.6893</td>\n",
       "      <td>0.1276</td>\n",
       "      <td>0.3766</td>\n",
       "      <td>15.2101</td>\n",
       "      <td>-2.4907</td>\n",
       "      <td>-2.2342</td>\n",
       "      <td>8.1857</td>\n",
       "      <td>12.1284</td>\n",
       "      <td>0.1385</td>\n",
       "    </tr>\n",
       "  </tbody>\n",
       "</table>\n",
       "<p>200000 rows × 202 columns</p>\n",
       "</div>"
      ],
      "text/plain": [
       "             ID_code  target    var_0   var_1    var_2   var_3    var_4  \\\n",
       "0            train_0       0   8.9255 -6.7863  11.9081  5.0930  11.4607   \n",
       "1            train_1       0  11.5006 -4.1473  13.8588  5.3890  12.3622   \n",
       "2            train_2       0   8.6093 -2.7457  12.0805  7.8928  10.5825   \n",
       "3            train_3       0  11.0604 -2.1518   8.9522  7.1957  12.5846   \n",
       "4            train_4       0   9.8369 -1.4834  12.8746  6.6375  12.2772   \n",
       "...              ...     ...      ...     ...      ...     ...      ...   \n",
       "199995  train_199995       0  11.4880 -0.4956   8.2622  3.5142  10.3404   \n",
       "199996  train_199996       0   4.9149 -2.4484  16.7052  6.6345   8.3096   \n",
       "199997  train_199997       0  11.2232 -5.0518  10.5127  5.6456   9.3410   \n",
       "199998  train_199998       0   9.7148 -8.6098  13.6104  5.7930  12.5173   \n",
       "199999  train_199999       0  10.8762 -5.7105  12.1183  8.0328  11.5577   \n",
       "\n",
       "          var_5   var_6    var_7  ...  var_190  var_191  var_192  var_193  \\\n",
       "0       -9.2834  5.1187  18.6266  ...   4.4354   3.9642   3.1364   1.6910   \n",
       "1        7.0433  5.6208  16.5338  ...   7.6421   7.7214   2.5837  10.9516   \n",
       "2       -9.0837  6.9427  14.6155  ...   2.9057   9.7905   1.6704   1.6858   \n",
       "3       -1.8361  5.8428  14.9250  ...   4.4666   4.7433   0.7178   1.4214   \n",
       "4        2.4486  5.9405  19.2514  ...  -1.4905   9.5214  -0.1508   9.1942   \n",
       "...         ...     ...      ...  ...      ...      ...      ...      ...   \n",
       "199995  11.6081  5.6709  15.1516  ...   6.1415  13.2305   3.9901   0.9388   \n",
       "199996 -10.5628  5.8802  21.5940  ...   4.9611   4.6549   0.6998   1.8341   \n",
       "199997  -5.4086  4.5555  21.5571  ...   4.0651   5.4414   3.1032   4.8793   \n",
       "199998   0.5339  6.0479  17.0152  ...   2.6840   8.6587   2.7337  11.1178   \n",
       "199999   0.3488  5.2839  15.2058  ...   8.9842   1.6893   0.1276   0.3766   \n",
       "\n",
       "        var_194  var_195  var_196  var_197  var_198  var_199  \n",
       "0       18.5227  -2.3978   7.8784   8.5635  12.7803  -1.0914  \n",
       "1       15.4305   2.0339   8.1267   8.7889  18.3560   1.9518  \n",
       "2       21.6042   3.1417  -6.5213   8.2675  14.7222   0.3965  \n",
       "3       23.0347  -1.2706  -2.9275  10.2922  17.9697  -8.9996  \n",
       "4       13.2876  -1.5121   3.9267   9.5031  17.9974  -8.8104  \n",
       "...         ...      ...      ...      ...      ...      ...  \n",
       "199995  18.0249  -1.7939   2.1661   8.5326  16.6660 -17.8661  \n",
       "199996  22.2717   1.7337  -2.1651   6.7419  15.9054   0.3388  \n",
       "199997  23.5311  -1.5736   1.2832   8.7155  13.8329   4.1995  \n",
       "199998  20.4158  -0.0786   6.7980  10.0342  15.5289 -13.9001  \n",
       "199999  15.2101  -2.4907  -2.2342   8.1857  12.1284   0.1385  \n",
       "\n",
       "[200000 rows x 202 columns]"
      ]
     },
     "execution_count": 3,
     "metadata": {},
     "output_type": "execute_result"
    }
   ],
   "source": [
    "input_dir = '/kaggle/input/santander-customer-transaction-prediction/'\n",
    "df_train = pd.read_csv(input_dir + 'train.csv')\n",
    "df_train"
   ]
  },
  {
   "cell_type": "markdown",
   "metadata": {
    "papermill": {
     "duration": 0.016988,
     "end_time": "2021-04-22T11:31:43.554155",
     "exception": false,
     "start_time": "2021-04-22T11:31:43.537167",
     "status": "completed"
    },
    "tags": []
   },
   "source": [
    "Split the data into independent and dependent variables. This is required to train the model using sklearn."
   ]
  },
  {
   "cell_type": "code",
   "execution_count": 4,
   "metadata": {
    "execution": {
     "iopub.execute_input": "2021-04-22T11:31:43.787935Z",
     "iopub.status.busy": "2021-04-22T11:31:43.787175Z",
     "iopub.status.idle": "2021-04-22T11:31:43.791049Z",
     "shell.execute_reply": "2021-04-22T11:31:43.790519Z"
    },
    "papermill": {
     "duration": 0.21986,
     "end_time": "2021-04-22T11:31:43.791207",
     "exception": false,
     "start_time": "2021-04-22T11:31:43.571347",
     "status": "completed"
    },
    "tags": []
   },
   "outputs": [],
   "source": [
    "var_columns = [c for c in df_train if c not in ['ID_code','target']]\n",
    "X = df_train.loc[:,var_columns]\n",
    "y = df_train.loc[:,'target']"
   ]
  },
  {
   "cell_type": "markdown",
   "metadata": {
    "papermill": {
     "duration": 0.016976,
     "end_time": "2021-04-22T11:31:43.825488",
     "exception": false,
     "start_time": "2021-04-22T11:31:43.808512",
     "status": "completed"
    },
    "tags": []
   },
   "source": [
    "## Step2: Create Random Forest Model\n",
    "Use the parameters which are result of hyperparameter tuning"
   ]
  },
  {
   "cell_type": "code",
   "execution_count": 5,
   "metadata": {
    "execution": {
     "iopub.execute_input": "2021-04-22T11:31:43.871280Z",
     "iopub.status.busy": "2021-04-22T11:31:43.870584Z",
     "iopub.status.idle": "2021-04-22T11:38:22.666342Z",
     "shell.execute_reply": "2021-04-22T11:38:22.666885Z"
    },
    "papermill": {
     "duration": 398.824259,
     "end_time": "2021-04-22T11:38:22.667129",
     "exception": false,
     "start_time": "2021-04-22T11:31:43.842870",
     "status": "completed"
    },
    "tags": []
   },
   "outputs": [
    {
     "data": {
      "text/plain": [
       "RandomForestClassifier(class_weight='balanced', max_depth=55,\n",
       "                       max_features='log2', min_samples_leaf=0.005,\n",
       "                       min_samples_split=0.005, n_estimators=190)"
      ]
     },
     "execution_count": 5,
     "metadata": {},
     "output_type": "execute_result"
    }
   ],
   "source": [
    "model_rf = RandomForestClassifier(class_weight='balanced',\n",
    "                                  criterion='gini',\n",
    "                                  max_depth=55,\n",
    "                                  max_features='log2',\n",
    "                                  min_samples_leaf=0.005,\n",
    "                                  min_samples_split=0.005,\n",
    "                                  n_estimators=190)\n",
    "model_rf.fit(X, y)"
   ]
  },
  {
   "cell_type": "markdown",
   "metadata": {
    "papermill": {
     "duration": 0.017661,
     "end_time": "2021-04-22T11:38:22.702851",
     "exception": false,
     "start_time": "2021-04-22T11:38:22.685190",
     "status": "completed"
    },
    "tags": []
   },
   "source": [
    "## Step3: Variable Importance\n",
    "Convert the variable importance into pandas dataframe. Also sort the variable list based on importance."
   ]
  },
  {
   "cell_type": "code",
   "execution_count": 6,
   "metadata": {
    "execution": {
     "iopub.execute_input": "2021-04-22T11:38:22.746340Z",
     "iopub.status.busy": "2021-04-22T11:38:22.745634Z",
     "iopub.status.idle": "2021-04-22T11:38:22.769591Z",
     "shell.execute_reply": "2021-04-22T11:38:22.770168Z"
    },
    "papermill": {
     "duration": 0.049668,
     "end_time": "2021-04-22T11:38:22.770364",
     "exception": false,
     "start_time": "2021-04-22T11:38:22.720696",
     "status": "completed"
    },
    "tags": []
   },
   "outputs": [],
   "source": [
    "df_var_imp = pd.DataFrame({'Variable': var_columns,\n",
    "                           'Importance': model_rf.feature_importances_}) \\\n",
    "                .sort_values(by='Importance', ascending=False) \\\n",
    "                .reset_index(drop=True)"
   ]
  },
  {
   "cell_type": "markdown",
   "metadata": {
    "papermill": {
     "duration": 0.017829,
     "end_time": "2021-04-22T11:38:22.806481",
     "exception": false,
     "start_time": "2021-04-22T11:38:22.788652",
     "status": "completed"
    },
    "tags": []
   },
   "source": [
    "Let us plot the variable importance as bar charts."
   ]
  },
  {
   "cell_type": "code",
   "execution_count": 7,
   "metadata": {
    "execution": {
     "iopub.execute_input": "2021-04-22T11:38:22.847239Z",
     "iopub.status.busy": "2021-04-22T11:38:22.846491Z",
     "iopub.status.idle": "2021-04-22T11:38:23.145755Z",
     "shell.execute_reply": "2021-04-22T11:38:23.146297Z"
    },
    "papermill": {
     "duration": 0.321297,
     "end_time": "2021-04-22T11:38:23.146523",
     "exception": false,
     "start_time": "2021-04-22T11:38:22.825226",
     "status": "completed"
    },
    "tags": []
   },
   "outputs": [
    {
     "data": {
      "text/plain": [
       "<AxesSubplot:ylabel='Variable'>"
      ]
     },
     "execution_count": 7,
     "metadata": {},
     "output_type": "execute_result"
    },
    {
     "data": {
      "image/png": "[encoded data removed]",
      "text/plain": [
       "<Figure size 1080x360 with 1 Axes>"
      ]
     },
     "metadata": {
      "needs_background": "light"
     },
     "output_type": "display_data"
    }
   ],
   "source": [
    "df_var_imp[:15].sort_values('Importance').plot('Variable','Importance', 'barh', figsize=(15,5), legend=False)"
   ]
  },
  {
   "cell_type": "markdown",
   "metadata": {
    "papermill": {
     "duration": 0.020152,
     "end_time": "2021-04-22T11:38:23.186670",
     "exception": false,
     "start_time": "2021-04-22T11:38:23.166518",
     "status": "completed"
    },
    "tags": []
   },
   "source": [
    "## Step4: Partial Dependence of Variables\n",
    "`var_81`, `var_139` and `var_110` are the top variables on the basis of variable importance. Let us see how they relate to the dependent variable."
   ]
  },
  {
   "cell_type": "code",
   "execution_count": 8,
   "metadata": {
    "execution": {
     "iopub.execute_input": "2021-04-22T11:38:23.254768Z",
     "iopub.status.busy": "2021-04-22T11:38:23.252859Z",
     "iopub.status.idle": "2021-04-22T11:46:34.719550Z",
     "shell.execute_reply": "2021-04-22T11:46:34.720153Z"
    },
    "papermill": {
     "duration": 491.513406,
     "end_time": "2021-04-22T11:46:34.720373",
     "exception": false,
     "start_time": "2021-04-22T11:38:23.206967",
     "status": "completed"
    },
    "tags": []
   },
   "outputs": [
    {
     "data": {
      "image/png": "[encoded data removed]",
      "text/plain": [
       "<Figure size 1296x288 with 4 Axes>"
      ]
     },
     "metadata": {
      "needs_background": "light"
     },
     "output_type": "display_data"
    }
   ],
   "source": [
    "fig,ax = plt.subplots(figsize=(18, 4))\n",
    "plot_partial_dependence(model_rf, X, ['var_81','var_139','var_110'],\n",
    "                        grid_resolution=20, ax=ax);"
   ]
  },
  {
   "cell_type": "markdown",
   "metadata": {
    "papermill": {
     "duration": 0.022312,
     "end_time": "2021-04-22T11:46:34.763713",
     "exception": false,
     "start_time": "2021-04-22T11:46:34.741401",
     "status": "completed"
    },
    "tags": []
   },
   "source": [
    "For `var_81` and `var_139` , we can see that event rate is higher for lower values of the variable. For `var_110`, higher values leads to higher event rate. Also, seems like there can be a cut-off value which can be used for classification.  \n",
    "\n",
    "Let us also see the distribution of data as histogram for the three variables."
   ]
  },
  {
   "cell_type": "code",
   "execution_count": 9,
   "metadata": {
    "execution": {
     "iopub.execute_input": "2021-04-22T11:46:34.855003Z",
     "iopub.status.busy": "2021-04-22T11:46:34.833341Z",
     "iopub.status.idle": "2021-04-22T11:46:35.338098Z",
     "shell.execute_reply": "2021-04-22T11:46:35.337539Z"
    },
    "papermill": {
     "duration": 0.550654,
     "end_time": "2021-04-22T11:46:35.338262",
     "exception": false,
     "start_time": "2021-04-22T11:46:34.787608",
     "status": "completed"
    },
    "tags": []
   },
   "outputs": [
    {
     "data": {
      "text/plain": [
       "<AxesSubplot:>"
      ]
     },
     "execution_count": 9,
     "metadata": {},
     "output_type": "execute_result"
    },
    {
     "data": {
      "image/png": "[encoded data removed]",
      "text/plain": [
       "<Figure size 1296x288 with 3 Axes>"
      ]
     },
     "metadata": {
      "needs_background": "light"
     },
     "output_type": "display_data"
    }
   ],
   "source": [
    "fig,ax = plt.subplots(1, 3, figsize=(18, 4))\n",
    "X['var_81'].hist(ax=ax[0], legend=True)\n",
    "X['var_139'].hist(ax=ax[1], legend=True)\n",
    "X['var_110'].hist(ax=ax[2], legend=True)"
   ]
  },
  {
   "cell_type": "markdown",
   "metadata": {
    "papermill": {
     "duration": 0.021763,
     "end_time": "2021-04-22T11:46:35.381638",
     "exception": false,
     "start_time": "2021-04-22T11:46:35.359875",
     "status": "completed"
    },
    "tags": []
   },
   "source": [
    "## Step5: Prediction on Test Data\n",
    "Read the test and sample submission csv"
   ]
  },
  {
   "cell_type": "code",
   "execution_count": 10,
   "metadata": {
    "execution": {
     "iopub.execute_input": "2021-04-22T11:46:35.433304Z",
     "iopub.status.busy": "2021-04-22T11:46:35.432636Z",
     "iopub.status.idle": "2021-04-22T11:46:46.671001Z",
     "shell.execute_reply": "2021-04-22T11:46:46.670428Z"
    },
    "papermill": {
     "duration": 11.267072,
     "end_time": "2021-04-22T11:46:46.671164",
     "exception": false,
     "start_time": "2021-04-22T11:46:35.404092",
     "status": "completed"
    },
    "tags": []
   },
   "outputs": [
    {
     "data": {
      "text/plain": [
       "((200000, 201), (200000, 2))"
      ]
     },
     "execution_count": 10,
     "metadata": {},
     "output_type": "execute_result"
    }
   ],
   "source": [
    "df_test = pd.read_csv(input_dir + '/test.csv')\n",
    "df_sample_submission = pd.read_csv(input_dir + '/sample_submission.csv')\n",
    "\n",
    "df_test.shape, df_sample_submission.shape"
   ]
  },
  {
   "cell_type": "markdown",
   "metadata": {
    "papermill": {
     "duration": 0.022278,
     "end_time": "2021-04-22T11:46:46.716724",
     "exception": false,
     "start_time": "2021-04-22T11:46:46.694446",
     "status": "completed"
    },
    "tags": []
   },
   "source": [
    "Split the test data between independent variables and find predictions"
   ]
  },
  {
   "cell_type": "code",
   "execution_count": 11,
   "metadata": {
    "execution": {
     "iopub.execute_input": "2021-04-22T11:46:46.767085Z",
     "iopub.status.busy": "2021-04-22T11:46:46.766308Z",
     "iopub.status.idle": "2021-04-22T11:46:55.316921Z",
     "shell.execute_reply": "2021-04-22T11:46:55.317536Z"
    },
    "papermill": {
     "duration": 8.578267,
     "end_time": "2021-04-22T11:46:55.317728",
     "exception": false,
     "start_time": "2021-04-22T11:46:46.739461",
     "status": "completed"
    },
    "tags": []
   },
   "outputs": [
    {
     "data": {
      "text/html": [
       "<div>\n",
       "<style scoped>\n",
       "    .dataframe tbody tr th:only-of-type {\n",
       "        vertical-align: middle;\n",
       "    }\n",
       "\n",
       "    .dataframe tbody tr th {\n",
       "        vertical-align: top;\n",
       "    }\n",
       "\n",
       "    .dataframe thead th {\n",
       "        text-align: right;\n",
       "    }\n",
       "</style>\n",
       "<table border=\"1\" class=\"dataframe\">\n",
       "  <thead>\n",
       "    <tr style=\"text-align: right;\">\n",
       "      <th></th>\n",
       "      <th>ID_code</th>\n",
       "      <th>target</th>\n",
       "    </tr>\n",
       "  </thead>\n",
       "  <tbody>\n",
       "    <tr>\n",
       "      <th>0</th>\n",
       "      <td>test_0</td>\n",
       "      <td>0.546804</td>\n",
       "    </tr>\n",
       "    <tr>\n",
       "      <th>1</th>\n",
       "      <td>test_1</td>\n",
       "      <td>0.530118</td>\n",
       "    </tr>\n",
       "    <tr>\n",
       "      <th>2</th>\n",
       "      <td>test_2</td>\n",
       "      <td>0.522565</td>\n",
       "    </tr>\n",
       "    <tr>\n",
       "      <th>3</th>\n",
       "      <td>test_3</td>\n",
       "      <td>0.483014</td>\n",
       "    </tr>\n",
       "    <tr>\n",
       "      <th>4</th>\n",
       "      <td>test_4</td>\n",
       "      <td>0.447396</td>\n",
       "    </tr>\n",
       "    <tr>\n",
       "      <th>...</th>\n",
       "      <td>...</td>\n",
       "      <td>...</td>\n",
       "    </tr>\n",
       "    <tr>\n",
       "      <th>199995</th>\n",
       "      <td>test_199995</td>\n",
       "      <td>0.412444</td>\n",
       "    </tr>\n",
       "    <tr>\n",
       "      <th>199996</th>\n",
       "      <td>test_199996</td>\n",
       "      <td>0.358205</td>\n",
       "    </tr>\n",
       "    <tr>\n",
       "      <th>199997</th>\n",
       "      <td>test_199997</td>\n",
       "      <td>0.349574</td>\n",
       "    </tr>\n",
       "    <tr>\n",
       "      <th>199998</th>\n",
       "      <td>test_199998</td>\n",
       "      <td>0.514068</td>\n",
       "    </tr>\n",
       "    <tr>\n",
       "      <th>199999</th>\n",
       "      <td>test_199999</td>\n",
       "      <td>0.492505</td>\n",
       "    </tr>\n",
       "  </tbody>\n",
       "</table>\n",
       "<p>200000 rows × 2 columns</p>\n",
       "</div>"
      ],
      "text/plain": [
       "            ID_code    target\n",
       "0            test_0  0.546804\n",
       "1            test_1  0.530118\n",
       "2            test_2  0.522565\n",
       "3            test_3  0.483014\n",
       "4            test_4  0.447396\n",
       "...             ...       ...\n",
       "199995  test_199995  0.412444\n",
       "199996  test_199996  0.358205\n",
       "199997  test_199997  0.349574\n",
       "199998  test_199998  0.514068\n",
       "199999  test_199999  0.492505\n",
       "\n",
       "[200000 rows x 2 columns]"
      ]
     },
     "execution_count": 11,
     "metadata": {},
     "output_type": "execute_result"
    }
   ],
   "source": [
    "X_test = df_test.loc[:,var_columns]\n",
    "\n",
    "df_sample_submission['target'] = model_rf.predict_proba(X_test)[:,1]\n",
    "df_sample_submission"
   ]
  },
  {
   "cell_type": "markdown",
   "metadata": {
    "papermill": {
     "duration": 0.022568,
     "end_time": "2021-04-22T11:46:55.363530",
     "exception": false,
     "start_time": "2021-04-22T11:46:55.340962",
     "status": "completed"
    },
    "tags": []
   },
   "source": [
    "## Step6: Confidence of prediction\n",
    "While probability of prediction can be used to identify how confident we are about predictions for an observation, another way is to use standard deviation of predictions from different trees in the random forest."
   ]
  },
  {
   "cell_type": "code",
   "execution_count": 12,
   "metadata": {
    "execution": {
     "iopub.execute_input": "2021-04-22T11:46:55.429915Z",
     "iopub.status.busy": "2021-04-22T11:46:55.429254Z",
     "iopub.status.idle": "2021-04-22T11:47:31.395308Z",
     "shell.execute_reply": "2021-04-22T11:47:31.395820Z"
    },
    "papermill": {
     "duration": 36.004761,
     "end_time": "2021-04-22T11:47:31.396019",
     "exception": false,
     "start_time": "2021-04-22T11:46:55.391258",
     "status": "completed"
    },
    "tags": []
   },
   "outputs": [
    {
     "data": {
      "text/plain": [
       "(190, 200000)"
      ]
     },
     "execution_count": 12,
     "metadata": {},
     "output_type": "execute_result"
    }
   ],
   "source": [
    "y_test_pred_trees = np.stack([m.predict(X_test) for m in model_rf.estimators_])\n",
    "y_test_pred_trees.shape"
   ]
  },
  {
   "cell_type": "code",
   "execution_count": 13,
   "metadata": {
    "execution": {
     "iopub.execute_input": "2021-04-22T11:47:31.450015Z",
     "iopub.status.busy": "2021-04-22T11:47:31.449284Z",
     "iopub.status.idle": "2021-04-22T11:47:40.090235Z",
     "shell.execute_reply": "2021-04-22T11:47:40.089524Z"
    },
    "papermill": {
     "duration": 8.670782,
     "end_time": "2021-04-22T11:47:40.090418",
     "exception": false,
     "start_time": "2021-04-22T11:47:31.419636",
     "status": "completed"
    },
    "tags": []
   },
   "outputs": [
    {
     "data": {
      "text/html": [
       "<div>\n",
       "<style scoped>\n",
       "    .dataframe tbody tr th:only-of-type {\n",
       "        vertical-align: middle;\n",
       "    }\n",
       "\n",
       "    .dataframe tbody tr th {\n",
       "        vertical-align: top;\n",
       "    }\n",
       "\n",
       "    .dataframe thead th {\n",
       "        text-align: right;\n",
       "    }\n",
       "</style>\n",
       "<table border=\"1\" class=\"dataframe\">\n",
       "  <thead>\n",
       "    <tr style=\"text-align: right;\">\n",
       "      <th></th>\n",
       "      <th>ID_code</th>\n",
       "      <th>target</th>\n",
       "      <th>pred_prob</th>\n",
       "      <th>pred_std</th>\n",
       "    </tr>\n",
       "  </thead>\n",
       "  <tbody>\n",
       "    <tr>\n",
       "      <th>0</th>\n",
       "      <td>test_0</td>\n",
       "      <td>0.546804</td>\n",
       "      <td>0.546804</td>\n",
       "      <td>0.472630</td>\n",
       "    </tr>\n",
       "    <tr>\n",
       "      <th>1</th>\n",
       "      <td>test_1</td>\n",
       "      <td>0.530118</td>\n",
       "      <td>0.530118</td>\n",
       "      <td>0.485125</td>\n",
       "    </tr>\n",
       "    <tr>\n",
       "      <th>2</th>\n",
       "      <td>test_2</td>\n",
       "      <td>0.522565</td>\n",
       "      <td>0.522565</td>\n",
       "      <td>0.489898</td>\n",
       "    </tr>\n",
       "    <tr>\n",
       "      <th>3</th>\n",
       "      <td>test_3</td>\n",
       "      <td>0.483014</td>\n",
       "      <td>0.483014</td>\n",
       "      <td>0.499889</td>\n",
       "    </tr>\n",
       "    <tr>\n",
       "      <th>4</th>\n",
       "      <td>test_4</td>\n",
       "      <td>0.447396</td>\n",
       "      <td>0.447396</td>\n",
       "      <td>0.491929</td>\n",
       "    </tr>\n",
       "    <tr>\n",
       "      <th>5</th>\n",
       "      <td>test_5</td>\n",
       "      <td>0.369839</td>\n",
       "      <td>0.369839</td>\n",
       "      <td>0.403894</td>\n",
       "    </tr>\n",
       "    <tr>\n",
       "      <th>6</th>\n",
       "      <td>test_6</td>\n",
       "      <td>0.413548</td>\n",
       "      <td>0.413548</td>\n",
       "      <td>0.468864</td>\n",
       "    </tr>\n",
       "    <tr>\n",
       "      <th>7</th>\n",
       "      <td>test_7</td>\n",
       "      <td>0.490190</td>\n",
       "      <td>0.490190</td>\n",
       "      <td>0.495296</td>\n",
       "    </tr>\n",
       "    <tr>\n",
       "      <th>8</th>\n",
       "      <td>test_8</td>\n",
       "      <td>0.323379</td>\n",
       "      <td>0.323379</td>\n",
       "      <td>0.354473</td>\n",
       "    </tr>\n",
       "    <tr>\n",
       "      <th>9</th>\n",
       "      <td>test_9</td>\n",
       "      <td>0.371708</td>\n",
       "      <td>0.371708</td>\n",
       "      <td>0.431483</td>\n",
       "    </tr>\n",
       "  </tbody>\n",
       "</table>\n",
       "</div>"
      ],
      "text/plain": [
       "  ID_code    target  pred_prob  pred_std\n",
       "0  test_0  0.546804   0.546804  0.472630\n",
       "1  test_1  0.530118   0.530118  0.485125\n",
       "2  test_2  0.522565   0.522565  0.489898\n",
       "3  test_3  0.483014   0.483014  0.499889\n",
       "4  test_4  0.447396   0.447396  0.491929\n",
       "5  test_5  0.369839   0.369839  0.403894\n",
       "6  test_6  0.413548   0.413548  0.468864\n",
       "7  test_7  0.490190   0.490190  0.495296\n",
       "8  test_8  0.323379   0.323379  0.354473\n",
       "9  test_9  0.371708   0.371708  0.431483"
      ]
     },
     "execution_count": 13,
     "metadata": {},
     "output_type": "execute_result"
    }
   ],
   "source": [
    "y_test_pred_std = y_test_pred_trees.std(0)\n",
    "\n",
    "df_sample_submission['pred_prob'] = model_rf.predict_proba(X_test)[:,1]\n",
    "df_sample_submission['pred_std'] = y_test_pred_std\n",
    "df_sample_submission[:10]"
   ]
  },
  {
   "cell_type": "markdown",
   "metadata": {
    "papermill": {
     "duration": 0.023813,
     "end_time": "2021-04-22T11:47:40.138838",
     "exception": false,
     "start_time": "2021-04-22T11:47:40.115025",
     "status": "completed"
    },
    "tags": []
   },
   "source": [
    "## Step7: Export Predictions"
   ]
  },
  {
   "cell_type": "code",
   "execution_count": 14,
   "metadata": {
    "execution": {
     "iopub.execute_input": "2021-04-22T11:47:40.197467Z",
     "iopub.status.busy": "2021-04-22T11:47:40.196080Z",
     "iopub.status.idle": "2021-04-22T11:47:41.004716Z",
     "shell.execute_reply": "2021-04-22T11:47:41.003871Z"
    },
    "papermill": {
     "duration": 0.841521,
     "end_time": "2021-04-22T11:47:41.004881",
     "exception": false,
     "start_time": "2021-04-22T11:47:40.163360",
     "status": "completed"
    },
    "tags": []
   },
   "outputs": [],
   "source": [
    "output_dir = '/kaggle/working/'\n",
    "df_sample_submission[['ID_code','target']].to_csv(output_dir + '02_random_forest_scores.csv', index=False)"
   ]
  }
 ],
 "metadata": {
  "kernelspec": {
   "display_name": "Python 3",
   "language": "python",
   "name": "python3"
  },
  "language_info": {
   "codemirror_mode": {
    "name": "ipython",
    "version": 3
   },
   "file_extension": ".py",
   "mimetype": "text/x-python",
   "name": "python",
   "nbconvert_exporter": "python",
   "pygments_lexer": "ipython3",
   "version": "3.8.5"
  },
  "papermill": {
   "default_parameters": {},
   "duration": 980.258991,
   "end_time": "2021-04-22T11:47:42.981011",
   "environment_variables": {},
   "exception": null,
   "input_path": "__notebook__.ipynb",
   "output_path": "__notebook__.ipynb",
   "parameters": {},
   "start_time": "2021-04-22T11:31:22.722020",
   "version": "2.3.2"
  }
 },
 "nbformat": 4,
 "nbformat_minor": 5
}
