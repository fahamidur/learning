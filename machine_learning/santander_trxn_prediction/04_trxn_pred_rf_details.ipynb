{
 "cells": [
  {
   "cell_type": "markdown",
   "id": "statutory-dominican",
   "metadata": {
    "papermill": {
     "duration": 0.016596,
     "end_time": "2021-04-13T09:33:00.184156",
     "exception": false,
     "start_time": "2021-04-13T09:33:00.167560",
     "status": "completed"
    },
    "tags": []
   },
   "source": [
    "# Santander Customer Transaction Prediction - Random Forest Details\n",
    "\n",
    "In the Kaggle competition, the objective is to identify which customer will make a transaction in the future.\n",
    "\n",
    "**Link to the competition**: https://www.kaggle.com/c/santander-customer-transaction-prediction/  \n",
    "**Type of Problem**: Classification  \n",
    "**Metric for evalution**: AOC (Area Under Curve)\n",
    "\n",
    "This Python 3 environment comes with many helpful analytics libraries installed\n",
    "It is defined by the kaggle/python Docker image: https://github.com/kaggle/docker-python"
   ]
  },
  {
   "cell_type": "code",
   "execution_count": 1,
   "id": "alternate-baptist",
   "metadata": {
    "execution": {
     "iopub.execute_input": "2021-04-13T09:33:00.223071Z",
     "iopub.status.busy": "2021-04-13T09:33:00.222406Z",
     "iopub.status.idle": "2021-04-13T09:33:01.664792Z",
     "shell.execute_reply": "2021-04-13T09:33:01.665343Z"
    },
    "papermill": {
     "duration": 1.465733,
     "end_time": "2021-04-13T09:33:01.665664",
     "exception": false,
     "start_time": "2021-04-13T09:33:00.199931",
     "status": "completed"
    },
    "tags": []
   },
   "outputs": [],
   "source": [
    "import numpy as np # linear algebra\n",
    "import pandas as pd # data processing, CSV file I/O (e.g. pd.read_csv)\n",
    "\n",
    "from sklearn.ensemble import RandomForestClassifier\n",
    "from sklearn.inspection import plot_partial_dependence\n",
    "from sklearn import metrics\n",
    "\n",
    "import matplotlib.pyplot as plt"
   ]
  },
  {
   "cell_type": "code",
   "execution_count": 2,
   "id": "statistical-chassis",
   "metadata": {
    "_cell_guid": "b1076dfc-b9ad-4769-8c92-a6c4dae69d19",
    "_uuid": "8f2839f25d086af736a60e9eeb907d3b93b6e0e5",
    "execution": {
     "iopub.execute_input": "2021-04-13T09:33:01.702265Z",
     "iopub.status.busy": "2021-04-13T09:33:01.701592Z",
     "iopub.status.idle": "2021-04-13T09:33:01.714681Z",
     "shell.execute_reply": "2021-04-13T09:33:01.713921Z"
    },
    "papermill": {
     "duration": 0.032394,
     "end_time": "2021-04-13T09:33:01.714832",
     "exception": false,
     "start_time": "2021-04-13T09:33:01.682438",
     "status": "completed"
    },
    "tags": []
   },
   "outputs": [
    {
     "name": "stdout",
     "output_type": "stream",
     "text": [
      "/kaggle/input/santander-customer-transaction-prediction/sample_submission.csv\n",
      "/kaggle/input/santander-customer-transaction-prediction/train.csv\n",
      "/kaggle/input/santander-customer-transaction-prediction/test.csv\n"
     ]
    }
   ],
   "source": [
    "# Input data files are available in the read-only \"../input/\" directory\n",
    "# For example, running this (by clicking run or pressing Shift+Enter) will list all files under the input directory\n",
    "\n",
    "import os\n",
    "for dirname, _, filenames in os.walk('/kaggle/input'):\n",
    "    for filename in filenames:\n",
    "        print(os.path.join(dirname, filename))\n",
    "\n",
    "# You can write up to 20GB to the current directory (/kaggle/working/) that gets preserved as output when you create a version using \"Save & Run All\" \n",
    "# You can also write temporary files to /kaggle/temp/, but they won't be saved outside of the current session"
   ]
  },
  {
   "cell_type": "markdown",
   "id": "dietary-effort",
   "metadata": {
    "papermill": {
     "duration": 0.015858,
     "end_time": "2021-04-13T09:33:01.747224",
     "exception": false,
     "start_time": "2021-04-13T09:33:01.731366",
     "status": "completed"
    },
    "tags": []
   },
   "source": [
    "## Step1: Read CSV\n",
    "Read the train csv file and look at the data. There are 200K rows and 200 independent variables."
   ]
  },
  {
   "cell_type": "code",
   "execution_count": 3,
   "id": "adjustable-narrative",
   "metadata": {
    "execution": {
     "iopub.execute_input": "2021-04-13T09:33:01.785354Z",
     "iopub.status.busy": "2021-04-13T09:33:01.784650Z",
     "iopub.status.idle": "2021-04-13T09:33:13.872491Z",
     "shell.execute_reply": "2021-04-13T09:33:13.873071Z"
    },
    "papermill": {
     "duration": 12.10968,
     "end_time": "2021-04-13T09:33:13.873252",
     "exception": false,
     "start_time": "2021-04-13T09:33:01.763572",
     "status": "completed"
    },
    "tags": []
   },
   "outputs": [
    {
     "data": {
      "text/html": [
       "<div>\n",
       "<style scoped>\n",
       "    .dataframe tbody tr th:only-of-type {\n",
       "        vertical-align: middle;\n",
       "    }\n",
       "\n",
       "    .dataframe tbody tr th {\n",
       "        vertical-align: top;\n",
       "    }\n",
       "\n",
       "    .dataframe thead th {\n",
       "        text-align: right;\n",
       "    }\n",
       "</style>\n",
       "<table border=\"1\" class=\"dataframe\">\n",
       "  <thead>\n",
       "    <tr style=\"text-align: right;\">\n",
       "      <th></th>\n",
       "      <th>ID_code</th>\n",
       "      <th>target</th>\n",
       "      <th>var_0</th>\n",
       "      <th>var_1</th>\n",
       "      <th>var_2</th>\n",
       "      <th>var_3</th>\n",
       "      <th>var_4</th>\n",
       "      <th>var_5</th>\n",
       "      <th>var_6</th>\n",
       "      <th>var_7</th>\n",
       "      <th>...</th>\n",
       "      <th>var_190</th>\n",
       "      <th>var_191</th>\n",
       "      <th>var_192</th>\n",
       "      <th>var_193</th>\n",
       "      <th>var_194</th>\n",
       "      <th>var_195</th>\n",
       "      <th>var_196</th>\n",
       "      <th>var_197</th>\n",
       "      <th>var_198</th>\n",
       "      <th>var_199</th>\n",
       "    </tr>\n",
       "  </thead>\n",
       "  <tbody>\n",
       "    <tr>\n",
       "      <th>0</th>\n",
       "      <td>train_0</td>\n",
       "      <td>0</td>\n",
       "      <td>8.9255</td>\n",
       "      <td>-6.7863</td>\n",
       "      <td>11.9081</td>\n",
       "      <td>5.0930</td>\n",
       "      <td>11.4607</td>\n",
       "      <td>-9.2834</td>\n",
       "      <td>5.1187</td>\n",
       "      <td>18.6266</td>\n",
       "      <td>...</td>\n",
       "      <td>4.4354</td>\n",
       "      <td>3.9642</td>\n",
       "      <td>3.1364</td>\n",
       "      <td>1.6910</td>\n",
       "      <td>18.5227</td>\n",
       "      <td>-2.3978</td>\n",
       "      <td>7.8784</td>\n",
       "      <td>8.5635</td>\n",
       "      <td>12.7803</td>\n",
       "      <td>-1.0914</td>\n",
       "    </tr>\n",
       "    <tr>\n",
       "      <th>1</th>\n",
       "      <td>train_1</td>\n",
       "      <td>0</td>\n",
       "      <td>11.5006</td>\n",
       "      <td>-4.1473</td>\n",
       "      <td>13.8588</td>\n",
       "      <td>5.3890</td>\n",
       "      <td>12.3622</td>\n",
       "      <td>7.0433</td>\n",
       "      <td>5.6208</td>\n",
       "      <td>16.5338</td>\n",
       "      <td>...</td>\n",
       "      <td>7.6421</td>\n",
       "      <td>7.7214</td>\n",
       "      <td>2.5837</td>\n",
       "      <td>10.9516</td>\n",
       "      <td>15.4305</td>\n",
       "      <td>2.0339</td>\n",
       "      <td>8.1267</td>\n",
       "      <td>8.7889</td>\n",
       "      <td>18.3560</td>\n",
       "      <td>1.9518</td>\n",
       "    </tr>\n",
       "    <tr>\n",
       "      <th>2</th>\n",
       "      <td>train_2</td>\n",
       "      <td>0</td>\n",
       "      <td>8.6093</td>\n",
       "      <td>-2.7457</td>\n",
       "      <td>12.0805</td>\n",
       "      <td>7.8928</td>\n",
       "      <td>10.5825</td>\n",
       "      <td>-9.0837</td>\n",
       "      <td>6.9427</td>\n",
       "      <td>14.6155</td>\n",
       "      <td>...</td>\n",
       "      <td>2.9057</td>\n",
       "      <td>9.7905</td>\n",
       "      <td>1.6704</td>\n",
       "      <td>1.6858</td>\n",
       "      <td>21.6042</td>\n",
       "      <td>3.1417</td>\n",
       "      <td>-6.5213</td>\n",
       "      <td>8.2675</td>\n",
       "      <td>14.7222</td>\n",
       "      <td>0.3965</td>\n",
       "    </tr>\n",
       "    <tr>\n",
       "      <th>3</th>\n",
       "      <td>train_3</td>\n",
       "      <td>0</td>\n",
       "      <td>11.0604</td>\n",
       "      <td>-2.1518</td>\n",
       "      <td>8.9522</td>\n",
       "      <td>7.1957</td>\n",
       "      <td>12.5846</td>\n",
       "      <td>-1.8361</td>\n",
       "      <td>5.8428</td>\n",
       "      <td>14.9250</td>\n",
       "      <td>...</td>\n",
       "      <td>4.4666</td>\n",
       "      <td>4.7433</td>\n",
       "      <td>0.7178</td>\n",
       "      <td>1.4214</td>\n",
       "      <td>23.0347</td>\n",
       "      <td>-1.2706</td>\n",
       "      <td>-2.9275</td>\n",
       "      <td>10.2922</td>\n",
       "      <td>17.9697</td>\n",
       "      <td>-8.9996</td>\n",
       "    </tr>\n",
       "    <tr>\n",
       "      <th>4</th>\n",
       "      <td>train_4</td>\n",
       "      <td>0</td>\n",
       "      <td>9.8369</td>\n",
       "      <td>-1.4834</td>\n",
       "      <td>12.8746</td>\n",
       "      <td>6.6375</td>\n",
       "      <td>12.2772</td>\n",
       "      <td>2.4486</td>\n",
       "      <td>5.9405</td>\n",
       "      <td>19.2514</td>\n",
       "      <td>...</td>\n",
       "      <td>-1.4905</td>\n",
       "      <td>9.5214</td>\n",
       "      <td>-0.1508</td>\n",
       "      <td>9.1942</td>\n",
       "      <td>13.2876</td>\n",
       "      <td>-1.5121</td>\n",
       "      <td>3.9267</td>\n",
       "      <td>9.5031</td>\n",
       "      <td>17.9974</td>\n",
       "      <td>-8.8104</td>\n",
       "    </tr>\n",
       "    <tr>\n",
       "      <th>...</th>\n",
       "      <td>...</td>\n",
       "      <td>...</td>\n",
       "      <td>...</td>\n",
       "      <td>...</td>\n",
       "      <td>...</td>\n",
       "      <td>...</td>\n",
       "      <td>...</td>\n",
       "      <td>...</td>\n",
       "      <td>...</td>\n",
       "      <td>...</td>\n",
       "      <td>...</td>\n",
       "      <td>...</td>\n",
       "      <td>...</td>\n",
       "      <td>...</td>\n",
       "      <td>...</td>\n",
       "      <td>...</td>\n",
       "      <td>...</td>\n",
       "      <td>...</td>\n",
       "      <td>...</td>\n",
       "      <td>...</td>\n",
       "      <td>...</td>\n",
       "    </tr>\n",
       "    <tr>\n",
       "      <th>199995</th>\n",
       "      <td>train_199995</td>\n",
       "      <td>0</td>\n",
       "      <td>11.4880</td>\n",
       "      <td>-0.4956</td>\n",
       "      <td>8.2622</td>\n",
       "      <td>3.5142</td>\n",
       "      <td>10.3404</td>\n",
       "      <td>11.6081</td>\n",
       "      <td>5.6709</td>\n",
       "      <td>15.1516</td>\n",
       "      <td>...</td>\n",
       "      <td>6.1415</td>\n",
       "      <td>13.2305</td>\n",
       "      <td>3.9901</td>\n",
       "      <td>0.9388</td>\n",
       "      <td>18.0249</td>\n",
       "      <td>-1.7939</td>\n",
       "      <td>2.1661</td>\n",
       "      <td>8.5326</td>\n",
       "      <td>16.6660</td>\n",
       "      <td>-17.8661</td>\n",
       "    </tr>\n",
       "    <tr>\n",
       "      <th>199996</th>\n",
       "      <td>train_199996</td>\n",
       "      <td>0</td>\n",
       "      <td>4.9149</td>\n",
       "      <td>-2.4484</td>\n",
       "      <td>16.7052</td>\n",
       "      <td>6.6345</td>\n",
       "      <td>8.3096</td>\n",
       "      <td>-10.5628</td>\n",
       "      <td>5.8802</td>\n",
       "      <td>21.5940</td>\n",
       "      <td>...</td>\n",
       "      <td>4.9611</td>\n",
       "      <td>4.6549</td>\n",
       "      <td>0.6998</td>\n",
       "      <td>1.8341</td>\n",
       "      <td>22.2717</td>\n",
       "      <td>1.7337</td>\n",
       "      <td>-2.1651</td>\n",
       "      <td>6.7419</td>\n",
       "      <td>15.9054</td>\n",
       "      <td>0.3388</td>\n",
       "    </tr>\n",
       "    <tr>\n",
       "      <th>199997</th>\n",
       "      <td>train_199997</td>\n",
       "      <td>0</td>\n",
       "      <td>11.2232</td>\n",
       "      <td>-5.0518</td>\n",
       "      <td>10.5127</td>\n",
       "      <td>5.6456</td>\n",
       "      <td>9.3410</td>\n",
       "      <td>-5.4086</td>\n",
       "      <td>4.5555</td>\n",
       "      <td>21.5571</td>\n",
       "      <td>...</td>\n",
       "      <td>4.0651</td>\n",
       "      <td>5.4414</td>\n",
       "      <td>3.1032</td>\n",
       "      <td>4.8793</td>\n",
       "      <td>23.5311</td>\n",
       "      <td>-1.5736</td>\n",
       "      <td>1.2832</td>\n",
       "      <td>8.7155</td>\n",
       "      <td>13.8329</td>\n",
       "      <td>4.1995</td>\n",
       "    </tr>\n",
       "    <tr>\n",
       "      <th>199998</th>\n",
       "      <td>train_199998</td>\n",
       "      <td>0</td>\n",
       "      <td>9.7148</td>\n",
       "      <td>-8.6098</td>\n",
       "      <td>13.6104</td>\n",
       "      <td>5.7930</td>\n",
       "      <td>12.5173</td>\n",
       "      <td>0.5339</td>\n",
       "      <td>6.0479</td>\n",
       "      <td>17.0152</td>\n",
       "      <td>...</td>\n",
       "      <td>2.6840</td>\n",
       "      <td>8.6587</td>\n",
       "      <td>2.7337</td>\n",
       "      <td>11.1178</td>\n",
       "      <td>20.4158</td>\n",
       "      <td>-0.0786</td>\n",
       "      <td>6.7980</td>\n",
       "      <td>10.0342</td>\n",
       "      <td>15.5289</td>\n",
       "      <td>-13.9001</td>\n",
       "    </tr>\n",
       "    <tr>\n",
       "      <th>199999</th>\n",
       "      <td>train_199999</td>\n",
       "      <td>0</td>\n",
       "      <td>10.8762</td>\n",
       "      <td>-5.7105</td>\n",
       "      <td>12.1183</td>\n",
       "      <td>8.0328</td>\n",
       "      <td>11.5577</td>\n",
       "      <td>0.3488</td>\n",
       "      <td>5.2839</td>\n",
       "      <td>15.2058</td>\n",
       "      <td>...</td>\n",
       "      <td>8.9842</td>\n",
       "      <td>1.6893</td>\n",
       "      <td>0.1276</td>\n",
       "      <td>0.3766</td>\n",
       "      <td>15.2101</td>\n",
       "      <td>-2.4907</td>\n",
       "      <td>-2.2342</td>\n",
       "      <td>8.1857</td>\n",
       "      <td>12.1284</td>\n",
       "      <td>0.1385</td>\n",
       "    </tr>\n",
       "  </tbody>\n",
       "</table>\n",
       "<p>200000 rows × 202 columns</p>\n",
       "</div>"
      ],
      "text/plain": [
       "             ID_code  target    var_0   var_1    var_2   var_3    var_4  \\\n",
       "0            train_0       0   8.9255 -6.7863  11.9081  5.0930  11.4607   \n",
       "1            train_1       0  11.5006 -4.1473  13.8588  5.3890  12.3622   \n",
       "2            train_2       0   8.6093 -2.7457  12.0805  7.8928  10.5825   \n",
       "3            train_3       0  11.0604 -2.1518   8.9522  7.1957  12.5846   \n",
       "4            train_4       0   9.8369 -1.4834  12.8746  6.6375  12.2772   \n",
       "...              ...     ...      ...     ...      ...     ...      ...   \n",
       "199995  train_199995       0  11.4880 -0.4956   8.2622  3.5142  10.3404   \n",
       "199996  train_199996       0   4.9149 -2.4484  16.7052  6.6345   8.3096   \n",
       "199997  train_199997       0  11.2232 -5.0518  10.5127  5.6456   9.3410   \n",
       "199998  train_199998       0   9.7148 -8.6098  13.6104  5.7930  12.5173   \n",
       "199999  train_199999       0  10.8762 -5.7105  12.1183  8.0328  11.5577   \n",
       "\n",
       "          var_5   var_6    var_7  ...  var_190  var_191  var_192  var_193  \\\n",
       "0       -9.2834  5.1187  18.6266  ...   4.4354   3.9642   3.1364   1.6910   \n",
       "1        7.0433  5.6208  16.5338  ...   7.6421   7.7214   2.5837  10.9516   \n",
       "2       -9.0837  6.9427  14.6155  ...   2.9057   9.7905   1.6704   1.6858   \n",
       "3       -1.8361  5.8428  14.9250  ...   4.4666   4.7433   0.7178   1.4214   \n",
       "4        2.4486  5.9405  19.2514  ...  -1.4905   9.5214  -0.1508   9.1942   \n",
       "...         ...     ...      ...  ...      ...      ...      ...      ...   \n",
       "199995  11.6081  5.6709  15.1516  ...   6.1415  13.2305   3.9901   0.9388   \n",
       "199996 -10.5628  5.8802  21.5940  ...   4.9611   4.6549   0.6998   1.8341   \n",
       "199997  -5.4086  4.5555  21.5571  ...   4.0651   5.4414   3.1032   4.8793   \n",
       "199998   0.5339  6.0479  17.0152  ...   2.6840   8.6587   2.7337  11.1178   \n",
       "199999   0.3488  5.2839  15.2058  ...   8.9842   1.6893   0.1276   0.3766   \n",
       "\n",
       "        var_194  var_195  var_196  var_197  var_198  var_199  \n",
       "0       18.5227  -2.3978   7.8784   8.5635  12.7803  -1.0914  \n",
       "1       15.4305   2.0339   8.1267   8.7889  18.3560   1.9518  \n",
       "2       21.6042   3.1417  -6.5213   8.2675  14.7222   0.3965  \n",
       "3       23.0347  -1.2706  -2.9275  10.2922  17.9697  -8.9996  \n",
       "4       13.2876  -1.5121   3.9267   9.5031  17.9974  -8.8104  \n",
       "...         ...      ...      ...      ...      ...      ...  \n",
       "199995  18.0249  -1.7939   2.1661   8.5326  16.6660 -17.8661  \n",
       "199996  22.2717   1.7337  -2.1651   6.7419  15.9054   0.3388  \n",
       "199997  23.5311  -1.5736   1.2832   8.7155  13.8329   4.1995  \n",
       "199998  20.4158  -0.0786   6.7980  10.0342  15.5289 -13.9001  \n",
       "199999  15.2101  -2.4907  -2.2342   8.1857  12.1284   0.1385  \n",
       "\n",
       "[200000 rows x 202 columns]"
      ]
     },
     "execution_count": 3,
     "metadata": {},
     "output_type": "execute_result"
    }
   ],
   "source": [
    "input_dir = '/kaggle/input/santander-customer-transaction-prediction/'\n",
    "df_train = pd.read_csv(input_dir + 'train.csv')\n",
    "df_train"
   ]
  },
  {
   "cell_type": "markdown",
   "id": "postal-entity",
   "metadata": {
    "papermill": {
     "duration": 0.016761,
     "end_time": "2021-04-13T09:33:13.908826",
     "exception": false,
     "start_time": "2021-04-13T09:33:13.892065",
     "status": "completed"
    },
    "tags": []
   },
   "source": [
    "Split the data into independent and dependent variables. This is required to train the model using sklearn."
   ]
  },
  {
   "cell_type": "code",
   "execution_count": 4,
   "id": "focused-promise",
   "metadata": {
    "execution": {
     "iopub.execute_input": "2021-04-13T09:33:13.946666Z",
     "iopub.status.busy": "2021-04-13T09:33:13.946036Z",
     "iopub.status.idle": "2021-04-13T09:33:14.078824Z",
     "shell.execute_reply": "2021-04-13T09:33:14.079425Z"
    },
    "papermill": {
     "duration": 0.153554,
     "end_time": "2021-04-13T09:33:14.079616",
     "exception": false,
     "start_time": "2021-04-13T09:33:13.926062",
     "status": "completed"
    },
    "tags": []
   },
   "outputs": [],
   "source": [
    "var_columns = [c for c in df_train if c not in ['ID_code','target']]\n",
    "X = df_train.loc[:,var_columns]\n",
    "y = df_train.loc[:,'target']"
   ]
  },
  {
   "cell_type": "markdown",
   "id": "duplicate-morocco",
   "metadata": {
    "papermill": {
     "duration": 0.016855,
     "end_time": "2021-04-13T09:33:14.114501",
     "exception": false,
     "start_time": "2021-04-13T09:33:14.097646",
     "status": "completed"
    },
    "tags": []
   },
   "source": [
    "## Step2: Create Random Forest Model\n",
    "Use the parameters which are result of hyperparameter tuning"
   ]
  },
  {
   "cell_type": "code",
   "execution_count": 5,
   "id": "characteristic-gather",
   "metadata": {
    "execution": {
     "iopub.execute_input": "2021-04-13T09:33:14.153639Z",
     "iopub.status.busy": "2021-04-13T09:33:14.152801Z",
     "iopub.status.idle": "2021-04-13T09:39:32.850152Z",
     "shell.execute_reply": "2021-04-13T09:39:32.850675Z"
    },
    "papermill": {
     "duration": 378.718833,
     "end_time": "2021-04-13T09:39:32.850856",
     "exception": false,
     "start_time": "2021-04-13T09:33:14.132023",
     "status": "completed"
    },
    "tags": []
   },
   "outputs": [
    {
     "data": {
      "text/plain": [
       "RandomForestClassifier(class_weight='balanced', max_depth=55,\n",
       "                       max_features='log2', min_samples_leaf=0.005,\n",
       "                       min_samples_split=0.005, n_estimators=190)"
      ]
     },
     "execution_count": 5,
     "metadata": {},
     "output_type": "execute_result"
    }
   ],
   "source": [
    "model_rf = RandomForestClassifier(class_weight='balanced',\n",
    "                                  criterion='gini',\n",
    "                                  max_depth=55,\n",
    "                                  max_features='log2',\n",
    "                                  min_samples_leaf=0.005,\n",
    "                                  min_samples_split=0.005,\n",
    "                                  n_estimators=190)\n",
    "model_rf.fit(X, y)"
   ]
  },
  {
   "cell_type": "markdown",
   "id": "entitled-accident",
   "metadata": {
    "papermill": {
     "duration": 0.01757,
     "end_time": "2021-04-13T09:39:32.886029",
     "exception": false,
     "start_time": "2021-04-13T09:39:32.868459",
     "status": "completed"
    },
    "tags": []
   },
   "source": [
    "## Step3: Variable Importance\n",
    "Convert the variable importance into pandas dataframe. Also sort the variable list based on importance."
   ]
  },
  {
   "cell_type": "code",
   "execution_count": 6,
   "id": "published-hypothetical",
   "metadata": {
    "execution": {
     "iopub.execute_input": "2021-04-13T09:39:32.925499Z",
     "iopub.status.busy": "2021-04-13T09:39:32.924468Z",
     "iopub.status.idle": "2021-04-13T09:39:32.949355Z",
     "shell.execute_reply": "2021-04-13T09:39:32.949819Z"
    },
    "papermill": {
     "duration": 0.046192,
     "end_time": "2021-04-13T09:39:32.950023",
     "exception": false,
     "start_time": "2021-04-13T09:39:32.903831",
     "status": "completed"
    },
    "tags": []
   },
   "outputs": [],
   "source": [
    "df_var_imp = pd.DataFrame({'Variable': var_columns,\n",
    "                           'Importance': model_rf.feature_importances_}) \\\n",
    "                .sort_values(by='Importance', ascending=False) \\\n",
    "                .reset_index(drop=True)"
   ]
  },
  {
   "cell_type": "markdown",
   "id": "expected-reflection",
   "metadata": {
    "papermill": {
     "duration": 0.017559,
     "end_time": "2021-04-13T09:39:32.986673",
     "exception": false,
     "start_time": "2021-04-13T09:39:32.969114",
     "status": "completed"
    },
    "tags": []
   },
   "source": [
    "Let us plot the variable importance as bar charts."
   ]
  },
  {
   "cell_type": "code",
   "execution_count": 7,
   "id": "prime-tunisia",
   "metadata": {
    "execution": {
     "iopub.execute_input": "2021-04-13T09:39:33.026745Z",
     "iopub.status.busy": "2021-04-13T09:39:33.025740Z",
     "iopub.status.idle": "2021-04-13T09:39:33.331205Z",
     "shell.execute_reply": "2021-04-13T09:39:33.330486Z"
    },
    "papermill": {
     "duration": 0.326834,
     "end_time": "2021-04-13T09:39:33.331366",
     "exception": false,
     "start_time": "2021-04-13T09:39:33.004532",
     "status": "completed"
    },
    "tags": []
   },
   "outputs": [
    {
     "data": {
      "text/plain": [
       "<AxesSubplot:ylabel='Variable'>"
      ]
     },
     "execution_count": 7,
     "metadata": {},
     "output_type": "execute_result"
    },
    {
     "data": {
      "image/png": "[encoded data removed]",
      "text/plain": [
       "<Figure size 1080x360 with 1 Axes>"
      ]
     },
     "metadata": {
      "needs_background": "light"
     },
     "output_type": "display_data"
    }
   ],
   "source": [
    "df_var_imp[:15].sort_values('Importance').plot('Variable','Importance', 'barh', figsize=(15,5), legend=False)"
   ]
  },
  {
   "cell_type": "markdown",
   "id": "unsigned-johnson",
   "metadata": {
    "papermill": {
     "duration": 0.019043,
     "end_time": "2021-04-13T09:39:33.369595",
     "exception": false,
     "start_time": "2021-04-13T09:39:33.350552",
     "status": "completed"
    },
    "tags": []
   },
   "source": [
    "## Step4: Partial Dependence of Variables\n",
    "`var_81`, `var_139` and `var_110` are the top variables on the basis of variable importance. Let us see how they relate to the dependent variable."
   ]
  },
  {
   "cell_type": "code",
   "execution_count": 8,
   "id": "rubber-installation",
   "metadata": {
    "execution": {
     "iopub.execute_input": "2021-04-13T09:39:33.437896Z",
     "iopub.status.busy": "2021-04-13T09:39:33.436159Z",
     "iopub.status.idle": "2021-04-13T09:46:03.875123Z",
     "shell.execute_reply": "2021-04-13T09:46:03.875636Z"
    },
    "papermill": {
     "duration": 390.487034,
     "end_time": "2021-04-13T09:46:03.875816",
     "exception": false,
     "start_time": "2021-04-13T09:39:33.388782",
     "status": "completed"
    },
    "tags": []
   },
   "outputs": [
    {
     "data": {
      "image/png": "[encoded data removed]",
      "text/plain": [
       "<Figure size 1296x288 with 4 Axes>"
      ]
     },
     "metadata": {
      "needs_background": "light"
     },
     "output_type": "display_data"
    }
   ],
   "source": [
    "fig,ax = plt.subplots(figsize=(18, 4))\n",
    "plot_partial_dependence(model_rf, X, ['var_81','var_139','var_110'],\n",
    "                        grid_resolution=20, ax=ax);"
   ]
  },
  {
   "cell_type": "markdown",
   "id": "younger-cooking",
   "metadata": {
    "papermill": {
     "duration": 0.020453,
     "end_time": "2021-04-13T09:46:03.916804",
     "exception": false,
     "start_time": "2021-04-13T09:46:03.896351",
     "status": "completed"
    },
    "tags": []
   },
   "source": [
    "For `var_81` and `var_139` , we can see that event rate is higher for lower values of the variable. For `var_110`, higher values leads to higher event rate. Also, seems like there can be a cut-off value which can be used for classification.  \n",
    "\n",
    "Let us also see the distribution of data as histogram for the three variables."
   ]
  },
  {
   "cell_type": "code",
   "execution_count": 9,
   "id": "mineral-awareness",
   "metadata": {
    "execution": {
     "iopub.execute_input": "2021-04-13T09:46:04.011884Z",
     "iopub.status.busy": "2021-04-13T09:46:04.006222Z",
     "iopub.status.idle": "2021-04-13T09:46:04.483217Z",
     "shell.execute_reply": "2021-04-13T09:46:04.482638Z"
    },
    "papermill": {
     "duration": 0.545891,
     "end_time": "2021-04-13T09:46:04.483368",
     "exception": false,
     "start_time": "2021-04-13T09:46:03.937477",
     "status": "completed"
    },
    "tags": []
   },
   "outputs": [
    {
     "data": {
      "text/plain": [
       "<AxesSubplot:>"
      ]
     },
     "execution_count": 9,
     "metadata": {},
     "output_type": "execute_result"
    },
    {
     "data": {
      "image/png": "[encoded data removed]",
      "text/plain": [
       "<Figure size 1296x288 with 3 Axes>"
      ]
     },
     "metadata": {
      "needs_background": "light"
     },
     "output_type": "display_data"
    }
   ],
   "source": [
    "fig,ax = plt.subplots(1, 3, figsize=(18, 4))\n",
    "X['var_81'].hist(ax=ax[0], legend=True)\n",
    "X['var_139'].hist(ax=ax[1], legend=True)\n",
    "X['var_110'].hist(ax=ax[2], legend=True)"
   ]
  },
  {
   "cell_type": "markdown",
   "id": "gentle-performer",
   "metadata": {
    "papermill": {
     "duration": 0.022067,
     "end_time": "2021-04-13T09:46:04.528243",
     "exception": false,
     "start_time": "2021-04-13T09:46:04.506176",
     "status": "completed"
    },
    "tags": []
   },
   "source": [
    "## Step5: Prediction on Test Data\n",
    "Read the test and sample submission csv"
   ]
  },
  {
   "cell_type": "code",
   "execution_count": 10,
   "id": "unnecessary-mechanics",
   "metadata": {
    "execution": {
     "iopub.execute_input": "2021-04-13T09:46:04.578506Z",
     "iopub.status.busy": "2021-04-13T09:46:04.577683Z",
     "iopub.status.idle": "2021-04-13T09:46:15.942084Z",
     "shell.execute_reply": "2021-04-13T09:46:15.942543Z"
    },
    "papermill": {
     "duration": 11.392209,
     "end_time": "2021-04-13T09:46:15.942719",
     "exception": false,
     "start_time": "2021-04-13T09:46:04.550510",
     "status": "completed"
    },
    "tags": []
   },
   "outputs": [
    {
     "data": {
      "text/plain": [
       "((200000, 201), (200000, 2))"
      ]
     },
     "execution_count": 10,
     "metadata": {},
     "output_type": "execute_result"
    }
   ],
   "source": [
    "df_test = pd.read_csv(input_dir + '/test.csv')\n",
    "df_sample_submission = pd.read_csv(input_dir + '/sample_submission.csv')\n",
    "\n",
    "df_test.shape, df_sample_submission.shape"
   ]
  },
  {
   "cell_type": "markdown",
   "id": "disciplinary-tunisia",
   "metadata": {
    "papermill": {
     "duration": 0.022564,
     "end_time": "2021-04-13T09:46:15.987396",
     "exception": false,
     "start_time": "2021-04-13T09:46:15.964832",
     "status": "completed"
    },
    "tags": []
   },
   "source": [
    "Split the test data between independent variables and find predictions"
   ]
  },
  {
   "cell_type": "code",
   "execution_count": 11,
   "id": "trying-nylon",
   "metadata": {
    "execution": {
     "iopub.execute_input": "2021-04-13T09:46:16.036646Z",
     "iopub.status.busy": "2021-04-13T09:46:16.035910Z",
     "iopub.status.idle": "2021-04-13T09:46:22.907092Z",
     "shell.execute_reply": "2021-04-13T09:46:22.906418Z"
    },
    "papermill": {
     "duration": 6.897167,
     "end_time": "2021-04-13T09:46:22.907234",
     "exception": false,
     "start_time": "2021-04-13T09:46:16.010067",
     "status": "completed"
    },
    "tags": []
   },
   "outputs": [
    {
     "data": {
      "text/html": [
       "<div>\n",
       "<style scoped>\n",
       "    .dataframe tbody tr th:only-of-type {\n",
       "        vertical-align: middle;\n",
       "    }\n",
       "\n",
       "    .dataframe tbody tr th {\n",
       "        vertical-align: top;\n",
       "    }\n",
       "\n",
       "    .dataframe thead th {\n",
       "        text-align: right;\n",
       "    }\n",
       "</style>\n",
       "<table border=\"1\" class=\"dataframe\">\n",
       "  <thead>\n",
       "    <tr style=\"text-align: right;\">\n",
       "      <th></th>\n",
       "      <th>ID_code</th>\n",
       "      <th>target</th>\n",
       "    </tr>\n",
       "  </thead>\n",
       "  <tbody>\n",
       "    <tr>\n",
       "      <th>0</th>\n",
       "      <td>test_0</td>\n",
       "      <td>1</td>\n",
       "    </tr>\n",
       "    <tr>\n",
       "      <th>1</th>\n",
       "      <td>test_1</td>\n",
       "      <td>1</td>\n",
       "    </tr>\n",
       "    <tr>\n",
       "      <th>2</th>\n",
       "      <td>test_2</td>\n",
       "      <td>1</td>\n",
       "    </tr>\n",
       "    <tr>\n",
       "      <th>3</th>\n",
       "      <td>test_3</td>\n",
       "      <td>0</td>\n",
       "    </tr>\n",
       "    <tr>\n",
       "      <th>4</th>\n",
       "      <td>test_4</td>\n",
       "      <td>0</td>\n",
       "    </tr>\n",
       "    <tr>\n",
       "      <th>...</th>\n",
       "      <td>...</td>\n",
       "      <td>...</td>\n",
       "    </tr>\n",
       "    <tr>\n",
       "      <th>199995</th>\n",
       "      <td>test_199995</td>\n",
       "      <td>0</td>\n",
       "    </tr>\n",
       "    <tr>\n",
       "      <th>199996</th>\n",
       "      <td>test_199996</td>\n",
       "      <td>0</td>\n",
       "    </tr>\n",
       "    <tr>\n",
       "      <th>199997</th>\n",
       "      <td>test_199997</td>\n",
       "      <td>0</td>\n",
       "    </tr>\n",
       "    <tr>\n",
       "      <th>199998</th>\n",
       "      <td>test_199998</td>\n",
       "      <td>1</td>\n",
       "    </tr>\n",
       "    <tr>\n",
       "      <th>199999</th>\n",
       "      <td>test_199999</td>\n",
       "      <td>1</td>\n",
       "    </tr>\n",
       "  </tbody>\n",
       "</table>\n",
       "<p>200000 rows × 2 columns</p>\n",
       "</div>"
      ],
      "text/plain": [
       "            ID_code  target\n",
       "0            test_0       1\n",
       "1            test_1       1\n",
       "2            test_2       1\n",
       "3            test_3       0\n",
       "4            test_4       0\n",
       "...             ...     ...\n",
       "199995  test_199995       0\n",
       "199996  test_199996       0\n",
       "199997  test_199997       0\n",
       "199998  test_199998       1\n",
       "199999  test_199999       1\n",
       "\n",
       "[200000 rows x 2 columns]"
      ]
     },
     "execution_count": 11,
     "metadata": {},
     "output_type": "execute_result"
    }
   ],
   "source": [
    "X_test = df_test.loc[:,var_columns]\n",
    "\n",
    "df_sample_submission['target'] = model_rf.predict(X_test)\n",
    "df_sample_submission"
   ]
  },
  {
   "cell_type": "markdown",
   "id": "approximate-ranch",
   "metadata": {
    "papermill": {
     "duration": 0.022572,
     "end_time": "2021-04-13T09:46:22.952461",
     "exception": false,
     "start_time": "2021-04-13T09:46:22.929889",
     "status": "completed"
    },
    "tags": []
   },
   "source": [
    "## Step6: Confidence of prediction\n",
    "While probability of prediction can be used to identify how confident we are about predictions for an observation, another way is to use standard deviation of predictions from different trees in the random forest."
   ]
  },
  {
   "cell_type": "code",
   "execution_count": 12,
   "id": "middle-collins",
   "metadata": {
    "execution": {
     "iopub.execute_input": "2021-04-13T09:46:23.009523Z",
     "iopub.status.busy": "2021-04-13T09:46:23.008801Z",
     "iopub.status.idle": "2021-04-13T09:46:48.907119Z",
     "shell.execute_reply": "2021-04-13T09:46:48.907589Z"
    },
    "papermill": {
     "duration": 25.931625,
     "end_time": "2021-04-13T09:46:48.907770",
     "exception": false,
     "start_time": "2021-04-13T09:46:22.976145",
     "status": "completed"
    },
    "tags": []
   },
   "outputs": [
    {
     "data": {
      "text/plain": [
       "(190, 200000)"
      ]
     },
     "execution_count": 12,
     "metadata": {},
     "output_type": "execute_result"
    }
   ],
   "source": [
    "y_test_pred_trees = np.stack([m.predict(X_test) for m in model_rf.estimators_])\n",
    "y_test_pred_trees.shape"
   ]
  },
  {
   "cell_type": "code",
   "execution_count": 13,
   "id": "comparative-ecology",
   "metadata": {
    "execution": {
     "iopub.execute_input": "2021-04-13T09:46:48.961092Z",
     "iopub.status.busy": "2021-04-13T09:46:48.960346Z",
     "iopub.status.idle": "2021-04-13T09:46:55.769180Z",
     "shell.execute_reply": "2021-04-13T09:46:55.769913Z"
    },
    "papermill": {
     "duration": 6.838229,
     "end_time": "2021-04-13T09:46:55.770122",
     "exception": false,
     "start_time": "2021-04-13T09:46:48.931893",
     "status": "completed"
    },
    "tags": []
   },
   "outputs": [
    {
     "data": {
      "text/html": [
       "<div>\n",
       "<style scoped>\n",
       "    .dataframe tbody tr th:only-of-type {\n",
       "        vertical-align: middle;\n",
       "    }\n",
       "\n",
       "    .dataframe tbody tr th {\n",
       "        vertical-align: top;\n",
       "    }\n",
       "\n",
       "    .dataframe thead th {\n",
       "        text-align: right;\n",
       "    }\n",
       "</style>\n",
       "<table border=\"1\" class=\"dataframe\">\n",
       "  <thead>\n",
       "    <tr style=\"text-align: right;\">\n",
       "      <th></th>\n",
       "      <th>ID_code</th>\n",
       "      <th>target</th>\n",
       "      <th>pred_prob</th>\n",
       "      <th>pred_std</th>\n",
       "    </tr>\n",
       "  </thead>\n",
       "  <tbody>\n",
       "    <tr>\n",
       "      <th>0</th>\n",
       "      <td>test_0</td>\n",
       "      <td>1</td>\n",
       "      <td>0.549817</td>\n",
       "      <td>0.470781</td>\n",
       "    </tr>\n",
       "    <tr>\n",
       "      <th>1</th>\n",
       "      <td>test_1</td>\n",
       "      <td>1</td>\n",
       "      <td>0.533937</td>\n",
       "      <td>0.477789</td>\n",
       "    </tr>\n",
       "    <tr>\n",
       "      <th>2</th>\n",
       "      <td>test_2</td>\n",
       "      <td>1</td>\n",
       "      <td>0.505839</td>\n",
       "      <td>0.496637</td>\n",
       "    </tr>\n",
       "    <tr>\n",
       "      <th>3</th>\n",
       "      <td>test_3</td>\n",
       "      <td>0</td>\n",
       "      <td>0.475919</td>\n",
       "      <td>0.497751</td>\n",
       "    </tr>\n",
       "    <tr>\n",
       "      <th>4</th>\n",
       "      <td>test_4</td>\n",
       "      <td>0</td>\n",
       "      <td>0.450311</td>\n",
       "      <td>0.483781</td>\n",
       "    </tr>\n",
       "    <tr>\n",
       "      <th>5</th>\n",
       "      <td>test_5</td>\n",
       "      <td>0</td>\n",
       "      <td>0.365746</td>\n",
       "      <td>0.378838</td>\n",
       "    </tr>\n",
       "    <tr>\n",
       "      <th>6</th>\n",
       "      <td>test_6</td>\n",
       "      <td>0</td>\n",
       "      <td>0.439690</td>\n",
       "      <td>0.485125</td>\n",
       "    </tr>\n",
       "    <tr>\n",
       "      <th>7</th>\n",
       "      <td>test_7</td>\n",
       "      <td>1</td>\n",
       "      <td>0.514784</td>\n",
       "      <td>0.495296</td>\n",
       "    </tr>\n",
       "    <tr>\n",
       "      <th>8</th>\n",
       "      <td>test_8</td>\n",
       "      <td>0</td>\n",
       "      <td>0.322384</td>\n",
       "      <td>0.359632</td>\n",
       "    </tr>\n",
       "    <tr>\n",
       "      <th>9</th>\n",
       "      <td>test_9</td>\n",
       "      <td>0</td>\n",
       "      <td>0.382185</td>\n",
       "      <td>0.421841</td>\n",
       "    </tr>\n",
       "  </tbody>\n",
       "</table>\n",
       "</div>"
      ],
      "text/plain": [
       "  ID_code  target  pred_prob  pred_std\n",
       "0  test_0       1   0.549817  0.470781\n",
       "1  test_1       1   0.533937  0.477789\n",
       "2  test_2       1   0.505839  0.496637\n",
       "3  test_3       0   0.475919  0.497751\n",
       "4  test_4       0   0.450311  0.483781\n",
       "5  test_5       0   0.365746  0.378838\n",
       "6  test_6       0   0.439690  0.485125\n",
       "7  test_7       1   0.514784  0.495296\n",
       "8  test_8       0   0.322384  0.359632\n",
       "9  test_9       0   0.382185  0.421841"
      ]
     },
     "execution_count": 13,
     "metadata": {},
     "output_type": "execute_result"
    }
   ],
   "source": [
    "y_test_pred_std = y_test_pred_trees.std(0)\n",
    "\n",
    "df_sample_submission['pred_prob'] = model_rf.predict_proba(X_test)[:,1]\n",
    "df_sample_submission['pred_std'] = y_test_pred_std\n",
    "df_sample_submission[:10]"
   ]
  },
  {
   "cell_type": "markdown",
   "id": "australian-zambia",
   "metadata": {
    "papermill": {
     "duration": 0.023902,
     "end_time": "2021-04-13T09:46:55.818206",
     "exception": false,
     "start_time": "2021-04-13T09:46:55.794304",
     "status": "completed"
    },
    "tags": []
   },
   "source": [
    "## Step7: Export Predictions"
   ]
  },
  {
   "cell_type": "code",
   "execution_count": 14,
   "id": "accepting-brush",
   "metadata": {
    "execution": {
     "iopub.execute_input": "2021-04-13T09:46:55.869634Z",
     "iopub.status.busy": "2021-04-13T09:46:55.868992Z",
     "iopub.status.idle": "2021-04-13T09:46:56.297641Z",
     "shell.execute_reply": "2021-04-13T09:46:56.297036Z"
    },
    "papermill": {
     "duration": 0.455612,
     "end_time": "2021-04-13T09:46:56.297789",
     "exception": false,
     "start_time": "2021-04-13T09:46:55.842177",
     "status": "completed"
    },
    "tags": []
   },
   "outputs": [],
   "source": [
    "output_dir = '/kaggle/working/'\n",
    "df_sample_submission[['ID_code','target']].to_csv(output_dir + '02_random_forest_scores.csv', index=False)"
   ]
  }
 ],
 "metadata": {
  "kernelspec": {
   "display_name": "Python 3",
   "language": "python",
   "name": "python3"
  },
  "language_info": {
   "codemirror_mode": {
    "name": "ipython",
    "version": 3
   },
   "file_extension": ".py",
   "mimetype": "text/x-python",
   "name": "python",
   "nbconvert_exporter": "python",
   "pygments_lexer": "ipython3",
   "version": "3.7.9"
  },
  "papermill": {
   "default_parameters": {},
   "duration": 843.694713,
   "end_time": "2021-04-13T09:46:57.033471",
   "environment_variables": {},
   "exception": null,
   "input_path": "__notebook__.ipynb",
   "output_path": "__notebook__.ipynb",
   "parameters": {},
   "start_time": "2021-04-13T09:32:53.338758",
   "version": "2.3.2"
  }
 },
 "nbformat": 4,
 "nbformat_minor": 5
}
