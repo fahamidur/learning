{
 "cells": [
  {
   "attachments": {},
   "cell_type": "markdown",
   "id": "66d832be-d5c6-42b0-a2dd-5e3dfb76ae17",
   "metadata": {},
   "source": [
    "# Avoiding Overfitting in Image Classification\n",
    "\n",
    "_By: Harsh Kumar, Gojek_  \n",
    "_13th July 20204_  \n",
    "\n",
    "Reference: https://pytorch.org/tutorials/beginner/blitz/cifar10_tutorial.html"
   ]
  },
  {
   "cell_type": "markdown",
   "id": "aa70ddef-56aa-4845-8d3a-c82107b61288",
   "metadata": {},
   "source": [
    "## Import libraries"
   ]
  },
  {
   "cell_type": "code",
   "execution_count": 1,
   "id": "d3f20afd-77b4-40df-bc87-92f218921d06",
   "metadata": {},
   "outputs": [],
   "source": [
    "import torch\n",
    "import torchvision\n",
    "import torchvision.transforms as transforms\n",
    "\n",
    "import torch.nn as nn\n",
    "import torch.nn.functional as F\n",
    "\n",
    "import torch.optim as optim\n",
    "\n",
    "import numpy as np\n",
    "import pandas as pd\n",
    "import matplotlib.pyplot as plt"
   ]
  },
  {
   "cell_type": "code",
   "execution_count": 2,
   "id": "fff10595-9a26-4d1d-8102-4ad22f9ec4f3",
   "metadata": {},
   "outputs": [
    {
     "name": "stdout",
     "output_type": "stream",
     "text": [
      "cuda:0\n"
     ]
    }
   ],
   "source": [
    "device = torch.device('cuda:0' if torch.cuda.is_available() else 'cpu')\n",
    "\n",
    "print(device)"
   ]
  },
  {
   "cell_type": "markdown",
   "id": "8132f52c-6015-460d-8f83-dd86ab95ec9a",
   "metadata": {},
   "source": [
    "## Get training and validation data\n",
    "\n",
    "We will be using CIFAR10 dataset which has images of 10 categories"
   ]
  },
  {
   "cell_type": "code",
   "execution_count": 3,
   "id": "6145a7d7-62c4-480f-ad16-76bd7d4a873b",
   "metadata": {},
   "outputs": [],
   "source": [
    "batch_size = 4"
   ]
  },
  {
   "cell_type": "markdown",
   "id": "d4d612cf-2662-46b0-b805-c305356305d6",
   "metadata": {},
   "source": [
    "Define transformations of input images  \n",
    "- Convert data to tensors  \n",
    "- Normalize values"
   ]
  },
  {
   "cell_type": "code",
   "execution_count": 4,
   "id": "80ba067d-8074-4b3d-bf9b-faccaa465707",
   "metadata": {},
   "outputs": [],
   "source": [
    "transform = transforms.Compose(\n",
    "    [transforms.ToTensor(),\n",
    "     transforms.Normalize((0.5, 0.5, 0.5), (0.5, 0.5, 0.5))])"
   ]
  },
  {
   "cell_type": "markdown",
   "id": "ac500d58-db98-46fd-88b2-260b6da3667d",
   "metadata": {},
   "source": [
    "NOTE: Shuffle has been turned off for training dataset as well.  \n",
    "In this notebook, we want to use the same subset of images to train the model in every epoch, so that overfitting is clearly detectable"
   ]
  },
  {
   "cell_type": "code",
   "execution_count": 5,
   "id": "43425ae8-6649-4a34-a035-209834e6826c",
   "metadata": {},
   "outputs": [
    {
     "name": "stdout",
     "output_type": "stream",
     "text": [
      "Files already downloaded and verified\n"
     ]
    }
   ],
   "source": [
    "trainset = torchvision.datasets.CIFAR10(root='./data',\n",
    "                                        train=True,\n",
    "                                        download=True,\n",
    "                                        transform=transform)\n",
    "\n",
    "trainloader = torch.utils.data.DataLoader(trainset,\n",
    "                                          batch_size=batch_size,\n",
    "                                          shuffle=False,\n",
    "                                          num_workers=2)"
   ]
  },
  {
   "cell_type": "code",
   "execution_count": 6,
   "id": "1d017d48-e999-4575-9327-4f993f46f906",
   "metadata": {},
   "outputs": [
    {
     "name": "stdout",
     "output_type": "stream",
     "text": [
      "Files already downloaded and verified\n"
     ]
    }
   ],
   "source": [
    "valset = torchvision.datasets.CIFAR10(root='./data',\n",
    "                                      train=False,\n",
    "                                      download=True,\n",
    "                                      transform=transform)\n",
    "\n",
    "valloader = torch.utils.data.DataLoader(valset,\n",
    "                                        batch_size=batch_size,\n",
    "                                        shuffle=False,\n",
    "                                        num_workers=2)"
   ]
  },
  {
   "cell_type": "markdown",
   "id": "2f588efc-8522-47f8-a28f-c83b2b6b834f",
   "metadata": {},
   "source": [
    "Name the classes which are part of the data"
   ]
  },
  {
   "cell_type": "code",
   "execution_count": 7,
   "id": "5fc7363e-aa8c-4b94-bd9c-d93878c2ad7e",
   "metadata": {},
   "outputs": [],
   "source": [
    "classes = ('plane', 'car', 'bird', 'cat',\n",
    "           'deer', 'dog', 'frog', 'horse',\n",
    "           'ship', 'truck')"
   ]
  },
  {
   "cell_type": "markdown",
   "id": "00c2d29e-8fc9-4a3c-871e-5e7723c61d92",
   "metadata": {},
   "source": [
    "### Display sample images"
   ]
  },
  {
   "cell_type": "code",
   "execution_count": 8,
   "id": "9ecc9e46-5d88-42d6-8d1c-e68cbe91ee2b",
   "metadata": {},
   "outputs": [
    {
     "data": {
      "image/png": "[encoded data removed]",
      "text/plain": [
       "<Figure size 640x480 with 1 Axes>"
      ]
     },
     "metadata": {},
     "output_type": "display_data"
    },
    {
     "name": "stdout",
     "output_type": "stream",
     "text": [
      "frog  truck truck deer \n"
     ]
    }
   ],
   "source": [
    "# functions to show an image\n",
    "def imshow(img):\n",
    "    img = img / 2 + 0.5     # unnormalize\n",
    "    npimg = img.numpy()\n",
    "    plt.imshow(np.transpose(npimg, (1, 2, 0)))\n",
    "    plt.show()\n",
    "\n",
    "\n",
    "# get some random training images\n",
    "dataiter = iter(trainloader)\n",
    "images, labels = next(dataiter)\n",
    "\n",
    "# show images\n",
    "imshow(torchvision.utils.make_grid(images))\n",
    "# print labels\n",
    "print(' '.join(f'{classes[labels[j]]:5s}' for j in range(batch_size)))"
   ]
  },
  {
   "cell_type": "markdown",
   "id": "e51b81db-b7a1-4370-9f7a-63e384d6ada4",
   "metadata": {},
   "source": [
    "## Define model structure"
   ]
  },
  {
   "cell_type": "code",
   "execution_count": 9,
   "id": "1efa2bbd-57e3-442c-b4b0-5f2f18e7d07c",
   "metadata": {},
   "outputs": [],
   "source": [
    "class ImgClassificationModel(nn.Module):\n",
    "    def __init__(self):\n",
    "        super().__init__()\n",
    "        self.conv1 = nn.Conv2d(3, 6, 5)\n",
    "        self.pool = nn.MaxPool2d(2, 2)\n",
    "        self.conv2 = nn.Conv2d(6, 16, 5)\n",
    "        self.fc1 = nn.Linear(16 * 5 * 5, 120)\n",
    "        self.fc2 = nn.Linear(120, 84)\n",
    "        self.fc3 = nn.Linear(84, 10)\n",
    "\n",
    "    def forward(self, x):\n",
    "        x = self.pool(F.relu(self.conv1(x)))\n",
    "        x = self.pool(F.relu(self.conv2(x)))\n",
    "        x = torch.flatten(x, 1) # flatten all dimensions except batch\n",
    "        x = F.relu(self.fc1(x))\n",
    "        x = F.relu(self.fc2(x))\n",
    "        x = self.fc3(x)\n",
    "        return x"
   ]
  },
  {
   "cell_type": "code",
   "execution_count": 10,
   "id": "d822de14-5b7a-4761-8896-a3942cb29b15",
   "metadata": {},
   "outputs": [
    {
     "data": {
      "text/plain": [
       "ImgClassificationModel(\n",
       "  (conv1): Conv2d(3, 6, kernel_size=(5, 5), stride=(1, 1))\n",
       "  (pool): MaxPool2d(kernel_size=2, stride=2, padding=0, dilation=1, ceil_mode=False)\n",
       "  (conv2): Conv2d(6, 16, kernel_size=(5, 5), stride=(1, 1))\n",
       "  (fc1): Linear(in_features=400, out_features=120, bias=True)\n",
       "  (fc2): Linear(in_features=120, out_features=84, bias=True)\n",
       "  (fc3): Linear(in_features=84, out_features=10, bias=True)\n",
       ")"
      ]
     },
     "execution_count": 10,
     "metadata": {},
     "output_type": "execute_result"
    }
   ],
   "source": [
    "model = ImgClassificationModel()\n",
    "model.to(device)"
   ]
  },
  {
   "cell_type": "markdown",
   "id": "945ebf73-bc14-4c0d-b3bb-309a7e8493d2",
   "metadata": {},
   "source": [
    "## Train the Model"
   ]
  },
  {
   "cell_type": "markdown",
   "id": "2d6f8f4a-4b4a-4989-8690-29592e23cf1a",
   "metadata": {},
   "source": [
    "Define Optimizer and Loss Function"
   ]
  },
  {
   "cell_type": "code",
   "execution_count": 11,
   "id": "af5d4be9-9747-4bbd-b918-a3d54c02f891",
   "metadata": {},
   "outputs": [],
   "source": [
    "loss_fn = nn.CrossEntropyLoss()\n",
    "optimizer = optim.SGD(model.parameters(), lr=0.001, momentum=0.9)"
   ]
  },
  {
   "cell_type": "markdown",
   "id": "d1460aa1-db06-40e2-a47c-cc57b482ea43",
   "metadata": {},
   "source": [
    "NOTE: Since shuffle is turned off, we will get images in the same sequence from trainloader. We will restrict the number of training images to first 8000 (2000 batches of 4 images each). This will allow us to clearly show overfitting"
   ]
  },
  {
   "cell_type": "code",
   "execution_count": 12,
   "id": "ff63b31b-2654-4b36-916f-346d85ecb0d2",
   "metadata": {},
   "outputs": [],
   "source": [
    "n_epochs = 20\n",
    "train_batch_count = 2000"
   ]
  },
  {
   "cell_type": "code",
   "execution_count": 13,
   "id": "f9a46d0e-3d76-49af-8454-cae8d4239d88",
   "metadata": {},
   "outputs": [],
   "source": [
    "def train_model_batches(\n",
    "    model: ImgClassificationModel,\n",
    "    trainloader: torch.utils.data.DataLoader,\n",
    "    batch_count: int\n",
    ") -> (ImgClassificationModel, float):\n",
    "    \"\"\"\n",
    "    Returns trained model for a fixed number of batches along with the training loss \n",
    "    \"\"\"\n",
    "    train_loss_cumm = 0.0\n",
    "    for i, data_train in enumerate(trainloader, 0):\n",
    "        # Start training\n",
    "        model.train()\n",
    "        \n",
    "        # get the inputs; data is a list of [inputs, labels]\n",
    "        inputs_train, labels_train = data_train[0].to(device), data_train[1].to(device)\n",
    "\n",
    "        # zero the parameter gradients\n",
    "        optimizer.zero_grad()\n",
    "\n",
    "        # forward + backward + optimize\n",
    "        labels_train_pred = model(inputs_train)\n",
    "        loss = loss_fn(labels_train_pred, labels_train)\n",
    "        loss.backward()\n",
    "        optimizer.step()\n",
    "\n",
    "        train_loss_cumm += loss.item()\n",
    "\n",
    "        # stop training after batch count if reached\n",
    "        if i == batch_count:    \n",
    "            break\n",
    "\n",
    "    # Loss value is calculated per batch\n",
    "    return model, train_loss_cumm / batch_count"
   ]
  },
  {
   "cell_type": "code",
   "execution_count": 14,
   "id": "c4bb695a-8c58-440a-b71e-992928b18143",
   "metadata": {},
   "outputs": [],
   "source": [
    "def get_val_loss(model: ImgClassificationModel, valloader: torch.utils.data.DataLoader) -> float:\n",
    "    \"\"\"\n",
    "    Returns loss value on validation dataset for the given model\n",
    "    \"\"\"\n",
    "    loss_val_total = 0\n",
    "    \n",
    "    # Since we're not training, we don't need to calculate the gradients for our outputs\n",
    "    with torch.no_grad():\n",
    "        for i, data_val in enumerate(valloader, 0):\n",
    "            inputs_val, labels_val = data_val[0].to(device), data_val[1].to(device)\n",
    "            \n",
    "            # Calculate predicted labels by running images through the network\n",
    "            labels_pred_val = model(inputs_val)\n",
    "            loss_val = loss_fn(labels_pred_val, labels_val)\n",
    "            loss_val_total += loss_val.item()\n",
    "\n",
    "    val_batch_count = i\n",
    "\n",
    "    # Loss value is calculated per batch\n",
    "    return loss_val_total / val_batch_count"
   ]
  },
  {
   "cell_type": "code",
   "execution_count": 15,
   "id": "978b1d1f-f1c3-437b-b255-63d70cd90f8c",
   "metadata": {},
   "outputs": [
    {
     "name": "stdout",
     "output_type": "stream",
     "text": [
      "[1] loss: 2.229 val_loss: 2.033\n",
      "[2] loss: 1.851 val_loss: 1.694\n",
      "[3] loss: 1.664 val_loss: 1.589\n",
      "[4] loss: 1.552 val_loss: 1.522\n",
      "[5] loss: 1.458 val_loss: 1.490\n",
      "[6] loss: 1.373 val_loss: 1.478\n",
      "[7] loss: 1.291 val_loss: 1.471\n",
      "[8] loss: 1.207 val_loss: 1.500\n",
      "[9] loss: 1.123 val_loss: 1.564\n",
      "[10] loss: 1.032 val_loss: 1.634\n",
      "[11] loss: 0.948 val_loss: 1.745\n",
      "[12] loss: 0.862 val_loss: 1.884\n",
      "[13] loss: 0.787 val_loss: 2.109\n",
      "[14] loss: 0.747 val_loss: 2.208\n",
      "[15] loss: 0.688 val_loss: 2.325\n",
      "[16] loss: 0.657 val_loss: 2.378\n",
      "[17] loss: 0.614 val_loss: 2.618\n",
      "[18] loss: 0.600 val_loss: 2.541\n",
      "[19] loss: 0.524 val_loss: 2.570\n",
      "[20] loss: 0.494 val_loss: 3.021\n",
      "Finished Training\n"
     ]
    }
   ],
   "source": [
    "train_loss_list=[]\n",
    "val_loss_list=[]\n",
    "\n",
    "# Loop over the dataset multiple times\n",
    "for epoch in range(n_epochs):  \n",
    "\n",
    "    model, train_loss = train_model_batches(model, trainloader, train_batch_count)\n",
    "\n",
    "    # Calculate loss over validation data\n",
    "    val_loss = get_val_loss(model, valloader)\n",
    "    \n",
    "    # Save value of loss in a list to evaluate loss values later\n",
    "    train_loss_list.append(train_loss)\n",
    "    val_loss_list.append(val_loss)\n",
    "    \n",
    "    print(f'[{epoch + 1}] loss: {train_loss:.3f} val_loss: {val_loss:.3f}')\n",
    "\n",
    "print('Finished Training')"
   ]
  },
  {
   "cell_type": "markdown",
   "id": "c4919612-b176-4131-a9c5-d258d2e31811",
   "metadata": {},
   "source": [
    "### Plot Loss"
   ]
  },
  {
   "cell_type": "code",
   "execution_count": 17,
   "id": "ff6ea82d-a912-4bb0-a766-a92bcdfee6c4",
   "metadata": {},
   "outputs": [
    {
     "data": {
      "image/png": "[encoded data removed]",
      "text/plain": [
       "<Figure size 640x480 with 1 Axes>"
      ]
     },
     "metadata": {},
     "output_type": "display_data"
    }
   ],
   "source": [
    "def plot_loss(train_loss_list, val_loss_list):\n",
    "    df_loss = pd.DataFrame({\"train_loss\":train_loss_list, \"validation_loss\":val_loss_list})\n",
    "    df_loss[\"epoch\"] = df_loss.index\n",
    "    \n",
    "    axs = plt.subplot()\n",
    "    df_loss.plot(x=\"epoch\", y=\"train_loss\", ax=axs)\n",
    "    df_loss.plot(x=\"epoch\", y=\"validation_loss\", ax=axs)\n",
    "\n",
    "plot_loss(train_loss_list, val_loss_list)"
   ]
  },
  {
   "cell_type": "markdown",
   "id": "33a0faaf-45d4-419e-af58-1b513753ed12",
   "metadata": {},
   "source": [
    "### Accuracy on Validation Data"
   ]
  },
  {
   "cell_type": "code",
   "execution_count": 18,
   "id": "d4d5ca65-7518-472a-b745-c82b0a8fb6ea",
   "metadata": {},
   "outputs": [
    {
     "name": "stdout",
     "output_type": "stream",
     "text": [
      "Accuracy on the val images: 42.55 %\n"
     ]
    }
   ],
   "source": [
    "def get_accuracy_val_data(model: ImgClassificationModel, valloader: torch.utils.data.DataLoader) -> float:\n",
    "    correct = 0\n",
    "    total = 0\n",
    "    # Since we're not training, we don't need to calculate the gradients for our outputs\n",
    "    with torch.no_grad():\n",
    "        for data_val in valloader:\n",
    "            images, labels = data_val[0].to(device), data_val[1].to(device)\n",
    "            # calculate outputs by running images through the network\n",
    "            labels_pred = model(images)\n",
    "            # the class with the highest energy is what we choose as prediction\n",
    "            _, predicted = torch.max(labels_pred.data, 1)\n",
    "            total += labels.size(0)\n",
    "            correct += (predicted == labels).sum().item()\n",
    "\n",
    "    return correct / total\n",
    "\n",
    "val_accuracy = get_accuracy_val_data(model, valloader)\n",
    "\n",
    "print(f'Accuracy on the val images: {100 * val_accuracy:.2f} %')"
   ]
  },
  {
   "cell_type": "markdown",
   "id": "73e3d8e0-e69c-43ad-80f8-3b3c42326f9d",
   "metadata": {},
   "source": [
    "## Early Stopping"
   ]
  },
  {
   "cell_type": "markdown",
   "id": "70df96c8-7798-4382-ad83-0350d624c8ee",
   "metadata": {},
   "source": [
    "Re-iniatialize model"
   ]
  },
  {
   "cell_type": "code",
   "execution_count": 19,
   "id": "e6428f15-20eb-4ba1-be95-129697e05770",
   "metadata": {},
   "outputs": [],
   "source": [
    "model = ImgClassificationModel()\n",
    "model.to(device)\n",
    "\n",
    "loss_fn = nn.CrossEntropyLoss()\n",
    "optimizer = optim.SGD(model.parameters(), lr=0.001, momentum=0.9)"
   ]
  },
  {
   "cell_type": "code",
   "execution_count": 20,
   "id": "26de20a4-7574-4908-8aa7-ee8430454eaa",
   "metadata": {},
   "outputs": [],
   "source": [
    "# Path to store the model\n",
    "MODEL_PATH = './cifar_model.pth'"
   ]
  },
  {
   "cell_type": "markdown",
   "id": "9d69ad2f-975b-4de6-91d5-acfeb35bf1c6",
   "metadata": {},
   "source": [
    "Train the model"
   ]
  },
  {
   "cell_type": "code",
   "execution_count": 21,
   "id": "ff5abf5f-9559-4df7-99aa-22336a274674",
   "metadata": {},
   "outputs": [
    {
     "name": "stdout",
     "output_type": "stream",
     "text": [
      "[1] loss: 2.196 val_loss: 1.955 -> Nothing to do\n",
      "[2] loss: 1.823 val_loss: 1.701 -> Nothing to do\n",
      "[3] loss: 1.647 val_loss: 1.597 -> Saved Model\n",
      "[4] loss: 1.533 val_loss: 1.531 -> Saved Model\n",
      "[5] loss: 1.441 val_loss: 1.484 -> Saved Model\n",
      "[6] loss: 1.356 val_loss: 1.462 -> Saved Model\n",
      "[7] loss: 1.279 val_loss: 1.446 -> Saved Model\n",
      "[8] loss: 1.195 val_loss: 1.459 -> Nothing to do\n",
      "[9] loss: 1.109 val_loss: 1.498 -> Early Stopping\n",
      "Finished Training\n"
     ]
    }
   ],
   "source": [
    "train_loss_list=[]\n",
    "val_loss_list=[]\n",
    "\n",
    "# loop over the dataset multiple times\n",
    "for epoch in range(n_epochs):  \n",
    "\n",
    "    model, train_loss = train_model_batches(model, trainloader, train_batch_count)\n",
    "\n",
    "    # Calculate loss over validation data\n",
    "    val_loss = get_val_loss(model, valloader)\n",
    "    \n",
    "    # Save value of loss in a list to evaluate loss values later\n",
    "    train_loss_list.append(train_loss)\n",
    "    val_loss_list.append(val_loss)\n",
    "    \n",
    "    print(f'[{epoch + 1}] loss: {train_loss:.3f} val_loss: {val_loss:.3f}', end=\" \")\n",
    "\n",
    "    # Early Stopping Criteria\n",
    "    # No need to check early checking criteria till we have atleast 3 epochs\n",
    "    if len(val_loss_list)<3:\n",
    "        print(\"-> Nothing to do\")\n",
    "    elif val_loss_list[-1] < val_loss_list[-2]:\n",
    "        # Save the model if there is a reduction in loss on val data\n",
    "        torch.save(model.state_dict(), MODEL_PATH)\n",
    "        print(\"-> Saved Model\")\n",
    "    elif (val_loss_list[-1] >= val_loss_list[-2]) and (val_loss_list[-2] >= val_loss_list[-3]):\n",
    "        print(\"-> Early Stopping\")\n",
    "        break\n",
    "    else:\n",
    "        print(\"-> Nothing to do\")\n",
    "\n",
    "print('Finished Training')"
   ]
  },
  {
   "cell_type": "markdown",
   "id": "2b1d9906-4d89-4c02-87bb-d5d293cc341e",
   "metadata": {},
   "source": [
    "### Plot Loss"
   ]
  },
  {
   "cell_type": "code",
   "execution_count": 22,
   "id": "bcf02f16-352b-4941-81ca-184c43ff1034",
   "metadata": {
    "scrolled": true
   },
   "outputs": [
    {
     "data": {
      "image/png": "[encoded data removed]",
      "text/plain": [
       "<Figure size 640x480 with 1 Axes>"
      ]
     },
     "metadata": {},
     "output_type": "display_data"
    }
   ],
   "source": [
    "plot_loss(train_loss_list, val_loss_list)"
   ]
  },
  {
   "cell_type": "markdown",
   "id": "dede60d3-cad5-4054-858b-e56c7abed1d5",
   "metadata": {},
   "source": [
    "### Accuracy on Validation Data"
   ]
  },
  {
   "cell_type": "code",
   "execution_count": 23,
   "id": "047f0ca0-b5b1-41c9-9185-1251dc3dcdf6",
   "metadata": {},
   "outputs": [
    {
     "data": {
      "text/plain": [
       "<All keys matched successfully>"
      ]
     },
     "execution_count": 23,
     "metadata": {},
     "output_type": "execute_result"
    }
   ],
   "source": [
    "model.load_state_dict(torch.load(MODEL_PATH))"
   ]
  },
  {
   "cell_type": "code",
   "execution_count": 24,
   "id": "8ecaa790-861a-49c1-8586-4f5392de143c",
   "metadata": {},
   "outputs": [
    {
     "name": "stdout",
     "output_type": "stream",
     "text": [
      "Accuracy on the val images: 48.53 %\n"
     ]
    }
   ],
   "source": [
    "val_accuracy = get_accuracy_val_data(model, valloader)\n",
    "\n",
    "print(f'Accuracy on the val images: {100 * val_accuracy:.2f} %')"
   ]
  },
  {
   "cell_type": "markdown",
   "id": "f649efc0-8ec9-4faa-a31a-195dc931e4c5",
   "metadata": {},
   "source": [
    "## Dropout"
   ]
  },
  {
   "cell_type": "markdown",
   "id": "81851b93-2ec7-41a8-b66e-2cb9ff70b550",
   "metadata": {},
   "source": [
    "Define model with Dropout"
   ]
  },
  {
   "cell_type": "code",
   "execution_count": 40,
   "id": "18d23a7a-5b8f-41bd-95b2-ca6504df9802",
   "metadata": {},
   "outputs": [],
   "source": [
    "class ModelDropout(nn.Module):\n",
    "    def __init__(self):\n",
    "        super().__init__()\n",
    "        self.conv1 = nn.Conv2d(3, 6, 5)\n",
    "        self.pool = nn.MaxPool2d(2, 2)\n",
    "        self.dropout = nn.Dropout(0.1)\n",
    "        self.conv2 = nn.Conv2d(6, 16, 5)\n",
    "        self.dropout = nn.Dropout(0.1)\n",
    "        self.fc1 = nn.Linear(16 * 5 * 5, 120)\n",
    "        self.dropout = nn.Dropout(0.2)\n",
    "        self.fc2 = nn.Linear(120, 84)\n",
    "        self.dropout = nn.Dropout(0.2)\n",
    "        self.fc3 = nn.Linear(84, 10)\n",
    "\n",
    "    def forward(self, x):\n",
    "        x = self.pool(F.relu(self.conv1(x)))\n",
    "        x = self.dropout(x)\n",
    "        x = self.pool(F.relu(self.conv2(x)))\n",
    "        x = torch.flatten(x, 1) # flatten all dimensions except batch\n",
    "        x = self.dropout(x)\n",
    "        x = F.relu(self.fc1(x))\n",
    "        x = self.dropout(x)\n",
    "        x = F.relu(self.fc2(x))\n",
    "        x = self.dropout(x)\n",
    "        x = self.fc3(x)\n",
    "        return x"
   ]
  },
  {
   "cell_type": "code",
   "execution_count": 41,
   "id": "20e84668-a2fe-451c-bdbb-e25148165c22",
   "metadata": {},
   "outputs": [],
   "source": [
    "model = ModelDropout()\n",
    "model.to(device)\n",
    "\n",
    "loss_fn = nn.CrossEntropyLoss()\n",
    "optimizer = optim.SGD(model.parameters(), lr=0.001, momentum=0.9)"
   ]
  },
  {
   "cell_type": "markdown",
   "id": "49794ab9-f576-4e41-bcde-06efc53ddd9b",
   "metadata": {},
   "source": [
    "Train the model"
   ]
  },
  {
   "cell_type": "code",
   "execution_count": 42,
   "id": "fa2280f4-1a93-4d65-aa40-ce0bc855c5ca",
   "metadata": {},
   "outputs": [
    {
     "name": "stdout",
     "output_type": "stream",
     "text": [
      "[1] loss: 2.232 val_loss: 2.028\n",
      "[2] loss: 1.932 val_loss: 1.820\n",
      "[3] loss: 1.799 val_loss: 1.760\n",
      "[4] loss: 1.701 val_loss: 1.674\n",
      "[5] loss: 1.624 val_loss: 1.624\n",
      "[6] loss: 1.581 val_loss: 1.595\n",
      "[7] loss: 1.545 val_loss: 1.586\n",
      "[8] loss: 1.509 val_loss: 1.582\n",
      "[9] loss: 1.472 val_loss: 1.570\n",
      "[10] loss: 1.445 val_loss: 1.558\n",
      "[11] loss: 1.424 val_loss: 1.595\n",
      "[12] loss: 1.402 val_loss: 1.541\n",
      "[13] loss: 1.364 val_loss: 1.531\n",
      "[14] loss: 1.355 val_loss: 1.517\n",
      "[15] loss: 1.341 val_loss: 1.572\n",
      "[16] loss: 1.324 val_loss: 1.547\n",
      "[17] loss: 1.291 val_loss: 1.530\n",
      "[18] loss: 1.282 val_loss: 1.511\n",
      "[19] loss: 1.261 val_loss: 1.540\n",
      "[20] loss: 1.253 val_loss: 1.529\n",
      "Finished Training\n"
     ]
    }
   ],
   "source": [
    "train_loss_list=[]\n",
    "val_loss_list=[]\n",
    "\n",
    "# loop over the dataset multiple times\n",
    "for epoch in range(n_epochs):  \n",
    "\n",
    "    model, train_loss = train_model_batches(model, trainloader, train_batch_count)\n",
    "\n",
    "    # Calculate loss over validation data\n",
    "    val_loss = get_val_loss(model, valloader)\n",
    "    \n",
    "    # Save value of loss in a list to evaluate loss values later\n",
    "    train_loss_list.append(train_loss)\n",
    "    val_loss_list.append(val_loss)\n",
    "    \n",
    "    print(f'[{epoch + 1}] loss: {train_loss:.3f} val_loss: {val_loss:.3f}')\n",
    "\n",
    "print('Finished Training')"
   ]
  },
  {
   "cell_type": "markdown",
   "id": "e96d0315-258f-4f05-9eab-49c90ab22d81",
   "metadata": {},
   "source": [
    "### Plot Loss"
   ]
  },
  {
   "cell_type": "code",
   "execution_count": 43,
   "id": "bf9de8b2-91c1-4367-bb53-33cba68798be",
   "metadata": {},
   "outputs": [
    {
     "data": {
      "image/png": "[encoded data removed]",
      "text/plain": [
       "<Figure size 640x480 with 1 Axes>"
      ]
     },
     "metadata": {},
     "output_type": "display_data"
    }
   ],
   "source": [
    "plot_loss(train_loss_list, val_loss_list)"
   ]
  },
  {
   "cell_type": "markdown",
   "id": "8c5b6cfe-08c9-4e4d-ba53-a562410ae795",
   "metadata": {},
   "source": [
    "### Accuracy on Validation Data"
   ]
  },
  {
   "cell_type": "code",
   "execution_count": 44,
   "id": "fa2ddec3-bddd-4d0a-9f90-9e36326f5b99",
   "metadata": {},
   "outputs": [
    {
     "name": "stdout",
     "output_type": "stream",
     "text": [
      "Accuracy on the val images: 46.57 %\n"
     ]
    }
   ],
   "source": [
    "val_accuracy = get_accuracy_val_data(model, valloader)\n",
    "\n",
    "print(f'Accuracy on the val images: {100 * val_accuracy:.2f} %')"
   ]
  },
  {
   "cell_type": "markdown",
   "id": "a4924acc-f8e4-41aa-b06d-807d766727b6",
   "metadata": {},
   "source": [
    "## Batch Normalization"
   ]
  },
  {
   "cell_type": "markdown",
   "id": "f96fffb3-8e3a-4da5-838b-c4980c6bf0e0",
   "metadata": {},
   "source": [
    "Define model with Dropout"
   ]
  },
  {
   "cell_type": "code",
   "execution_count": 55,
   "id": "a3ef31b9-8459-42b6-9994-4570655edf01",
   "metadata": {},
   "outputs": [],
   "source": [
    "class ModelBatchNorm(nn.Module):\n",
    "    def __init__(self):\n",
    "        super().__init__()\n",
    "        self.conv1 = nn.Conv2d(3, 6, 5)\n",
    "        self.bn1 = nn.BatchNorm2d(6)\n",
    "        self.pool = nn.MaxPool2d(2, 2)\n",
    "        self.conv2 = nn.Conv2d(6, 16, 5)\n",
    "        self.bn2 = nn.BatchNorm2d(16)\n",
    "        self.fc1 = nn.Linear(16 * 5 * 5, 120)\n",
    "        self.bn3 = nn.BatchNorm1d(120)\n",
    "        self.fc2 = nn.Linear(120, 84)\n",
    "        self.bn4 = nn.BatchNorm1d(84)\n",
    "        self.fc3 = nn.Linear(84, 10)\n",
    "\n",
    "    def forward(self, x):\n",
    "        x = self.pool(self.bn1(F.relu(self.conv1(x))))\n",
    "        x = self.pool(self.bn2(F.relu(self.conv2(x))))\n",
    "        x = torch.flatten(x, 1) # flatten all dimensions except batch\n",
    "        x = self.bn3(F.relu(self.fc1(x)))\n",
    "        x = self.bn4(F.relu(self.fc2(x)))\n",
    "        x = self.fc3(x)\n",
    "        return x"
   ]
  },
  {
   "cell_type": "code",
   "execution_count": 56,
   "id": "30e4c796-dec3-4bce-b772-9013b5d60777",
   "metadata": {},
   "outputs": [],
   "source": [
    "model = ModelBatchNorm()\n",
    "model.to(device)\n",
    "\n",
    "loss_fn = nn.CrossEntropyLoss()\n",
    "optimizer = optim.SGD(model.parameters(), lr=0.001, momentum=0.9)"
   ]
  },
  {
   "cell_type": "markdown",
   "id": "4bf4ee85-09f4-4e9a-8618-643df5a5f4ed",
   "metadata": {},
   "source": [
    "Train the model"
   ]
  },
  {
   "cell_type": "code",
   "execution_count": 57,
   "id": "a9df9395-f3bb-4054-a2b0-be715201f8ac",
   "metadata": {},
   "outputs": [
    {
     "name": "stdout",
     "output_type": "stream",
     "text": [
      "[1] loss: 2.159 val_loss: 2.145\n",
      "[2] loss: 2.073 val_loss: 2.075\n",
      "[3] loss: 2.009 val_loss: 1.995\n",
      "[4] loss: 1.954 val_loss: 1.977\n",
      "[5] loss: 1.924 val_loss: 1.945\n",
      "[6] loss: 1.995 val_loss: 1.981\n",
      "[7] loss: 1.943 val_loss: 1.936\n",
      "[8] loss: 1.900 val_loss: 1.948\n",
      "[9] loss: 1.876 val_loss: 1.876\n",
      "[10] loss: 1.792 val_loss: 1.864\n",
      "[11] loss: 1.750 val_loss: 1.854\n",
      "[12] loss: 1.708 val_loss: 1.864\n",
      "[13] loss: 1.678 val_loss: 1.848\n",
      "[14] loss: 1.634 val_loss: 1.851\n",
      "[15] loss: 1.588 val_loss: 1.867\n",
      "[16] loss: 1.562 val_loss: 1.882\n",
      "[17] loss: 1.508 val_loss: 1.889\n",
      "[18] loss: 1.487 val_loss: 1.904\n",
      "[19] loss: 1.445 val_loss: 1.929\n",
      "[20] loss: 1.382 val_loss: 1.958\n",
      "Finished Training\n"
     ]
    }
   ],
   "source": [
    "train_loss_list=[]\n",
    "val_loss_list=[]\n",
    "\n",
    "# loop over the dataset multiple times\n",
    "for epoch in range(n_epochs):  \n",
    "\n",
    "    model, train_loss = train_model_batches(model, trainloader, train_batch_count)\n",
    "\n",
    "    # Calculate loss over validation data\n",
    "    val_loss = get_val_loss(model, valloader)\n",
    "    \n",
    "    # Save value of loss in a list to evaluate loss values later\n",
    "    train_loss_list.append(train_loss)\n",
    "    val_loss_list.append(val_loss)\n",
    "    \n",
    "    print(f'[{epoch + 1}] loss: {train_loss:.3f} val_loss: {val_loss:.3f}')\n",
    "\n",
    "print('Finished Training')"
   ]
  },
  {
   "cell_type": "markdown",
   "id": "48277105-6bc9-4739-8ae5-cf95001c4f99",
   "metadata": {},
   "source": [
    "### Plot Loss"
   ]
  },
  {
   "cell_type": "markdown",
   "id": "441c035e-a9b5-4fa3-9a85-6eb68572cb8d",
   "metadata": {},
   "source": [
    "**NOTE: The gain from batch normalization seems to be low, probably due to very small batch size (4).  \n",
    "Small batch sizes can result in inaccurate estimation of mean and standard deviation**"
   ]
  },
  {
   "cell_type": "code",
   "execution_count": 58,
   "id": "4e44a397-89c0-4076-abd0-6b9d6eccce65",
   "metadata": {},
   "outputs": [
    {
     "data": {
      "image/png": "[encoded data removed]",
      "text/plain": [
       "<Figure size 640x480 with 1 Axes>"
      ]
     },
     "metadata": {},
     "output_type": "display_data"
    }
   ],
   "source": [
    "plot_loss(train_loss_list, val_loss_list)"
   ]
  },
  {
   "cell_type": "markdown",
   "id": "0f995fd7-5c74-4ebd-b06a-48bfd9f52ec8",
   "metadata": {},
   "source": [
    "### Accuracy on Validation Data"
   ]
  },
  {
   "cell_type": "code",
   "execution_count": 59,
   "id": "ecb7bc96-34f8-4aa5-8b1a-cd4cd5418873",
   "metadata": {},
   "outputs": [
    {
     "name": "stdout",
     "output_type": "stream",
     "text": [
      "Accuracy on the val images: 34.42 %\n"
     ]
    }
   ],
   "source": [
    "val_accuracy = get_accuracy_val_data(model, valloader)\n",
    "\n",
    "print(f'Accuracy on the val images: {100 * val_accuracy:.2f} %')"
   ]
  },
  {
   "cell_type": "code",
   "execution_count": null,
   "id": "75c26e49-cb48-4fb4-baf3-281173dde7c2",
   "metadata": {},
   "outputs": [],
   "source": []
  },
  {
   "cell_type": "code",
   "execution_count": null,
   "id": "4e8f5709-8fb2-4570-89d2-15f45597fd08",
   "metadata": {},
   "outputs": [],
   "source": []
  },
  {
   "cell_type": "code",
   "execution_count": null,
   "id": "8965e645-7f8c-4df5-b33b-f14a192f9d86",
   "metadata": {},
   "outputs": [],
   "source": []
  },
  {
   "cell_type": "code",
   "execution_count": null,
   "id": "b14e994d-94c1-4d89-a59e-0bf51c60d61f",
   "metadata": {},
   "outputs": [],
   "source": []
  },
  {
   "cell_type": "code",
   "execution_count": null,
   "id": "03b09c45-8e7a-48a1-a8e8-01072c03337a",
   "metadata": {},
   "outputs": [],
   "source": []
  },
  {
   "cell_type": "code",
   "execution_count": null,
   "id": "db291496-0e41-4817-b2be-f8d8e651dc31",
   "metadata": {},
   "outputs": [],
   "source": []
  },
  {
   "cell_type": "code",
   "execution_count": null,
   "id": "63956805-57ac-478e-9bb6-6fe9f08bf6b1",
   "metadata": {},
   "outputs": [],
   "source": []
  }
 ],
 "metadata": {
  "kernelspec": {
   "display_name": "Python 3 (ipykernel)",
   "language": "python",
   "name": "python3"
  },
  "language_info": {
   "codemirror_mode": {
    "name": "ipython",
    "version": 3
   },
   "file_extension": ".py",
   "mimetype": "text/x-python",
   "name": "python",
   "nbconvert_exporter": "python",
   "pygments_lexer": "ipython3",
   "version": "3.10.12"
  }
 },
 "nbformat": 4,
 "nbformat_minor": 5
}
