{
 "cells": [
  {
   "cell_type": "markdown",
   "metadata": {},
   "source": [
    "# MNIST"
   ]
  },
  {
   "cell_type": "code",
   "execution_count": 1,
   "metadata": {},
   "outputs": [],
   "source": [
    "from fastai.vision.all import *"
   ]
  },
  {
   "cell_type": "markdown",
   "metadata": {},
   "source": [
    "Get MNIST sample data"
   ]
  },
  {
   "cell_type": "code",
   "execution_count": 2,
   "metadata": {},
   "outputs": [
    {
     "data": {
      "text/plain": [
       "'https://s3.amazonaws.com/fast-ai-sample/mnist_sample.tgz'"
      ]
     },
     "execution_count": 2,
     "metadata": {},
     "output_type": "execute_result"
    }
   ],
   "source": [
    "URLs.MNIST_SAMPLE"
   ]
  },
  {
   "cell_type": "code",
   "execution_count": 3,
   "metadata": {},
   "outputs": [
    {
     "data": {
      "text/plain": [
       "Path('/storage/data/mnist_sample')"
      ]
     },
     "execution_count": 3,
     "metadata": {},
     "output_type": "execute_result"
    }
   ],
   "source": [
    "path = untar_data(URLs.MNIST_SAMPLE)\n",
    "path"
   ]
  },
  {
   "cell_type": "markdown",
   "metadata": {},
   "source": [
    "Change base path to path and list files"
   ]
  },
  {
   "cell_type": "code",
   "execution_count": 4,
   "metadata": {},
   "outputs": [
    {
     "data": {
      "text/plain": [
       "(#3) [Path('labels.csv'),Path('valid'),Path('train')]"
      ]
     },
     "execution_count": 4,
     "metadata": {},
     "output_type": "execute_result"
    }
   ],
   "source": [
    "Path.BASE_PATH = path\n",
    "path.ls()"
   ]
  },
  {
   "cell_type": "code",
   "execution_count": 5,
   "metadata": {},
   "outputs": [
    {
     "data": {
      "text/plain": [
       "(#2) [Path('train/7'),Path('train/3')]"
      ]
     },
     "execution_count": 5,
     "metadata": {},
     "output_type": "execute_result"
    }
   ],
   "source": [
    "(path/'train').ls()"
   ]
  },
  {
   "cell_type": "code",
   "execution_count": 6,
   "metadata": {},
   "outputs": [
    {
     "data": {
      "text/plain": [
       "(#6265) [Path('train/7/32208.png'),Path('train/7/79.png'),Path('train/7/54193.png'),Path('train/7/4545.png'),Path('train/7/2161.png'),Path('train/7/11473.png'),Path('train/7/3914.png'),Path('train/7/58565.png'),Path('train/7/8302.png'),Path('train/7/59871.png')...]"
      ]
     },
     "execution_count": 6,
     "metadata": {},
     "output_type": "execute_result"
    }
   ],
   "source": [
    "(path/'train'/'7').ls()"
   ]
  },
  {
   "cell_type": "markdown",
   "metadata": {},
   "source": [
    "Create lists with locations of images for 3 and 7"
   ]
  },
  {
   "cell_type": "code",
   "execution_count": 7,
   "metadata": {},
   "outputs": [],
   "source": [
    "threes = (path/'train'/'3').ls().sorted()\n",
    "sevens = (path/'train'/'7').ls().sorted()"
   ]
  },
  {
   "cell_type": "code",
   "execution_count": 8,
   "metadata": {},
   "outputs": [
    {
     "data": {
      "image/png": "[encoded data removed]",
      "text/plain": [
       "<PIL.PngImagePlugin.PngImageFile image mode=L size=28x28 at 0x7F16412CEAF0>"
      ]
     },
     "execution_count": 8,
     "metadata": {},
     "output_type": "execute_result"
    }
   ],
   "source": [
    "im = Image.open(threes[1])\n",
    "im"
   ]
  },
  {
   "cell_type": "markdown",
   "metadata": {},
   "source": [
    "Some experimentation with data"
   ]
  },
  {
   "cell_type": "code",
   "execution_count": 9,
   "metadata": {},
   "outputs": [
    {
     "data": {
      "text/plain": [
       "array([[  0,   0,   0,   0,   0,   0,   0,   0],\n",
       "       [  0,   0,   0,   0,   0,  29, 150, 195],\n",
       "       [  0,   0,   0,  48, 166, 224, 253, 253],\n",
       "       [  0,  93, 244, 249, 253, 187,  46,  10],\n",
       "       [  0, 107, 253, 253, 230,  48,   0,   0],\n",
       "       [  0,   3,  20,  20,  15,   0,   0,   0],\n",
       "       [  0,   0,   0,   0,   0,   0,   0,   0],\n",
       "       [  0,   0,   0,   0,   0,   0,   0,  14]], dtype=uint8)"
      ]
     },
     "execution_count": 9,
     "metadata": {},
     "output_type": "execute_result"
    }
   ],
   "source": [
    "array(im)[4:12,4:12]"
   ]
  },
  {
   "cell_type": "code",
   "execution_count": 10,
   "metadata": {},
   "outputs": [
    {
     "data": {
      "text/plain": [
       "tensor([[  0,   0,   0,   0,   0,   0,   0,   0],\n",
       "        [  0,   0,   0,   0,   0,  29, 150, 195],\n",
       "        [  0,   0,   0,  48, 166, 224, 253, 253],\n",
       "        [  0,  93, 244, 249, 253, 187,  46,  10],\n",
       "        [  0, 107, 253, 253, 230,  48,   0,   0],\n",
       "        [  0,   3,  20,  20,  15,   0,   0,   0],\n",
       "        [  0,   0,   0,   0,   0,   0,   0,   0],\n",
       "        [  0,   0,   0,   0,   0,   0,   0,  14]], dtype=torch.uint8)"
      ]
     },
     "execution_count": 10,
     "metadata": {},
     "output_type": "execute_result"
    }
   ],
   "source": [
    "tensor(im)[4:12,4:12]"
   ]
  },
  {
   "cell_type": "code",
   "execution_count": 11,
   "metadata": {},
   "outputs": [
    {
     "data": {
      "text/html": [
       "<style  type=\"text/css\" >\n",
       "#T_5c0f86a0_7a3d_11eb_9af7_0242ac110002row0_col0,#T_5c0f86a0_7a3d_11eb_9af7_0242ac110002row0_col1,#T_5c0f86a0_7a3d_11eb_9af7_0242ac110002row0_col2,#T_5c0f86a0_7a3d_11eb_9af7_0242ac110002row0_col3,#T_5c0f86a0_7a3d_11eb_9af7_0242ac110002row0_col4,#T_5c0f86a0_7a3d_11eb_9af7_0242ac110002row0_col5,#T_5c0f86a0_7a3d_11eb_9af7_0242ac110002row0_col6,#T_5c0f86a0_7a3d_11eb_9af7_0242ac110002row0_col7,#T_5c0f86a0_7a3d_11eb_9af7_0242ac110002row0_col8,#T_5c0f86a0_7a3d_11eb_9af7_0242ac110002row0_col9,#T_5c0f86a0_7a3d_11eb_9af7_0242ac110002row0_col10,#T_5c0f86a0_7a3d_11eb_9af7_0242ac110002row0_col11,#T_5c0f86a0_7a3d_11eb_9af7_0242ac110002row0_col12,#T_5c0f86a0_7a3d_11eb_9af7_0242ac110002row0_col13,#T_5c0f86a0_7a3d_11eb_9af7_0242ac110002row0_col14,#T_5c0f86a0_7a3d_11eb_9af7_0242ac110002row0_col15,#T_5c0f86a0_7a3d_11eb_9af7_0242ac110002row1_col0,#T_5c0f86a0_7a3d_11eb_9af7_0242ac110002row1_col1,#T_5c0f86a0_7a3d_11eb_9af7_0242ac110002row1_col2,#T_5c0f86a0_7a3d_11eb_9af7_0242ac110002row1_col3,#T_5c0f86a0_7a3d_11eb_9af7_0242ac110002row1_col4,#T_5c0f86a0_7a3d_11eb_9af7_0242ac110002row1_col15,#T_5c0f86a0_7a3d_11eb_9af7_0242ac110002row2_col0,#T_5c0f86a0_7a3d_11eb_9af7_0242ac110002row2_col1,#T_5c0f86a0_7a3d_11eb_9af7_0242ac110002row2_col2,#T_5c0f86a0_7a3d_11eb_9af7_0242ac110002row2_col15,#T_5c0f86a0_7a3d_11eb_9af7_0242ac110002row3_col0,#T_5c0f86a0_7a3d_11eb_9af7_0242ac110002row3_col15,#T_5c0f86a0_7a3d_11eb_9af7_0242ac110002row4_col0,#T_5c0f86a0_7a3d_11eb_9af7_0242ac110002row4_col6,#T_5c0f86a0_7a3d_11eb_9af7_0242ac110002row4_col7,#T_5c0f86a0_7a3d_11eb_9af7_0242ac110002row4_col8,#T_5c0f86a0_7a3d_11eb_9af7_0242ac110002row4_col9,#T_5c0f86a0_7a3d_11eb_9af7_0242ac110002row4_col10,#T_5c0f86a0_7a3d_11eb_9af7_0242ac110002row4_col15,#T_5c0f86a0_7a3d_11eb_9af7_0242ac110002row5_col0,#T_5c0f86a0_7a3d_11eb_9af7_0242ac110002row5_col5,#T_5c0f86a0_7a3d_11eb_9af7_0242ac110002row5_col6,#T_5c0f86a0_7a3d_11eb_9af7_0242ac110002row5_col7,#T_5c0f86a0_7a3d_11eb_9af7_0242ac110002row5_col8,#T_5c0f86a0_7a3d_11eb_9af7_0242ac110002row5_col9,#T_5c0f86a0_7a3d_11eb_9af7_0242ac110002row5_col15,#T_5c0f86a0_7a3d_11eb_9af7_0242ac110002row6_col0,#T_5c0f86a0_7a3d_11eb_9af7_0242ac110002row6_col1,#T_5c0f86a0_7a3d_11eb_9af7_0242ac110002row6_col2,#T_5c0f86a0_7a3d_11eb_9af7_0242ac110002row6_col3,#T_5c0f86a0_7a3d_11eb_9af7_0242ac110002row6_col4,#T_5c0f86a0_7a3d_11eb_9af7_0242ac110002row6_col5,#T_5c0f86a0_7a3d_11eb_9af7_0242ac110002row6_col6,#T_5c0f86a0_7a3d_11eb_9af7_0242ac110002row6_col7,#T_5c0f86a0_7a3d_11eb_9af7_0242ac110002row6_col8,#T_5c0f86a0_7a3d_11eb_9af7_0242ac110002row6_col9,#T_5c0f86a0_7a3d_11eb_9af7_0242ac110002row6_col14,#T_5c0f86a0_7a3d_11eb_9af7_0242ac110002row6_col15,#T_5c0f86a0_7a3d_11eb_9af7_0242ac110002row7_col0,#T_5c0f86a0_7a3d_11eb_9af7_0242ac110002row7_col1,#T_5c0f86a0_7a3d_11eb_9af7_0242ac110002row7_col2,#T_5c0f86a0_7a3d_11eb_9af7_0242ac110002row7_col3,#T_5c0f86a0_7a3d_11eb_9af7_0242ac110002row7_col4,#T_5c0f86a0_7a3d_11eb_9af7_0242ac110002row7_col5,#T_5c0f86a0_7a3d_11eb_9af7_0242ac110002row7_col6,#T_5c0f86a0_7a3d_11eb_9af7_0242ac110002row7_col13,#T_5c0f86a0_7a3d_11eb_9af7_0242ac110002row7_col14,#T_5c0f86a0_7a3d_11eb_9af7_0242ac110002row7_col15,#T_5c0f86a0_7a3d_11eb_9af7_0242ac110002row8_col0,#T_5c0f86a0_7a3d_11eb_9af7_0242ac110002row8_col1,#T_5c0f86a0_7a3d_11eb_9af7_0242ac110002row8_col2,#T_5c0f86a0_7a3d_11eb_9af7_0242ac110002row8_col3,#T_5c0f86a0_7a3d_11eb_9af7_0242ac110002row8_col4,#T_5c0f86a0_7a3d_11eb_9af7_0242ac110002row8_col13,#T_5c0f86a0_7a3d_11eb_9af7_0242ac110002row8_col14,#T_5c0f86a0_7a3d_11eb_9af7_0242ac110002row8_col15,#T_5c0f86a0_7a3d_11eb_9af7_0242ac110002row9_col0,#T_5c0f86a0_7a3d_11eb_9af7_0242ac110002row9_col1,#T_5c0f86a0_7a3d_11eb_9af7_0242ac110002row9_col2,#T_5c0f86a0_7a3d_11eb_9af7_0242ac110002row9_col3,#T_5c0f86a0_7a3d_11eb_9af7_0242ac110002row9_col4,#T_5c0f86a0_7a3d_11eb_9af7_0242ac110002row10_col0,#T_5c0f86a0_7a3d_11eb_9af7_0242ac110002row10_col1,#T_5c0f86a0_7a3d_11eb_9af7_0242ac110002row10_col2,#T_5c0f86a0_7a3d_11eb_9af7_0242ac110002row10_col3,#T_5c0f86a0_7a3d_11eb_9af7_0242ac110002row10_col4,#T_5c0f86a0_7a3d_11eb_9af7_0242ac110002row10_col5,#T_5c0f86a0_7a3d_11eb_9af7_0242ac110002row10_col6,#T_5c0f86a0_7a3d_11eb_9af7_0242ac110002row11_col0,#T_5c0f86a0_7a3d_11eb_9af7_0242ac110002row11_col1,#T_5c0f86a0_7a3d_11eb_9af7_0242ac110002row11_col2,#T_5c0f86a0_7a3d_11eb_9af7_0242ac110002row11_col3,#T_5c0f86a0_7a3d_11eb_9af7_0242ac110002row11_col4,#T_5c0f86a0_7a3d_11eb_9af7_0242ac110002row11_col5,#T_5c0f86a0_7a3d_11eb_9af7_0242ac110002row11_col6,#T_5c0f86a0_7a3d_11eb_9af7_0242ac110002row11_col7,#T_5c0f86a0_7a3d_11eb_9af7_0242ac110002row11_col8,#T_5c0f86a0_7a3d_11eb_9af7_0242ac110002row11_col9,#T_5c0f86a0_7a3d_11eb_9af7_0242ac110002row12_col0,#T_5c0f86a0_7a3d_11eb_9af7_0242ac110002row12_col1,#T_5c0f86a0_7a3d_11eb_9af7_0242ac110002row12_col2,#T_5c0f86a0_7a3d_11eb_9af7_0242ac110002row12_col3,#T_5c0f86a0_7a3d_11eb_9af7_0242ac110002row12_col4,#T_5c0f86a0_7a3d_11eb_9af7_0242ac110002row12_col5,#T_5c0f86a0_7a3d_11eb_9af7_0242ac110002row12_col6,#T_5c0f86a0_7a3d_11eb_9af7_0242ac110002row12_col7,#T_5c0f86a0_7a3d_11eb_9af7_0242ac110002row12_col8,#T_5c0f86a0_7a3d_11eb_9af7_0242ac110002row12_col9,#T_5c0f86a0_7a3d_11eb_9af7_0242ac110002row12_col10,#T_5c0f86a0_7a3d_11eb_9af7_0242ac110002row12_col11,#T_5c0f86a0_7a3d_11eb_9af7_0242ac110002row12_col12,#T_5c0f86a0_7a3d_11eb_9af7_0242ac110002row13_col0,#T_5c0f86a0_7a3d_11eb_9af7_0242ac110002row13_col1,#T_5c0f86a0_7a3d_11eb_9af7_0242ac110002row13_col2,#T_5c0f86a0_7a3d_11eb_9af7_0242ac110002row13_col3,#T_5c0f86a0_7a3d_11eb_9af7_0242ac110002row13_col4,#T_5c0f86a0_7a3d_11eb_9af7_0242ac110002row13_col5,#T_5c0f86a0_7a3d_11eb_9af7_0242ac110002row13_col6,#T_5c0f86a0_7a3d_11eb_9af7_0242ac110002row13_col7,#T_5c0f86a0_7a3d_11eb_9af7_0242ac110002row13_col8,#T_5c0f86a0_7a3d_11eb_9af7_0242ac110002row13_col9,#T_5c0f86a0_7a3d_11eb_9af7_0242ac110002row13_col10,#T_5c0f86a0_7a3d_11eb_9af7_0242ac110002row13_col11,#T_5c0f86a0_7a3d_11eb_9af7_0242ac110002row13_col12,#T_5c0f86a0_7a3d_11eb_9af7_0242ac110002row14_col0,#T_5c0f86a0_7a3d_11eb_9af7_0242ac110002row14_col1,#T_5c0f86a0_7a3d_11eb_9af7_0242ac110002row14_col2,#T_5c0f86a0_7a3d_11eb_9af7_0242ac110002row14_col3,#T_5c0f86a0_7a3d_11eb_9af7_0242ac110002row14_col4,#T_5c0f86a0_7a3d_11eb_9af7_0242ac110002row14_col5,#T_5c0f86a0_7a3d_11eb_9af7_0242ac110002row14_col6,#T_5c0f86a0_7a3d_11eb_9af7_0242ac110002row14_col7,#T_5c0f86a0_7a3d_11eb_9af7_0242ac110002row14_col8,#T_5c0f86a0_7a3d_11eb_9af7_0242ac110002row14_col9,#T_5c0f86a0_7a3d_11eb_9af7_0242ac110002row14_col10,#T_5c0f86a0_7a3d_11eb_9af7_0242ac110002row14_col11,#T_5c0f86a0_7a3d_11eb_9af7_0242ac110002row15_col0,#T_5c0f86a0_7a3d_11eb_9af7_0242ac110002row15_col1,#T_5c0f86a0_7a3d_11eb_9af7_0242ac110002row15_col2,#T_5c0f86a0_7a3d_11eb_9af7_0242ac110002row15_col3,#T_5c0f86a0_7a3d_11eb_9af7_0242ac110002row15_col4,#T_5c0f86a0_7a3d_11eb_9af7_0242ac110002row15_col5,#T_5c0f86a0_7a3d_11eb_9af7_0242ac110002row15_col6,#T_5c0f86a0_7a3d_11eb_9af7_0242ac110002row15_col7,#T_5c0f86a0_7a3d_11eb_9af7_0242ac110002row15_col8,#T_5c0f86a0_7a3d_11eb_9af7_0242ac110002row15_col9,#T_5c0f86a0_7a3d_11eb_9af7_0242ac110002row15_col10{\n",
       "            background-color:  #ffffff;\n",
       "            color:  #000000;\n",
       "        }#T_5c0f86a0_7a3d_11eb_9af7_0242ac110002row1_col5{\n",
       "            background-color:  #efefef;\n",
       "            color:  #000000;\n",
       "        }#T_5c0f86a0_7a3d_11eb_9af7_0242ac110002row1_col6,#T_5c0f86a0_7a3d_11eb_9af7_0242ac110002row1_col13{\n",
       "            background-color:  #7c7c7c;\n",
       "            color:  #000000;\n",
       "        }#T_5c0f86a0_7a3d_11eb_9af7_0242ac110002row1_col7{\n",
       "            background-color:  #4a4a4a;\n",
       "            color:  #f1f1f1;\n",
       "        }#T_5c0f86a0_7a3d_11eb_9af7_0242ac110002row1_col8,#T_5c0f86a0_7a3d_11eb_9af7_0242ac110002row1_col9,#T_5c0f86a0_7a3d_11eb_9af7_0242ac110002row1_col10,#T_5c0f86a0_7a3d_11eb_9af7_0242ac110002row2_col5,#T_5c0f86a0_7a3d_11eb_9af7_0242ac110002row2_col6,#T_5c0f86a0_7a3d_11eb_9af7_0242ac110002row2_col7,#T_5c0f86a0_7a3d_11eb_9af7_0242ac110002row2_col11,#T_5c0f86a0_7a3d_11eb_9af7_0242ac110002row2_col12,#T_5c0f86a0_7a3d_11eb_9af7_0242ac110002row2_col13,#T_5c0f86a0_7a3d_11eb_9af7_0242ac110002row3_col4,#T_5c0f86a0_7a3d_11eb_9af7_0242ac110002row3_col12,#T_5c0f86a0_7a3d_11eb_9af7_0242ac110002row3_col13,#T_5c0f86a0_7a3d_11eb_9af7_0242ac110002row4_col1,#T_5c0f86a0_7a3d_11eb_9af7_0242ac110002row4_col2,#T_5c0f86a0_7a3d_11eb_9af7_0242ac110002row4_col3,#T_5c0f86a0_7a3d_11eb_9af7_0242ac110002row4_col12,#T_5c0f86a0_7a3d_11eb_9af7_0242ac110002row4_col13,#T_5c0f86a0_7a3d_11eb_9af7_0242ac110002row5_col12,#T_5c0f86a0_7a3d_11eb_9af7_0242ac110002row6_col11,#T_5c0f86a0_7a3d_11eb_9af7_0242ac110002row9_col11,#T_5c0f86a0_7a3d_11eb_9af7_0242ac110002row10_col11,#T_5c0f86a0_7a3d_11eb_9af7_0242ac110002row10_col12,#T_5c0f86a0_7a3d_11eb_9af7_0242ac110002row10_col13,#T_5c0f86a0_7a3d_11eb_9af7_0242ac110002row10_col14,#T_5c0f86a0_7a3d_11eb_9af7_0242ac110002row11_col13,#T_5c0f86a0_7a3d_11eb_9af7_0242ac110002row11_col14,#T_5c0f86a0_7a3d_11eb_9af7_0242ac110002row11_col15,#T_5c0f86a0_7a3d_11eb_9af7_0242ac110002row12_col14,#T_5c0f86a0_7a3d_11eb_9af7_0242ac110002row12_col15,#T_5c0f86a0_7a3d_11eb_9af7_0242ac110002row13_col14,#T_5c0f86a0_7a3d_11eb_9af7_0242ac110002row13_col15,#T_5c0f86a0_7a3d_11eb_9af7_0242ac110002row14_col14,#T_5c0f86a0_7a3d_11eb_9af7_0242ac110002row14_col15,#T_5c0f86a0_7a3d_11eb_9af7_0242ac110002row15_col13,#T_5c0f86a0_7a3d_11eb_9af7_0242ac110002row15_col14{\n",
       "            background-color:  #000000;\n",
       "            color:  #f1f1f1;\n",
       "        }#T_5c0f86a0_7a3d_11eb_9af7_0242ac110002row1_col11{\n",
       "            background-color:  #606060;\n",
       "            color:  #f1f1f1;\n",
       "        }#T_5c0f86a0_7a3d_11eb_9af7_0242ac110002row1_col12{\n",
       "            background-color:  #4d4d4d;\n",
       "            color:  #f1f1f1;\n",
       "        }#T_5c0f86a0_7a3d_11eb_9af7_0242ac110002row1_col14{\n",
       "            background-color:  #bbbbbb;\n",
       "            color:  #000000;\n",
       "        }#T_5c0f86a0_7a3d_11eb_9af7_0242ac110002row2_col3{\n",
       "            background-color:  #e4e4e4;\n",
       "            color:  #000000;\n",
       "        }#T_5c0f86a0_7a3d_11eb_9af7_0242ac110002row2_col4,#T_5c0f86a0_7a3d_11eb_9af7_0242ac110002row8_col6{\n",
       "            background-color:  #6b6b6b;\n",
       "            color:  #000000;\n",
       "        }#T_5c0f86a0_7a3d_11eb_9af7_0242ac110002row2_col8,#T_5c0f86a0_7a3d_11eb_9af7_0242ac110002row2_col14,#T_5c0f86a0_7a3d_11eb_9af7_0242ac110002row3_col14{\n",
       "            background-color:  #171717;\n",
       "            color:  #f1f1f1;\n",
       "        }#T_5c0f86a0_7a3d_11eb_9af7_0242ac110002row2_col9,#T_5c0f86a0_7a3d_11eb_9af7_0242ac110002row3_col11{\n",
       "            background-color:  #4b4b4b;\n",
       "            color:  #f1f1f1;\n",
       "        }#T_5c0f86a0_7a3d_11eb_9af7_0242ac110002row2_col10,#T_5c0f86a0_7a3d_11eb_9af7_0242ac110002row7_col10,#T_5c0f86a0_7a3d_11eb_9af7_0242ac110002row8_col8,#T_5c0f86a0_7a3d_11eb_9af7_0242ac110002row8_col10,#T_5c0f86a0_7a3d_11eb_9af7_0242ac110002row9_col8,#T_5c0f86a0_7a3d_11eb_9af7_0242ac110002row9_col10{\n",
       "            background-color:  #010101;\n",
       "            color:  #f1f1f1;\n",
       "        }#T_5c0f86a0_7a3d_11eb_9af7_0242ac110002row3_col1{\n",
       "            background-color:  #272727;\n",
       "            color:  #f1f1f1;\n",
       "        }#T_5c0f86a0_7a3d_11eb_9af7_0242ac110002row3_col2{\n",
       "            background-color:  #0a0a0a;\n",
       "            color:  #f1f1f1;\n",
       "        }#T_5c0f86a0_7a3d_11eb_9af7_0242ac110002row3_col3,#T_5c0f86a0_7a3d_11eb_9af7_0242ac110002row14_col13{\n",
       "            background-color:  #050505;\n",
       "            color:  #f1f1f1;\n",
       "        }#T_5c0f86a0_7a3d_11eb_9af7_0242ac110002row3_col5{\n",
       "            background-color:  #333333;\n",
       "            color:  #f1f1f1;\n",
       "        }#T_5c0f86a0_7a3d_11eb_9af7_0242ac110002row3_col6{\n",
       "            background-color:  #e6e6e6;\n",
       "            color:  #000000;\n",
       "        }#T_5c0f86a0_7a3d_11eb_9af7_0242ac110002row3_col7,#T_5c0f86a0_7a3d_11eb_9af7_0242ac110002row3_col10{\n",
       "            background-color:  #fafafa;\n",
       "            color:  #000000;\n",
       "        }#T_5c0f86a0_7a3d_11eb_9af7_0242ac110002row3_col8,#T_5c0f86a0_7a3d_11eb_9af7_0242ac110002row11_col10{\n",
       "            background-color:  #fbfbfb;\n",
       "            color:  #000000;\n",
       "        }#T_5c0f86a0_7a3d_11eb_9af7_0242ac110002row3_col9{\n",
       "            background-color:  #fdfdfd;\n",
       "            color:  #000000;\n",
       "        }#T_5c0f86a0_7a3d_11eb_9af7_0242ac110002row4_col4{\n",
       "            background-color:  #1b1b1b;\n",
       "            color:  #f1f1f1;\n",
       "        }#T_5c0f86a0_7a3d_11eb_9af7_0242ac110002row4_col5{\n",
       "            background-color:  #e0e0e0;\n",
       "            color:  #000000;\n",
       "        }#T_5c0f86a0_7a3d_11eb_9af7_0242ac110002row4_col11{\n",
       "            background-color:  #4e4e4e;\n",
       "            color:  #f1f1f1;\n",
       "        }#T_5c0f86a0_7a3d_11eb_9af7_0242ac110002row4_col14{\n",
       "            background-color:  #767676;\n",
       "            color:  #000000;\n",
       "        }#T_5c0f86a0_7a3d_11eb_9af7_0242ac110002row5_col1{\n",
       "            background-color:  #fcfcfc;\n",
       "            color:  #000000;\n",
       "        }#T_5c0f86a0_7a3d_11eb_9af7_0242ac110002row5_col2,#T_5c0f86a0_7a3d_11eb_9af7_0242ac110002row5_col3{\n",
       "            background-color:  #f6f6f6;\n",
       "            color:  #000000;\n",
       "        }#T_5c0f86a0_7a3d_11eb_9af7_0242ac110002row5_col4,#T_5c0f86a0_7a3d_11eb_9af7_0242ac110002row7_col7{\n",
       "            background-color:  #f8f8f8;\n",
       "            color:  #000000;\n",
       "        }#T_5c0f86a0_7a3d_11eb_9af7_0242ac110002row5_col10,#T_5c0f86a0_7a3d_11eb_9af7_0242ac110002row10_col7{\n",
       "            background-color:  #e8e8e8;\n",
       "            color:  #000000;\n",
       "        }#T_5c0f86a0_7a3d_11eb_9af7_0242ac110002row5_col11{\n",
       "            background-color:  #222222;\n",
       "            color:  #f1f1f1;\n",
       "        }#T_5c0f86a0_7a3d_11eb_9af7_0242ac110002row5_col13,#T_5c0f86a0_7a3d_11eb_9af7_0242ac110002row6_col12{\n",
       "            background-color:  #090909;\n",
       "            color:  #f1f1f1;\n",
       "        }#T_5c0f86a0_7a3d_11eb_9af7_0242ac110002row5_col14{\n",
       "            background-color:  #d0d0d0;\n",
       "            color:  #000000;\n",
       "        }#T_5c0f86a0_7a3d_11eb_9af7_0242ac110002row6_col10,#T_5c0f86a0_7a3d_11eb_9af7_0242ac110002row7_col11,#T_5c0f86a0_7a3d_11eb_9af7_0242ac110002row9_col6{\n",
       "            background-color:  #060606;\n",
       "            color:  #f1f1f1;\n",
       "        }#T_5c0f86a0_7a3d_11eb_9af7_0242ac110002row6_col13{\n",
       "            background-color:  #979797;\n",
       "            color:  #000000;\n",
       "        }#T_5c0f86a0_7a3d_11eb_9af7_0242ac110002row7_col8{\n",
       "            background-color:  #b6b6b6;\n",
       "            color:  #000000;\n",
       "        }#T_5c0f86a0_7a3d_11eb_9af7_0242ac110002row7_col9{\n",
       "            background-color:  #252525;\n",
       "            color:  #f1f1f1;\n",
       "        }#T_5c0f86a0_7a3d_11eb_9af7_0242ac110002row7_col12{\n",
       "            background-color:  #999999;\n",
       "            color:  #000000;\n",
       "        }#T_5c0f86a0_7a3d_11eb_9af7_0242ac110002row8_col5{\n",
       "            background-color:  #f9f9f9;\n",
       "            color:  #000000;\n",
       "        }#T_5c0f86a0_7a3d_11eb_9af7_0242ac110002row8_col7{\n",
       "            background-color:  #101010;\n",
       "            color:  #f1f1f1;\n",
       "        }#T_5c0f86a0_7a3d_11eb_9af7_0242ac110002row8_col9,#T_5c0f86a0_7a3d_11eb_9af7_0242ac110002row9_col9{\n",
       "            background-color:  #020202;\n",
       "            color:  #f1f1f1;\n",
       "        }#T_5c0f86a0_7a3d_11eb_9af7_0242ac110002row8_col11,#T_5c0f86a0_7a3d_11eb_9af7_0242ac110002row10_col15{\n",
       "            background-color:  #545454;\n",
       "            color:  #f1f1f1;\n",
       "        }#T_5c0f86a0_7a3d_11eb_9af7_0242ac110002row8_col12{\n",
       "            background-color:  #f1f1f1;\n",
       "            color:  #000000;\n",
       "        }#T_5c0f86a0_7a3d_11eb_9af7_0242ac110002row9_col5{\n",
       "            background-color:  #f7f7f7;\n",
       "            color:  #000000;\n",
       "        }#T_5c0f86a0_7a3d_11eb_9af7_0242ac110002row9_col7{\n",
       "            background-color:  #030303;\n",
       "            color:  #f1f1f1;\n",
       "        }#T_5c0f86a0_7a3d_11eb_9af7_0242ac110002row9_col12{\n",
       "            background-color:  #181818;\n",
       "            color:  #f1f1f1;\n",
       "        }#T_5c0f86a0_7a3d_11eb_9af7_0242ac110002row9_col13{\n",
       "            background-color:  #303030;\n",
       "            color:  #f1f1f1;\n",
       "        }#T_5c0f86a0_7a3d_11eb_9af7_0242ac110002row9_col14{\n",
       "            background-color:  #a9a9a9;\n",
       "            color:  #000000;\n",
       "        }#T_5c0f86a0_7a3d_11eb_9af7_0242ac110002row9_col15{\n",
       "            background-color:  #fefefe;\n",
       "            color:  #000000;\n",
       "        }#T_5c0f86a0_7a3d_11eb_9af7_0242ac110002row10_col8,#T_5c0f86a0_7a3d_11eb_9af7_0242ac110002row10_col9{\n",
       "            background-color:  #bababa;\n",
       "            color:  #000000;\n",
       "        }#T_5c0f86a0_7a3d_11eb_9af7_0242ac110002row10_col10{\n",
       "            background-color:  #393939;\n",
       "            color:  #f1f1f1;\n",
       "        }#T_5c0f86a0_7a3d_11eb_9af7_0242ac110002row11_col11{\n",
       "            background-color:  #e2e2e2;\n",
       "            color:  #000000;\n",
       "        }#T_5c0f86a0_7a3d_11eb_9af7_0242ac110002row11_col12{\n",
       "            background-color:  #9f9f9f;\n",
       "            color:  #000000;\n",
       "        }#T_5c0f86a0_7a3d_11eb_9af7_0242ac110002row12_col13{\n",
       "            background-color:  #585858;\n",
       "            color:  #f1f1f1;\n",
       "        }#T_5c0f86a0_7a3d_11eb_9af7_0242ac110002row13_col13{\n",
       "            background-color:  #5a5a5a;\n",
       "            color:  #f1f1f1;\n",
       "        }#T_5c0f86a0_7a3d_11eb_9af7_0242ac110002row14_col12{\n",
       "            background-color:  #c5c5c5;\n",
       "            color:  #000000;\n",
       "        }#T_5c0f86a0_7a3d_11eb_9af7_0242ac110002row15_col11{\n",
       "            background-color:  #dcdcdc;\n",
       "            color:  #000000;\n",
       "        }#T_5c0f86a0_7a3d_11eb_9af7_0242ac110002row15_col12{\n",
       "            background-color:  #2f2f2f;\n",
       "            color:  #f1f1f1;\n",
       "        }#T_5c0f86a0_7a3d_11eb_9af7_0242ac110002row15_col15{\n",
       "            background-color:  #636363;\n",
       "            color:  #f1f1f1;\n",
       "        }</style><table id=\"T_5c0f86a0_7a3d_11eb_9af7_0242ac110002\" ><thead>    <tr>        <th class=\"blank level0\" ></th>        <th class=\"col_heading level0 col0\" >0</th>        <th class=\"col_heading level0 col1\" >1</th>        <th class=\"col_heading level0 col2\" >2</th>        <th class=\"col_heading level0 col3\" >3</th>        <th class=\"col_heading level0 col4\" >4</th>        <th class=\"col_heading level0 col5\" >5</th>        <th class=\"col_heading level0 col6\" >6</th>        <th class=\"col_heading level0 col7\" >7</th>        <th class=\"col_heading level0 col8\" >8</th>        <th class=\"col_heading level0 col9\" >9</th>        <th class=\"col_heading level0 col10\" >10</th>        <th class=\"col_heading level0 col11\" >11</th>        <th class=\"col_heading level0 col12\" >12</th>        <th class=\"col_heading level0 col13\" >13</th>        <th class=\"col_heading level0 col14\" >14</th>        <th class=\"col_heading level0 col15\" >15</th>    </tr></thead><tbody>\n",
       "                <tr>\n",
       "                        <th id=\"T_5c0f86a0_7a3d_11eb_9af7_0242ac110002level0_row0\" class=\"row_heading level0 row0\" >0</th>\n",
       "                        <td id=\"T_5c0f86a0_7a3d_11eb_9af7_0242ac110002row0_col0\" class=\"data row0 col0\" >0</td>\n",
       "                        <td id=\"T_5c0f86a0_7a3d_11eb_9af7_0242ac110002row0_col1\" class=\"data row0 col1\" >0</td>\n",
       "                        <td id=\"T_5c0f86a0_7a3d_11eb_9af7_0242ac110002row0_col2\" class=\"data row0 col2\" >0</td>\n",
       "                        <td id=\"T_5c0f86a0_7a3d_11eb_9af7_0242ac110002row0_col3\" class=\"data row0 col3\" >0</td>\n",
       "                        <td id=\"T_5c0f86a0_7a3d_11eb_9af7_0242ac110002row0_col4\" class=\"data row0 col4\" >0</td>\n",
       "                        <td id=\"T_5c0f86a0_7a3d_11eb_9af7_0242ac110002row0_col5\" class=\"data row0 col5\" >0</td>\n",
       "                        <td id=\"T_5c0f86a0_7a3d_11eb_9af7_0242ac110002row0_col6\" class=\"data row0 col6\" >0</td>\n",
       "                        <td id=\"T_5c0f86a0_7a3d_11eb_9af7_0242ac110002row0_col7\" class=\"data row0 col7\" >0</td>\n",
       "                        <td id=\"T_5c0f86a0_7a3d_11eb_9af7_0242ac110002row0_col8\" class=\"data row0 col8\" >0</td>\n",
       "                        <td id=\"T_5c0f86a0_7a3d_11eb_9af7_0242ac110002row0_col9\" class=\"data row0 col9\" >0</td>\n",
       "                        <td id=\"T_5c0f86a0_7a3d_11eb_9af7_0242ac110002row0_col10\" class=\"data row0 col10\" >0</td>\n",
       "                        <td id=\"T_5c0f86a0_7a3d_11eb_9af7_0242ac110002row0_col11\" class=\"data row0 col11\" >0</td>\n",
       "                        <td id=\"T_5c0f86a0_7a3d_11eb_9af7_0242ac110002row0_col12\" class=\"data row0 col12\" >0</td>\n",
       "                        <td id=\"T_5c0f86a0_7a3d_11eb_9af7_0242ac110002row0_col13\" class=\"data row0 col13\" >0</td>\n",
       "                        <td id=\"T_5c0f86a0_7a3d_11eb_9af7_0242ac110002row0_col14\" class=\"data row0 col14\" >0</td>\n",
       "                        <td id=\"T_5c0f86a0_7a3d_11eb_9af7_0242ac110002row0_col15\" class=\"data row0 col15\" >0</td>\n",
       "            </tr>\n",
       "            <tr>\n",
       "                        <th id=\"T_5c0f86a0_7a3d_11eb_9af7_0242ac110002level0_row1\" class=\"row_heading level0 row1\" >1</th>\n",
       "                        <td id=\"T_5c0f86a0_7a3d_11eb_9af7_0242ac110002row1_col0\" class=\"data row1 col0\" >0</td>\n",
       "                        <td id=\"T_5c0f86a0_7a3d_11eb_9af7_0242ac110002row1_col1\" class=\"data row1 col1\" >0</td>\n",
       "                        <td id=\"T_5c0f86a0_7a3d_11eb_9af7_0242ac110002row1_col2\" class=\"data row1 col2\" >0</td>\n",
       "                        <td id=\"T_5c0f86a0_7a3d_11eb_9af7_0242ac110002row1_col3\" class=\"data row1 col3\" >0</td>\n",
       "                        <td id=\"T_5c0f86a0_7a3d_11eb_9af7_0242ac110002row1_col4\" class=\"data row1 col4\" >0</td>\n",
       "                        <td id=\"T_5c0f86a0_7a3d_11eb_9af7_0242ac110002row1_col5\" class=\"data row1 col5\" >29</td>\n",
       "                        <td id=\"T_5c0f86a0_7a3d_11eb_9af7_0242ac110002row1_col6\" class=\"data row1 col6\" >150</td>\n",
       "                        <td id=\"T_5c0f86a0_7a3d_11eb_9af7_0242ac110002row1_col7\" class=\"data row1 col7\" >195</td>\n",
       "                        <td id=\"T_5c0f86a0_7a3d_11eb_9af7_0242ac110002row1_col8\" class=\"data row1 col8\" >254</td>\n",
       "                        <td id=\"T_5c0f86a0_7a3d_11eb_9af7_0242ac110002row1_col9\" class=\"data row1 col9\" >255</td>\n",
       "                        <td id=\"T_5c0f86a0_7a3d_11eb_9af7_0242ac110002row1_col10\" class=\"data row1 col10\" >254</td>\n",
       "                        <td id=\"T_5c0f86a0_7a3d_11eb_9af7_0242ac110002row1_col11\" class=\"data row1 col11\" >176</td>\n",
       "                        <td id=\"T_5c0f86a0_7a3d_11eb_9af7_0242ac110002row1_col12\" class=\"data row1 col12\" >193</td>\n",
       "                        <td id=\"T_5c0f86a0_7a3d_11eb_9af7_0242ac110002row1_col13\" class=\"data row1 col13\" >150</td>\n",
       "                        <td id=\"T_5c0f86a0_7a3d_11eb_9af7_0242ac110002row1_col14\" class=\"data row1 col14\" >96</td>\n",
       "                        <td id=\"T_5c0f86a0_7a3d_11eb_9af7_0242ac110002row1_col15\" class=\"data row1 col15\" >0</td>\n",
       "            </tr>\n",
       "            <tr>\n",
       "                        <th id=\"T_5c0f86a0_7a3d_11eb_9af7_0242ac110002level0_row2\" class=\"row_heading level0 row2\" >2</th>\n",
       "                        <td id=\"T_5c0f86a0_7a3d_11eb_9af7_0242ac110002row2_col0\" class=\"data row2 col0\" >0</td>\n",
       "                        <td id=\"T_5c0f86a0_7a3d_11eb_9af7_0242ac110002row2_col1\" class=\"data row2 col1\" >0</td>\n",
       "                        <td id=\"T_5c0f86a0_7a3d_11eb_9af7_0242ac110002row2_col2\" class=\"data row2 col2\" >0</td>\n",
       "                        <td id=\"T_5c0f86a0_7a3d_11eb_9af7_0242ac110002row2_col3\" class=\"data row2 col3\" >48</td>\n",
       "                        <td id=\"T_5c0f86a0_7a3d_11eb_9af7_0242ac110002row2_col4\" class=\"data row2 col4\" >166</td>\n",
       "                        <td id=\"T_5c0f86a0_7a3d_11eb_9af7_0242ac110002row2_col5\" class=\"data row2 col5\" >224</td>\n",
       "                        <td id=\"T_5c0f86a0_7a3d_11eb_9af7_0242ac110002row2_col6\" class=\"data row2 col6\" >253</td>\n",
       "                        <td id=\"T_5c0f86a0_7a3d_11eb_9af7_0242ac110002row2_col7\" class=\"data row2 col7\" >253</td>\n",
       "                        <td id=\"T_5c0f86a0_7a3d_11eb_9af7_0242ac110002row2_col8\" class=\"data row2 col8\" >234</td>\n",
       "                        <td id=\"T_5c0f86a0_7a3d_11eb_9af7_0242ac110002row2_col9\" class=\"data row2 col9\" >196</td>\n",
       "                        <td id=\"T_5c0f86a0_7a3d_11eb_9af7_0242ac110002row2_col10\" class=\"data row2 col10\" >253</td>\n",
       "                        <td id=\"T_5c0f86a0_7a3d_11eb_9af7_0242ac110002row2_col11\" class=\"data row2 col11\" >253</td>\n",
       "                        <td id=\"T_5c0f86a0_7a3d_11eb_9af7_0242ac110002row2_col12\" class=\"data row2 col12\" >253</td>\n",
       "                        <td id=\"T_5c0f86a0_7a3d_11eb_9af7_0242ac110002row2_col13\" class=\"data row2 col13\" >253</td>\n",
       "                        <td id=\"T_5c0f86a0_7a3d_11eb_9af7_0242ac110002row2_col14\" class=\"data row2 col14\" >233</td>\n",
       "                        <td id=\"T_5c0f86a0_7a3d_11eb_9af7_0242ac110002row2_col15\" class=\"data row2 col15\" >0</td>\n",
       "            </tr>\n",
       "            <tr>\n",
       "                        <th id=\"T_5c0f86a0_7a3d_11eb_9af7_0242ac110002level0_row3\" class=\"row_heading level0 row3\" >3</th>\n",
       "                        <td id=\"T_5c0f86a0_7a3d_11eb_9af7_0242ac110002row3_col0\" class=\"data row3 col0\" >0</td>\n",
       "                        <td id=\"T_5c0f86a0_7a3d_11eb_9af7_0242ac110002row3_col1\" class=\"data row3 col1\" >93</td>\n",
       "                        <td id=\"T_5c0f86a0_7a3d_11eb_9af7_0242ac110002row3_col2\" class=\"data row3 col2\" >244</td>\n",
       "                        <td id=\"T_5c0f86a0_7a3d_11eb_9af7_0242ac110002row3_col3\" class=\"data row3 col3\" >249</td>\n",
       "                        <td id=\"T_5c0f86a0_7a3d_11eb_9af7_0242ac110002row3_col4\" class=\"data row3 col4\" >253</td>\n",
       "                        <td id=\"T_5c0f86a0_7a3d_11eb_9af7_0242ac110002row3_col5\" class=\"data row3 col5\" >187</td>\n",
       "                        <td id=\"T_5c0f86a0_7a3d_11eb_9af7_0242ac110002row3_col6\" class=\"data row3 col6\" >46</td>\n",
       "                        <td id=\"T_5c0f86a0_7a3d_11eb_9af7_0242ac110002row3_col7\" class=\"data row3 col7\" >10</td>\n",
       "                        <td id=\"T_5c0f86a0_7a3d_11eb_9af7_0242ac110002row3_col8\" class=\"data row3 col8\" >8</td>\n",
       "                        <td id=\"T_5c0f86a0_7a3d_11eb_9af7_0242ac110002row3_col9\" class=\"data row3 col9\" >4</td>\n",
       "                        <td id=\"T_5c0f86a0_7a3d_11eb_9af7_0242ac110002row3_col10\" class=\"data row3 col10\" >10</td>\n",
       "                        <td id=\"T_5c0f86a0_7a3d_11eb_9af7_0242ac110002row3_col11\" class=\"data row3 col11\" >194</td>\n",
       "                        <td id=\"T_5c0f86a0_7a3d_11eb_9af7_0242ac110002row3_col12\" class=\"data row3 col12\" >253</td>\n",
       "                        <td id=\"T_5c0f86a0_7a3d_11eb_9af7_0242ac110002row3_col13\" class=\"data row3 col13\" >253</td>\n",
       "                        <td id=\"T_5c0f86a0_7a3d_11eb_9af7_0242ac110002row3_col14\" class=\"data row3 col14\" >233</td>\n",
       "                        <td id=\"T_5c0f86a0_7a3d_11eb_9af7_0242ac110002row3_col15\" class=\"data row3 col15\" >0</td>\n",
       "            </tr>\n",
       "            <tr>\n",
       "                        <th id=\"T_5c0f86a0_7a3d_11eb_9af7_0242ac110002level0_row4\" class=\"row_heading level0 row4\" >4</th>\n",
       "                        <td id=\"T_5c0f86a0_7a3d_11eb_9af7_0242ac110002row4_col0\" class=\"data row4 col0\" >0</td>\n",
       "                        <td id=\"T_5c0f86a0_7a3d_11eb_9af7_0242ac110002row4_col1\" class=\"data row4 col1\" >107</td>\n",
       "                        <td id=\"T_5c0f86a0_7a3d_11eb_9af7_0242ac110002row4_col2\" class=\"data row4 col2\" >253</td>\n",
       "                        <td id=\"T_5c0f86a0_7a3d_11eb_9af7_0242ac110002row4_col3\" class=\"data row4 col3\" >253</td>\n",
       "                        <td id=\"T_5c0f86a0_7a3d_11eb_9af7_0242ac110002row4_col4\" class=\"data row4 col4\" >230</td>\n",
       "                        <td id=\"T_5c0f86a0_7a3d_11eb_9af7_0242ac110002row4_col5\" class=\"data row4 col5\" >48</td>\n",
       "                        <td id=\"T_5c0f86a0_7a3d_11eb_9af7_0242ac110002row4_col6\" class=\"data row4 col6\" >0</td>\n",
       "                        <td id=\"T_5c0f86a0_7a3d_11eb_9af7_0242ac110002row4_col7\" class=\"data row4 col7\" >0</td>\n",
       "                        <td id=\"T_5c0f86a0_7a3d_11eb_9af7_0242ac110002row4_col8\" class=\"data row4 col8\" >0</td>\n",
       "                        <td id=\"T_5c0f86a0_7a3d_11eb_9af7_0242ac110002row4_col9\" class=\"data row4 col9\" >0</td>\n",
       "                        <td id=\"T_5c0f86a0_7a3d_11eb_9af7_0242ac110002row4_col10\" class=\"data row4 col10\" >0</td>\n",
       "                        <td id=\"T_5c0f86a0_7a3d_11eb_9af7_0242ac110002row4_col11\" class=\"data row4 col11\" >192</td>\n",
       "                        <td id=\"T_5c0f86a0_7a3d_11eb_9af7_0242ac110002row4_col12\" class=\"data row4 col12\" >253</td>\n",
       "                        <td id=\"T_5c0f86a0_7a3d_11eb_9af7_0242ac110002row4_col13\" class=\"data row4 col13\" >253</td>\n",
       "                        <td id=\"T_5c0f86a0_7a3d_11eb_9af7_0242ac110002row4_col14\" class=\"data row4 col14\" >156</td>\n",
       "                        <td id=\"T_5c0f86a0_7a3d_11eb_9af7_0242ac110002row4_col15\" class=\"data row4 col15\" >0</td>\n",
       "            </tr>\n",
       "            <tr>\n",
       "                        <th id=\"T_5c0f86a0_7a3d_11eb_9af7_0242ac110002level0_row5\" class=\"row_heading level0 row5\" >5</th>\n",
       "                        <td id=\"T_5c0f86a0_7a3d_11eb_9af7_0242ac110002row5_col0\" class=\"data row5 col0\" >0</td>\n",
       "                        <td id=\"T_5c0f86a0_7a3d_11eb_9af7_0242ac110002row5_col1\" class=\"data row5 col1\" >3</td>\n",
       "                        <td id=\"T_5c0f86a0_7a3d_11eb_9af7_0242ac110002row5_col2\" class=\"data row5 col2\" >20</td>\n",
       "                        <td id=\"T_5c0f86a0_7a3d_11eb_9af7_0242ac110002row5_col3\" class=\"data row5 col3\" >20</td>\n",
       "                        <td id=\"T_5c0f86a0_7a3d_11eb_9af7_0242ac110002row5_col4\" class=\"data row5 col4\" >15</td>\n",
       "                        <td id=\"T_5c0f86a0_7a3d_11eb_9af7_0242ac110002row5_col5\" class=\"data row5 col5\" >0</td>\n",
       "                        <td id=\"T_5c0f86a0_7a3d_11eb_9af7_0242ac110002row5_col6\" class=\"data row5 col6\" >0</td>\n",
       "                        <td id=\"T_5c0f86a0_7a3d_11eb_9af7_0242ac110002row5_col7\" class=\"data row5 col7\" >0</td>\n",
       "                        <td id=\"T_5c0f86a0_7a3d_11eb_9af7_0242ac110002row5_col8\" class=\"data row5 col8\" >0</td>\n",
       "                        <td id=\"T_5c0f86a0_7a3d_11eb_9af7_0242ac110002row5_col9\" class=\"data row5 col9\" >0</td>\n",
       "                        <td id=\"T_5c0f86a0_7a3d_11eb_9af7_0242ac110002row5_col10\" class=\"data row5 col10\" >43</td>\n",
       "                        <td id=\"T_5c0f86a0_7a3d_11eb_9af7_0242ac110002row5_col11\" class=\"data row5 col11\" >224</td>\n",
       "                        <td id=\"T_5c0f86a0_7a3d_11eb_9af7_0242ac110002row5_col12\" class=\"data row5 col12\" >253</td>\n",
       "                        <td id=\"T_5c0f86a0_7a3d_11eb_9af7_0242ac110002row5_col13\" class=\"data row5 col13\" >245</td>\n",
       "                        <td id=\"T_5c0f86a0_7a3d_11eb_9af7_0242ac110002row5_col14\" class=\"data row5 col14\" >74</td>\n",
       "                        <td id=\"T_5c0f86a0_7a3d_11eb_9af7_0242ac110002row5_col15\" class=\"data row5 col15\" >0</td>\n",
       "            </tr>\n",
       "            <tr>\n",
       "                        <th id=\"T_5c0f86a0_7a3d_11eb_9af7_0242ac110002level0_row6\" class=\"row_heading level0 row6\" >6</th>\n",
       "                        <td id=\"T_5c0f86a0_7a3d_11eb_9af7_0242ac110002row6_col0\" class=\"data row6 col0\" >0</td>\n",
       "                        <td id=\"T_5c0f86a0_7a3d_11eb_9af7_0242ac110002row6_col1\" class=\"data row6 col1\" >0</td>\n",
       "                        <td id=\"T_5c0f86a0_7a3d_11eb_9af7_0242ac110002row6_col2\" class=\"data row6 col2\" >0</td>\n",
       "                        <td id=\"T_5c0f86a0_7a3d_11eb_9af7_0242ac110002row6_col3\" class=\"data row6 col3\" >0</td>\n",
       "                        <td id=\"T_5c0f86a0_7a3d_11eb_9af7_0242ac110002row6_col4\" class=\"data row6 col4\" >0</td>\n",
       "                        <td id=\"T_5c0f86a0_7a3d_11eb_9af7_0242ac110002row6_col5\" class=\"data row6 col5\" >0</td>\n",
       "                        <td id=\"T_5c0f86a0_7a3d_11eb_9af7_0242ac110002row6_col6\" class=\"data row6 col6\" >0</td>\n",
       "                        <td id=\"T_5c0f86a0_7a3d_11eb_9af7_0242ac110002row6_col7\" class=\"data row6 col7\" >0</td>\n",
       "                        <td id=\"T_5c0f86a0_7a3d_11eb_9af7_0242ac110002row6_col8\" class=\"data row6 col8\" >0</td>\n",
       "                        <td id=\"T_5c0f86a0_7a3d_11eb_9af7_0242ac110002row6_col9\" class=\"data row6 col9\" >0</td>\n",
       "                        <td id=\"T_5c0f86a0_7a3d_11eb_9af7_0242ac110002row6_col10\" class=\"data row6 col10\" >249</td>\n",
       "                        <td id=\"T_5c0f86a0_7a3d_11eb_9af7_0242ac110002row6_col11\" class=\"data row6 col11\" >253</td>\n",
       "                        <td id=\"T_5c0f86a0_7a3d_11eb_9af7_0242ac110002row6_col12\" class=\"data row6 col12\" >245</td>\n",
       "                        <td id=\"T_5c0f86a0_7a3d_11eb_9af7_0242ac110002row6_col13\" class=\"data row6 col13\" >126</td>\n",
       "                        <td id=\"T_5c0f86a0_7a3d_11eb_9af7_0242ac110002row6_col14\" class=\"data row6 col14\" >0</td>\n",
       "                        <td id=\"T_5c0f86a0_7a3d_11eb_9af7_0242ac110002row6_col15\" class=\"data row6 col15\" >0</td>\n",
       "            </tr>\n",
       "            <tr>\n",
       "                        <th id=\"T_5c0f86a0_7a3d_11eb_9af7_0242ac110002level0_row7\" class=\"row_heading level0 row7\" >7</th>\n",
       "                        <td id=\"T_5c0f86a0_7a3d_11eb_9af7_0242ac110002row7_col0\" class=\"data row7 col0\" >0</td>\n",
       "                        <td id=\"T_5c0f86a0_7a3d_11eb_9af7_0242ac110002row7_col1\" class=\"data row7 col1\" >0</td>\n",
       "                        <td id=\"T_5c0f86a0_7a3d_11eb_9af7_0242ac110002row7_col2\" class=\"data row7 col2\" >0</td>\n",
       "                        <td id=\"T_5c0f86a0_7a3d_11eb_9af7_0242ac110002row7_col3\" class=\"data row7 col3\" >0</td>\n",
       "                        <td id=\"T_5c0f86a0_7a3d_11eb_9af7_0242ac110002row7_col4\" class=\"data row7 col4\" >0</td>\n",
       "                        <td id=\"T_5c0f86a0_7a3d_11eb_9af7_0242ac110002row7_col5\" class=\"data row7 col5\" >0</td>\n",
       "                        <td id=\"T_5c0f86a0_7a3d_11eb_9af7_0242ac110002row7_col6\" class=\"data row7 col6\" >0</td>\n",
       "                        <td id=\"T_5c0f86a0_7a3d_11eb_9af7_0242ac110002row7_col7\" class=\"data row7 col7\" >14</td>\n",
       "                        <td id=\"T_5c0f86a0_7a3d_11eb_9af7_0242ac110002row7_col8\" class=\"data row7 col8\" >101</td>\n",
       "                        <td id=\"T_5c0f86a0_7a3d_11eb_9af7_0242ac110002row7_col9\" class=\"data row7 col9\" >223</td>\n",
       "                        <td id=\"T_5c0f86a0_7a3d_11eb_9af7_0242ac110002row7_col10\" class=\"data row7 col10\" >253</td>\n",
       "                        <td id=\"T_5c0f86a0_7a3d_11eb_9af7_0242ac110002row7_col11\" class=\"data row7 col11\" >248</td>\n",
       "                        <td id=\"T_5c0f86a0_7a3d_11eb_9af7_0242ac110002row7_col12\" class=\"data row7 col12\" >124</td>\n",
       "                        <td id=\"T_5c0f86a0_7a3d_11eb_9af7_0242ac110002row7_col13\" class=\"data row7 col13\" >0</td>\n",
       "                        <td id=\"T_5c0f86a0_7a3d_11eb_9af7_0242ac110002row7_col14\" class=\"data row7 col14\" >0</td>\n",
       "                        <td id=\"T_5c0f86a0_7a3d_11eb_9af7_0242ac110002row7_col15\" class=\"data row7 col15\" >0</td>\n",
       "            </tr>\n",
       "            <tr>\n",
       "                        <th id=\"T_5c0f86a0_7a3d_11eb_9af7_0242ac110002level0_row8\" class=\"row_heading level0 row8\" >8</th>\n",
       "                        <td id=\"T_5c0f86a0_7a3d_11eb_9af7_0242ac110002row8_col0\" class=\"data row8 col0\" >0</td>\n",
       "                        <td id=\"T_5c0f86a0_7a3d_11eb_9af7_0242ac110002row8_col1\" class=\"data row8 col1\" >0</td>\n",
       "                        <td id=\"T_5c0f86a0_7a3d_11eb_9af7_0242ac110002row8_col2\" class=\"data row8 col2\" >0</td>\n",
       "                        <td id=\"T_5c0f86a0_7a3d_11eb_9af7_0242ac110002row8_col3\" class=\"data row8 col3\" >0</td>\n",
       "                        <td id=\"T_5c0f86a0_7a3d_11eb_9af7_0242ac110002row8_col4\" class=\"data row8 col4\" >0</td>\n",
       "                        <td id=\"T_5c0f86a0_7a3d_11eb_9af7_0242ac110002row8_col5\" class=\"data row8 col5\" >11</td>\n",
       "                        <td id=\"T_5c0f86a0_7a3d_11eb_9af7_0242ac110002row8_col6\" class=\"data row8 col6\" >166</td>\n",
       "                        <td id=\"T_5c0f86a0_7a3d_11eb_9af7_0242ac110002row8_col7\" class=\"data row8 col7\" >239</td>\n",
       "                        <td id=\"T_5c0f86a0_7a3d_11eb_9af7_0242ac110002row8_col8\" class=\"data row8 col8\" >253</td>\n",
       "                        <td id=\"T_5c0f86a0_7a3d_11eb_9af7_0242ac110002row8_col9\" class=\"data row8 col9\" >253</td>\n",
       "                        <td id=\"T_5c0f86a0_7a3d_11eb_9af7_0242ac110002row8_col10\" class=\"data row8 col10\" >253</td>\n",
       "                        <td id=\"T_5c0f86a0_7a3d_11eb_9af7_0242ac110002row8_col11\" class=\"data row8 col11\" >187</td>\n",
       "                        <td id=\"T_5c0f86a0_7a3d_11eb_9af7_0242ac110002row8_col12\" class=\"data row8 col12\" >30</td>\n",
       "                        <td id=\"T_5c0f86a0_7a3d_11eb_9af7_0242ac110002row8_col13\" class=\"data row8 col13\" >0</td>\n",
       "                        <td id=\"T_5c0f86a0_7a3d_11eb_9af7_0242ac110002row8_col14\" class=\"data row8 col14\" >0</td>\n",
       "                        <td id=\"T_5c0f86a0_7a3d_11eb_9af7_0242ac110002row8_col15\" class=\"data row8 col15\" >0</td>\n",
       "            </tr>\n",
       "            <tr>\n",
       "                        <th id=\"T_5c0f86a0_7a3d_11eb_9af7_0242ac110002level0_row9\" class=\"row_heading level0 row9\" >9</th>\n",
       "                        <td id=\"T_5c0f86a0_7a3d_11eb_9af7_0242ac110002row9_col0\" class=\"data row9 col0\" >0</td>\n",
       "                        <td id=\"T_5c0f86a0_7a3d_11eb_9af7_0242ac110002row9_col1\" class=\"data row9 col1\" >0</td>\n",
       "                        <td id=\"T_5c0f86a0_7a3d_11eb_9af7_0242ac110002row9_col2\" class=\"data row9 col2\" >0</td>\n",
       "                        <td id=\"T_5c0f86a0_7a3d_11eb_9af7_0242ac110002row9_col3\" class=\"data row9 col3\" >0</td>\n",
       "                        <td id=\"T_5c0f86a0_7a3d_11eb_9af7_0242ac110002row9_col4\" class=\"data row9 col4\" >0</td>\n",
       "                        <td id=\"T_5c0f86a0_7a3d_11eb_9af7_0242ac110002row9_col5\" class=\"data row9 col5\" >16</td>\n",
       "                        <td id=\"T_5c0f86a0_7a3d_11eb_9af7_0242ac110002row9_col6\" class=\"data row9 col6\" >248</td>\n",
       "                        <td id=\"T_5c0f86a0_7a3d_11eb_9af7_0242ac110002row9_col7\" class=\"data row9 col7\" >250</td>\n",
       "                        <td id=\"T_5c0f86a0_7a3d_11eb_9af7_0242ac110002row9_col8\" class=\"data row9 col8\" >253</td>\n",
       "                        <td id=\"T_5c0f86a0_7a3d_11eb_9af7_0242ac110002row9_col9\" class=\"data row9 col9\" >253</td>\n",
       "                        <td id=\"T_5c0f86a0_7a3d_11eb_9af7_0242ac110002row9_col10\" class=\"data row9 col10\" >253</td>\n",
       "                        <td id=\"T_5c0f86a0_7a3d_11eb_9af7_0242ac110002row9_col11\" class=\"data row9 col11\" >253</td>\n",
       "                        <td id=\"T_5c0f86a0_7a3d_11eb_9af7_0242ac110002row9_col12\" class=\"data row9 col12\" >232</td>\n",
       "                        <td id=\"T_5c0f86a0_7a3d_11eb_9af7_0242ac110002row9_col13\" class=\"data row9 col13\" >213</td>\n",
       "                        <td id=\"T_5c0f86a0_7a3d_11eb_9af7_0242ac110002row9_col14\" class=\"data row9 col14\" >111</td>\n",
       "                        <td id=\"T_5c0f86a0_7a3d_11eb_9af7_0242ac110002row9_col15\" class=\"data row9 col15\" >2</td>\n",
       "            </tr>\n",
       "            <tr>\n",
       "                        <th id=\"T_5c0f86a0_7a3d_11eb_9af7_0242ac110002level0_row10\" class=\"row_heading level0 row10\" >10</th>\n",
       "                        <td id=\"T_5c0f86a0_7a3d_11eb_9af7_0242ac110002row10_col0\" class=\"data row10 col0\" >0</td>\n",
       "                        <td id=\"T_5c0f86a0_7a3d_11eb_9af7_0242ac110002row10_col1\" class=\"data row10 col1\" >0</td>\n",
       "                        <td id=\"T_5c0f86a0_7a3d_11eb_9af7_0242ac110002row10_col2\" class=\"data row10 col2\" >0</td>\n",
       "                        <td id=\"T_5c0f86a0_7a3d_11eb_9af7_0242ac110002row10_col3\" class=\"data row10 col3\" >0</td>\n",
       "                        <td id=\"T_5c0f86a0_7a3d_11eb_9af7_0242ac110002row10_col4\" class=\"data row10 col4\" >0</td>\n",
       "                        <td id=\"T_5c0f86a0_7a3d_11eb_9af7_0242ac110002row10_col5\" class=\"data row10 col5\" >0</td>\n",
       "                        <td id=\"T_5c0f86a0_7a3d_11eb_9af7_0242ac110002row10_col6\" class=\"data row10 col6\" >0</td>\n",
       "                        <td id=\"T_5c0f86a0_7a3d_11eb_9af7_0242ac110002row10_col7\" class=\"data row10 col7\" >43</td>\n",
       "                        <td id=\"T_5c0f86a0_7a3d_11eb_9af7_0242ac110002row10_col8\" class=\"data row10 col8\" >98</td>\n",
       "                        <td id=\"T_5c0f86a0_7a3d_11eb_9af7_0242ac110002row10_col9\" class=\"data row10 col9\" >98</td>\n",
       "                        <td id=\"T_5c0f86a0_7a3d_11eb_9af7_0242ac110002row10_col10\" class=\"data row10 col10\" >208</td>\n",
       "                        <td id=\"T_5c0f86a0_7a3d_11eb_9af7_0242ac110002row10_col11\" class=\"data row10 col11\" >253</td>\n",
       "                        <td id=\"T_5c0f86a0_7a3d_11eb_9af7_0242ac110002row10_col12\" class=\"data row10 col12\" >253</td>\n",
       "                        <td id=\"T_5c0f86a0_7a3d_11eb_9af7_0242ac110002row10_col13\" class=\"data row10 col13\" >253</td>\n",
       "                        <td id=\"T_5c0f86a0_7a3d_11eb_9af7_0242ac110002row10_col14\" class=\"data row10 col14\" >253</td>\n",
       "                        <td id=\"T_5c0f86a0_7a3d_11eb_9af7_0242ac110002row10_col15\" class=\"data row10 col15\" >187</td>\n",
       "            </tr>\n",
       "            <tr>\n",
       "                        <th id=\"T_5c0f86a0_7a3d_11eb_9af7_0242ac110002level0_row11\" class=\"row_heading level0 row11\" >11</th>\n",
       "                        <td id=\"T_5c0f86a0_7a3d_11eb_9af7_0242ac110002row11_col0\" class=\"data row11 col0\" >0</td>\n",
       "                        <td id=\"T_5c0f86a0_7a3d_11eb_9af7_0242ac110002row11_col1\" class=\"data row11 col1\" >0</td>\n",
       "                        <td id=\"T_5c0f86a0_7a3d_11eb_9af7_0242ac110002row11_col2\" class=\"data row11 col2\" >0</td>\n",
       "                        <td id=\"T_5c0f86a0_7a3d_11eb_9af7_0242ac110002row11_col3\" class=\"data row11 col3\" >0</td>\n",
       "                        <td id=\"T_5c0f86a0_7a3d_11eb_9af7_0242ac110002row11_col4\" class=\"data row11 col4\" >0</td>\n",
       "                        <td id=\"T_5c0f86a0_7a3d_11eb_9af7_0242ac110002row11_col5\" class=\"data row11 col5\" >0</td>\n",
       "                        <td id=\"T_5c0f86a0_7a3d_11eb_9af7_0242ac110002row11_col6\" class=\"data row11 col6\" >0</td>\n",
       "                        <td id=\"T_5c0f86a0_7a3d_11eb_9af7_0242ac110002row11_col7\" class=\"data row11 col7\" >0</td>\n",
       "                        <td id=\"T_5c0f86a0_7a3d_11eb_9af7_0242ac110002row11_col8\" class=\"data row11 col8\" >0</td>\n",
       "                        <td id=\"T_5c0f86a0_7a3d_11eb_9af7_0242ac110002row11_col9\" class=\"data row11 col9\" >0</td>\n",
       "                        <td id=\"T_5c0f86a0_7a3d_11eb_9af7_0242ac110002row11_col10\" class=\"data row11 col10\" >9</td>\n",
       "                        <td id=\"T_5c0f86a0_7a3d_11eb_9af7_0242ac110002row11_col11\" class=\"data row11 col11\" >51</td>\n",
       "                        <td id=\"T_5c0f86a0_7a3d_11eb_9af7_0242ac110002row11_col12\" class=\"data row11 col12\" >119</td>\n",
       "                        <td id=\"T_5c0f86a0_7a3d_11eb_9af7_0242ac110002row11_col13\" class=\"data row11 col13\" >253</td>\n",
       "                        <td id=\"T_5c0f86a0_7a3d_11eb_9af7_0242ac110002row11_col14\" class=\"data row11 col14\" >253</td>\n",
       "                        <td id=\"T_5c0f86a0_7a3d_11eb_9af7_0242ac110002row11_col15\" class=\"data row11 col15\" >253</td>\n",
       "            </tr>\n",
       "            <tr>\n",
       "                        <th id=\"T_5c0f86a0_7a3d_11eb_9af7_0242ac110002level0_row12\" class=\"row_heading level0 row12\" >12</th>\n",
       "                        <td id=\"T_5c0f86a0_7a3d_11eb_9af7_0242ac110002row12_col0\" class=\"data row12 col0\" >0</td>\n",
       "                        <td id=\"T_5c0f86a0_7a3d_11eb_9af7_0242ac110002row12_col1\" class=\"data row12 col1\" >0</td>\n",
       "                        <td id=\"T_5c0f86a0_7a3d_11eb_9af7_0242ac110002row12_col2\" class=\"data row12 col2\" >0</td>\n",
       "                        <td id=\"T_5c0f86a0_7a3d_11eb_9af7_0242ac110002row12_col3\" class=\"data row12 col3\" >0</td>\n",
       "                        <td id=\"T_5c0f86a0_7a3d_11eb_9af7_0242ac110002row12_col4\" class=\"data row12 col4\" >0</td>\n",
       "                        <td id=\"T_5c0f86a0_7a3d_11eb_9af7_0242ac110002row12_col5\" class=\"data row12 col5\" >0</td>\n",
       "                        <td id=\"T_5c0f86a0_7a3d_11eb_9af7_0242ac110002row12_col6\" class=\"data row12 col6\" >0</td>\n",
       "                        <td id=\"T_5c0f86a0_7a3d_11eb_9af7_0242ac110002row12_col7\" class=\"data row12 col7\" >0</td>\n",
       "                        <td id=\"T_5c0f86a0_7a3d_11eb_9af7_0242ac110002row12_col8\" class=\"data row12 col8\" >0</td>\n",
       "                        <td id=\"T_5c0f86a0_7a3d_11eb_9af7_0242ac110002row12_col9\" class=\"data row12 col9\" >0</td>\n",
       "                        <td id=\"T_5c0f86a0_7a3d_11eb_9af7_0242ac110002row12_col10\" class=\"data row12 col10\" >0</td>\n",
       "                        <td id=\"T_5c0f86a0_7a3d_11eb_9af7_0242ac110002row12_col11\" class=\"data row12 col11\" >0</td>\n",
       "                        <td id=\"T_5c0f86a0_7a3d_11eb_9af7_0242ac110002row12_col12\" class=\"data row12 col12\" >1</td>\n",
       "                        <td id=\"T_5c0f86a0_7a3d_11eb_9af7_0242ac110002row12_col13\" class=\"data row12 col13\" >183</td>\n",
       "                        <td id=\"T_5c0f86a0_7a3d_11eb_9af7_0242ac110002row12_col14\" class=\"data row12 col14\" >253</td>\n",
       "                        <td id=\"T_5c0f86a0_7a3d_11eb_9af7_0242ac110002row12_col15\" class=\"data row12 col15\" >253</td>\n",
       "            </tr>\n",
       "            <tr>\n",
       "                        <th id=\"T_5c0f86a0_7a3d_11eb_9af7_0242ac110002level0_row13\" class=\"row_heading level0 row13\" >13</th>\n",
       "                        <td id=\"T_5c0f86a0_7a3d_11eb_9af7_0242ac110002row13_col0\" class=\"data row13 col0\" >0</td>\n",
       "                        <td id=\"T_5c0f86a0_7a3d_11eb_9af7_0242ac110002row13_col1\" class=\"data row13 col1\" >0</td>\n",
       "                        <td id=\"T_5c0f86a0_7a3d_11eb_9af7_0242ac110002row13_col2\" class=\"data row13 col2\" >0</td>\n",
       "                        <td id=\"T_5c0f86a0_7a3d_11eb_9af7_0242ac110002row13_col3\" class=\"data row13 col3\" >0</td>\n",
       "                        <td id=\"T_5c0f86a0_7a3d_11eb_9af7_0242ac110002row13_col4\" class=\"data row13 col4\" >0</td>\n",
       "                        <td id=\"T_5c0f86a0_7a3d_11eb_9af7_0242ac110002row13_col5\" class=\"data row13 col5\" >0</td>\n",
       "                        <td id=\"T_5c0f86a0_7a3d_11eb_9af7_0242ac110002row13_col6\" class=\"data row13 col6\" >0</td>\n",
       "                        <td id=\"T_5c0f86a0_7a3d_11eb_9af7_0242ac110002row13_col7\" class=\"data row13 col7\" >0</td>\n",
       "                        <td id=\"T_5c0f86a0_7a3d_11eb_9af7_0242ac110002row13_col8\" class=\"data row13 col8\" >0</td>\n",
       "                        <td id=\"T_5c0f86a0_7a3d_11eb_9af7_0242ac110002row13_col9\" class=\"data row13 col9\" >0</td>\n",
       "                        <td id=\"T_5c0f86a0_7a3d_11eb_9af7_0242ac110002row13_col10\" class=\"data row13 col10\" >0</td>\n",
       "                        <td id=\"T_5c0f86a0_7a3d_11eb_9af7_0242ac110002row13_col11\" class=\"data row13 col11\" >0</td>\n",
       "                        <td id=\"T_5c0f86a0_7a3d_11eb_9af7_0242ac110002row13_col12\" class=\"data row13 col12\" >0</td>\n",
       "                        <td id=\"T_5c0f86a0_7a3d_11eb_9af7_0242ac110002row13_col13\" class=\"data row13 col13\" >182</td>\n",
       "                        <td id=\"T_5c0f86a0_7a3d_11eb_9af7_0242ac110002row13_col14\" class=\"data row13 col14\" >253</td>\n",
       "                        <td id=\"T_5c0f86a0_7a3d_11eb_9af7_0242ac110002row13_col15\" class=\"data row13 col15\" >253</td>\n",
       "            </tr>\n",
       "            <tr>\n",
       "                        <th id=\"T_5c0f86a0_7a3d_11eb_9af7_0242ac110002level0_row14\" class=\"row_heading level0 row14\" >14</th>\n",
       "                        <td id=\"T_5c0f86a0_7a3d_11eb_9af7_0242ac110002row14_col0\" class=\"data row14 col0\" >0</td>\n",
       "                        <td id=\"T_5c0f86a0_7a3d_11eb_9af7_0242ac110002row14_col1\" class=\"data row14 col1\" >0</td>\n",
       "                        <td id=\"T_5c0f86a0_7a3d_11eb_9af7_0242ac110002row14_col2\" class=\"data row14 col2\" >0</td>\n",
       "                        <td id=\"T_5c0f86a0_7a3d_11eb_9af7_0242ac110002row14_col3\" class=\"data row14 col3\" >0</td>\n",
       "                        <td id=\"T_5c0f86a0_7a3d_11eb_9af7_0242ac110002row14_col4\" class=\"data row14 col4\" >0</td>\n",
       "                        <td id=\"T_5c0f86a0_7a3d_11eb_9af7_0242ac110002row14_col5\" class=\"data row14 col5\" >0</td>\n",
       "                        <td id=\"T_5c0f86a0_7a3d_11eb_9af7_0242ac110002row14_col6\" class=\"data row14 col6\" >0</td>\n",
       "                        <td id=\"T_5c0f86a0_7a3d_11eb_9af7_0242ac110002row14_col7\" class=\"data row14 col7\" >0</td>\n",
       "                        <td id=\"T_5c0f86a0_7a3d_11eb_9af7_0242ac110002row14_col8\" class=\"data row14 col8\" >0</td>\n",
       "                        <td id=\"T_5c0f86a0_7a3d_11eb_9af7_0242ac110002row14_col9\" class=\"data row14 col9\" >0</td>\n",
       "                        <td id=\"T_5c0f86a0_7a3d_11eb_9af7_0242ac110002row14_col10\" class=\"data row14 col10\" >0</td>\n",
       "                        <td id=\"T_5c0f86a0_7a3d_11eb_9af7_0242ac110002row14_col11\" class=\"data row14 col11\" >0</td>\n",
       "                        <td id=\"T_5c0f86a0_7a3d_11eb_9af7_0242ac110002row14_col12\" class=\"data row14 col12\" >85</td>\n",
       "                        <td id=\"T_5c0f86a0_7a3d_11eb_9af7_0242ac110002row14_col13\" class=\"data row14 col13\" >249</td>\n",
       "                        <td id=\"T_5c0f86a0_7a3d_11eb_9af7_0242ac110002row14_col14\" class=\"data row14 col14\" >253</td>\n",
       "                        <td id=\"T_5c0f86a0_7a3d_11eb_9af7_0242ac110002row14_col15\" class=\"data row14 col15\" >253</td>\n",
       "            </tr>\n",
       "            <tr>\n",
       "                        <th id=\"T_5c0f86a0_7a3d_11eb_9af7_0242ac110002level0_row15\" class=\"row_heading level0 row15\" >15</th>\n",
       "                        <td id=\"T_5c0f86a0_7a3d_11eb_9af7_0242ac110002row15_col0\" class=\"data row15 col0\" >0</td>\n",
       "                        <td id=\"T_5c0f86a0_7a3d_11eb_9af7_0242ac110002row15_col1\" class=\"data row15 col1\" >0</td>\n",
       "                        <td id=\"T_5c0f86a0_7a3d_11eb_9af7_0242ac110002row15_col2\" class=\"data row15 col2\" >0</td>\n",
       "                        <td id=\"T_5c0f86a0_7a3d_11eb_9af7_0242ac110002row15_col3\" class=\"data row15 col3\" >0</td>\n",
       "                        <td id=\"T_5c0f86a0_7a3d_11eb_9af7_0242ac110002row15_col4\" class=\"data row15 col4\" >0</td>\n",
       "                        <td id=\"T_5c0f86a0_7a3d_11eb_9af7_0242ac110002row15_col5\" class=\"data row15 col5\" >0</td>\n",
       "                        <td id=\"T_5c0f86a0_7a3d_11eb_9af7_0242ac110002row15_col6\" class=\"data row15 col6\" >0</td>\n",
       "                        <td id=\"T_5c0f86a0_7a3d_11eb_9af7_0242ac110002row15_col7\" class=\"data row15 col7\" >0</td>\n",
       "                        <td id=\"T_5c0f86a0_7a3d_11eb_9af7_0242ac110002row15_col8\" class=\"data row15 col8\" >0</td>\n",
       "                        <td id=\"T_5c0f86a0_7a3d_11eb_9af7_0242ac110002row15_col9\" class=\"data row15 col9\" >0</td>\n",
       "                        <td id=\"T_5c0f86a0_7a3d_11eb_9af7_0242ac110002row15_col10\" class=\"data row15 col10\" >0</td>\n",
       "                        <td id=\"T_5c0f86a0_7a3d_11eb_9af7_0242ac110002row15_col11\" class=\"data row15 col11\" >60</td>\n",
       "                        <td id=\"T_5c0f86a0_7a3d_11eb_9af7_0242ac110002row15_col12\" class=\"data row15 col12\" >214</td>\n",
       "                        <td id=\"T_5c0f86a0_7a3d_11eb_9af7_0242ac110002row15_col13\" class=\"data row15 col13\" >253</td>\n",
       "                        <td id=\"T_5c0f86a0_7a3d_11eb_9af7_0242ac110002row15_col14\" class=\"data row15 col14\" >253</td>\n",
       "                        <td id=\"T_5c0f86a0_7a3d_11eb_9af7_0242ac110002row15_col15\" class=\"data row15 col15\" >173</td>\n",
       "            </tr>\n",
       "    </tbody></table>"
      ],
      "text/plain": [
       "<pandas.io.formats.style.Styler at 0x7f1577f75760>"
      ]
     },
     "execution_count": 11,
     "metadata": {},
     "output_type": "execute_result"
    }
   ],
   "source": [
    "three_df = pd.DataFrame(tensor(im)[4:20,4:20])\n",
    "three_df.style.set_properties().background_gradient('Greys')"
   ]
  },
  {
   "cell_type": "markdown",
   "metadata": {},
   "source": [
    "### Simple approach to identify pictures"
   ]
  },
  {
   "cell_type": "code",
   "execution_count": 12,
   "metadata": {},
   "outputs": [
    {
     "data": {
      "text/plain": [
       "(6131, 6265)"
      ]
     },
     "execution_count": 12,
     "metadata": {},
     "output_type": "execute_result"
    }
   ],
   "source": [
    "threes_list = [tensor(Image.open(o)) for o in threes]\n",
    "sevens_list = [tensor(Image.open(o)) for o in sevens]\n",
    "len(threes_list), len(sevens_list)"
   ]
  },
  {
   "cell_type": "code",
   "execution_count": 13,
   "metadata": {},
   "outputs": [
    {
     "data": {
      "text/plain": [
       "<AxesSubplot:>"
      ]
     },
     "execution_count": 13,
     "metadata": {},
     "output_type": "execute_result"
    },
    {
     "data": {
      "image/png": "[encoded data removed]",
      "text/plain": [
       "<Figure size 72x72 with 1 Axes>"
      ]
     },
     "metadata": {
      "needs_background": "light"
     },
     "output_type": "display_data"
    }
   ],
   "source": [
    "show_image(threes_list[1])"
   ]
  },
  {
   "cell_type": "code",
   "execution_count": 14,
   "metadata": {},
   "outputs": [
    {
     "data": {
      "text/plain": [
       "255"
      ]
     },
     "execution_count": 14,
     "metadata": {},
     "output_type": "execute_result"
    }
   ],
   "source": [
    "max([int(threes_list[i].max()) for i in range(len(threes_list))])"
   ]
  },
  {
   "cell_type": "code",
   "execution_count": 15,
   "metadata": {},
   "outputs": [
    {
     "data": {
      "text/plain": [
       "(torch.Size([6131, 28, 28]), torch.Size([6265, 28, 28]))"
      ]
     },
     "execution_count": 15,
     "metadata": {},
     "output_type": "execute_result"
    }
   ],
   "source": [
    "threes_stacked = torch.stack(threes_list).float()/255\n",
    "sevens_stacked = torch.stack(sevens_list).float()/255\n",
    "threes_stacked.shape, sevens_stacked.shape"
   ]
  },
  {
   "cell_type": "code",
   "execution_count": 16,
   "metadata": {},
   "outputs": [
    {
     "data": {
      "text/plain": [
       "<AxesSubplot:>"
      ]
     },
     "execution_count": 16,
     "metadata": {},
     "output_type": "execute_result"
    },
    {
     "data": {
      "image/png": "[encoded data removed]",
      "text/plain": [
       "<Figure size 72x72 with 1 Axes>"
      ]
     },
     "metadata": {
      "needs_background": "light"
     },
     "output_type": "display_data"
    }
   ],
   "source": [
    "avg_three = threes_stacked.mean(0)\n",
    "show_image(avg_three)"
   ]
  },
  {
   "cell_type": "code",
   "execution_count": 17,
   "metadata": {},
   "outputs": [
    {
     "data": {
      "text/plain": [
       "<AxesSubplot:>"
      ]
     },
     "execution_count": 17,
     "metadata": {},
     "output_type": "execute_result"
    },
    {
     "data": {
      "image/png": "[encoded data removed]",
      "text/plain": [
       "<Figure size 72x72 with 1 Axes>"
      ]
     },
     "metadata": {
      "needs_background": "light"
     },
     "output_type": "display_data"
    }
   ],
   "source": [
    "avg_seven = sevens_stacked.mean(0)\n",
    "show_image(avg_seven)"
   ]
  },
  {
   "cell_type": "markdown",
   "metadata": {},
   "source": [
    "Take one image and find diffences"
   ]
  },
  {
   "cell_type": "code",
   "execution_count": 18,
   "metadata": {},
   "outputs": [
    {
     "data": {
      "text/plain": [
       "(#1010) [Path('valid/3/5309.png'),Path('valid/3/9812.png'),Path('valid/3/5635.png'),Path('valid/3/2072.png'),Path('valid/3/3094.png'),Path('valid/3/7075.png'),Path('valid/3/2069.png'),Path('valid/3/4638.png'),Path('valid/3/991.png'),Path('valid/3/323.png')...]"
      ]
     },
     "execution_count": 18,
     "metadata": {},
     "output_type": "execute_result"
    }
   ],
   "source": [
    "(path/'valid'/'3').ls()"
   ]
  },
  {
   "cell_type": "code",
   "execution_count": 19,
   "metadata": {},
   "outputs": [
    {
     "data": {
      "image/png": "[encoded data removed]",
      "text/plain": [
       "<PIL.PngImagePlugin.PngImageFile image mode=L size=28x28 at 0x7F1577833790>"
      ]
     },
     "execution_count": 19,
     "metadata": {},
     "output_type": "execute_result"
    }
   ],
   "source": [
    "test_image = Image.open((path/'valid'/'3'/'5309.png'))\n",
    "test_image"
   ]
  },
  {
   "cell_type": "code",
   "execution_count": 20,
   "metadata": {},
   "outputs": [],
   "source": [
    "test_image_fin = (tensor(test_image).float()/255)"
   ]
  },
  {
   "cell_type": "markdown",
   "metadata": {},
   "source": [
    "Find the error terms"
   ]
  },
  {
   "cell_type": "code",
   "execution_count": 21,
   "metadata": {},
   "outputs": [
    {
     "data": {
      "text/plain": [
       "(tensor(0.1290), tensor(0.1769))"
      ]
     },
     "execution_count": 21,
     "metadata": {},
     "output_type": "execute_result"
    }
   ],
   "source": [
    "l1_with_3 = (test_image_fin - avg_three).abs().mean()\n",
    "l1_with_7 = (test_image_fin - avg_seven).abs().mean()\n",
    "l1_with_3, l1_with_7"
   ]
  },
  {
   "cell_type": "code",
   "execution_count": 22,
   "metadata": {},
   "outputs": [
    {
     "data": {
      "text/plain": [
       "(tensor(0.0561), tensor(0.1071))"
      ]
     },
     "execution_count": 22,
     "metadata": {},
     "output_type": "execute_result"
    }
   ],
   "source": [
    "l2_with_3 = ((test_image_fin - avg_three)**2).abs().mean()\n",
    "l2_with_7 = ((test_image_fin - avg_seven)**2).abs().mean()\n",
    "l2_with_3, l2_with_7"
   ]
  },
  {
   "cell_type": "markdown",
   "metadata": {},
   "source": [
    "### Score all the images using simple logic to find accuracy"
   ]
  },
  {
   "cell_type": "code",
   "execution_count": 23,
   "metadata": {},
   "outputs": [
    {
     "data": {
      "text/plain": [
       "(1010, 1028)"
      ]
     },
     "execution_count": 23,
     "metadata": {},
     "output_type": "execute_result"
    }
   ],
   "source": [
    "valid_threes_paths = (path/'valid'/'3').ls()\n",
    "valid_sevens_paths = (path/'valid'/'7').ls()\n",
    "len(valid_threes_paths), len(valid_sevens_paths)"
   ]
  },
  {
   "cell_type": "code",
   "execution_count": 24,
   "metadata": {},
   "outputs": [
    {
     "data": {
      "text/plain": [
       "(torch.Size([1010, 28, 28]), torch.Size([1028, 28, 28]))"
      ]
     },
     "execution_count": 24,
     "metadata": {},
     "output_type": "execute_result"
    }
   ],
   "source": [
    "valid_threes = torch.stack([tensor(Image.open(p)) for p in valid_threes_paths])\n",
    "valid_sevens = torch.stack([tensor(Image.open(p)) for p in valid_sevens_paths])\n",
    "valid_threes.shape, valid_sevens.shape"
   ]
  },
  {
   "cell_type": "code",
   "execution_count": 25,
   "metadata": {},
   "outputs": [
    {
     "data": {
      "text/plain": [
       "<AxesSubplot:>"
      ]
     },
     "execution_count": 25,
     "metadata": {},
     "output_type": "execute_result"
    },
    {
     "data": {
      "image/png": "[encoded data removed]",
      "text/plain": [
       "<Figure size 72x72 with 1 Axes>"
      ]
     },
     "metadata": {
      "needs_background": "light"
     },
     "output_type": "display_data"
    }
   ],
   "source": [
    "show_image(valid_threes[0])"
   ]
  },
  {
   "cell_type": "code",
   "execution_count": 26,
   "metadata": {},
   "outputs": [
    {
     "data": {
      "text/plain": [
       "(torch.Size([1010]),\n",
       " torch.Size([1010]),\n",
       " torch.Size([1010]),\n",
       " torch.Size([1028]))"
      ]
     },
     "execution_count": 26,
     "metadata": {},
     "output_type": "execute_result"
    }
   ],
   "source": [
    "valid3_losss_w3 = (valid_threes-avg_three).abs().mean((-1,-2))\n",
    "valid3_losss_w7 = (valid_threes-avg_seven).abs().mean((-1,-2))\n",
    "valid7_losss_w3 = (valid_sevens-avg_three).abs().mean((-1,-2))\n",
    "valid7_losss_w7 = (valid_sevens-avg_seven).abs().mean((-1,-2))\n",
    "valid3_losss_w3.shape, valid3_losss_w7.shape, valid3_losss_w7.shape, valid7_losss_w7.shape"
   ]
  },
  {
   "cell_type": "code",
   "execution_count": 27,
   "metadata": {},
   "outputs": [
    {
     "data": {
      "text/plain": [
       "(tensor(0.9436), tensor(0.9815), tensor(0.9627))"
      ]
     },
     "execution_count": 27,
     "metadata": {},
     "output_type": "execute_result"
    }
   ],
   "source": [
    "accuracy_3 = sum(valid3_losss_w3 < valid3_losss_w7)/len(valid3_losss_w3)\n",
    "accuracy_7 = sum(valid7_losss_w7 < valid7_losss_w3)/len(valid7_losss_w7)\n",
    "accuracy_tot = (sum(valid3_losss_w3 < valid3_losss_w7)+sum(valid7_losss_w7 < valid7_losss_w3))/(len(valid3_losss_w3)+len(valid7_losss_w7))\n",
    "accuracy_3, accuracy_7, accuracy_tot"
   ]
  },
  {
   "cell_type": "markdown",
   "metadata": {},
   "source": [
    "### Stocastic Gradient Descent"
   ]
  },
  {
   "cell_type": "code",
   "execution_count": 28,
   "metadata": {},
   "outputs": [],
   "source": [
    "from fastbook import *"
   ]
  },
  {
   "cell_type": "code",
   "execution_count": 29,
   "metadata": {},
   "outputs": [],
   "source": [
    "def f(x): return x**2"
   ]
  },
  {
   "cell_type": "code",
   "execution_count": 30,
   "metadata": {},
   "outputs": [
    {
     "name": "stderr",
     "output_type": "stream",
     "text": [
      "/opt/conda/envs/fastai/lib/python3.8/site-packages/fastbook/__init__.py:73: UserWarning: Not providing a value for linspace's steps is deprecated and will throw a runtime error in a future release. This warning will appear only once per process. (Triggered internally at  /opt/conda/conda-bld/pytorch_1603729096996/work/aten/src/ATen/native/RangeFactories.cpp:23.)\n",
      "  x = torch.linspace(min,max)\n"
     ]
    },
    {
     "data": {
      "image/png": "[encoded data removed]",
      "text/plain": [
       "<Figure size 432x288 with 1 Axes>"
      ]
     },
     "metadata": {
      "needs_background": "light"
     },
     "output_type": "display_data"
    }
   ],
   "source": [
    "plot_function(f, 'x', 'x**2')"
   ]
  },
  {
   "cell_type": "code",
   "execution_count": 31,
   "metadata": {},
   "outputs": [
    {
     "data": {
      "text/plain": [
       "<matplotlib.collections.PathCollection at 0x7f15767b7940>"
      ]
     },
     "execution_count": 31,
     "metadata": {},
     "output_type": "execute_result"
    },
    {
     "data": {
      "image/png": "[encoded data removed]",
      "text/plain": [
       "<Figure size 432x288 with 1 Axes>"
      ]
     },
     "metadata": {
      "needs_background": "light"
     },
     "output_type": "display_data"
    }
   ],
   "source": [
    "plot_function(f, 'x', 'x**2')\n",
    "plt.scatter(-1.5, f(-1.5), color='red')"
   ]
  },
  {
   "cell_type": "code",
   "execution_count": 32,
   "metadata": {},
   "outputs": [
    {
     "data": {
      "text/plain": [
       "tensor(3., requires_grad=True)"
      ]
     },
     "execution_count": 32,
     "metadata": {},
     "output_type": "execute_result"
    }
   ],
   "source": [
    "xt = tensor(3.).requires_grad_()\n",
    "xt"
   ]
  },
  {
   "cell_type": "code",
   "execution_count": 33,
   "metadata": {},
   "outputs": [
    {
     "data": {
      "text/plain": [
       "tensor(9., grad_fn=<PowBackward0>)"
      ]
     },
     "execution_count": 33,
     "metadata": {},
     "output_type": "execute_result"
    }
   ],
   "source": [
    "yt = f(xt)\n",
    "yt"
   ]
  },
  {
   "cell_type": "code",
   "execution_count": 34,
   "metadata": {},
   "outputs": [],
   "source": [
    "yt.backward()"
   ]
  },
  {
   "cell_type": "code",
   "execution_count": 35,
   "metadata": {},
   "outputs": [
    {
     "data": {
      "text/plain": [
       "tensor(6.)"
      ]
     },
     "execution_count": 35,
     "metadata": {},
     "output_type": "execute_result"
    }
   ],
   "source": [
    "xt.grad"
   ]
  },
  {
   "cell_type": "code",
   "execution_count": 36,
   "metadata": {},
   "outputs": [
    {
     "data": {
      "text/plain": [
       "tensor([2., 3., 4.], requires_grad=True)"
      ]
     },
     "execution_count": 36,
     "metadata": {},
     "output_type": "execute_result"
    }
   ],
   "source": [
    "xt = tensor([2.,3.,4.]).requires_grad_()\n",
    "xt"
   ]
  },
  {
   "cell_type": "code",
   "execution_count": 37,
   "metadata": {},
   "outputs": [
    {
     "data": {
      "text/plain": [
       "tensor(29., grad_fn=<SumBackward0>)"
      ]
     },
     "execution_count": 37,
     "metadata": {},
     "output_type": "execute_result"
    }
   ],
   "source": [
    "yt = f(xt).sum()\n",
    "yt"
   ]
  },
  {
   "cell_type": "code",
   "execution_count": 38,
   "metadata": {},
   "outputs": [
    {
     "data": {
      "text/plain": [
       "tensor([4., 6., 8.])"
      ]
     },
     "execution_count": 38,
     "metadata": {},
     "output_type": "execute_result"
    }
   ],
   "source": [
    "yt.backward()\n",
    "xt.grad"
   ]
  },
  {
   "cell_type": "markdown",
   "metadata": {},
   "source": [
    "### End-to-End SGD"
   ]
  },
  {
   "cell_type": "code",
   "execution_count": 39,
   "metadata": {},
   "outputs": [
    {
     "data": {
      "text/plain": [
       "tensor([ 0.,  1.,  2.,  3.,  4.,  5.,  6.,  7.,  8.,  9., 10., 11., 12., 13., 14., 15., 16., 17., 18., 19.])"
      ]
     },
     "execution_count": 39,
     "metadata": {},
     "output_type": "execute_result"
    }
   ],
   "source": [
    "time = torch.arange(20).float()\n",
    "time"
   ]
  },
  {
   "cell_type": "code",
   "execution_count": 40,
   "metadata": {},
   "outputs": [
    {
     "data": {
      "text/plain": [
       "<matplotlib.collections.PathCollection at 0x7f157673a430>"
      ]
     },
     "execution_count": 40,
     "metadata": {},
     "output_type": "execute_result"
    },
    {
     "data": {
      "image/png": "[encoded data removed]",
      "text/plain": [
       "<Figure size 432x288 with 1 Axes>"
      ]
     },
     "metadata": {
      "needs_background": "light"
     },
     "output_type": "display_data"
    }
   ],
   "source": [
    "speed = 1.5*(time-9.5)**2 + 1 + torch.randn(20)*3\n",
    "plt.scatter(time, speed)"
   ]
  },
  {
   "cell_type": "code",
   "execution_count": 41,
   "metadata": {},
   "outputs": [],
   "source": [
    "def f(t, params):\n",
    "    a,b,c = params\n",
    "    return (a*t**2) + (b*t) + c"
   ]
  },
  {
   "cell_type": "code",
   "execution_count": 42,
   "metadata": {},
   "outputs": [],
   "source": [
    "def mse(pred, actual): return ((pred-actual)**2).mean().sqrt()"
   ]
  },
  {
   "cell_type": "markdown",
   "metadata": {},
   "source": [
    "**Step 1: Initialize Parameters**"
   ]
  },
  {
   "cell_type": "code",
   "execution_count": 43,
   "metadata": {},
   "outputs": [
    {
     "data": {
      "text/plain": [
       "tensor([-0.7658, -0.7506,  1.3525], requires_grad=True)"
      ]
     },
     "execution_count": 43,
     "metadata": {},
     "output_type": "execute_result"
    }
   ],
   "source": [
    "params = torch.randn(3).requires_grad_()\n",
    "params"
   ]
  },
  {
   "cell_type": "code",
   "execution_count": 44,
   "metadata": {},
   "outputs": [
    {
     "data": {
      "text/plain": [
       "tensor([-0.7658, -0.7506,  1.3525], grad_fn=<CloneBackward>)"
      ]
     },
     "execution_count": 44,
     "metadata": {},
     "output_type": "execute_result"
    }
   ],
   "source": [
    "orig_params  = params.clone()\n",
    "orig_params"
   ]
  },
  {
   "cell_type": "markdown",
   "metadata": {},
   "source": [
    "**Step2: Calculate Predictions**"
   ]
  },
  {
   "cell_type": "code",
   "execution_count": 45,
   "metadata": {},
   "outputs": [
    {
     "data": {
      "text/plain": [
       "tensor([ 1.3525e+00, -1.6391e-01, -3.2121e+00, -7.7919e+00, -1.3903e+01, -2.1547e+01, -3.0721e+01, -4.1428e+01, -5.3666e+01, -6.7436e+01, -8.2738e+01, -9.9571e+01, -1.1794e+02, -1.3783e+02,\n",
       "        -1.5926e+02, -1.8222e+02, -2.0671e+02, -2.3274e+02, -2.6029e+02, -2.8938e+02], grad_fn=<AddBackward0>)"
      ]
     },
     "execution_count": 45,
     "metadata": {},
     "output_type": "execute_result"
    }
   ],
   "source": [
    "pred = f(time, params)\n",
    "pred"
   ]
  },
  {
   "cell_type": "code",
   "execution_count": 46,
   "metadata": {},
   "outputs": [],
   "source": [
    "def show_preds(pred, ax=None):\n",
    "    if ax is None: ax = plt.subplots()[1]\n",
    "    ax.scatter(time, speed)\n",
    "    ax.scatter(time, to_np(pred), color='red')"
   ]
  },
  {
   "cell_type": "code",
   "execution_count": 47,
   "metadata": {},
   "outputs": [
    {
     "data": {
      "image/png": "[encoded data removed]",
      "text/plain": [
       "<Figure size 432x288 with 1 Axes>"
      ]
     },
     "metadata": {
      "needs_background": "light"
     },
     "output_type": "display_data"
    }
   ],
   "source": [
    "show_preds(pred)"
   ]
  },
  {
   "cell_type": "markdown",
   "metadata": {},
   "source": [
    "**Step3: Calculate Loss**"
   ]
  },
  {
   "cell_type": "code",
   "execution_count": 48,
   "metadata": {},
   "outputs": [
    {
     "data": {
      "text/plain": [
       "tensor(187.8580, grad_fn=<SqrtBackward>)"
      ]
     },
     "execution_count": 48,
     "metadata": {},
     "output_type": "execute_result"
    }
   ],
   "source": [
    "loss = mse(pred, speed)\n",
    "loss"
   ]
  },
  {
   "cell_type": "markdown",
   "metadata": {},
   "source": [
    "**Step4: Calculate Gradients**"
   ]
  },
  {
   "cell_type": "code",
   "execution_count": 49,
   "metadata": {},
   "outputs": [
    {
     "data": {
      "text/plain": [
       "tensor([-161.4840,  -10.3630,   -0.8085])"
      ]
     },
     "execution_count": 49,
     "metadata": {},
     "output_type": "execute_result"
    }
   ],
   "source": [
    "loss.backward()\n",
    "params.grad"
   ]
  },
  {
   "cell_type": "markdown",
   "metadata": {},
   "source": [
    "**Step5: Step the weights**"
   ]
  },
  {
   "cell_type": "code",
   "execution_count": 50,
   "metadata": {},
   "outputs": [],
   "source": [
    "lr = 1e-3\n",
    "params.data -= lr*params.grad.data\n",
    "params.grad = None"
   ]
  },
  {
   "cell_type": "code",
   "execution_count": 51,
   "metadata": {},
   "outputs": [
    {
     "data": {
      "text/plain": [
       "tensor([-0.6044, -0.7403,  1.3534], requires_grad=True)"
      ]
     },
     "execution_count": 51,
     "metadata": {},
     "output_type": "execute_result"
    }
   ],
   "source": [
    "params"
   ]
  },
  {
   "cell_type": "code",
   "execution_count": 52,
   "metadata": {},
   "outputs": [],
   "source": [
    "pred = f(time, params)"
   ]
  },
  {
   "cell_type": "code",
   "execution_count": 53,
   "metadata": {},
   "outputs": [
    {
     "data": {
      "text/plain": [
       "tensor(161.8400, grad_fn=<SqrtBackward>)"
      ]
     },
     "execution_count": 53,
     "metadata": {},
     "output_type": "execute_result"
    }
   ],
   "source": [
    "mse(pred, speed)"
   ]
  },
  {
   "cell_type": "code",
   "execution_count": 54,
   "metadata": {},
   "outputs": [
    {
     "data": {
      "image/png": "[encoded data removed]",
      "text/plain": [
       "<Figure size 432x288 with 1 Axes>"
      ]
     },
     "metadata": {
      "needs_background": "light"
     },
     "output_type": "display_data"
    }
   ],
   "source": [
    "show_preds(pred)"
   ]
  },
  {
   "cell_type": "markdown",
   "metadata": {},
   "source": [
    "**Step6: Loop through this proces multiple times**"
   ]
  },
  {
   "cell_type": "code",
   "execution_count": 55,
   "metadata": {},
   "outputs": [],
   "source": [
    "def update_weights(params):\n",
    "    pred = f(time, params)\n",
    "    loss = mse(pred, speed)\n",
    "    loss.backward()\n",
    "    params.data -= lr*params.grad.data\n",
    "    params.grad = None\n",
    "    print(loss.item())\n",
    "    return pred"
   ]
  },
  {
   "cell_type": "code",
   "execution_count": 56,
   "metadata": {},
   "outputs": [
    {
     "name": "stdout",
     "output_type": "stream",
     "text": [
      "161.84002685546875\n",
      "136.631591796875\n",
      "112.7071304321289\n",
      "90.9061508178711\n",
      "72.66173553466797\n",
      "59.900123596191406\n",
      "53.48632049560547\n",
      "51.39848327636719\n",
      "50.90974044799805\n",
      "50.809329986572266\n"
     ]
    }
   ],
   "source": [
    "for i in range(10): update_weights(params)"
   ]
  },
  {
   "cell_type": "code",
   "execution_count": 57,
   "metadata": {},
   "outputs": [
    {
     "name": "stdout",
     "output_type": "stream",
     "text": [
      "50.78927993774414\n"
     ]
    },
    {
     "data": {
      "image/png": "[encoded data removed]",
      "text/plain": [
       "<Figure size 432x288 with 1 Axes>"
      ]
     },
     "metadata": {
      "needs_background": "light"
     },
     "output_type": "display_data"
    }
   ],
   "source": [
    "pred = update_weights(params)\n",
    "show_preds(pred)"
   ]
  },
  {
   "cell_type": "code",
   "execution_count": 58,
   "metadata": {},
   "outputs": [
    {
     "name": "stdout",
     "output_type": "stream",
     "text": [
      "187.8580322265625\n",
      "161.84002685546875\n",
      "136.631591796875\n",
      "112.7071304321289\n",
      "90.9061508178711\n",
      "72.66173553466797\n",
      "59.900123596191406\n",
      "53.48632049560547\n",
      "51.39848327636719\n",
      "50.90974044799805\n"
     ]
    },
    {
     "data": {
      "image/png": "[encoded data removed]",
      "text/plain": [
       "<Figure size 864x216 with 10 Axes>"
      ]
     },
     "metadata": {
      "needs_background": "light"
     },
     "output_type": "display_data"
    }
   ],
   "source": [
    "params = orig_params.detach().requires_grad_()\n",
    "_,axs = plt.subplots(1,10,figsize=(12,3))\n",
    "for ax in axs: show_preds(update_weights(params), ax)\n",
    "plt.tight_layout()"
   ]
  },
  {
   "cell_type": "markdown",
   "metadata": {},
   "source": [
    "# SGD for MNIST"
   ]
  },
  {
   "cell_type": "markdown",
   "metadata": {},
   "source": [
    "First let us convert the images into vectors"
   ]
  },
  {
   "cell_type": "code",
   "execution_count": 59,
   "metadata": {},
   "outputs": [
    {
     "data": {
      "text/plain": [
       "(torch.Size([6131, 28, 28]),\n",
       " torch.Size([6265, 28, 28]),\n",
       " torch.Size([1010, 28, 28]),\n",
       " torch.Size([1028, 28, 28]))"
      ]
     },
     "execution_count": 59,
     "metadata": {},
     "output_type": "execute_result"
    }
   ],
   "source": [
    "threes_stacked.shape, sevens_stacked.shape, valid_threes.shape, valid_sevens.shape"
   ]
  },
  {
   "cell_type": "code",
   "execution_count": 60,
   "metadata": {},
   "outputs": [
    {
     "data": {
      "text/plain": [
       "torch.Size([12396, 28, 28])"
      ]
     },
     "execution_count": 60,
     "metadata": {},
     "output_type": "execute_result"
    }
   ],
   "source": [
    "torch.cat([threes_stacked, sevens_stacked]).shape"
   ]
  },
  {
   "cell_type": "code",
   "execution_count": 61,
   "metadata": {},
   "outputs": [
    {
     "data": {
      "text/plain": [
       "torch.Size([6131, 784])"
      ]
     },
     "execution_count": 61,
     "metadata": {},
     "output_type": "execute_result"
    }
   ],
   "source": [
    "threes_stacked.view(-1, 28*28).shape"
   ]
  },
  {
   "cell_type": "code",
   "execution_count": 62,
   "metadata": {},
   "outputs": [
    {
     "data": {
      "text/plain": [
       "torch.Size([12396, 784])"
      ]
     },
     "execution_count": 62,
     "metadata": {},
     "output_type": "execute_result"
    }
   ],
   "source": [
    "train_x = torch.cat([threes_stacked, sevens_stacked]).view(-1, 28*28)\n",
    "train_x.shape"
   ]
  },
  {
   "cell_type": "code",
   "execution_count": 63,
   "metadata": {},
   "outputs": [
    {
     "data": {
      "text/plain": [
       "torch.Size([12396, 1])"
      ]
     },
     "execution_count": 63,
     "metadata": {},
     "output_type": "execute_result"
    }
   ],
   "source": [
    "train_y = tensor([1]*len(threes_stacked) + [0]*len(sevens_stacked)).unsqueeze(1)\n",
    "train_y.shape"
   ]
  },
  {
   "cell_type": "code",
   "execution_count": 64,
   "metadata": {},
   "outputs": [
    {
     "data": {
      "text/plain": [
       "(torch.Size([784]), tensor([1]))"
      ]
     },
     "execution_count": 64,
     "metadata": {},
     "output_type": "execute_result"
    }
   ],
   "source": [
    "dset = list(zip(train_x, train_y))\n",
    "x,y = dset[0]\n",
    "x.shape, y"
   ]
  },
  {
   "cell_type": "code",
   "execution_count": 123,
   "metadata": {},
   "outputs": [
    {
     "data": {
      "text/plain": [
       "(torch.Size([2038, 784]), torch.Size([2038]))"
      ]
     },
     "execution_count": 123,
     "metadata": {},
     "output_type": "execute_result"
    }
   ],
   "source": [
    "valid_x = torch.cat([valid_threes.float(), valid_sevens.float()]).view(-1, 28*28)\n",
    "valid_y =  tensor([1]*len(valid_threes) + [0]*len(valid_sevens))\n",
    "valid_x.shape, valid_y.shape"
   ]
  },
  {
   "cell_type": "code",
   "execution_count": 124,
   "metadata": {},
   "outputs": [],
   "source": [
    "valid_dset = list(zip(valid_x, valid_y))"
   ]
  },
  {
   "cell_type": "markdown",
   "metadata": {},
   "source": [
    "Define the list of weights"
   ]
  },
  {
   "cell_type": "code",
   "execution_count": 67,
   "metadata": {},
   "outputs": [
    {
     "data": {
      "text/plain": [
       "torch.Size([784])"
      ]
     },
     "execution_count": 67,
     "metadata": {},
     "output_type": "execute_result"
    }
   ],
   "source": [
    "w = torch.randn(28*28).requires_grad_()\n",
    "w.shape"
   ]
  },
  {
   "cell_type": "markdown",
   "metadata": {},
   "source": [
    "Define bias"
   ]
  },
  {
   "cell_type": "code",
   "execution_count": 68,
   "metadata": {},
   "outputs": [
    {
     "data": {
      "text/plain": [
       "tensor([0.6863], requires_grad=True)"
      ]
     },
     "execution_count": 68,
     "metadata": {},
     "output_type": "execute_result"
    }
   ],
   "source": [
    "b = torch.randn(1).requires_grad_()\n",
    "b"
   ]
  },
  {
   "cell_type": "markdown",
   "metadata": {},
   "source": [
    "Create a function to do this initialization"
   ]
  },
  {
   "cell_type": "code",
   "execution_count": 69,
   "metadata": {},
   "outputs": [],
   "source": [
    "def init_params(size): return torch.randn(size).requires_grad_()"
   ]
  },
  {
   "cell_type": "code",
   "execution_count": 70,
   "metadata": {},
   "outputs": [
    {
     "data": {
      "text/plain": [
       "torch.Size([784])"
      ]
     },
     "execution_count": 70,
     "metadata": {},
     "output_type": "execute_result"
    }
   ],
   "source": [
    "w = init_params(28*28)\n",
    "w.shape"
   ]
  },
  {
   "cell_type": "code",
   "execution_count": 71,
   "metadata": {},
   "outputs": [
    {
     "data": {
      "text/plain": [
       "tensor([-1.1151], requires_grad=True)"
      ]
     },
     "execution_count": 71,
     "metadata": {},
     "output_type": "execute_result"
    }
   ],
   "source": [
    "b = init_params(1)\n",
    "b"
   ]
  },
  {
   "cell_type": "markdown",
   "metadata": {},
   "source": [
    "See what output it generates for one of the images, or define the function"
   ]
  },
  {
   "cell_type": "code",
   "execution_count": 72,
   "metadata": {},
   "outputs": [
    {
     "data": {
      "text/plain": [
       "tensor([-15.0592], grad_fn=<AddBackward0>)"
      ]
     },
     "execution_count": 72,
     "metadata": {},
     "output_type": "execute_result"
    }
   ],
   "source": [
    "(train_x[0]*w.T).sum()+b"
   ]
  },
  {
   "cell_type": "markdown",
   "metadata": {},
   "source": [
    "See how to do matrix multiplication on the entire matrix of images"
   ]
  },
  {
   "cell_type": "code",
   "execution_count": 73,
   "metadata": {},
   "outputs": [
    {
     "data": {
      "text/plain": [
       "tensor([-15.0592,  -6.4868, -14.2646,  ..., -14.2185,   0.6238,  -0.2753], grad_fn=<AddBackward0>)"
      ]
     },
     "execution_count": 73,
     "metadata": {},
     "output_type": "execute_result"
    }
   ],
   "source": [
    "train_x @ w + b"
   ]
  },
  {
   "cell_type": "code",
   "execution_count": 74,
   "metadata": {},
   "outputs": [],
   "source": [
    "def linear1(xb, w, b): return xb @ w + b"
   ]
  },
  {
   "cell_type": "code",
   "execution_count": 75,
   "metadata": {},
   "outputs": [
    {
     "data": {
      "text/plain": [
       "tensor([-15.0592,  -6.4868, -14.2646,  ..., -14.2185,   0.6238,  -0.2753], grad_fn=<AddBackward0>)"
      ]
     },
     "execution_count": 75,
     "metadata": {},
     "output_type": "execute_result"
    }
   ],
   "source": [
    "preds = linear1(train_x, w, b)\n",
    "preds"
   ]
  },
  {
   "cell_type": "markdown",
   "metadata": {},
   "source": [
    "Define the metric to check the prediction"
   ]
  },
  {
   "cell_type": "code",
   "execution_count": 76,
   "metadata": {},
   "outputs": [
    {
     "data": {
      "text/plain": [
       "tensor([[False, False, False,  ...,  True, False,  True]])"
      ]
     },
     "execution_count": 76,
     "metadata": {},
     "output_type": "execute_result"
    }
   ],
   "source": [
    "corrects = (preds > 0.0).float() == train_y.T\n",
    "corrects"
   ]
  },
  {
   "cell_type": "code",
   "execution_count": 77,
   "metadata": {},
   "outputs": [
    {
     "data": {
      "text/plain": [
       "0.4543401002883911"
      ]
     },
     "execution_count": 77,
     "metadata": {},
     "output_type": "execute_result"
    }
   ],
   "source": [
    "corrects.float().mean().item()"
   ]
  },
  {
   "cell_type": "code",
   "execution_count": 78,
   "metadata": {},
   "outputs": [],
   "source": [
    "def mnist_loss(pred, actual): return(pred-actual).abs()"
   ]
  },
  {
   "cell_type": "code",
   "execution_count": 79,
   "metadata": {},
   "outputs": [],
   "source": [
    "def sigmoid(x): return 1/(1+torch.exp(-x))"
   ]
  },
  {
   "cell_type": "code",
   "execution_count": 80,
   "metadata": {},
   "outputs": [
    {
     "data": {
      "text/plain": [
       "tensor([[1.0000e+00, 9.9848e-01, 1.0000e+00,  ..., 6.6832e-07, 6.5109e-01, 4.3161e-01]], grad_fn=<AbsBackward>)"
      ]
     },
     "execution_count": 80,
     "metadata": {},
     "output_type": "execute_result"
    }
   ],
   "source": [
    "mnist_loss(sigmoid(preds), train_y.T)"
   ]
  },
  {
   "cell_type": "code",
   "execution_count": 81,
   "metadata": {},
   "outputs": [],
   "source": [
    "def mnist_loss(pred, actual):\n",
    "    pred = sigmoid(pred)\n",
    "    return (pred-actual).abs().mean()"
   ]
  },
  {
   "cell_type": "code",
   "execution_count": 82,
   "metadata": {},
   "outputs": [
    {
     "data": {
      "text/plain": [
       "tensor(0.5478, grad_fn=<MeanBackward0>)"
      ]
     },
     "execution_count": 82,
     "metadata": {},
     "output_type": "execute_result"
    }
   ],
   "source": [
    "mnist_loss(linear1(train_x, w, b), train_y.T)"
   ]
  },
  {
   "cell_type": "markdown",
   "metadata": {},
   "source": [
    "### Mini-batch"
   ]
  },
  {
   "cell_type": "code",
   "execution_count": 83,
   "metadata": {},
   "outputs": [
    {
     "data": {
      "text/plain": [
       "[0, 1, 2, 3, 4, 5, 6, 7, 8, 9, 10, 11, 12, 13, 14]"
      ]
     },
     "execution_count": 83,
     "metadata": {},
     "output_type": "execute_result"
    }
   ],
   "source": [
    "a = list(range(15))\n",
    "a"
   ]
  },
  {
   "cell_type": "code",
   "execution_count": 84,
   "metadata": {},
   "outputs": [
    {
     "data": {
      "text/plain": [
       "[tensor([ 3, 12,  8, 10,  2]),\n",
       " tensor([ 9,  4,  7, 14,  5]),\n",
       " tensor([ 1, 13,  0,  6, 11])]"
      ]
     },
     "execution_count": 84,
     "metadata": {},
     "output_type": "execute_result"
    }
   ],
   "source": [
    "dl = DataLoader(a, batch_size=5, shuffle=True)\n",
    "list(dl)"
   ]
  },
  {
   "cell_type": "markdown",
   "metadata": {},
   "source": [
    "**Steps to build the model**\n",
    "- Predict values using the model\n",
    "- Calculate the loss\n",
    "- Take Gradient of the loss\n",
    "- Update the parameters"
   ]
  },
  {
   "cell_type": "code",
   "execution_count": 85,
   "metadata": {},
   "outputs": [],
   "source": [
    "w = init_params(28*28)\n",
    "b = init_params(1)"
   ]
  },
  {
   "cell_type": "code",
   "execution_count": 86,
   "metadata": {},
   "outputs": [
    {
     "data": {
      "text/plain": [
       "torch.Size([4])"
      ]
     },
     "execution_count": 86,
     "metadata": {},
     "output_type": "execute_result"
    }
   ],
   "source": [
    "preds = linear1(train_x[0:4], w, b)\n",
    "preds.shape"
   ]
  },
  {
   "cell_type": "code",
   "execution_count": 87,
   "metadata": {},
   "outputs": [
    {
     "data": {
      "text/plain": [
       "tensor(0.5871, grad_fn=<MeanBackward0>)"
      ]
     },
     "execution_count": 87,
     "metadata": {},
     "output_type": "execute_result"
    }
   ],
   "source": [
    "loss = mnist_loss(preds, train_y[0:4].T)\n",
    "loss"
   ]
  },
  {
   "cell_type": "code",
   "execution_count": 88,
   "metadata": {},
   "outputs": [],
   "source": [
    "loss.backward()"
   ]
  },
  {
   "cell_type": "code",
   "execution_count": 89,
   "metadata": {},
   "outputs": [],
   "source": [
    "lr = 1"
   ]
  },
  {
   "cell_type": "code",
   "execution_count": 90,
   "metadata": {},
   "outputs": [],
   "source": [
    "w.data -= lr*w.grad\n",
    "b.data -= lr*b.grad\n",
    "w.grad = None\n",
    "b.grad = None"
   ]
  },
  {
   "cell_type": "code",
   "execution_count": 91,
   "metadata": {},
   "outputs": [
    {
     "data": {
      "text/plain": [
       "tensor(0.4630, grad_fn=<MeanBackward0>)"
      ]
     },
     "execution_count": 91,
     "metadata": {},
     "output_type": "execute_result"
    }
   ],
   "source": [
    "mnist_loss(linear1(train_x, w, b), train_y.T)"
   ]
  },
  {
   "cell_type": "markdown",
   "metadata": {},
   "source": [
    "Now write the actual code for training"
   ]
  },
  {
   "cell_type": "code",
   "execution_count": 138,
   "metadata": {},
   "outputs": [],
   "source": [
    "weights = init_params(28*28)\n",
    "bias = init_params(1)"
   ]
  },
  {
   "cell_type": "code",
   "execution_count": 139,
   "metadata": {},
   "outputs": [
    {
     "data": {
      "text/plain": [
       "(torch.Size([256, 784]), torch.Size([256, 1]))"
      ]
     },
     "execution_count": 139,
     "metadata": {},
     "output_type": "execute_result"
    }
   ],
   "source": [
    "dl = DataLoader(dset, batch_size=256)\n",
    "xb,yb = first(dl)\n",
    "xb.shape,yb.shape"
   ]
  },
  {
   "cell_type": "code",
   "execution_count": 140,
   "metadata": {},
   "outputs": [],
   "source": [
    "valid_dl = DataLoader(valid_dset, batch_size=256)"
   ]
  },
  {
   "cell_type": "code",
   "execution_count": 141,
   "metadata": {},
   "outputs": [],
   "source": [
    "def calc_grad(xb, yb, model):\n",
    "    preds = model(xb, w, b)\n",
    "    loss = mnist_loss(preds, yb)\n",
    "    loss.backward()"
   ]
  },
  {
   "cell_type": "code",
   "execution_count": 142,
   "metadata": {},
   "outputs": [],
   "source": [
    "def train_epoch(model, lr, w, b):\n",
    "    for xb,yb in dl:\n",
    "        calc_grad(xb, yb, model)\n",
    "        \n",
    "        w.data -= w.grad*lr\n",
    "        b.data -= b.grad*lr\n",
    "        w.grad.zero_()\n",
    "        b.grad.zero_()"
   ]
  },
  {
   "cell_type": "code",
   "execution_count": 143,
   "metadata": {},
   "outputs": [],
   "source": [
    "def batch_accuracy(xb, yb):\n",
    "    preds = xb.sigmoid()\n",
    "    correct = (preds>0.5) == yb\n",
    "    return correct.float().mean()"
   ]
  },
  {
   "cell_type": "code",
   "execution_count": 146,
   "metadata": {},
   "outputs": [],
   "source": [
    "def validate_epoch(model):\n",
    "    accs = [batch_accuracy(model(xb, w, b), yb) for xb,yb in valid_dl]\n",
    "    return round(torch.stack(accs).mean().item(), 4)"
   ]
  },
  {
   "cell_type": "code",
   "execution_count": 147,
   "metadata": {},
   "outputs": [
    {
     "data": {
      "text/plain": [
       "0.5675"
      ]
     },
     "execution_count": 147,
     "metadata": {},
     "output_type": "execute_result"
    }
   ],
   "source": [
    "validate_epoch(linear1)"
   ]
  },
  {
   "cell_type": "code",
   "execution_count": 148,
   "metadata": {},
   "outputs": [
    {
     "data": {
      "text/plain": [
       "0.7025"
      ]
     },
     "execution_count": 148,
     "metadata": {},
     "output_type": "execute_result"
    }
   ],
   "source": [
    "lr = 1.\n",
    "train_epoch(linear1, lr, w, b)\n",
    "validate_epoch(linear1)"
   ]
  },
  {
   "cell_type": "code",
   "execution_count": 149,
   "metadata": {},
   "outputs": [
    {
     "name": "stdout",
     "output_type": "stream",
     "text": [
      "0.8783 0.9345 0.9467 0.9564 0.9603 0.9637 0.9652 0.9667 0.9662 0.9672 0.9692 0.9701 0.9701 0.9701 0.9701 0.9706 0.9721 0.9721 0.9731 0.9731 "
     ]
    }
   ],
   "source": [
    "for i in range(20):\n",
    "    train_epoch(linear1, lr, w, b)\n",
    "    print(validate_epoch(linear1), end=' ')"
   ]
  },
  {
   "cell_type": "code",
   "execution_count": null,
   "metadata": {},
   "outputs": [],
   "source": []
  },
  {
   "cell_type": "code",
   "execution_count": null,
   "metadata": {},
   "outputs": [],
   "source": []
  }
 ],
 "metadata": {
  "kernelspec": {
   "display_name": "Python 3",
   "language": "python",
   "name": "python3"
  },
  "language_info": {
   "codemirror_mode": {
    "name": "ipython",
    "version": 3
   },
   "file_extension": ".py",
   "mimetype": "text/x-python",
   "name": "python",
   "nbconvert_exporter": "python",
   "pygments_lexer": "ipython3",
   "version": "3.8.6"
  }
 },
 "nbformat": 4,
 "nbformat_minor": 4
}
