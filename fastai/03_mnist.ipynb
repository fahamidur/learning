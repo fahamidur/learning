{
 "cells": [
  {
   "cell_type": "markdown",
   "metadata": {},
   "source": [
    "# MNIST"
   ]
  },
  {
   "cell_type": "code",
   "execution_count": 80,
   "metadata": {},
   "outputs": [],
   "source": [
    "from fastai.vision.all import *"
   ]
  },
  {
   "cell_type": "markdown",
   "metadata": {},
   "source": [
    "Get MNIST sample data"
   ]
  },
  {
   "cell_type": "code",
   "execution_count": 81,
   "metadata": {},
   "outputs": [
    {
     "data": {
      "text/plain": [
       "'https://s3.amazonaws.com/fast-ai-sample/mnist_sample.tgz'"
      ]
     },
     "execution_count": 81,
     "metadata": {},
     "output_type": "execute_result"
    }
   ],
   "source": [
    "URLs.MNIST_SAMPLE"
   ]
  },
  {
   "cell_type": "code",
   "execution_count": 82,
   "metadata": {},
   "outputs": [
    {
     "data": {
      "text/plain": [
       "Path('.')"
      ]
     },
     "execution_count": 82,
     "metadata": {},
     "output_type": "execute_result"
    }
   ],
   "source": [
    "path = untar_data(URLs.MNIST_SAMPLE)\n",
    "path"
   ]
  },
  {
   "cell_type": "markdown",
   "metadata": {},
   "source": [
    "Change base path to path and list files"
   ]
  },
  {
   "cell_type": "code",
   "execution_count": 83,
   "metadata": {},
   "outputs": [
    {
     "data": {
      "text/plain": [
       "(#3) [Path('labels.csv'),Path('valid'),Path('train')]"
      ]
     },
     "execution_count": 83,
     "metadata": {},
     "output_type": "execute_result"
    }
   ],
   "source": [
    "Path.BASE_PATH = path\n",
    "path.ls()"
   ]
  },
  {
   "cell_type": "code",
   "execution_count": 84,
   "metadata": {},
   "outputs": [
    {
     "data": {
      "text/plain": [
       "(#2) [Path('train/7'),Path('train/3')]"
      ]
     },
     "execution_count": 84,
     "metadata": {},
     "output_type": "execute_result"
    }
   ],
   "source": [
    "(path/'train').ls()"
   ]
  },
  {
   "cell_type": "code",
   "execution_count": 85,
   "metadata": {},
   "outputs": [
    {
     "data": {
      "text/plain": [
       "(#6265) [Path('train/7/32208.png'),Path('train/7/79.png'),Path('train/7/54193.png'),Path('train/7/4545.png'),Path('train/7/2161.png'),Path('train/7/11473.png'),Path('train/7/3914.png'),Path('train/7/58565.png'),Path('train/7/8302.png'),Path('train/7/59871.png')...]"
      ]
     },
     "execution_count": 85,
     "metadata": {},
     "output_type": "execute_result"
    }
   ],
   "source": [
    "(path/'train'/'7').ls()"
   ]
  },
  {
   "cell_type": "markdown",
   "metadata": {},
   "source": [
    "Create lists with locations of images for 3 and 7"
   ]
  },
  {
   "cell_type": "code",
   "execution_count": 86,
   "metadata": {},
   "outputs": [],
   "source": [
    "threes = (path/'train'/'3').ls().sorted()\n",
    "sevens = (path/'train'/'7').ls().sorted()"
   ]
  },
  {
   "cell_type": "code",
   "execution_count": 87,
   "metadata": {},
   "outputs": [
    {
     "data": {
      "image/png": "[encoded data removed]",
      "text/plain": [
       "<PIL.PngImagePlugin.PngImageFile image mode=L size=28x28 at 0x7F12E7897640>"
      ]
     },
     "execution_count": 87,
     "metadata": {},
     "output_type": "execute_result"
    }
   ],
   "source": [
    "im = Image.open(threes[1])\n",
    "im"
   ]
  },
  {
   "cell_type": "markdown",
   "metadata": {},
   "source": [
    "Some experimentation with data"
   ]
  },
  {
   "cell_type": "code",
   "execution_count": 88,
   "metadata": {},
   "outputs": [
    {
     "data": {
      "text/plain": [
       "array([[  0,   0,   0,   0,   0,   0,   0,   0],\n",
       "       [  0,   0,   0,   0,   0,  29, 150, 195],\n",
       "       [  0,   0,   0,  48, 166, 224, 253, 253],\n",
       "       [  0,  93, 244, 249, 253, 187,  46,  10],\n",
       "       [  0, 107, 253, 253, 230,  48,   0,   0],\n",
       "       [  0,   3,  20,  20,  15,   0,   0,   0],\n",
       "       [  0,   0,   0,   0,   0,   0,   0,   0],\n",
       "       [  0,   0,   0,   0,   0,   0,   0,  14]], dtype=uint8)"
      ]
     },
     "execution_count": 88,
     "metadata": {},
     "output_type": "execute_result"
    }
   ],
   "source": [
    "array(im)[4:12,4:12]"
   ]
  },
  {
   "cell_type": "code",
   "execution_count": 89,
   "metadata": {},
   "outputs": [
    {
     "data": {
      "text/plain": [
       "tensor([[  0,   0,   0,   0,   0,   0,   0,   0],\n",
       "        [  0,   0,   0,   0,   0,  29, 150, 195],\n",
       "        [  0,   0,   0,  48, 166, 224, 253, 253],\n",
       "        [  0,  93, 244, 249, 253, 187,  46,  10],\n",
       "        [  0, 107, 253, 253, 230,  48,   0,   0],\n",
       "        [  0,   3,  20,  20,  15,   0,   0,   0],\n",
       "        [  0,   0,   0,   0,   0,   0,   0,   0],\n",
       "        [  0,   0,   0,   0,   0,   0,   0,  14]], dtype=torch.uint8)"
      ]
     },
     "execution_count": 89,
     "metadata": {},
     "output_type": "execute_result"
    }
   ],
   "source": [
    "tensor(im)[4:12,4:12]"
   ]
  },
  {
   "cell_type": "code",
   "execution_count": 90,
   "metadata": {},
   "outputs": [
    {
     "data": {
      "text/html": [
       "<style  type=\"text/css\" >\n",
       "#T_1085845e_79d0_11eb_94de_0242ac110002row0_col0,#T_1085845e_79d0_11eb_94de_0242ac110002row0_col1,#T_1085845e_79d0_11eb_94de_0242ac110002row0_col2,#T_1085845e_79d0_11eb_94de_0242ac110002row0_col3,#T_1085845e_79d0_11eb_94de_0242ac110002row0_col4,#T_1085845e_79d0_11eb_94de_0242ac110002row0_col5,#T_1085845e_79d0_11eb_94de_0242ac110002row0_col6,#T_1085845e_79d0_11eb_94de_0242ac110002row0_col7,#T_1085845e_79d0_11eb_94de_0242ac110002row0_col8,#T_1085845e_79d0_11eb_94de_0242ac110002row0_col9,#T_1085845e_79d0_11eb_94de_0242ac110002row0_col10,#T_1085845e_79d0_11eb_94de_0242ac110002row0_col11,#T_1085845e_79d0_11eb_94de_0242ac110002row0_col12,#T_1085845e_79d0_11eb_94de_0242ac110002row0_col13,#T_1085845e_79d0_11eb_94de_0242ac110002row0_col14,#T_1085845e_79d0_11eb_94de_0242ac110002row0_col15,#T_1085845e_79d0_11eb_94de_0242ac110002row1_col0,#T_1085845e_79d0_11eb_94de_0242ac110002row1_col1,#T_1085845e_79d0_11eb_94de_0242ac110002row1_col2,#T_1085845e_79d0_11eb_94de_0242ac110002row1_col3,#T_1085845e_79d0_11eb_94de_0242ac110002row1_col4,#T_1085845e_79d0_11eb_94de_0242ac110002row1_col15,#T_1085845e_79d0_11eb_94de_0242ac110002row2_col0,#T_1085845e_79d0_11eb_94de_0242ac110002row2_col1,#T_1085845e_79d0_11eb_94de_0242ac110002row2_col2,#T_1085845e_79d0_11eb_94de_0242ac110002row2_col15,#T_1085845e_79d0_11eb_94de_0242ac110002row3_col0,#T_1085845e_79d0_11eb_94de_0242ac110002row3_col15,#T_1085845e_79d0_11eb_94de_0242ac110002row4_col0,#T_1085845e_79d0_11eb_94de_0242ac110002row4_col6,#T_1085845e_79d0_11eb_94de_0242ac110002row4_col7,#T_1085845e_79d0_11eb_94de_0242ac110002row4_col8,#T_1085845e_79d0_11eb_94de_0242ac110002row4_col9,#T_1085845e_79d0_11eb_94de_0242ac110002row4_col10,#T_1085845e_79d0_11eb_94de_0242ac110002row4_col15,#T_1085845e_79d0_11eb_94de_0242ac110002row5_col0,#T_1085845e_79d0_11eb_94de_0242ac110002row5_col5,#T_1085845e_79d0_11eb_94de_0242ac110002row5_col6,#T_1085845e_79d0_11eb_94de_0242ac110002row5_col7,#T_1085845e_79d0_11eb_94de_0242ac110002row5_col8,#T_1085845e_79d0_11eb_94de_0242ac110002row5_col9,#T_1085845e_79d0_11eb_94de_0242ac110002row5_col15,#T_1085845e_79d0_11eb_94de_0242ac110002row6_col0,#T_1085845e_79d0_11eb_94de_0242ac110002row6_col1,#T_1085845e_79d0_11eb_94de_0242ac110002row6_col2,#T_1085845e_79d0_11eb_94de_0242ac110002row6_col3,#T_1085845e_79d0_11eb_94de_0242ac110002row6_col4,#T_1085845e_79d0_11eb_94de_0242ac110002row6_col5,#T_1085845e_79d0_11eb_94de_0242ac110002row6_col6,#T_1085845e_79d0_11eb_94de_0242ac110002row6_col7,#T_1085845e_79d0_11eb_94de_0242ac110002row6_col8,#T_1085845e_79d0_11eb_94de_0242ac110002row6_col9,#T_1085845e_79d0_11eb_94de_0242ac110002row6_col14,#T_1085845e_79d0_11eb_94de_0242ac110002row6_col15,#T_1085845e_79d0_11eb_94de_0242ac110002row7_col0,#T_1085845e_79d0_11eb_94de_0242ac110002row7_col1,#T_1085845e_79d0_11eb_94de_0242ac110002row7_col2,#T_1085845e_79d0_11eb_94de_0242ac110002row7_col3,#T_1085845e_79d0_11eb_94de_0242ac110002row7_col4,#T_1085845e_79d0_11eb_94de_0242ac110002row7_col5,#T_1085845e_79d0_11eb_94de_0242ac110002row7_col6,#T_1085845e_79d0_11eb_94de_0242ac110002row7_col13,#T_1085845e_79d0_11eb_94de_0242ac110002row7_col14,#T_1085845e_79d0_11eb_94de_0242ac110002row7_col15,#T_1085845e_79d0_11eb_94de_0242ac110002row8_col0,#T_1085845e_79d0_11eb_94de_0242ac110002row8_col1,#T_1085845e_79d0_11eb_94de_0242ac110002row8_col2,#T_1085845e_79d0_11eb_94de_0242ac110002row8_col3,#T_1085845e_79d0_11eb_94de_0242ac110002row8_col4,#T_1085845e_79d0_11eb_94de_0242ac110002row8_col13,#T_1085845e_79d0_11eb_94de_0242ac110002row8_col14,#T_1085845e_79d0_11eb_94de_0242ac110002row8_col15,#T_1085845e_79d0_11eb_94de_0242ac110002row9_col0,#T_1085845e_79d0_11eb_94de_0242ac110002row9_col1,#T_1085845e_79d0_11eb_94de_0242ac110002row9_col2,#T_1085845e_79d0_11eb_94de_0242ac110002row9_col3,#T_1085845e_79d0_11eb_94de_0242ac110002row9_col4,#T_1085845e_79d0_11eb_94de_0242ac110002row10_col0,#T_1085845e_79d0_11eb_94de_0242ac110002row10_col1,#T_1085845e_79d0_11eb_94de_0242ac110002row10_col2,#T_1085845e_79d0_11eb_94de_0242ac110002row10_col3,#T_1085845e_79d0_11eb_94de_0242ac110002row10_col4,#T_1085845e_79d0_11eb_94de_0242ac110002row10_col5,#T_1085845e_79d0_11eb_94de_0242ac110002row10_col6,#T_1085845e_79d0_11eb_94de_0242ac110002row11_col0,#T_1085845e_79d0_11eb_94de_0242ac110002row11_col1,#T_1085845e_79d0_11eb_94de_0242ac110002row11_col2,#T_1085845e_79d0_11eb_94de_0242ac110002row11_col3,#T_1085845e_79d0_11eb_94de_0242ac110002row11_col4,#T_1085845e_79d0_11eb_94de_0242ac110002row11_col5,#T_1085845e_79d0_11eb_94de_0242ac110002row11_col6,#T_1085845e_79d0_11eb_94de_0242ac110002row11_col7,#T_1085845e_79d0_11eb_94de_0242ac110002row11_col8,#T_1085845e_79d0_11eb_94de_0242ac110002row11_col9,#T_1085845e_79d0_11eb_94de_0242ac110002row12_col0,#T_1085845e_79d0_11eb_94de_0242ac110002row12_col1,#T_1085845e_79d0_11eb_94de_0242ac110002row12_col2,#T_1085845e_79d0_11eb_94de_0242ac110002row12_col3,#T_1085845e_79d0_11eb_94de_0242ac110002row12_col4,#T_1085845e_79d0_11eb_94de_0242ac110002row12_col5,#T_1085845e_79d0_11eb_94de_0242ac110002row12_col6,#T_1085845e_79d0_11eb_94de_0242ac110002row12_col7,#T_1085845e_79d0_11eb_94de_0242ac110002row12_col8,#T_1085845e_79d0_11eb_94de_0242ac110002row12_col9,#T_1085845e_79d0_11eb_94de_0242ac110002row12_col10,#T_1085845e_79d0_11eb_94de_0242ac110002row12_col11,#T_1085845e_79d0_11eb_94de_0242ac110002row12_col12,#T_1085845e_79d0_11eb_94de_0242ac110002row13_col0,#T_1085845e_79d0_11eb_94de_0242ac110002row13_col1,#T_1085845e_79d0_11eb_94de_0242ac110002row13_col2,#T_1085845e_79d0_11eb_94de_0242ac110002row13_col3,#T_1085845e_79d0_11eb_94de_0242ac110002row13_col4,#T_1085845e_79d0_11eb_94de_0242ac110002row13_col5,#T_1085845e_79d0_11eb_94de_0242ac110002row13_col6,#T_1085845e_79d0_11eb_94de_0242ac110002row13_col7,#T_1085845e_79d0_11eb_94de_0242ac110002row13_col8,#T_1085845e_79d0_11eb_94de_0242ac110002row13_col9,#T_1085845e_79d0_11eb_94de_0242ac110002row13_col10,#T_1085845e_79d0_11eb_94de_0242ac110002row13_col11,#T_1085845e_79d0_11eb_94de_0242ac110002row13_col12,#T_1085845e_79d0_11eb_94de_0242ac110002row14_col0,#T_1085845e_79d0_11eb_94de_0242ac110002row14_col1,#T_1085845e_79d0_11eb_94de_0242ac110002row14_col2,#T_1085845e_79d0_11eb_94de_0242ac110002row14_col3,#T_1085845e_79d0_11eb_94de_0242ac110002row14_col4,#T_1085845e_79d0_11eb_94de_0242ac110002row14_col5,#T_1085845e_79d0_11eb_94de_0242ac110002row14_col6,#T_1085845e_79d0_11eb_94de_0242ac110002row14_col7,#T_1085845e_79d0_11eb_94de_0242ac110002row14_col8,#T_1085845e_79d0_11eb_94de_0242ac110002row14_col9,#T_1085845e_79d0_11eb_94de_0242ac110002row14_col10,#T_1085845e_79d0_11eb_94de_0242ac110002row14_col11,#T_1085845e_79d0_11eb_94de_0242ac110002row15_col0,#T_1085845e_79d0_11eb_94de_0242ac110002row15_col1,#T_1085845e_79d0_11eb_94de_0242ac110002row15_col2,#T_1085845e_79d0_11eb_94de_0242ac110002row15_col3,#T_1085845e_79d0_11eb_94de_0242ac110002row15_col4,#T_1085845e_79d0_11eb_94de_0242ac110002row15_col5,#T_1085845e_79d0_11eb_94de_0242ac110002row15_col6,#T_1085845e_79d0_11eb_94de_0242ac110002row15_col7,#T_1085845e_79d0_11eb_94de_0242ac110002row15_col8,#T_1085845e_79d0_11eb_94de_0242ac110002row15_col9,#T_1085845e_79d0_11eb_94de_0242ac110002row15_col10{\n",
       "            background-color:  #ffffff;\n",
       "            color:  #000000;\n",
       "        }#T_1085845e_79d0_11eb_94de_0242ac110002row1_col5{\n",
       "            background-color:  #efefef;\n",
       "            color:  #000000;\n",
       "        }#T_1085845e_79d0_11eb_94de_0242ac110002row1_col6,#T_1085845e_79d0_11eb_94de_0242ac110002row1_col13{\n",
       "            background-color:  #7c7c7c;\n",
       "            color:  #000000;\n",
       "        }#T_1085845e_79d0_11eb_94de_0242ac110002row1_col7{\n",
       "            background-color:  #4a4a4a;\n",
       "            color:  #f1f1f1;\n",
       "        }#T_1085845e_79d0_11eb_94de_0242ac110002row1_col8,#T_1085845e_79d0_11eb_94de_0242ac110002row1_col9,#T_1085845e_79d0_11eb_94de_0242ac110002row1_col10,#T_1085845e_79d0_11eb_94de_0242ac110002row2_col5,#T_1085845e_79d0_11eb_94de_0242ac110002row2_col6,#T_1085845e_79d0_11eb_94de_0242ac110002row2_col7,#T_1085845e_79d0_11eb_94de_0242ac110002row2_col11,#T_1085845e_79d0_11eb_94de_0242ac110002row2_col12,#T_1085845e_79d0_11eb_94de_0242ac110002row2_col13,#T_1085845e_79d0_11eb_94de_0242ac110002row3_col4,#T_1085845e_79d0_11eb_94de_0242ac110002row3_col12,#T_1085845e_79d0_11eb_94de_0242ac110002row3_col13,#T_1085845e_79d0_11eb_94de_0242ac110002row4_col1,#T_1085845e_79d0_11eb_94de_0242ac110002row4_col2,#T_1085845e_79d0_11eb_94de_0242ac110002row4_col3,#T_1085845e_79d0_11eb_94de_0242ac110002row4_col12,#T_1085845e_79d0_11eb_94de_0242ac110002row4_col13,#T_1085845e_79d0_11eb_94de_0242ac110002row5_col12,#T_1085845e_79d0_11eb_94de_0242ac110002row6_col11,#T_1085845e_79d0_11eb_94de_0242ac110002row9_col11,#T_1085845e_79d0_11eb_94de_0242ac110002row10_col11,#T_1085845e_79d0_11eb_94de_0242ac110002row10_col12,#T_1085845e_79d0_11eb_94de_0242ac110002row10_col13,#T_1085845e_79d0_11eb_94de_0242ac110002row10_col14,#T_1085845e_79d0_11eb_94de_0242ac110002row11_col13,#T_1085845e_79d0_11eb_94de_0242ac110002row11_col14,#T_1085845e_79d0_11eb_94de_0242ac110002row11_col15,#T_1085845e_79d0_11eb_94de_0242ac110002row12_col14,#T_1085845e_79d0_11eb_94de_0242ac110002row12_col15,#T_1085845e_79d0_11eb_94de_0242ac110002row13_col14,#T_1085845e_79d0_11eb_94de_0242ac110002row13_col15,#T_1085845e_79d0_11eb_94de_0242ac110002row14_col14,#T_1085845e_79d0_11eb_94de_0242ac110002row14_col15,#T_1085845e_79d0_11eb_94de_0242ac110002row15_col13,#T_1085845e_79d0_11eb_94de_0242ac110002row15_col14{\n",
       "            background-color:  #000000;\n",
       "            color:  #f1f1f1;\n",
       "        }#T_1085845e_79d0_11eb_94de_0242ac110002row1_col11{\n",
       "            background-color:  #606060;\n",
       "            color:  #f1f1f1;\n",
       "        }#T_1085845e_79d0_11eb_94de_0242ac110002row1_col12{\n",
       "            background-color:  #4d4d4d;\n",
       "            color:  #f1f1f1;\n",
       "        }#T_1085845e_79d0_11eb_94de_0242ac110002row1_col14{\n",
       "            background-color:  #bbbbbb;\n",
       "            color:  #000000;\n",
       "        }#T_1085845e_79d0_11eb_94de_0242ac110002row2_col3{\n",
       "            background-color:  #e4e4e4;\n",
       "            color:  #000000;\n",
       "        }#T_1085845e_79d0_11eb_94de_0242ac110002row2_col4,#T_1085845e_79d0_11eb_94de_0242ac110002row8_col6{\n",
       "            background-color:  #6b6b6b;\n",
       "            color:  #000000;\n",
       "        }#T_1085845e_79d0_11eb_94de_0242ac110002row2_col8,#T_1085845e_79d0_11eb_94de_0242ac110002row2_col14,#T_1085845e_79d0_11eb_94de_0242ac110002row3_col14{\n",
       "            background-color:  #171717;\n",
       "            color:  #f1f1f1;\n",
       "        }#T_1085845e_79d0_11eb_94de_0242ac110002row2_col9,#T_1085845e_79d0_11eb_94de_0242ac110002row3_col11{\n",
       "            background-color:  #4b4b4b;\n",
       "            color:  #f1f1f1;\n",
       "        }#T_1085845e_79d0_11eb_94de_0242ac110002row2_col10,#T_1085845e_79d0_11eb_94de_0242ac110002row7_col10,#T_1085845e_79d0_11eb_94de_0242ac110002row8_col8,#T_1085845e_79d0_11eb_94de_0242ac110002row8_col10,#T_1085845e_79d0_11eb_94de_0242ac110002row9_col8,#T_1085845e_79d0_11eb_94de_0242ac110002row9_col10{\n",
       "            background-color:  #010101;\n",
       "            color:  #f1f1f1;\n",
       "        }#T_1085845e_79d0_11eb_94de_0242ac110002row3_col1{\n",
       "            background-color:  #272727;\n",
       "            color:  #f1f1f1;\n",
       "        }#T_1085845e_79d0_11eb_94de_0242ac110002row3_col2{\n",
       "            background-color:  #0a0a0a;\n",
       "            color:  #f1f1f1;\n",
       "        }#T_1085845e_79d0_11eb_94de_0242ac110002row3_col3,#T_1085845e_79d0_11eb_94de_0242ac110002row14_col13{\n",
       "            background-color:  #050505;\n",
       "            color:  #f1f1f1;\n",
       "        }#T_1085845e_79d0_11eb_94de_0242ac110002row3_col5{\n",
       "            background-color:  #333333;\n",
       "            color:  #f1f1f1;\n",
       "        }#T_1085845e_79d0_11eb_94de_0242ac110002row3_col6{\n",
       "            background-color:  #e6e6e6;\n",
       "            color:  #000000;\n",
       "        }#T_1085845e_79d0_11eb_94de_0242ac110002row3_col7,#T_1085845e_79d0_11eb_94de_0242ac110002row3_col10{\n",
       "            background-color:  #fafafa;\n",
       "            color:  #000000;\n",
       "        }#T_1085845e_79d0_11eb_94de_0242ac110002row3_col8,#T_1085845e_79d0_11eb_94de_0242ac110002row11_col10{\n",
       "            background-color:  #fbfbfb;\n",
       "            color:  #000000;\n",
       "        }#T_1085845e_79d0_11eb_94de_0242ac110002row3_col9{\n",
       "            background-color:  #fdfdfd;\n",
       "            color:  #000000;\n",
       "        }#T_1085845e_79d0_11eb_94de_0242ac110002row4_col4{\n",
       "            background-color:  #1b1b1b;\n",
       "            color:  #f1f1f1;\n",
       "        }#T_1085845e_79d0_11eb_94de_0242ac110002row4_col5{\n",
       "            background-color:  #e0e0e0;\n",
       "            color:  #000000;\n",
       "        }#T_1085845e_79d0_11eb_94de_0242ac110002row4_col11{\n",
       "            background-color:  #4e4e4e;\n",
       "            color:  #f1f1f1;\n",
       "        }#T_1085845e_79d0_11eb_94de_0242ac110002row4_col14{\n",
       "            background-color:  #767676;\n",
       "            color:  #000000;\n",
       "        }#T_1085845e_79d0_11eb_94de_0242ac110002row5_col1{\n",
       "            background-color:  #fcfcfc;\n",
       "            color:  #000000;\n",
       "        }#T_1085845e_79d0_11eb_94de_0242ac110002row5_col2,#T_1085845e_79d0_11eb_94de_0242ac110002row5_col3{\n",
       "            background-color:  #f6f6f6;\n",
       "            color:  #000000;\n",
       "        }#T_1085845e_79d0_11eb_94de_0242ac110002row5_col4,#T_1085845e_79d0_11eb_94de_0242ac110002row7_col7{\n",
       "            background-color:  #f8f8f8;\n",
       "            color:  #000000;\n",
       "        }#T_1085845e_79d0_11eb_94de_0242ac110002row5_col10,#T_1085845e_79d0_11eb_94de_0242ac110002row10_col7{\n",
       "            background-color:  #e8e8e8;\n",
       "            color:  #000000;\n",
       "        }#T_1085845e_79d0_11eb_94de_0242ac110002row5_col11{\n",
       "            background-color:  #222222;\n",
       "            color:  #f1f1f1;\n",
       "        }#T_1085845e_79d0_11eb_94de_0242ac110002row5_col13,#T_1085845e_79d0_11eb_94de_0242ac110002row6_col12{\n",
       "            background-color:  #090909;\n",
       "            color:  #f1f1f1;\n",
       "        }#T_1085845e_79d0_11eb_94de_0242ac110002row5_col14{\n",
       "            background-color:  #d0d0d0;\n",
       "            color:  #000000;\n",
       "        }#T_1085845e_79d0_11eb_94de_0242ac110002row6_col10,#T_1085845e_79d0_11eb_94de_0242ac110002row7_col11,#T_1085845e_79d0_11eb_94de_0242ac110002row9_col6{\n",
       "            background-color:  #060606;\n",
       "            color:  #f1f1f1;\n",
       "        }#T_1085845e_79d0_11eb_94de_0242ac110002row6_col13{\n",
       "            background-color:  #979797;\n",
       "            color:  #000000;\n",
       "        }#T_1085845e_79d0_11eb_94de_0242ac110002row7_col8{\n",
       "            background-color:  #b6b6b6;\n",
       "            color:  #000000;\n",
       "        }#T_1085845e_79d0_11eb_94de_0242ac110002row7_col9{\n",
       "            background-color:  #252525;\n",
       "            color:  #f1f1f1;\n",
       "        }#T_1085845e_79d0_11eb_94de_0242ac110002row7_col12{\n",
       "            background-color:  #999999;\n",
       "            color:  #000000;\n",
       "        }#T_1085845e_79d0_11eb_94de_0242ac110002row8_col5{\n",
       "            background-color:  #f9f9f9;\n",
       "            color:  #000000;\n",
       "        }#T_1085845e_79d0_11eb_94de_0242ac110002row8_col7{\n",
       "            background-color:  #101010;\n",
       "            color:  #f1f1f1;\n",
       "        }#T_1085845e_79d0_11eb_94de_0242ac110002row8_col9,#T_1085845e_79d0_11eb_94de_0242ac110002row9_col9{\n",
       "            background-color:  #020202;\n",
       "            color:  #f1f1f1;\n",
       "        }#T_1085845e_79d0_11eb_94de_0242ac110002row8_col11,#T_1085845e_79d0_11eb_94de_0242ac110002row10_col15{\n",
       "            background-color:  #545454;\n",
       "            color:  #f1f1f1;\n",
       "        }#T_1085845e_79d0_11eb_94de_0242ac110002row8_col12{\n",
       "            background-color:  #f1f1f1;\n",
       "            color:  #000000;\n",
       "        }#T_1085845e_79d0_11eb_94de_0242ac110002row9_col5{\n",
       "            background-color:  #f7f7f7;\n",
       "            color:  #000000;\n",
       "        }#T_1085845e_79d0_11eb_94de_0242ac110002row9_col7{\n",
       "            background-color:  #030303;\n",
       "            color:  #f1f1f1;\n",
       "        }#T_1085845e_79d0_11eb_94de_0242ac110002row9_col12{\n",
       "            background-color:  #181818;\n",
       "            color:  #f1f1f1;\n",
       "        }#T_1085845e_79d0_11eb_94de_0242ac110002row9_col13{\n",
       "            background-color:  #303030;\n",
       "            color:  #f1f1f1;\n",
       "        }#T_1085845e_79d0_11eb_94de_0242ac110002row9_col14{\n",
       "            background-color:  #a9a9a9;\n",
       "            color:  #000000;\n",
       "        }#T_1085845e_79d0_11eb_94de_0242ac110002row9_col15{\n",
       "            background-color:  #fefefe;\n",
       "            color:  #000000;\n",
       "        }#T_1085845e_79d0_11eb_94de_0242ac110002row10_col8,#T_1085845e_79d0_11eb_94de_0242ac110002row10_col9{\n",
       "            background-color:  #bababa;\n",
       "            color:  #000000;\n",
       "        }#T_1085845e_79d0_11eb_94de_0242ac110002row10_col10{\n",
       "            background-color:  #393939;\n",
       "            color:  #f1f1f1;\n",
       "        }#T_1085845e_79d0_11eb_94de_0242ac110002row11_col11{\n",
       "            background-color:  #e2e2e2;\n",
       "            color:  #000000;\n",
       "        }#T_1085845e_79d0_11eb_94de_0242ac110002row11_col12{\n",
       "            background-color:  #9f9f9f;\n",
       "            color:  #000000;\n",
       "        }#T_1085845e_79d0_11eb_94de_0242ac110002row12_col13{\n",
       "            background-color:  #585858;\n",
       "            color:  #f1f1f1;\n",
       "        }#T_1085845e_79d0_11eb_94de_0242ac110002row13_col13{\n",
       "            background-color:  #5a5a5a;\n",
       "            color:  #f1f1f1;\n",
       "        }#T_1085845e_79d0_11eb_94de_0242ac110002row14_col12{\n",
       "            background-color:  #c5c5c5;\n",
       "            color:  #000000;\n",
       "        }#T_1085845e_79d0_11eb_94de_0242ac110002row15_col11{\n",
       "            background-color:  #dcdcdc;\n",
       "            color:  #000000;\n",
       "        }#T_1085845e_79d0_11eb_94de_0242ac110002row15_col12{\n",
       "            background-color:  #2f2f2f;\n",
       "            color:  #f1f1f1;\n",
       "        }#T_1085845e_79d0_11eb_94de_0242ac110002row15_col15{\n",
       "            background-color:  #636363;\n",
       "            color:  #f1f1f1;\n",
       "        }</style><table id=\"T_1085845e_79d0_11eb_94de_0242ac110002\" ><thead>    <tr>        <th class=\"blank level0\" ></th>        <th class=\"col_heading level0 col0\" >0</th>        <th class=\"col_heading level0 col1\" >1</th>        <th class=\"col_heading level0 col2\" >2</th>        <th class=\"col_heading level0 col3\" >3</th>        <th class=\"col_heading level0 col4\" >4</th>        <th class=\"col_heading level0 col5\" >5</th>        <th class=\"col_heading level0 col6\" >6</th>        <th class=\"col_heading level0 col7\" >7</th>        <th class=\"col_heading level0 col8\" >8</th>        <th class=\"col_heading level0 col9\" >9</th>        <th class=\"col_heading level0 col10\" >10</th>        <th class=\"col_heading level0 col11\" >11</th>        <th class=\"col_heading level0 col12\" >12</th>        <th class=\"col_heading level0 col13\" >13</th>        <th class=\"col_heading level0 col14\" >14</th>        <th class=\"col_heading level0 col15\" >15</th>    </tr></thead><tbody>\n",
       "                <tr>\n",
       "                        <th id=\"T_1085845e_79d0_11eb_94de_0242ac110002level0_row0\" class=\"row_heading level0 row0\" >0</th>\n",
       "                        <td id=\"T_1085845e_79d0_11eb_94de_0242ac110002row0_col0\" class=\"data row0 col0\" >0</td>\n",
       "                        <td id=\"T_1085845e_79d0_11eb_94de_0242ac110002row0_col1\" class=\"data row0 col1\" >0</td>\n",
       "                        <td id=\"T_1085845e_79d0_11eb_94de_0242ac110002row0_col2\" class=\"data row0 col2\" >0</td>\n",
       "                        <td id=\"T_1085845e_79d0_11eb_94de_0242ac110002row0_col3\" class=\"data row0 col3\" >0</td>\n",
       "                        <td id=\"T_1085845e_79d0_11eb_94de_0242ac110002row0_col4\" class=\"data row0 col4\" >0</td>\n",
       "                        <td id=\"T_1085845e_79d0_11eb_94de_0242ac110002row0_col5\" class=\"data row0 col5\" >0</td>\n",
       "                        <td id=\"T_1085845e_79d0_11eb_94de_0242ac110002row0_col6\" class=\"data row0 col6\" >0</td>\n",
       "                        <td id=\"T_1085845e_79d0_11eb_94de_0242ac110002row0_col7\" class=\"data row0 col7\" >0</td>\n",
       "                        <td id=\"T_1085845e_79d0_11eb_94de_0242ac110002row0_col8\" class=\"data row0 col8\" >0</td>\n",
       "                        <td id=\"T_1085845e_79d0_11eb_94de_0242ac110002row0_col9\" class=\"data row0 col9\" >0</td>\n",
       "                        <td id=\"T_1085845e_79d0_11eb_94de_0242ac110002row0_col10\" class=\"data row0 col10\" >0</td>\n",
       "                        <td id=\"T_1085845e_79d0_11eb_94de_0242ac110002row0_col11\" class=\"data row0 col11\" >0</td>\n",
       "                        <td id=\"T_1085845e_79d0_11eb_94de_0242ac110002row0_col12\" class=\"data row0 col12\" >0</td>\n",
       "                        <td id=\"T_1085845e_79d0_11eb_94de_0242ac110002row0_col13\" class=\"data row0 col13\" >0</td>\n",
       "                        <td id=\"T_1085845e_79d0_11eb_94de_0242ac110002row0_col14\" class=\"data row0 col14\" >0</td>\n",
       "                        <td id=\"T_1085845e_79d0_11eb_94de_0242ac110002row0_col15\" class=\"data row0 col15\" >0</td>\n",
       "            </tr>\n",
       "            <tr>\n",
       "                        <th id=\"T_1085845e_79d0_11eb_94de_0242ac110002level0_row1\" class=\"row_heading level0 row1\" >1</th>\n",
       "                        <td id=\"T_1085845e_79d0_11eb_94de_0242ac110002row1_col0\" class=\"data row1 col0\" >0</td>\n",
       "                        <td id=\"T_1085845e_79d0_11eb_94de_0242ac110002row1_col1\" class=\"data row1 col1\" >0</td>\n",
       "                        <td id=\"T_1085845e_79d0_11eb_94de_0242ac110002row1_col2\" class=\"data row1 col2\" >0</td>\n",
       "                        <td id=\"T_1085845e_79d0_11eb_94de_0242ac110002row1_col3\" class=\"data row1 col3\" >0</td>\n",
       "                        <td id=\"T_1085845e_79d0_11eb_94de_0242ac110002row1_col4\" class=\"data row1 col4\" >0</td>\n",
       "                        <td id=\"T_1085845e_79d0_11eb_94de_0242ac110002row1_col5\" class=\"data row1 col5\" >29</td>\n",
       "                        <td id=\"T_1085845e_79d0_11eb_94de_0242ac110002row1_col6\" class=\"data row1 col6\" >150</td>\n",
       "                        <td id=\"T_1085845e_79d0_11eb_94de_0242ac110002row1_col7\" class=\"data row1 col7\" >195</td>\n",
       "                        <td id=\"T_1085845e_79d0_11eb_94de_0242ac110002row1_col8\" class=\"data row1 col8\" >254</td>\n",
       "                        <td id=\"T_1085845e_79d0_11eb_94de_0242ac110002row1_col9\" class=\"data row1 col9\" >255</td>\n",
       "                        <td id=\"T_1085845e_79d0_11eb_94de_0242ac110002row1_col10\" class=\"data row1 col10\" >254</td>\n",
       "                        <td id=\"T_1085845e_79d0_11eb_94de_0242ac110002row1_col11\" class=\"data row1 col11\" >176</td>\n",
       "                        <td id=\"T_1085845e_79d0_11eb_94de_0242ac110002row1_col12\" class=\"data row1 col12\" >193</td>\n",
       "                        <td id=\"T_1085845e_79d0_11eb_94de_0242ac110002row1_col13\" class=\"data row1 col13\" >150</td>\n",
       "                        <td id=\"T_1085845e_79d0_11eb_94de_0242ac110002row1_col14\" class=\"data row1 col14\" >96</td>\n",
       "                        <td id=\"T_1085845e_79d0_11eb_94de_0242ac110002row1_col15\" class=\"data row1 col15\" >0</td>\n",
       "            </tr>\n",
       "            <tr>\n",
       "                        <th id=\"T_1085845e_79d0_11eb_94de_0242ac110002level0_row2\" class=\"row_heading level0 row2\" >2</th>\n",
       "                        <td id=\"T_1085845e_79d0_11eb_94de_0242ac110002row2_col0\" class=\"data row2 col0\" >0</td>\n",
       "                        <td id=\"T_1085845e_79d0_11eb_94de_0242ac110002row2_col1\" class=\"data row2 col1\" >0</td>\n",
       "                        <td id=\"T_1085845e_79d0_11eb_94de_0242ac110002row2_col2\" class=\"data row2 col2\" >0</td>\n",
       "                        <td id=\"T_1085845e_79d0_11eb_94de_0242ac110002row2_col3\" class=\"data row2 col3\" >48</td>\n",
       "                        <td id=\"T_1085845e_79d0_11eb_94de_0242ac110002row2_col4\" class=\"data row2 col4\" >166</td>\n",
       "                        <td id=\"T_1085845e_79d0_11eb_94de_0242ac110002row2_col5\" class=\"data row2 col5\" >224</td>\n",
       "                        <td id=\"T_1085845e_79d0_11eb_94de_0242ac110002row2_col6\" class=\"data row2 col6\" >253</td>\n",
       "                        <td id=\"T_1085845e_79d0_11eb_94de_0242ac110002row2_col7\" class=\"data row2 col7\" >253</td>\n",
       "                        <td id=\"T_1085845e_79d0_11eb_94de_0242ac110002row2_col8\" class=\"data row2 col8\" >234</td>\n",
       "                        <td id=\"T_1085845e_79d0_11eb_94de_0242ac110002row2_col9\" class=\"data row2 col9\" >196</td>\n",
       "                        <td id=\"T_1085845e_79d0_11eb_94de_0242ac110002row2_col10\" class=\"data row2 col10\" >253</td>\n",
       "                        <td id=\"T_1085845e_79d0_11eb_94de_0242ac110002row2_col11\" class=\"data row2 col11\" >253</td>\n",
       "                        <td id=\"T_1085845e_79d0_11eb_94de_0242ac110002row2_col12\" class=\"data row2 col12\" >253</td>\n",
       "                        <td id=\"T_1085845e_79d0_11eb_94de_0242ac110002row2_col13\" class=\"data row2 col13\" >253</td>\n",
       "                        <td id=\"T_1085845e_79d0_11eb_94de_0242ac110002row2_col14\" class=\"data row2 col14\" >233</td>\n",
       "                        <td id=\"T_1085845e_79d0_11eb_94de_0242ac110002row2_col15\" class=\"data row2 col15\" >0</td>\n",
       "            </tr>\n",
       "            <tr>\n",
       "                        <th id=\"T_1085845e_79d0_11eb_94de_0242ac110002level0_row3\" class=\"row_heading level0 row3\" >3</th>\n",
       "                        <td id=\"T_1085845e_79d0_11eb_94de_0242ac110002row3_col0\" class=\"data row3 col0\" >0</td>\n",
       "                        <td id=\"T_1085845e_79d0_11eb_94de_0242ac110002row3_col1\" class=\"data row3 col1\" >93</td>\n",
       "                        <td id=\"T_1085845e_79d0_11eb_94de_0242ac110002row3_col2\" class=\"data row3 col2\" >244</td>\n",
       "                        <td id=\"T_1085845e_79d0_11eb_94de_0242ac110002row3_col3\" class=\"data row3 col3\" >249</td>\n",
       "                        <td id=\"T_1085845e_79d0_11eb_94de_0242ac110002row3_col4\" class=\"data row3 col4\" >253</td>\n",
       "                        <td id=\"T_1085845e_79d0_11eb_94de_0242ac110002row3_col5\" class=\"data row3 col5\" >187</td>\n",
       "                        <td id=\"T_1085845e_79d0_11eb_94de_0242ac110002row3_col6\" class=\"data row3 col6\" >46</td>\n",
       "                        <td id=\"T_1085845e_79d0_11eb_94de_0242ac110002row3_col7\" class=\"data row3 col7\" >10</td>\n",
       "                        <td id=\"T_1085845e_79d0_11eb_94de_0242ac110002row3_col8\" class=\"data row3 col8\" >8</td>\n",
       "                        <td id=\"T_1085845e_79d0_11eb_94de_0242ac110002row3_col9\" class=\"data row3 col9\" >4</td>\n",
       "                        <td id=\"T_1085845e_79d0_11eb_94de_0242ac110002row3_col10\" class=\"data row3 col10\" >10</td>\n",
       "                        <td id=\"T_1085845e_79d0_11eb_94de_0242ac110002row3_col11\" class=\"data row3 col11\" >194</td>\n",
       "                        <td id=\"T_1085845e_79d0_11eb_94de_0242ac110002row3_col12\" class=\"data row3 col12\" >253</td>\n",
       "                        <td id=\"T_1085845e_79d0_11eb_94de_0242ac110002row3_col13\" class=\"data row3 col13\" >253</td>\n",
       "                        <td id=\"T_1085845e_79d0_11eb_94de_0242ac110002row3_col14\" class=\"data row3 col14\" >233</td>\n",
       "                        <td id=\"T_1085845e_79d0_11eb_94de_0242ac110002row3_col15\" class=\"data row3 col15\" >0</td>\n",
       "            </tr>\n",
       "            <tr>\n",
       "                        <th id=\"T_1085845e_79d0_11eb_94de_0242ac110002level0_row4\" class=\"row_heading level0 row4\" >4</th>\n",
       "                        <td id=\"T_1085845e_79d0_11eb_94de_0242ac110002row4_col0\" class=\"data row4 col0\" >0</td>\n",
       "                        <td id=\"T_1085845e_79d0_11eb_94de_0242ac110002row4_col1\" class=\"data row4 col1\" >107</td>\n",
       "                        <td id=\"T_1085845e_79d0_11eb_94de_0242ac110002row4_col2\" class=\"data row4 col2\" >253</td>\n",
       "                        <td id=\"T_1085845e_79d0_11eb_94de_0242ac110002row4_col3\" class=\"data row4 col3\" >253</td>\n",
       "                        <td id=\"T_1085845e_79d0_11eb_94de_0242ac110002row4_col4\" class=\"data row4 col4\" >230</td>\n",
       "                        <td id=\"T_1085845e_79d0_11eb_94de_0242ac110002row4_col5\" class=\"data row4 col5\" >48</td>\n",
       "                        <td id=\"T_1085845e_79d0_11eb_94de_0242ac110002row4_col6\" class=\"data row4 col6\" >0</td>\n",
       "                        <td id=\"T_1085845e_79d0_11eb_94de_0242ac110002row4_col7\" class=\"data row4 col7\" >0</td>\n",
       "                        <td id=\"T_1085845e_79d0_11eb_94de_0242ac110002row4_col8\" class=\"data row4 col8\" >0</td>\n",
       "                        <td id=\"T_1085845e_79d0_11eb_94de_0242ac110002row4_col9\" class=\"data row4 col9\" >0</td>\n",
       "                        <td id=\"T_1085845e_79d0_11eb_94de_0242ac110002row4_col10\" class=\"data row4 col10\" >0</td>\n",
       "                        <td id=\"T_1085845e_79d0_11eb_94de_0242ac110002row4_col11\" class=\"data row4 col11\" >192</td>\n",
       "                        <td id=\"T_1085845e_79d0_11eb_94de_0242ac110002row4_col12\" class=\"data row4 col12\" >253</td>\n",
       "                        <td id=\"T_1085845e_79d0_11eb_94de_0242ac110002row4_col13\" class=\"data row4 col13\" >253</td>\n",
       "                        <td id=\"T_1085845e_79d0_11eb_94de_0242ac110002row4_col14\" class=\"data row4 col14\" >156</td>\n",
       "                        <td id=\"T_1085845e_79d0_11eb_94de_0242ac110002row4_col15\" class=\"data row4 col15\" >0</td>\n",
       "            </tr>\n",
       "            <tr>\n",
       "                        <th id=\"T_1085845e_79d0_11eb_94de_0242ac110002level0_row5\" class=\"row_heading level0 row5\" >5</th>\n",
       "                        <td id=\"T_1085845e_79d0_11eb_94de_0242ac110002row5_col0\" class=\"data row5 col0\" >0</td>\n",
       "                        <td id=\"T_1085845e_79d0_11eb_94de_0242ac110002row5_col1\" class=\"data row5 col1\" >3</td>\n",
       "                        <td id=\"T_1085845e_79d0_11eb_94de_0242ac110002row5_col2\" class=\"data row5 col2\" >20</td>\n",
       "                        <td id=\"T_1085845e_79d0_11eb_94de_0242ac110002row5_col3\" class=\"data row5 col3\" >20</td>\n",
       "                        <td id=\"T_1085845e_79d0_11eb_94de_0242ac110002row5_col4\" class=\"data row5 col4\" >15</td>\n",
       "                        <td id=\"T_1085845e_79d0_11eb_94de_0242ac110002row5_col5\" class=\"data row5 col5\" >0</td>\n",
       "                        <td id=\"T_1085845e_79d0_11eb_94de_0242ac110002row5_col6\" class=\"data row5 col6\" >0</td>\n",
       "                        <td id=\"T_1085845e_79d0_11eb_94de_0242ac110002row5_col7\" class=\"data row5 col7\" >0</td>\n",
       "                        <td id=\"T_1085845e_79d0_11eb_94de_0242ac110002row5_col8\" class=\"data row5 col8\" >0</td>\n",
       "                        <td id=\"T_1085845e_79d0_11eb_94de_0242ac110002row5_col9\" class=\"data row5 col9\" >0</td>\n",
       "                        <td id=\"T_1085845e_79d0_11eb_94de_0242ac110002row5_col10\" class=\"data row5 col10\" >43</td>\n",
       "                        <td id=\"T_1085845e_79d0_11eb_94de_0242ac110002row5_col11\" class=\"data row5 col11\" >224</td>\n",
       "                        <td id=\"T_1085845e_79d0_11eb_94de_0242ac110002row5_col12\" class=\"data row5 col12\" >253</td>\n",
       "                        <td id=\"T_1085845e_79d0_11eb_94de_0242ac110002row5_col13\" class=\"data row5 col13\" >245</td>\n",
       "                        <td id=\"T_1085845e_79d0_11eb_94de_0242ac110002row5_col14\" class=\"data row5 col14\" >74</td>\n",
       "                        <td id=\"T_1085845e_79d0_11eb_94de_0242ac110002row5_col15\" class=\"data row5 col15\" >0</td>\n",
       "            </tr>\n",
       "            <tr>\n",
       "                        <th id=\"T_1085845e_79d0_11eb_94de_0242ac110002level0_row6\" class=\"row_heading level0 row6\" >6</th>\n",
       "                        <td id=\"T_1085845e_79d0_11eb_94de_0242ac110002row6_col0\" class=\"data row6 col0\" >0</td>\n",
       "                        <td id=\"T_1085845e_79d0_11eb_94de_0242ac110002row6_col1\" class=\"data row6 col1\" >0</td>\n",
       "                        <td id=\"T_1085845e_79d0_11eb_94de_0242ac110002row6_col2\" class=\"data row6 col2\" >0</td>\n",
       "                        <td id=\"T_1085845e_79d0_11eb_94de_0242ac110002row6_col3\" class=\"data row6 col3\" >0</td>\n",
       "                        <td id=\"T_1085845e_79d0_11eb_94de_0242ac110002row6_col4\" class=\"data row6 col4\" >0</td>\n",
       "                        <td id=\"T_1085845e_79d0_11eb_94de_0242ac110002row6_col5\" class=\"data row6 col5\" >0</td>\n",
       "                        <td id=\"T_1085845e_79d0_11eb_94de_0242ac110002row6_col6\" class=\"data row6 col6\" >0</td>\n",
       "                        <td id=\"T_1085845e_79d0_11eb_94de_0242ac110002row6_col7\" class=\"data row6 col7\" >0</td>\n",
       "                        <td id=\"T_1085845e_79d0_11eb_94de_0242ac110002row6_col8\" class=\"data row6 col8\" >0</td>\n",
       "                        <td id=\"T_1085845e_79d0_11eb_94de_0242ac110002row6_col9\" class=\"data row6 col9\" >0</td>\n",
       "                        <td id=\"T_1085845e_79d0_11eb_94de_0242ac110002row6_col10\" class=\"data row6 col10\" >249</td>\n",
       "                        <td id=\"T_1085845e_79d0_11eb_94de_0242ac110002row6_col11\" class=\"data row6 col11\" >253</td>\n",
       "                        <td id=\"T_1085845e_79d0_11eb_94de_0242ac110002row6_col12\" class=\"data row6 col12\" >245</td>\n",
       "                        <td id=\"T_1085845e_79d0_11eb_94de_0242ac110002row6_col13\" class=\"data row6 col13\" >126</td>\n",
       "                        <td id=\"T_1085845e_79d0_11eb_94de_0242ac110002row6_col14\" class=\"data row6 col14\" >0</td>\n",
       "                        <td id=\"T_1085845e_79d0_11eb_94de_0242ac110002row6_col15\" class=\"data row6 col15\" >0</td>\n",
       "            </tr>\n",
       "            <tr>\n",
       "                        <th id=\"T_1085845e_79d0_11eb_94de_0242ac110002level0_row7\" class=\"row_heading level0 row7\" >7</th>\n",
       "                        <td id=\"T_1085845e_79d0_11eb_94de_0242ac110002row7_col0\" class=\"data row7 col0\" >0</td>\n",
       "                        <td id=\"T_1085845e_79d0_11eb_94de_0242ac110002row7_col1\" class=\"data row7 col1\" >0</td>\n",
       "                        <td id=\"T_1085845e_79d0_11eb_94de_0242ac110002row7_col2\" class=\"data row7 col2\" >0</td>\n",
       "                        <td id=\"T_1085845e_79d0_11eb_94de_0242ac110002row7_col3\" class=\"data row7 col3\" >0</td>\n",
       "                        <td id=\"T_1085845e_79d0_11eb_94de_0242ac110002row7_col4\" class=\"data row7 col4\" >0</td>\n",
       "                        <td id=\"T_1085845e_79d0_11eb_94de_0242ac110002row7_col5\" class=\"data row7 col5\" >0</td>\n",
       "                        <td id=\"T_1085845e_79d0_11eb_94de_0242ac110002row7_col6\" class=\"data row7 col6\" >0</td>\n",
       "                        <td id=\"T_1085845e_79d0_11eb_94de_0242ac110002row7_col7\" class=\"data row7 col7\" >14</td>\n",
       "                        <td id=\"T_1085845e_79d0_11eb_94de_0242ac110002row7_col8\" class=\"data row7 col8\" >101</td>\n",
       "                        <td id=\"T_1085845e_79d0_11eb_94de_0242ac110002row7_col9\" class=\"data row7 col9\" >223</td>\n",
       "                        <td id=\"T_1085845e_79d0_11eb_94de_0242ac110002row7_col10\" class=\"data row7 col10\" >253</td>\n",
       "                        <td id=\"T_1085845e_79d0_11eb_94de_0242ac110002row7_col11\" class=\"data row7 col11\" >248</td>\n",
       "                        <td id=\"T_1085845e_79d0_11eb_94de_0242ac110002row7_col12\" class=\"data row7 col12\" >124</td>\n",
       "                        <td id=\"T_1085845e_79d0_11eb_94de_0242ac110002row7_col13\" class=\"data row7 col13\" >0</td>\n",
       "                        <td id=\"T_1085845e_79d0_11eb_94de_0242ac110002row7_col14\" class=\"data row7 col14\" >0</td>\n",
       "                        <td id=\"T_1085845e_79d0_11eb_94de_0242ac110002row7_col15\" class=\"data row7 col15\" >0</td>\n",
       "            </tr>\n",
       "            <tr>\n",
       "                        <th id=\"T_1085845e_79d0_11eb_94de_0242ac110002level0_row8\" class=\"row_heading level0 row8\" >8</th>\n",
       "                        <td id=\"T_1085845e_79d0_11eb_94de_0242ac110002row8_col0\" class=\"data row8 col0\" >0</td>\n",
       "                        <td id=\"T_1085845e_79d0_11eb_94de_0242ac110002row8_col1\" class=\"data row8 col1\" >0</td>\n",
       "                        <td id=\"T_1085845e_79d0_11eb_94de_0242ac110002row8_col2\" class=\"data row8 col2\" >0</td>\n",
       "                        <td id=\"T_1085845e_79d0_11eb_94de_0242ac110002row8_col3\" class=\"data row8 col3\" >0</td>\n",
       "                        <td id=\"T_1085845e_79d0_11eb_94de_0242ac110002row8_col4\" class=\"data row8 col4\" >0</td>\n",
       "                        <td id=\"T_1085845e_79d0_11eb_94de_0242ac110002row8_col5\" class=\"data row8 col5\" >11</td>\n",
       "                        <td id=\"T_1085845e_79d0_11eb_94de_0242ac110002row8_col6\" class=\"data row8 col6\" >166</td>\n",
       "                        <td id=\"T_1085845e_79d0_11eb_94de_0242ac110002row8_col7\" class=\"data row8 col7\" >239</td>\n",
       "                        <td id=\"T_1085845e_79d0_11eb_94de_0242ac110002row8_col8\" class=\"data row8 col8\" >253</td>\n",
       "                        <td id=\"T_1085845e_79d0_11eb_94de_0242ac110002row8_col9\" class=\"data row8 col9\" >253</td>\n",
       "                        <td id=\"T_1085845e_79d0_11eb_94de_0242ac110002row8_col10\" class=\"data row8 col10\" >253</td>\n",
       "                        <td id=\"T_1085845e_79d0_11eb_94de_0242ac110002row8_col11\" class=\"data row8 col11\" >187</td>\n",
       "                        <td id=\"T_1085845e_79d0_11eb_94de_0242ac110002row8_col12\" class=\"data row8 col12\" >30</td>\n",
       "                        <td id=\"T_1085845e_79d0_11eb_94de_0242ac110002row8_col13\" class=\"data row8 col13\" >0</td>\n",
       "                        <td id=\"T_1085845e_79d0_11eb_94de_0242ac110002row8_col14\" class=\"data row8 col14\" >0</td>\n",
       "                        <td id=\"T_1085845e_79d0_11eb_94de_0242ac110002row8_col15\" class=\"data row8 col15\" >0</td>\n",
       "            </tr>\n",
       "            <tr>\n",
       "                        <th id=\"T_1085845e_79d0_11eb_94de_0242ac110002level0_row9\" class=\"row_heading level0 row9\" >9</th>\n",
       "                        <td id=\"T_1085845e_79d0_11eb_94de_0242ac110002row9_col0\" class=\"data row9 col0\" >0</td>\n",
       "                        <td id=\"T_1085845e_79d0_11eb_94de_0242ac110002row9_col1\" class=\"data row9 col1\" >0</td>\n",
       "                        <td id=\"T_1085845e_79d0_11eb_94de_0242ac110002row9_col2\" class=\"data row9 col2\" >0</td>\n",
       "                        <td id=\"T_1085845e_79d0_11eb_94de_0242ac110002row9_col3\" class=\"data row9 col3\" >0</td>\n",
       "                        <td id=\"T_1085845e_79d0_11eb_94de_0242ac110002row9_col4\" class=\"data row9 col4\" >0</td>\n",
       "                        <td id=\"T_1085845e_79d0_11eb_94de_0242ac110002row9_col5\" class=\"data row9 col5\" >16</td>\n",
       "                        <td id=\"T_1085845e_79d0_11eb_94de_0242ac110002row9_col6\" class=\"data row9 col6\" >248</td>\n",
       "                        <td id=\"T_1085845e_79d0_11eb_94de_0242ac110002row9_col7\" class=\"data row9 col7\" >250</td>\n",
       "                        <td id=\"T_1085845e_79d0_11eb_94de_0242ac110002row9_col8\" class=\"data row9 col8\" >253</td>\n",
       "                        <td id=\"T_1085845e_79d0_11eb_94de_0242ac110002row9_col9\" class=\"data row9 col9\" >253</td>\n",
       "                        <td id=\"T_1085845e_79d0_11eb_94de_0242ac110002row9_col10\" class=\"data row9 col10\" >253</td>\n",
       "                        <td id=\"T_1085845e_79d0_11eb_94de_0242ac110002row9_col11\" class=\"data row9 col11\" >253</td>\n",
       "                        <td id=\"T_1085845e_79d0_11eb_94de_0242ac110002row9_col12\" class=\"data row9 col12\" >232</td>\n",
       "                        <td id=\"T_1085845e_79d0_11eb_94de_0242ac110002row9_col13\" class=\"data row9 col13\" >213</td>\n",
       "                        <td id=\"T_1085845e_79d0_11eb_94de_0242ac110002row9_col14\" class=\"data row9 col14\" >111</td>\n",
       "                        <td id=\"T_1085845e_79d0_11eb_94de_0242ac110002row9_col15\" class=\"data row9 col15\" >2</td>\n",
       "            </tr>\n",
       "            <tr>\n",
       "                        <th id=\"T_1085845e_79d0_11eb_94de_0242ac110002level0_row10\" class=\"row_heading level0 row10\" >10</th>\n",
       "                        <td id=\"T_1085845e_79d0_11eb_94de_0242ac110002row10_col0\" class=\"data row10 col0\" >0</td>\n",
       "                        <td id=\"T_1085845e_79d0_11eb_94de_0242ac110002row10_col1\" class=\"data row10 col1\" >0</td>\n",
       "                        <td id=\"T_1085845e_79d0_11eb_94de_0242ac110002row10_col2\" class=\"data row10 col2\" >0</td>\n",
       "                        <td id=\"T_1085845e_79d0_11eb_94de_0242ac110002row10_col3\" class=\"data row10 col3\" >0</td>\n",
       "                        <td id=\"T_1085845e_79d0_11eb_94de_0242ac110002row10_col4\" class=\"data row10 col4\" >0</td>\n",
       "                        <td id=\"T_1085845e_79d0_11eb_94de_0242ac110002row10_col5\" class=\"data row10 col5\" >0</td>\n",
       "                        <td id=\"T_1085845e_79d0_11eb_94de_0242ac110002row10_col6\" class=\"data row10 col6\" >0</td>\n",
       "                        <td id=\"T_1085845e_79d0_11eb_94de_0242ac110002row10_col7\" class=\"data row10 col7\" >43</td>\n",
       "                        <td id=\"T_1085845e_79d0_11eb_94de_0242ac110002row10_col8\" class=\"data row10 col8\" >98</td>\n",
       "                        <td id=\"T_1085845e_79d0_11eb_94de_0242ac110002row10_col9\" class=\"data row10 col9\" >98</td>\n",
       "                        <td id=\"T_1085845e_79d0_11eb_94de_0242ac110002row10_col10\" class=\"data row10 col10\" >208</td>\n",
       "                        <td id=\"T_1085845e_79d0_11eb_94de_0242ac110002row10_col11\" class=\"data row10 col11\" >253</td>\n",
       "                        <td id=\"T_1085845e_79d0_11eb_94de_0242ac110002row10_col12\" class=\"data row10 col12\" >253</td>\n",
       "                        <td id=\"T_1085845e_79d0_11eb_94de_0242ac110002row10_col13\" class=\"data row10 col13\" >253</td>\n",
       "                        <td id=\"T_1085845e_79d0_11eb_94de_0242ac110002row10_col14\" class=\"data row10 col14\" >253</td>\n",
       "                        <td id=\"T_1085845e_79d0_11eb_94de_0242ac110002row10_col15\" class=\"data row10 col15\" >187</td>\n",
       "            </tr>\n",
       "            <tr>\n",
       "                        <th id=\"T_1085845e_79d0_11eb_94de_0242ac110002level0_row11\" class=\"row_heading level0 row11\" >11</th>\n",
       "                        <td id=\"T_1085845e_79d0_11eb_94de_0242ac110002row11_col0\" class=\"data row11 col0\" >0</td>\n",
       "                        <td id=\"T_1085845e_79d0_11eb_94de_0242ac110002row11_col1\" class=\"data row11 col1\" >0</td>\n",
       "                        <td id=\"T_1085845e_79d0_11eb_94de_0242ac110002row11_col2\" class=\"data row11 col2\" >0</td>\n",
       "                        <td id=\"T_1085845e_79d0_11eb_94de_0242ac110002row11_col3\" class=\"data row11 col3\" >0</td>\n",
       "                        <td id=\"T_1085845e_79d0_11eb_94de_0242ac110002row11_col4\" class=\"data row11 col4\" >0</td>\n",
       "                        <td id=\"T_1085845e_79d0_11eb_94de_0242ac110002row11_col5\" class=\"data row11 col5\" >0</td>\n",
       "                        <td id=\"T_1085845e_79d0_11eb_94de_0242ac110002row11_col6\" class=\"data row11 col6\" >0</td>\n",
       "                        <td id=\"T_1085845e_79d0_11eb_94de_0242ac110002row11_col7\" class=\"data row11 col7\" >0</td>\n",
       "                        <td id=\"T_1085845e_79d0_11eb_94de_0242ac110002row11_col8\" class=\"data row11 col8\" >0</td>\n",
       "                        <td id=\"T_1085845e_79d0_11eb_94de_0242ac110002row11_col9\" class=\"data row11 col9\" >0</td>\n",
       "                        <td id=\"T_1085845e_79d0_11eb_94de_0242ac110002row11_col10\" class=\"data row11 col10\" >9</td>\n",
       "                        <td id=\"T_1085845e_79d0_11eb_94de_0242ac110002row11_col11\" class=\"data row11 col11\" >51</td>\n",
       "                        <td id=\"T_1085845e_79d0_11eb_94de_0242ac110002row11_col12\" class=\"data row11 col12\" >119</td>\n",
       "                        <td id=\"T_1085845e_79d0_11eb_94de_0242ac110002row11_col13\" class=\"data row11 col13\" >253</td>\n",
       "                        <td id=\"T_1085845e_79d0_11eb_94de_0242ac110002row11_col14\" class=\"data row11 col14\" >253</td>\n",
       "                        <td id=\"T_1085845e_79d0_11eb_94de_0242ac110002row11_col15\" class=\"data row11 col15\" >253</td>\n",
       "            </tr>\n",
       "            <tr>\n",
       "                        <th id=\"T_1085845e_79d0_11eb_94de_0242ac110002level0_row12\" class=\"row_heading level0 row12\" >12</th>\n",
       "                        <td id=\"T_1085845e_79d0_11eb_94de_0242ac110002row12_col0\" class=\"data row12 col0\" >0</td>\n",
       "                        <td id=\"T_1085845e_79d0_11eb_94de_0242ac110002row12_col1\" class=\"data row12 col1\" >0</td>\n",
       "                        <td id=\"T_1085845e_79d0_11eb_94de_0242ac110002row12_col2\" class=\"data row12 col2\" >0</td>\n",
       "                        <td id=\"T_1085845e_79d0_11eb_94de_0242ac110002row12_col3\" class=\"data row12 col3\" >0</td>\n",
       "                        <td id=\"T_1085845e_79d0_11eb_94de_0242ac110002row12_col4\" class=\"data row12 col4\" >0</td>\n",
       "                        <td id=\"T_1085845e_79d0_11eb_94de_0242ac110002row12_col5\" class=\"data row12 col5\" >0</td>\n",
       "                        <td id=\"T_1085845e_79d0_11eb_94de_0242ac110002row12_col6\" class=\"data row12 col6\" >0</td>\n",
       "                        <td id=\"T_1085845e_79d0_11eb_94de_0242ac110002row12_col7\" class=\"data row12 col7\" >0</td>\n",
       "                        <td id=\"T_1085845e_79d0_11eb_94de_0242ac110002row12_col8\" class=\"data row12 col8\" >0</td>\n",
       "                        <td id=\"T_1085845e_79d0_11eb_94de_0242ac110002row12_col9\" class=\"data row12 col9\" >0</td>\n",
       "                        <td id=\"T_1085845e_79d0_11eb_94de_0242ac110002row12_col10\" class=\"data row12 col10\" >0</td>\n",
       "                        <td id=\"T_1085845e_79d0_11eb_94de_0242ac110002row12_col11\" class=\"data row12 col11\" >0</td>\n",
       "                        <td id=\"T_1085845e_79d0_11eb_94de_0242ac110002row12_col12\" class=\"data row12 col12\" >1</td>\n",
       "                        <td id=\"T_1085845e_79d0_11eb_94de_0242ac110002row12_col13\" class=\"data row12 col13\" >183</td>\n",
       "                        <td id=\"T_1085845e_79d0_11eb_94de_0242ac110002row12_col14\" class=\"data row12 col14\" >253</td>\n",
       "                        <td id=\"T_1085845e_79d0_11eb_94de_0242ac110002row12_col15\" class=\"data row12 col15\" >253</td>\n",
       "            </tr>\n",
       "            <tr>\n",
       "                        <th id=\"T_1085845e_79d0_11eb_94de_0242ac110002level0_row13\" class=\"row_heading level0 row13\" >13</th>\n",
       "                        <td id=\"T_1085845e_79d0_11eb_94de_0242ac110002row13_col0\" class=\"data row13 col0\" >0</td>\n",
       "                        <td id=\"T_1085845e_79d0_11eb_94de_0242ac110002row13_col1\" class=\"data row13 col1\" >0</td>\n",
       "                        <td id=\"T_1085845e_79d0_11eb_94de_0242ac110002row13_col2\" class=\"data row13 col2\" >0</td>\n",
       "                        <td id=\"T_1085845e_79d0_11eb_94de_0242ac110002row13_col3\" class=\"data row13 col3\" >0</td>\n",
       "                        <td id=\"T_1085845e_79d0_11eb_94de_0242ac110002row13_col4\" class=\"data row13 col4\" >0</td>\n",
       "                        <td id=\"T_1085845e_79d0_11eb_94de_0242ac110002row13_col5\" class=\"data row13 col5\" >0</td>\n",
       "                        <td id=\"T_1085845e_79d0_11eb_94de_0242ac110002row13_col6\" class=\"data row13 col6\" >0</td>\n",
       "                        <td id=\"T_1085845e_79d0_11eb_94de_0242ac110002row13_col7\" class=\"data row13 col7\" >0</td>\n",
       "                        <td id=\"T_1085845e_79d0_11eb_94de_0242ac110002row13_col8\" class=\"data row13 col8\" >0</td>\n",
       "                        <td id=\"T_1085845e_79d0_11eb_94de_0242ac110002row13_col9\" class=\"data row13 col9\" >0</td>\n",
       "                        <td id=\"T_1085845e_79d0_11eb_94de_0242ac110002row13_col10\" class=\"data row13 col10\" >0</td>\n",
       "                        <td id=\"T_1085845e_79d0_11eb_94de_0242ac110002row13_col11\" class=\"data row13 col11\" >0</td>\n",
       "                        <td id=\"T_1085845e_79d0_11eb_94de_0242ac110002row13_col12\" class=\"data row13 col12\" >0</td>\n",
       "                        <td id=\"T_1085845e_79d0_11eb_94de_0242ac110002row13_col13\" class=\"data row13 col13\" >182</td>\n",
       "                        <td id=\"T_1085845e_79d0_11eb_94de_0242ac110002row13_col14\" class=\"data row13 col14\" >253</td>\n",
       "                        <td id=\"T_1085845e_79d0_11eb_94de_0242ac110002row13_col15\" class=\"data row13 col15\" >253</td>\n",
       "            </tr>\n",
       "            <tr>\n",
       "                        <th id=\"T_1085845e_79d0_11eb_94de_0242ac110002level0_row14\" class=\"row_heading level0 row14\" >14</th>\n",
       "                        <td id=\"T_1085845e_79d0_11eb_94de_0242ac110002row14_col0\" class=\"data row14 col0\" >0</td>\n",
       "                        <td id=\"T_1085845e_79d0_11eb_94de_0242ac110002row14_col1\" class=\"data row14 col1\" >0</td>\n",
       "                        <td id=\"T_1085845e_79d0_11eb_94de_0242ac110002row14_col2\" class=\"data row14 col2\" >0</td>\n",
       "                        <td id=\"T_1085845e_79d0_11eb_94de_0242ac110002row14_col3\" class=\"data row14 col3\" >0</td>\n",
       "                        <td id=\"T_1085845e_79d0_11eb_94de_0242ac110002row14_col4\" class=\"data row14 col4\" >0</td>\n",
       "                        <td id=\"T_1085845e_79d0_11eb_94de_0242ac110002row14_col5\" class=\"data row14 col5\" >0</td>\n",
       "                        <td id=\"T_1085845e_79d0_11eb_94de_0242ac110002row14_col6\" class=\"data row14 col6\" >0</td>\n",
       "                        <td id=\"T_1085845e_79d0_11eb_94de_0242ac110002row14_col7\" class=\"data row14 col7\" >0</td>\n",
       "                        <td id=\"T_1085845e_79d0_11eb_94de_0242ac110002row14_col8\" class=\"data row14 col8\" >0</td>\n",
       "                        <td id=\"T_1085845e_79d0_11eb_94de_0242ac110002row14_col9\" class=\"data row14 col9\" >0</td>\n",
       "                        <td id=\"T_1085845e_79d0_11eb_94de_0242ac110002row14_col10\" class=\"data row14 col10\" >0</td>\n",
       "                        <td id=\"T_1085845e_79d0_11eb_94de_0242ac110002row14_col11\" class=\"data row14 col11\" >0</td>\n",
       "                        <td id=\"T_1085845e_79d0_11eb_94de_0242ac110002row14_col12\" class=\"data row14 col12\" >85</td>\n",
       "                        <td id=\"T_1085845e_79d0_11eb_94de_0242ac110002row14_col13\" class=\"data row14 col13\" >249</td>\n",
       "                        <td id=\"T_1085845e_79d0_11eb_94de_0242ac110002row14_col14\" class=\"data row14 col14\" >253</td>\n",
       "                        <td id=\"T_1085845e_79d0_11eb_94de_0242ac110002row14_col15\" class=\"data row14 col15\" >253</td>\n",
       "            </tr>\n",
       "            <tr>\n",
       "                        <th id=\"T_1085845e_79d0_11eb_94de_0242ac110002level0_row15\" class=\"row_heading level0 row15\" >15</th>\n",
       "                        <td id=\"T_1085845e_79d0_11eb_94de_0242ac110002row15_col0\" class=\"data row15 col0\" >0</td>\n",
       "                        <td id=\"T_1085845e_79d0_11eb_94de_0242ac110002row15_col1\" class=\"data row15 col1\" >0</td>\n",
       "                        <td id=\"T_1085845e_79d0_11eb_94de_0242ac110002row15_col2\" class=\"data row15 col2\" >0</td>\n",
       "                        <td id=\"T_1085845e_79d0_11eb_94de_0242ac110002row15_col3\" class=\"data row15 col3\" >0</td>\n",
       "                        <td id=\"T_1085845e_79d0_11eb_94de_0242ac110002row15_col4\" class=\"data row15 col4\" >0</td>\n",
       "                        <td id=\"T_1085845e_79d0_11eb_94de_0242ac110002row15_col5\" class=\"data row15 col5\" >0</td>\n",
       "                        <td id=\"T_1085845e_79d0_11eb_94de_0242ac110002row15_col6\" class=\"data row15 col6\" >0</td>\n",
       "                        <td id=\"T_1085845e_79d0_11eb_94de_0242ac110002row15_col7\" class=\"data row15 col7\" >0</td>\n",
       "                        <td id=\"T_1085845e_79d0_11eb_94de_0242ac110002row15_col8\" class=\"data row15 col8\" >0</td>\n",
       "                        <td id=\"T_1085845e_79d0_11eb_94de_0242ac110002row15_col9\" class=\"data row15 col9\" >0</td>\n",
       "                        <td id=\"T_1085845e_79d0_11eb_94de_0242ac110002row15_col10\" class=\"data row15 col10\" >0</td>\n",
       "                        <td id=\"T_1085845e_79d0_11eb_94de_0242ac110002row15_col11\" class=\"data row15 col11\" >60</td>\n",
       "                        <td id=\"T_1085845e_79d0_11eb_94de_0242ac110002row15_col12\" class=\"data row15 col12\" >214</td>\n",
       "                        <td id=\"T_1085845e_79d0_11eb_94de_0242ac110002row15_col13\" class=\"data row15 col13\" >253</td>\n",
       "                        <td id=\"T_1085845e_79d0_11eb_94de_0242ac110002row15_col14\" class=\"data row15 col14\" >253</td>\n",
       "                        <td id=\"T_1085845e_79d0_11eb_94de_0242ac110002row15_col15\" class=\"data row15 col15\" >173</td>\n",
       "            </tr>\n",
       "    </tbody></table>"
      ],
      "text/plain": [
       "<pandas.io.formats.style.Styler at 0x7f12e79bd130>"
      ]
     },
     "execution_count": 90,
     "metadata": {},
     "output_type": "execute_result"
    }
   ],
   "source": [
    "three_df = pd.DataFrame(tensor(im)[4:20,4:20])\n",
    "three_df.style.set_properties().background_gradient('Greys')"
   ]
  },
  {
   "cell_type": "markdown",
   "metadata": {},
   "source": [
    "### Simple approach to identify pictures"
   ]
  },
  {
   "cell_type": "code",
   "execution_count": 91,
   "metadata": {},
   "outputs": [
    {
     "data": {
      "text/plain": [
       "(6131, 6265)"
      ]
     },
     "execution_count": 91,
     "metadata": {},
     "output_type": "execute_result"
    }
   ],
   "source": [
    "threes_list = [tensor(Image.open(o)) for o in threes]\n",
    "sevens_list = [tensor(Image.open(o)) for o in sevens]\n",
    "len(threes_list), len(sevens_list)"
   ]
  },
  {
   "cell_type": "code",
   "execution_count": 92,
   "metadata": {},
   "outputs": [
    {
     "data": {
      "text/plain": [
       "<AxesSubplot:>"
      ]
     },
     "execution_count": 92,
     "metadata": {},
     "output_type": "execute_result"
    },
    {
     "data": {
      "image/png": "[encoded data removed]",
      "text/plain": [
       "<Figure size 72x72 with 1 Axes>"
      ]
     },
     "metadata": {
      "needs_background": "light"
     },
     "output_type": "display_data"
    }
   ],
   "source": [
    "show_image(threes_list[1])"
   ]
  },
  {
   "cell_type": "code",
   "execution_count": 93,
   "metadata": {},
   "outputs": [
    {
     "data": {
      "text/plain": [
       "255"
      ]
     },
     "execution_count": 93,
     "metadata": {},
     "output_type": "execute_result"
    }
   ],
   "source": [
    "max([int(threes_list[i].max()) for i in range(len(threes_list))])"
   ]
  },
  {
   "cell_type": "code",
   "execution_count": 94,
   "metadata": {},
   "outputs": [
    {
     "data": {
      "text/plain": [
       "(torch.Size([6131, 28, 28]), torch.Size([6265, 28, 28]))"
      ]
     },
     "execution_count": 94,
     "metadata": {},
     "output_type": "execute_result"
    }
   ],
   "source": [
    "threes_stacked = torch.stack(threes_list).float()/255\n",
    "sevens_stacked = torch.stack(sevens_list).float()/255\n",
    "threes_stacked.shape, sevens_stacked.shape"
   ]
  },
  {
   "cell_type": "code",
   "execution_count": 95,
   "metadata": {},
   "outputs": [
    {
     "data": {
      "text/plain": [
       "<AxesSubplot:>"
      ]
     },
     "execution_count": 95,
     "metadata": {},
     "output_type": "execute_result"
    },
    {
     "data": {
      "image/png": "[encoded data removed]",
      "text/plain": [
       "<Figure size 72x72 with 1 Axes>"
      ]
     },
     "metadata": {
      "needs_background": "light"
     },
     "output_type": "display_data"
    }
   ],
   "source": [
    "avg_three = threes_stacked.mean(0)\n",
    "show_image(avg_three)"
   ]
  },
  {
   "cell_type": "code",
   "execution_count": 96,
   "metadata": {},
   "outputs": [
    {
     "data": {
      "text/plain": [
       "<AxesSubplot:>"
      ]
     },
     "execution_count": 96,
     "metadata": {},
     "output_type": "execute_result"
    },
    {
     "data": {
      "image/png": "[encoded data removed]",
      "text/plain": [
       "<Figure size 72x72 with 1 Axes>"
      ]
     },
     "metadata": {
      "needs_background": "light"
     },
     "output_type": "display_data"
    }
   ],
   "source": [
    "avg_seven = sevens_stacked.mean(0)\n",
    "show_image(avg_seven)"
   ]
  },
  {
   "cell_type": "markdown",
   "metadata": {},
   "source": [
    "Take one image and find diffences"
   ]
  },
  {
   "cell_type": "code",
   "execution_count": 97,
   "metadata": {},
   "outputs": [
    {
     "data": {
      "text/plain": [
       "(#1010) [Path('valid/3/5309.png'),Path('valid/3/9812.png'),Path('valid/3/5635.png'),Path('valid/3/2072.png'),Path('valid/3/3094.png'),Path('valid/3/7075.png'),Path('valid/3/2069.png'),Path('valid/3/4638.png'),Path('valid/3/991.png'),Path('valid/3/323.png')...]"
      ]
     },
     "execution_count": 97,
     "metadata": {},
     "output_type": "execute_result"
    }
   ],
   "source": [
    "(path/'valid'/'3').ls()"
   ]
  },
  {
   "cell_type": "code",
   "execution_count": 98,
   "metadata": {},
   "outputs": [
    {
     "data": {
      "image/png": "[encoded data removed]",
      "text/plain": [
       "<PIL.PngImagePlugin.PngImageFile image mode=L size=28x28 at 0x7F1312F7C700>"
      ]
     },
     "execution_count": 98,
     "metadata": {},
     "output_type": "execute_result"
    }
   ],
   "source": [
    "test_image = Image.open((path/'valid'/'3'/'5309.png'))\n",
    "test_image"
   ]
  },
  {
   "cell_type": "code",
   "execution_count": 99,
   "metadata": {},
   "outputs": [],
   "source": [
    "test_image_fin = (tensor(test_image).float()/255)"
   ]
  },
  {
   "cell_type": "markdown",
   "metadata": {},
   "source": [
    "Find the error terms"
   ]
  },
  {
   "cell_type": "code",
   "execution_count": 100,
   "metadata": {},
   "outputs": [
    {
     "data": {
      "text/plain": [
       "(tensor(0.1290), tensor(0.1769))"
      ]
     },
     "execution_count": 100,
     "metadata": {},
     "output_type": "execute_result"
    }
   ],
   "source": [
    "l1_with_3 = (test_image_fin - avg_three).abs().mean()\n",
    "l1_with_7 = (test_image_fin - avg_seven).abs().mean()\n",
    "l1_with_3, l1_with_7"
   ]
  },
  {
   "cell_type": "code",
   "execution_count": 101,
   "metadata": {},
   "outputs": [
    {
     "data": {
      "text/plain": [
       "(tensor(0.0561), tensor(0.1071))"
      ]
     },
     "execution_count": 101,
     "metadata": {},
     "output_type": "execute_result"
    }
   ],
   "source": [
    "l2_with_3 = ((test_image_fin - avg_three)**2).abs().mean()\n",
    "l2_with_7 = ((test_image_fin - avg_seven)**2).abs().mean()\n",
    "l2_with_3, l2_with_7"
   ]
  },
  {
   "cell_type": "markdown",
   "metadata": {},
   "source": [
    "### Score all the images using simple logic to find accuracy"
   ]
  },
  {
   "cell_type": "code",
   "execution_count": 102,
   "metadata": {},
   "outputs": [
    {
     "data": {
      "text/plain": [
       "(1010, 1028)"
      ]
     },
     "execution_count": 102,
     "metadata": {},
     "output_type": "execute_result"
    }
   ],
   "source": [
    "valid_threes_paths = (path/'valid'/'3').ls()\n",
    "valid_sevens_paths = (path/'valid'/'7').ls()\n",
    "len(valid_threes_paths), len(valid_sevens_paths)"
   ]
  },
  {
   "cell_type": "code",
   "execution_count": 103,
   "metadata": {},
   "outputs": [
    {
     "data": {
      "text/plain": [
       "(torch.Size([1010, 28, 28]), torch.Size([1028, 28, 28]))"
      ]
     },
     "execution_count": 103,
     "metadata": {},
     "output_type": "execute_result"
    }
   ],
   "source": [
    "valid_threes = torch.stack([tensor(Image.open(p)) for p in valid_threes_paths])\n",
    "valid_sevens = torch.stack([tensor(Image.open(p)) for p in valid_sevens_paths])\n",
    "valid_threes.shape, valid_sevens.shape"
   ]
  },
  {
   "cell_type": "code",
   "execution_count": 104,
   "metadata": {},
   "outputs": [
    {
     "data": {
      "text/plain": [
       "<AxesSubplot:>"
      ]
     },
     "execution_count": 104,
     "metadata": {},
     "output_type": "execute_result"
    },
    {
     "data": {
      "image/png": "[encoded data removed]",
      "text/plain": [
       "<Figure size 72x72 with 1 Axes>"
      ]
     },
     "metadata": {
      "needs_background": "light"
     },
     "output_type": "display_data"
    }
   ],
   "source": [
    "show_image(valid_threes[0])"
   ]
  },
  {
   "cell_type": "code",
   "execution_count": 105,
   "metadata": {},
   "outputs": [
    {
     "data": {
      "text/plain": [
       "(torch.Size([1010]),\n",
       " torch.Size([1010]),\n",
       " torch.Size([1010]),\n",
       " torch.Size([1028]))"
      ]
     },
     "execution_count": 105,
     "metadata": {},
     "output_type": "execute_result"
    }
   ],
   "source": [
    "valid3_losss_w3 = (valid_threes-avg_three).abs().mean((-1,-2))\n",
    "valid3_losss_w7 = (valid_threes-avg_seven).abs().mean((-1,-2))\n",
    "valid7_losss_w3 = (valid_sevens-avg_three).abs().mean((-1,-2))\n",
    "valid7_losss_w7 = (valid_sevens-avg_seven).abs().mean((-1,-2))\n",
    "valid3_losss_w3.shape, valid3_losss_w7.shape, valid3_losss_w7.shape, valid7_losss_w7.shape"
   ]
  },
  {
   "cell_type": "code",
   "execution_count": 106,
   "metadata": {},
   "outputs": [
    {
     "data": {
      "text/plain": [
       "(tensor(0.9436), tensor(0.9815), tensor(0.9627))"
      ]
     },
     "execution_count": 106,
     "metadata": {},
     "output_type": "execute_result"
    }
   ],
   "source": [
    "accuracy_3 = sum(valid3_losss_w3 < valid3_losss_w7)/len(valid3_losss_w3)\n",
    "accuracy_7 = sum(valid7_losss_w7 < valid7_losss_w3)/len(valid7_losss_w7)\n",
    "accuracy_tot = (sum(valid3_losss_w3 < valid3_losss_w7)+sum(valid7_losss_w7 < valid7_losss_w3))/(len(valid3_losss_w3)+len(valid7_losss_w7))\n",
    "accuracy_3, accuracy_7, accuracy_tot"
   ]
  },
  {
   "cell_type": "markdown",
   "metadata": {},
   "source": [
    "### Stocastic Gradient Descent"
   ]
  },
  {
   "cell_type": "code",
   "execution_count": 107,
   "metadata": {},
   "outputs": [],
   "source": [
    "from fastbook import *"
   ]
  },
  {
   "cell_type": "code",
   "execution_count": 108,
   "metadata": {},
   "outputs": [],
   "source": [
    "def f(x): return x**2"
   ]
  },
  {
   "cell_type": "code",
   "execution_count": 109,
   "metadata": {},
   "outputs": [
    {
     "data": {
      "image/png": "[encoded data removed]",
      "text/plain": [
       "<Figure size 432x288 with 1 Axes>"
      ]
     },
     "metadata": {
      "needs_background": "light"
     },
     "output_type": "display_data"
    }
   ],
   "source": [
    "plot_function(f, 'x', 'x**2')"
   ]
  },
  {
   "cell_type": "code",
   "execution_count": 110,
   "metadata": {},
   "outputs": [
    {
     "data": {
      "text/plain": [
       "<matplotlib.collections.PathCollection at 0x7f12e763f8b0>"
      ]
     },
     "execution_count": 110,
     "metadata": {},
     "output_type": "execute_result"
    },
    {
     "data": {
      "image/png": "[encoded data removed]",
      "text/plain": [
       "<Figure size 432x288 with 1 Axes>"
      ]
     },
     "metadata": {
      "needs_background": "light"
     },
     "output_type": "display_data"
    }
   ],
   "source": [
    "plot_function(f, 'x', 'x**2')\n",
    "plt.scatter(-1.5, f(-1.5), color='red')"
   ]
  },
  {
   "cell_type": "code",
   "execution_count": 111,
   "metadata": {},
   "outputs": [
    {
     "data": {
      "text/plain": [
       "tensor(3., requires_grad=True)"
      ]
     },
     "execution_count": 111,
     "metadata": {},
     "output_type": "execute_result"
    }
   ],
   "source": [
    "xt = tensor(3.).requires_grad_()\n",
    "xt"
   ]
  },
  {
   "cell_type": "code",
   "execution_count": 112,
   "metadata": {},
   "outputs": [
    {
     "data": {
      "text/plain": [
       "tensor(9., grad_fn=<PowBackward0>)"
      ]
     },
     "execution_count": 112,
     "metadata": {},
     "output_type": "execute_result"
    }
   ],
   "source": [
    "yt = f(xt)\n",
    "yt"
   ]
  },
  {
   "cell_type": "code",
   "execution_count": 113,
   "metadata": {},
   "outputs": [],
   "source": [
    "yt.backward()"
   ]
  },
  {
   "cell_type": "code",
   "execution_count": 114,
   "metadata": {},
   "outputs": [
    {
     "data": {
      "text/plain": [
       "tensor(6.)"
      ]
     },
     "execution_count": 114,
     "metadata": {},
     "output_type": "execute_result"
    }
   ],
   "source": [
    "xt.grad"
   ]
  },
  {
   "cell_type": "code",
   "execution_count": 115,
   "metadata": {},
   "outputs": [
    {
     "data": {
      "text/plain": [
       "tensor([2., 3., 4.], requires_grad=True)"
      ]
     },
     "execution_count": 115,
     "metadata": {},
     "output_type": "execute_result"
    }
   ],
   "source": [
    "xt = tensor([2.,3.,4.]).requires_grad_()\n",
    "xt"
   ]
  },
  {
   "cell_type": "code",
   "execution_count": 116,
   "metadata": {},
   "outputs": [
    {
     "data": {
      "text/plain": [
       "tensor(29., grad_fn=<SumBackward0>)"
      ]
     },
     "execution_count": 116,
     "metadata": {},
     "output_type": "execute_result"
    }
   ],
   "source": [
    "yt = f(xt).sum()\n",
    "yt"
   ]
  },
  {
   "cell_type": "code",
   "execution_count": 117,
   "metadata": {},
   "outputs": [
    {
     "data": {
      "text/plain": [
       "tensor([4., 6., 8.])"
      ]
     },
     "execution_count": 117,
     "metadata": {},
     "output_type": "execute_result"
    }
   ],
   "source": [
    "yt.backward()\n",
    "xt.grad"
   ]
  },
  {
   "cell_type": "markdown",
   "metadata": {},
   "source": [
    "### End-to-End SGD"
   ]
  },
  {
   "cell_type": "code",
   "execution_count": 324,
   "metadata": {},
   "outputs": [
    {
     "data": {
      "text/plain": [
       "tensor([ 0.,  1.,  2.,  3.,  4.,  5.,  6.,  7.,  8.,  9., 10., 11., 12., 13., 14., 15., 16., 17., 18., 19.])"
      ]
     },
     "execution_count": 324,
     "metadata": {},
     "output_type": "execute_result"
    }
   ],
   "source": [
    "time = torch.arange(20).float()\n",
    "time"
   ]
  },
  {
   "cell_type": "code",
   "execution_count": 325,
   "metadata": {},
   "outputs": [
    {
     "data": {
      "text/plain": [
       "<matplotlib.collections.PathCollection at 0x7f12faf98ca0>"
      ]
     },
     "execution_count": 325,
     "metadata": {},
     "output_type": "execute_result"
    },
    {
     "data": {
      "image/png": "[encoded data removed]",
      "text/plain": [
       "<Figure size 432x288 with 1 Axes>"
      ]
     },
     "metadata": {
      "needs_background": "light"
     },
     "output_type": "display_data"
    }
   ],
   "source": [
    "speed = 1.5*(time-9.5)**2 + 1 + torch.randn(20)*3\n",
    "plt.scatter(time, speed)"
   ]
  },
  {
   "cell_type": "code",
   "execution_count": 326,
   "metadata": {},
   "outputs": [],
   "source": [
    "def f(t, params):\n",
    "    a,b,c = params\n",
    "    return (a*t**2) + (b*t) + c"
   ]
  },
  {
   "cell_type": "code",
   "execution_count": 327,
   "metadata": {},
   "outputs": [],
   "source": [
    "def mse(pred, actual): return ((pred-actual)**2).mean().sqrt()"
   ]
  },
  {
   "cell_type": "markdown",
   "metadata": {},
   "source": [
    "**Step 1: Initialize Parameters**"
   ]
  },
  {
   "cell_type": "code",
   "execution_count": 328,
   "metadata": {},
   "outputs": [
    {
     "data": {
      "text/plain": [
       "tensor([-0.2823,  0.0510, -0.0177], requires_grad=True)"
      ]
     },
     "execution_count": 328,
     "metadata": {},
     "output_type": "execute_result"
    }
   ],
   "source": [
    "params = torch.randn(3).requires_grad_()\n",
    "params"
   ]
  },
  {
   "cell_type": "code",
   "execution_count": 329,
   "metadata": {},
   "outputs": [
    {
     "data": {
      "text/plain": [
       "tensor([-0.2823,  0.0510, -0.0177], grad_fn=<CloneBackward>)"
      ]
     },
     "execution_count": 329,
     "metadata": {},
     "output_type": "execute_result"
    }
   ],
   "source": [
    "orig_params  = params.clone()\n",
    "orig_params"
   ]
  },
  {
   "cell_type": "markdown",
   "metadata": {},
   "source": [
    "**Step2: Calculate Predictions**"
   ]
  },
  {
   "cell_type": "code",
   "execution_count": 330,
   "metadata": {},
   "outputs": [
    {
     "data": {
      "text/plain": [
       "tensor([-1.7705e-02, -2.4900e-01, -1.0449e+00, -2.4053e+00, -4.3303e+00, -6.8198e+00, -9.8739e+00, -1.3493e+01, -1.7676e+01, -2.2424e+01, -2.7736e+01, -3.3613e+01, -4.0054e+01, -4.7060e+01,\n",
       "        -5.4631e+01, -6.2766e+01, -7.1466e+01, -8.0730e+01, -9.0559e+01, -1.0095e+02], grad_fn=<AddBackward0>)"
      ]
     },
     "execution_count": 330,
     "metadata": {},
     "output_type": "execute_result"
    }
   ],
   "source": [
    "pred = f(time, params)\n",
    "pred"
   ]
  },
  {
   "cell_type": "code",
   "execution_count": 331,
   "metadata": {},
   "outputs": [],
   "source": [
    "def show_preds(pred, ax=None):\n",
    "    if ax is None: ax = plt.subplots()[1]\n",
    "    ax.scatter(time, speed)\n",
    "    ax.scatter(time, to_np(pred), color='red')"
   ]
  },
  {
   "cell_type": "code",
   "execution_count": 332,
   "metadata": {},
   "outputs": [
    {
     "data": {
      "image/png": "[encoded data removed]",
      "text/plain": [
       "<Figure size 432x288 with 1 Axes>"
      ]
     },
     "metadata": {
      "needs_background": "light"
     },
     "output_type": "display_data"
    }
   ],
   "source": [
    "show_preds(pred)"
   ]
  },
  {
   "cell_type": "markdown",
   "metadata": {},
   "source": [
    "**Step3: Calculate Loss**"
   ]
  },
  {
   "cell_type": "code",
   "execution_count": 333,
   "metadata": {},
   "outputs": [
    {
     "data": {
      "text/plain": [
       "tensor(104.3982, grad_fn=<SqrtBackward>)"
      ]
     },
     "execution_count": 333,
     "metadata": {},
     "output_type": "execute_result"
    }
   ],
   "source": [
    "loss = mse(pred, speed)\n",
    "loss"
   ]
  },
  {
   "cell_type": "markdown",
   "metadata": {},
   "source": [
    "**Step4: Calculate Gradients**"
   ]
  },
  {
   "cell_type": "code",
   "execution_count": 334,
   "metadata": {},
   "outputs": [
    {
     "data": {
      "text/plain": [
       "tensor([-146.5624,   -9.3544,   -0.8116])"
      ]
     },
     "execution_count": 334,
     "metadata": {},
     "output_type": "execute_result"
    }
   ],
   "source": [
    "loss.backward()\n",
    "params.grad"
   ]
  },
  {
   "cell_type": "markdown",
   "metadata": {},
   "source": [
    "**Step5: Step the weights**"
   ]
  },
  {
   "cell_type": "code",
   "execution_count": 335,
   "metadata": {},
   "outputs": [],
   "source": [
    "lr = 1e-3\n",
    "params.data -= lr*params.grad.data\n",
    "params.grad = None"
   ]
  },
  {
   "cell_type": "code",
   "execution_count": 336,
   "metadata": {},
   "outputs": [
    {
     "data": {
      "text/plain": [
       "tensor([-0.1357,  0.0603, -0.0169], requires_grad=True)"
      ]
     },
     "execution_count": 336,
     "metadata": {},
     "output_type": "execute_result"
    }
   ],
   "source": [
    "params"
   ]
  },
  {
   "cell_type": "code",
   "execution_count": 337,
   "metadata": {},
   "outputs": [],
   "source": [
    "pred = f(time, params)"
   ]
  },
  {
   "cell_type": "code",
   "execution_count": 338,
   "metadata": {},
   "outputs": [
    {
     "data": {
      "text/plain": [
       "tensor(83.6949, grad_fn=<SqrtBackward>)"
      ]
     },
     "execution_count": 338,
     "metadata": {},
     "output_type": "execute_result"
    }
   ],
   "source": [
    "mse(pred, speed)"
   ]
  },
  {
   "cell_type": "code",
   "execution_count": 339,
   "metadata": {},
   "outputs": [
    {
     "data": {
      "image/png": "[encoded data removed]",
      "text/plain": [
       "<Figure size 432x288 with 1 Axes>"
      ]
     },
     "metadata": {
      "needs_background": "light"
     },
     "output_type": "display_data"
    }
   ],
   "source": [
    "show_preds(pred)"
   ]
  },
  {
   "cell_type": "markdown",
   "metadata": {},
   "source": [
    "**Step6: Loop through this proces multiple times**"
   ]
  },
  {
   "cell_type": "code",
   "execution_count": 340,
   "metadata": {},
   "outputs": [],
   "source": [
    "def update_weights(params):\n",
    "    pred = f(time, params)\n",
    "    loss = mse(pred, speed)\n",
    "    loss.backward()\n",
    "    params.data -= lr*params.grad.data\n",
    "    params.grad = None\n",
    "    print(loss.item())\n",
    "    return pred"
   ]
  },
  {
   "cell_type": "code",
   "execution_count": 341,
   "metadata": {},
   "outputs": [
    {
     "name": "stdout",
     "output_type": "stream",
     "text": [
      "83.69485473632812\n",
      "67.23494720458984\n",
      "56.840248107910156\n",
      "52.3720817565918\n",
      "51.11370086669922\n",
      "50.838470458984375\n",
      "50.78293228149414\n",
      "50.7718505859375\n",
      "50.769561767578125\n",
      "50.769004821777344\n"
     ]
    }
   ],
   "source": [
    "for i in range(10): update_weights(params)"
   ]
  },
  {
   "cell_type": "code",
   "execution_count": 342,
   "metadata": {},
   "outputs": [
    {
     "name": "stdout",
     "output_type": "stream",
     "text": [
      "50.76879119873047\n"
     ]
    },
    {
     "data": {
      "image/png": "[encoded data removed]",
      "text/plain": [
       "<Figure size 432x288 with 1 Axes>"
      ]
     },
     "metadata": {
      "needs_background": "light"
     },
     "output_type": "display_data"
    }
   ],
   "source": [
    "pred = update_weights(params)\n",
    "show_preds(pred)"
   ]
  },
  {
   "cell_type": "code",
   "execution_count": 343,
   "metadata": {},
   "outputs": [
    {
     "name": "stdout",
     "output_type": "stream",
     "text": [
      "104.39822387695312\n",
      "83.69485473632812\n",
      "67.23494720458984\n",
      "56.840248107910156\n",
      "52.3720817565918\n",
      "51.11370086669922\n",
      "50.838470458984375\n",
      "50.78293228149414\n",
      "50.7718505859375\n",
      "50.769561767578125\n"
     ]
    },
    {
     "data": {
      "image/png": "[encoded data removed]",
      "text/plain": [
       "<Figure size 864x216 with 10 Axes>"
      ]
     },
     "metadata": {
      "needs_background": "light"
     },
     "output_type": "display_data"
    }
   ],
   "source": [
    "params = orig_params.detach().requires_grad_()\n",
    "_,axs = plt.subplots(1,10,figsize=(12,3))\n",
    "for ax in axs: show_preds(update_weights(params), ax)\n",
    "plt.tight_layout()"
   ]
  },
  {
   "cell_type": "code",
   "execution_count": null,
   "metadata": {},
   "outputs": [],
   "source": []
  }
 ],
 "metadata": {
  "kernelspec": {
   "display_name": "Python 3",
   "language": "python",
   "name": "python3"
  },
  "language_info": {
   "codemirror_mode": {
    "name": "ipython",
    "version": 3
   },
   "file_extension": ".py",
   "mimetype": "text/x-python",
   "name": "python",
   "nbconvert_exporter": "python",
   "pygments_lexer": "ipython3",
   "version": "3.8.6"
  }
 },
 "nbformat": 4,
 "nbformat_minor": 4
}
