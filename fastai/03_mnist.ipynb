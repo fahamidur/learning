{
 "cells": [
  {
   "cell_type": "markdown",
   "metadata": {},
   "source": [
    "# MNIST"
   ]
  },
  {
   "cell_type": "code",
   "execution_count": 1,
   "metadata": {},
   "outputs": [],
   "source": [
    "from fastai.vision.all import *"
   ]
  },
  {
   "cell_type": "markdown",
   "metadata": {},
   "source": [
    "Get MNIST sample data"
   ]
  },
  {
   "cell_type": "code",
   "execution_count": 5,
   "metadata": {},
   "outputs": [
    {
     "data": {
      "text/plain": [
       "'https://s3.amazonaws.com/fast-ai-sample/mnist_sample.tgz'"
      ]
     },
     "execution_count": 5,
     "metadata": {},
     "output_type": "execute_result"
    }
   ],
   "source": [
    "URLs.MNIST_SAMPLE"
   ]
  },
  {
   "cell_type": "code",
   "execution_count": 6,
   "metadata": {},
   "outputs": [],
   "source": [
    "path = untar_data(URLs.MNIST_SAMPLE)"
   ]
  },
  {
   "cell_type": "code",
   "execution_count": 7,
   "metadata": {},
   "outputs": [
    {
     "data": {
      "text/plain": [
       "Path('/storage/data/mnist_sample')"
      ]
     },
     "execution_count": 7,
     "metadata": {},
     "output_type": "execute_result"
    }
   ],
   "source": [
    "path"
   ]
  },
  {
   "cell_type": "code",
   "execution_count": 12,
   "metadata": {},
   "outputs": [],
   "source": [
    "Path.BASE_PATH = path"
   ]
  },
  {
   "cell_type": "code",
   "execution_count": 13,
   "metadata": {},
   "outputs": [
    {
     "data": {
      "text/plain": [
       "(#3) [Path('labels.csv'),Path('valid'),Path('train')]"
      ]
     },
     "execution_count": 13,
     "metadata": {},
     "output_type": "execute_result"
    }
   ],
   "source": [
    "path.ls()"
   ]
  },
  {
   "cell_type": "code",
   "execution_count": 15,
   "metadata": {},
   "outputs": [
    {
     "data": {
      "text/plain": [
       "(#2) [Path('train/7'),Path('train/3')]"
      ]
     },
     "execution_count": 15,
     "metadata": {},
     "output_type": "execute_result"
    }
   ],
   "source": [
    "(path/'train').ls()"
   ]
  },
  {
   "cell_type": "code",
   "execution_count": 16,
   "metadata": {},
   "outputs": [
    {
     "data": {
      "text/plain": [
       "(#6265) [Path('train/7/32208.png'),Path('train/7/79.png'),Path('train/7/54193.png'),Path('train/7/4545.png'),Path('train/7/2161.png'),Path('train/7/11473.png'),Path('train/7/3914.png'),Path('train/7/58565.png'),Path('train/7/8302.png'),Path('train/7/59871.png')...]"
      ]
     },
     "execution_count": 16,
     "metadata": {},
     "output_type": "execute_result"
    }
   ],
   "source": [
    "(path/'train'/'7').ls()"
   ]
  },
  {
   "cell_type": "code",
   "execution_count": 19,
   "metadata": {},
   "outputs": [],
   "source": [
    "threes = (path/'train'/'3').ls().sorted()\n",
    "sevens = (path/'train'/'7').ls().sorted()"
   ]
  },
  {
   "cell_type": "code",
   "execution_count": 26,
   "metadata": {},
   "outputs": [
    {
     "data": {
      "image/png": "[encoded data removed]",
      "text/plain": [
       "<PIL.PngImagePlugin.PngImageFile image mode=L size=28x28 at 0x7F11024E11C0>"
      ]
     },
     "execution_count": 26,
     "metadata": {},
     "output_type": "execute_result"
    }
   ],
   "source": [
    "im = Image.open(threes[1])\n",
    "im"
   ]
  },
  {
   "cell_type": "code",
   "execution_count": 27,
   "metadata": {},
   "outputs": [
    {
     "data": {
      "text/plain": [
       "array([[  0,   0,   0,   0,   0,   0,   0,   0],\n",
       "       [  0,   0,   0,   0,   0,  29, 150, 195],\n",
       "       [  0,   0,   0,  48, 166, 224, 253, 253],\n",
       "       [  0,  93, 244, 249, 253, 187,  46,  10],\n",
       "       [  0, 107, 253, 253, 230,  48,   0,   0],\n",
       "       [  0,   3,  20,  20,  15,   0,   0,   0],\n",
       "       [  0,   0,   0,   0,   0,   0,   0,   0],\n",
       "       [  0,   0,   0,   0,   0,   0,   0,  14]], dtype=uint8)"
      ]
     },
     "execution_count": 27,
     "metadata": {},
     "output_type": "execute_result"
    }
   ],
   "source": [
    "array(im)[4:12,4:12]"
   ]
  },
  {
   "cell_type": "code",
   "execution_count": 28,
   "metadata": {},
   "outputs": [
    {
     "data": {
      "text/plain": [
       "tensor([[  0,   0,   0,   0,   0,   0,   0,   0],\n",
       "        [  0,   0,   0,   0,   0,  29, 150, 195],\n",
       "        [  0,   0,   0,  48, 166, 224, 253, 253],\n",
       "        [  0,  93, 244, 249, 253, 187,  46,  10],\n",
       "        [  0, 107, 253, 253, 230,  48,   0,   0],\n",
       "        [  0,   3,  20,  20,  15,   0,   0,   0],\n",
       "        [  0,   0,   0,   0,   0,   0,   0,   0],\n",
       "        [  0,   0,   0,   0,   0,   0,   0,  14]], dtype=torch.uint8)"
      ]
     },
     "execution_count": 28,
     "metadata": {},
     "output_type": "execute_result"
    }
   ],
   "source": [
    "tensor(im)[4:12,4:12]"
   ]
  },
  {
   "cell_type": "code",
   "execution_count": 38,
   "metadata": {},
   "outputs": [
    {
     "data": {
      "text/html": [
       "<style  type=\"text/css\" >\n",
       "#T_66ea2876_700d_11eb_90e4_0242ac110002row0_col0,#T_66ea2876_700d_11eb_90e4_0242ac110002row0_col1,#T_66ea2876_700d_11eb_90e4_0242ac110002row0_col2,#T_66ea2876_700d_11eb_90e4_0242ac110002row0_col3,#T_66ea2876_700d_11eb_90e4_0242ac110002row0_col4,#T_66ea2876_700d_11eb_90e4_0242ac110002row0_col5,#T_66ea2876_700d_11eb_90e4_0242ac110002row0_col6,#T_66ea2876_700d_11eb_90e4_0242ac110002row0_col7,#T_66ea2876_700d_11eb_90e4_0242ac110002row0_col8,#T_66ea2876_700d_11eb_90e4_0242ac110002row0_col9,#T_66ea2876_700d_11eb_90e4_0242ac110002row0_col10,#T_66ea2876_700d_11eb_90e4_0242ac110002row0_col11,#T_66ea2876_700d_11eb_90e4_0242ac110002row0_col12,#T_66ea2876_700d_11eb_90e4_0242ac110002row0_col13,#T_66ea2876_700d_11eb_90e4_0242ac110002row0_col14,#T_66ea2876_700d_11eb_90e4_0242ac110002row0_col15,#T_66ea2876_700d_11eb_90e4_0242ac110002row1_col0,#T_66ea2876_700d_11eb_90e4_0242ac110002row1_col1,#T_66ea2876_700d_11eb_90e4_0242ac110002row1_col2,#T_66ea2876_700d_11eb_90e4_0242ac110002row1_col3,#T_66ea2876_700d_11eb_90e4_0242ac110002row1_col4,#T_66ea2876_700d_11eb_90e4_0242ac110002row1_col15,#T_66ea2876_700d_11eb_90e4_0242ac110002row2_col0,#T_66ea2876_700d_11eb_90e4_0242ac110002row2_col1,#T_66ea2876_700d_11eb_90e4_0242ac110002row2_col2,#T_66ea2876_700d_11eb_90e4_0242ac110002row2_col15,#T_66ea2876_700d_11eb_90e4_0242ac110002row3_col0,#T_66ea2876_700d_11eb_90e4_0242ac110002row3_col15,#T_66ea2876_700d_11eb_90e4_0242ac110002row4_col0,#T_66ea2876_700d_11eb_90e4_0242ac110002row4_col6,#T_66ea2876_700d_11eb_90e4_0242ac110002row4_col7,#T_66ea2876_700d_11eb_90e4_0242ac110002row4_col8,#T_66ea2876_700d_11eb_90e4_0242ac110002row4_col9,#T_66ea2876_700d_11eb_90e4_0242ac110002row4_col10,#T_66ea2876_700d_11eb_90e4_0242ac110002row4_col15,#T_66ea2876_700d_11eb_90e4_0242ac110002row5_col0,#T_66ea2876_700d_11eb_90e4_0242ac110002row5_col5,#T_66ea2876_700d_11eb_90e4_0242ac110002row5_col6,#T_66ea2876_700d_11eb_90e4_0242ac110002row5_col7,#T_66ea2876_700d_11eb_90e4_0242ac110002row5_col8,#T_66ea2876_700d_11eb_90e4_0242ac110002row5_col9,#T_66ea2876_700d_11eb_90e4_0242ac110002row5_col15,#T_66ea2876_700d_11eb_90e4_0242ac110002row6_col0,#T_66ea2876_700d_11eb_90e4_0242ac110002row6_col1,#T_66ea2876_700d_11eb_90e4_0242ac110002row6_col2,#T_66ea2876_700d_11eb_90e4_0242ac110002row6_col3,#T_66ea2876_700d_11eb_90e4_0242ac110002row6_col4,#T_66ea2876_700d_11eb_90e4_0242ac110002row6_col5,#T_66ea2876_700d_11eb_90e4_0242ac110002row6_col6,#T_66ea2876_700d_11eb_90e4_0242ac110002row6_col7,#T_66ea2876_700d_11eb_90e4_0242ac110002row6_col8,#T_66ea2876_700d_11eb_90e4_0242ac110002row6_col9,#T_66ea2876_700d_11eb_90e4_0242ac110002row6_col14,#T_66ea2876_700d_11eb_90e4_0242ac110002row6_col15,#T_66ea2876_700d_11eb_90e4_0242ac110002row7_col0,#T_66ea2876_700d_11eb_90e4_0242ac110002row7_col1,#T_66ea2876_700d_11eb_90e4_0242ac110002row7_col2,#T_66ea2876_700d_11eb_90e4_0242ac110002row7_col3,#T_66ea2876_700d_11eb_90e4_0242ac110002row7_col4,#T_66ea2876_700d_11eb_90e4_0242ac110002row7_col5,#T_66ea2876_700d_11eb_90e4_0242ac110002row7_col6,#T_66ea2876_700d_11eb_90e4_0242ac110002row7_col13,#T_66ea2876_700d_11eb_90e4_0242ac110002row7_col14,#T_66ea2876_700d_11eb_90e4_0242ac110002row7_col15,#T_66ea2876_700d_11eb_90e4_0242ac110002row8_col0,#T_66ea2876_700d_11eb_90e4_0242ac110002row8_col1,#T_66ea2876_700d_11eb_90e4_0242ac110002row8_col2,#T_66ea2876_700d_11eb_90e4_0242ac110002row8_col3,#T_66ea2876_700d_11eb_90e4_0242ac110002row8_col4,#T_66ea2876_700d_11eb_90e4_0242ac110002row8_col13,#T_66ea2876_700d_11eb_90e4_0242ac110002row8_col14,#T_66ea2876_700d_11eb_90e4_0242ac110002row8_col15,#T_66ea2876_700d_11eb_90e4_0242ac110002row9_col0,#T_66ea2876_700d_11eb_90e4_0242ac110002row9_col1,#T_66ea2876_700d_11eb_90e4_0242ac110002row9_col2,#T_66ea2876_700d_11eb_90e4_0242ac110002row9_col3,#T_66ea2876_700d_11eb_90e4_0242ac110002row9_col4,#T_66ea2876_700d_11eb_90e4_0242ac110002row10_col0,#T_66ea2876_700d_11eb_90e4_0242ac110002row10_col1,#T_66ea2876_700d_11eb_90e4_0242ac110002row10_col2,#T_66ea2876_700d_11eb_90e4_0242ac110002row10_col3,#T_66ea2876_700d_11eb_90e4_0242ac110002row10_col4,#T_66ea2876_700d_11eb_90e4_0242ac110002row10_col5,#T_66ea2876_700d_11eb_90e4_0242ac110002row10_col6,#T_66ea2876_700d_11eb_90e4_0242ac110002row11_col0,#T_66ea2876_700d_11eb_90e4_0242ac110002row11_col1,#T_66ea2876_700d_11eb_90e4_0242ac110002row11_col2,#T_66ea2876_700d_11eb_90e4_0242ac110002row11_col3,#T_66ea2876_700d_11eb_90e4_0242ac110002row11_col4,#T_66ea2876_700d_11eb_90e4_0242ac110002row11_col5,#T_66ea2876_700d_11eb_90e4_0242ac110002row11_col6,#T_66ea2876_700d_11eb_90e4_0242ac110002row11_col7,#T_66ea2876_700d_11eb_90e4_0242ac110002row11_col8,#T_66ea2876_700d_11eb_90e4_0242ac110002row11_col9,#T_66ea2876_700d_11eb_90e4_0242ac110002row12_col0,#T_66ea2876_700d_11eb_90e4_0242ac110002row12_col1,#T_66ea2876_700d_11eb_90e4_0242ac110002row12_col2,#T_66ea2876_700d_11eb_90e4_0242ac110002row12_col3,#T_66ea2876_700d_11eb_90e4_0242ac110002row12_col4,#T_66ea2876_700d_11eb_90e4_0242ac110002row12_col5,#T_66ea2876_700d_11eb_90e4_0242ac110002row12_col6,#T_66ea2876_700d_11eb_90e4_0242ac110002row12_col7,#T_66ea2876_700d_11eb_90e4_0242ac110002row12_col8,#T_66ea2876_700d_11eb_90e4_0242ac110002row12_col9,#T_66ea2876_700d_11eb_90e4_0242ac110002row12_col10,#T_66ea2876_700d_11eb_90e4_0242ac110002row12_col11,#T_66ea2876_700d_11eb_90e4_0242ac110002row12_col12,#T_66ea2876_700d_11eb_90e4_0242ac110002row13_col0,#T_66ea2876_700d_11eb_90e4_0242ac110002row13_col1,#T_66ea2876_700d_11eb_90e4_0242ac110002row13_col2,#T_66ea2876_700d_11eb_90e4_0242ac110002row13_col3,#T_66ea2876_700d_11eb_90e4_0242ac110002row13_col4,#T_66ea2876_700d_11eb_90e4_0242ac110002row13_col5,#T_66ea2876_700d_11eb_90e4_0242ac110002row13_col6,#T_66ea2876_700d_11eb_90e4_0242ac110002row13_col7,#T_66ea2876_700d_11eb_90e4_0242ac110002row13_col8,#T_66ea2876_700d_11eb_90e4_0242ac110002row13_col9,#T_66ea2876_700d_11eb_90e4_0242ac110002row13_col10,#T_66ea2876_700d_11eb_90e4_0242ac110002row13_col11,#T_66ea2876_700d_11eb_90e4_0242ac110002row13_col12,#T_66ea2876_700d_11eb_90e4_0242ac110002row14_col0,#T_66ea2876_700d_11eb_90e4_0242ac110002row14_col1,#T_66ea2876_700d_11eb_90e4_0242ac110002row14_col2,#T_66ea2876_700d_11eb_90e4_0242ac110002row14_col3,#T_66ea2876_700d_11eb_90e4_0242ac110002row14_col4,#T_66ea2876_700d_11eb_90e4_0242ac110002row14_col5,#T_66ea2876_700d_11eb_90e4_0242ac110002row14_col6,#T_66ea2876_700d_11eb_90e4_0242ac110002row14_col7,#T_66ea2876_700d_11eb_90e4_0242ac110002row14_col8,#T_66ea2876_700d_11eb_90e4_0242ac110002row14_col9,#T_66ea2876_700d_11eb_90e4_0242ac110002row14_col10,#T_66ea2876_700d_11eb_90e4_0242ac110002row14_col11,#T_66ea2876_700d_11eb_90e4_0242ac110002row15_col0,#T_66ea2876_700d_11eb_90e4_0242ac110002row15_col1,#T_66ea2876_700d_11eb_90e4_0242ac110002row15_col2,#T_66ea2876_700d_11eb_90e4_0242ac110002row15_col3,#T_66ea2876_700d_11eb_90e4_0242ac110002row15_col4,#T_66ea2876_700d_11eb_90e4_0242ac110002row15_col5,#T_66ea2876_700d_11eb_90e4_0242ac110002row15_col6,#T_66ea2876_700d_11eb_90e4_0242ac110002row15_col7,#T_66ea2876_700d_11eb_90e4_0242ac110002row15_col8,#T_66ea2876_700d_11eb_90e4_0242ac110002row15_col9,#T_66ea2876_700d_11eb_90e4_0242ac110002row15_col10{\n",
       "            background-color:  #ffffff;\n",
       "            color:  #000000;\n",
       "        }#T_66ea2876_700d_11eb_90e4_0242ac110002row1_col5{\n",
       "            background-color:  #efefef;\n",
       "            color:  #000000;\n",
       "        }#T_66ea2876_700d_11eb_90e4_0242ac110002row1_col6,#T_66ea2876_700d_11eb_90e4_0242ac110002row1_col13{\n",
       "            background-color:  #7c7c7c;\n",
       "            color:  #000000;\n",
       "        }#T_66ea2876_700d_11eb_90e4_0242ac110002row1_col7{\n",
       "            background-color:  #4a4a4a;\n",
       "            color:  #f1f1f1;\n",
       "        }#T_66ea2876_700d_11eb_90e4_0242ac110002row1_col8,#T_66ea2876_700d_11eb_90e4_0242ac110002row1_col9,#T_66ea2876_700d_11eb_90e4_0242ac110002row1_col10,#T_66ea2876_700d_11eb_90e4_0242ac110002row2_col5,#T_66ea2876_700d_11eb_90e4_0242ac110002row2_col6,#T_66ea2876_700d_11eb_90e4_0242ac110002row2_col7,#T_66ea2876_700d_11eb_90e4_0242ac110002row2_col11,#T_66ea2876_700d_11eb_90e4_0242ac110002row2_col12,#T_66ea2876_700d_11eb_90e4_0242ac110002row2_col13,#T_66ea2876_700d_11eb_90e4_0242ac110002row3_col4,#T_66ea2876_700d_11eb_90e4_0242ac110002row3_col12,#T_66ea2876_700d_11eb_90e4_0242ac110002row3_col13,#T_66ea2876_700d_11eb_90e4_0242ac110002row4_col1,#T_66ea2876_700d_11eb_90e4_0242ac110002row4_col2,#T_66ea2876_700d_11eb_90e4_0242ac110002row4_col3,#T_66ea2876_700d_11eb_90e4_0242ac110002row4_col12,#T_66ea2876_700d_11eb_90e4_0242ac110002row4_col13,#T_66ea2876_700d_11eb_90e4_0242ac110002row5_col12,#T_66ea2876_700d_11eb_90e4_0242ac110002row6_col11,#T_66ea2876_700d_11eb_90e4_0242ac110002row9_col11,#T_66ea2876_700d_11eb_90e4_0242ac110002row10_col11,#T_66ea2876_700d_11eb_90e4_0242ac110002row10_col12,#T_66ea2876_700d_11eb_90e4_0242ac110002row10_col13,#T_66ea2876_700d_11eb_90e4_0242ac110002row10_col14,#T_66ea2876_700d_11eb_90e4_0242ac110002row11_col13,#T_66ea2876_700d_11eb_90e4_0242ac110002row11_col14,#T_66ea2876_700d_11eb_90e4_0242ac110002row11_col15,#T_66ea2876_700d_11eb_90e4_0242ac110002row12_col14,#T_66ea2876_700d_11eb_90e4_0242ac110002row12_col15,#T_66ea2876_700d_11eb_90e4_0242ac110002row13_col14,#T_66ea2876_700d_11eb_90e4_0242ac110002row13_col15,#T_66ea2876_700d_11eb_90e4_0242ac110002row14_col14,#T_66ea2876_700d_11eb_90e4_0242ac110002row14_col15,#T_66ea2876_700d_11eb_90e4_0242ac110002row15_col13,#T_66ea2876_700d_11eb_90e4_0242ac110002row15_col14{\n",
       "            background-color:  #000000;\n",
       "            color:  #f1f1f1;\n",
       "        }#T_66ea2876_700d_11eb_90e4_0242ac110002row1_col11{\n",
       "            background-color:  #606060;\n",
       "            color:  #f1f1f1;\n",
       "        }#T_66ea2876_700d_11eb_90e4_0242ac110002row1_col12{\n",
       "            background-color:  #4d4d4d;\n",
       "            color:  #f1f1f1;\n",
       "        }#T_66ea2876_700d_11eb_90e4_0242ac110002row1_col14{\n",
       "            background-color:  #bbbbbb;\n",
       "            color:  #000000;\n",
       "        }#T_66ea2876_700d_11eb_90e4_0242ac110002row2_col3{\n",
       "            background-color:  #e4e4e4;\n",
       "            color:  #000000;\n",
       "        }#T_66ea2876_700d_11eb_90e4_0242ac110002row2_col4,#T_66ea2876_700d_11eb_90e4_0242ac110002row8_col6{\n",
       "            background-color:  #6b6b6b;\n",
       "            color:  #000000;\n",
       "        }#T_66ea2876_700d_11eb_90e4_0242ac110002row2_col8,#T_66ea2876_700d_11eb_90e4_0242ac110002row2_col14,#T_66ea2876_700d_11eb_90e4_0242ac110002row3_col14{\n",
       "            background-color:  #171717;\n",
       "            color:  #f1f1f1;\n",
       "        }#T_66ea2876_700d_11eb_90e4_0242ac110002row2_col9,#T_66ea2876_700d_11eb_90e4_0242ac110002row3_col11{\n",
       "            background-color:  #4b4b4b;\n",
       "            color:  #f1f1f1;\n",
       "        }#T_66ea2876_700d_11eb_90e4_0242ac110002row2_col10,#T_66ea2876_700d_11eb_90e4_0242ac110002row7_col10,#T_66ea2876_700d_11eb_90e4_0242ac110002row8_col8,#T_66ea2876_700d_11eb_90e4_0242ac110002row8_col10,#T_66ea2876_700d_11eb_90e4_0242ac110002row9_col8,#T_66ea2876_700d_11eb_90e4_0242ac110002row9_col10{\n",
       "            background-color:  #010101;\n",
       "            color:  #f1f1f1;\n",
       "        }#T_66ea2876_700d_11eb_90e4_0242ac110002row3_col1{\n",
       "            background-color:  #272727;\n",
       "            color:  #f1f1f1;\n",
       "        }#T_66ea2876_700d_11eb_90e4_0242ac110002row3_col2{\n",
       "            background-color:  #0a0a0a;\n",
       "            color:  #f1f1f1;\n",
       "        }#T_66ea2876_700d_11eb_90e4_0242ac110002row3_col3,#T_66ea2876_700d_11eb_90e4_0242ac110002row14_col13{\n",
       "            background-color:  #050505;\n",
       "            color:  #f1f1f1;\n",
       "        }#T_66ea2876_700d_11eb_90e4_0242ac110002row3_col5{\n",
       "            background-color:  #333333;\n",
       "            color:  #f1f1f1;\n",
       "        }#T_66ea2876_700d_11eb_90e4_0242ac110002row3_col6{\n",
       "            background-color:  #e6e6e6;\n",
       "            color:  #000000;\n",
       "        }#T_66ea2876_700d_11eb_90e4_0242ac110002row3_col7,#T_66ea2876_700d_11eb_90e4_0242ac110002row3_col10{\n",
       "            background-color:  #fafafa;\n",
       "            color:  #000000;\n",
       "        }#T_66ea2876_700d_11eb_90e4_0242ac110002row3_col8,#T_66ea2876_700d_11eb_90e4_0242ac110002row11_col10{\n",
       "            background-color:  #fbfbfb;\n",
       "            color:  #000000;\n",
       "        }#T_66ea2876_700d_11eb_90e4_0242ac110002row3_col9{\n",
       "            background-color:  #fdfdfd;\n",
       "            color:  #000000;\n",
       "        }#T_66ea2876_700d_11eb_90e4_0242ac110002row4_col4{\n",
       "            background-color:  #1b1b1b;\n",
       "            color:  #f1f1f1;\n",
       "        }#T_66ea2876_700d_11eb_90e4_0242ac110002row4_col5{\n",
       "            background-color:  #e0e0e0;\n",
       "            color:  #000000;\n",
       "        }#T_66ea2876_700d_11eb_90e4_0242ac110002row4_col11{\n",
       "            background-color:  #4e4e4e;\n",
       "            color:  #f1f1f1;\n",
       "        }#T_66ea2876_700d_11eb_90e4_0242ac110002row4_col14{\n",
       "            background-color:  #767676;\n",
       "            color:  #000000;\n",
       "        }#T_66ea2876_700d_11eb_90e4_0242ac110002row5_col1{\n",
       "            background-color:  #fcfcfc;\n",
       "            color:  #000000;\n",
       "        }#T_66ea2876_700d_11eb_90e4_0242ac110002row5_col2,#T_66ea2876_700d_11eb_90e4_0242ac110002row5_col3{\n",
       "            background-color:  #f6f6f6;\n",
       "            color:  #000000;\n",
       "        }#T_66ea2876_700d_11eb_90e4_0242ac110002row5_col4,#T_66ea2876_700d_11eb_90e4_0242ac110002row7_col7{\n",
       "            background-color:  #f8f8f8;\n",
       "            color:  #000000;\n",
       "        }#T_66ea2876_700d_11eb_90e4_0242ac110002row5_col10,#T_66ea2876_700d_11eb_90e4_0242ac110002row10_col7{\n",
       "            background-color:  #e8e8e8;\n",
       "            color:  #000000;\n",
       "        }#T_66ea2876_700d_11eb_90e4_0242ac110002row5_col11{\n",
       "            background-color:  #222222;\n",
       "            color:  #f1f1f1;\n",
       "        }#T_66ea2876_700d_11eb_90e4_0242ac110002row5_col13,#T_66ea2876_700d_11eb_90e4_0242ac110002row6_col12{\n",
       "            background-color:  #090909;\n",
       "            color:  #f1f1f1;\n",
       "        }#T_66ea2876_700d_11eb_90e4_0242ac110002row5_col14{\n",
       "            background-color:  #d0d0d0;\n",
       "            color:  #000000;\n",
       "        }#T_66ea2876_700d_11eb_90e4_0242ac110002row6_col10,#T_66ea2876_700d_11eb_90e4_0242ac110002row7_col11,#T_66ea2876_700d_11eb_90e4_0242ac110002row9_col6{\n",
       "            background-color:  #060606;\n",
       "            color:  #f1f1f1;\n",
       "        }#T_66ea2876_700d_11eb_90e4_0242ac110002row6_col13{\n",
       "            background-color:  #979797;\n",
       "            color:  #000000;\n",
       "        }#T_66ea2876_700d_11eb_90e4_0242ac110002row7_col8{\n",
       "            background-color:  #b6b6b6;\n",
       "            color:  #000000;\n",
       "        }#T_66ea2876_700d_11eb_90e4_0242ac110002row7_col9{\n",
       "            background-color:  #252525;\n",
       "            color:  #f1f1f1;\n",
       "        }#T_66ea2876_700d_11eb_90e4_0242ac110002row7_col12{\n",
       "            background-color:  #999999;\n",
       "            color:  #000000;\n",
       "        }#T_66ea2876_700d_11eb_90e4_0242ac110002row8_col5{\n",
       "            background-color:  #f9f9f9;\n",
       "            color:  #000000;\n",
       "        }#T_66ea2876_700d_11eb_90e4_0242ac110002row8_col7{\n",
       "            background-color:  #101010;\n",
       "            color:  #f1f1f1;\n",
       "        }#T_66ea2876_700d_11eb_90e4_0242ac110002row8_col9,#T_66ea2876_700d_11eb_90e4_0242ac110002row9_col9{\n",
       "            background-color:  #020202;\n",
       "            color:  #f1f1f1;\n",
       "        }#T_66ea2876_700d_11eb_90e4_0242ac110002row8_col11,#T_66ea2876_700d_11eb_90e4_0242ac110002row10_col15{\n",
       "            background-color:  #545454;\n",
       "            color:  #f1f1f1;\n",
       "        }#T_66ea2876_700d_11eb_90e4_0242ac110002row8_col12{\n",
       "            background-color:  #f1f1f1;\n",
       "            color:  #000000;\n",
       "        }#T_66ea2876_700d_11eb_90e4_0242ac110002row9_col5{\n",
       "            background-color:  #f7f7f7;\n",
       "            color:  #000000;\n",
       "        }#T_66ea2876_700d_11eb_90e4_0242ac110002row9_col7{\n",
       "            background-color:  #030303;\n",
       "            color:  #f1f1f1;\n",
       "        }#T_66ea2876_700d_11eb_90e4_0242ac110002row9_col12{\n",
       "            background-color:  #181818;\n",
       "            color:  #f1f1f1;\n",
       "        }#T_66ea2876_700d_11eb_90e4_0242ac110002row9_col13{\n",
       "            background-color:  #303030;\n",
       "            color:  #f1f1f1;\n",
       "        }#T_66ea2876_700d_11eb_90e4_0242ac110002row9_col14{\n",
       "            background-color:  #a9a9a9;\n",
       "            color:  #000000;\n",
       "        }#T_66ea2876_700d_11eb_90e4_0242ac110002row9_col15{\n",
       "            background-color:  #fefefe;\n",
       "            color:  #000000;\n",
       "        }#T_66ea2876_700d_11eb_90e4_0242ac110002row10_col8,#T_66ea2876_700d_11eb_90e4_0242ac110002row10_col9{\n",
       "            background-color:  #bababa;\n",
       "            color:  #000000;\n",
       "        }#T_66ea2876_700d_11eb_90e4_0242ac110002row10_col10{\n",
       "            background-color:  #393939;\n",
       "            color:  #f1f1f1;\n",
       "        }#T_66ea2876_700d_11eb_90e4_0242ac110002row11_col11{\n",
       "            background-color:  #e2e2e2;\n",
       "            color:  #000000;\n",
       "        }#T_66ea2876_700d_11eb_90e4_0242ac110002row11_col12{\n",
       "            background-color:  #9f9f9f;\n",
       "            color:  #000000;\n",
       "        }#T_66ea2876_700d_11eb_90e4_0242ac110002row12_col13{\n",
       "            background-color:  #585858;\n",
       "            color:  #f1f1f1;\n",
       "        }#T_66ea2876_700d_11eb_90e4_0242ac110002row13_col13{\n",
       "            background-color:  #5a5a5a;\n",
       "            color:  #f1f1f1;\n",
       "        }#T_66ea2876_700d_11eb_90e4_0242ac110002row14_col12{\n",
       "            background-color:  #c5c5c5;\n",
       "            color:  #000000;\n",
       "        }#T_66ea2876_700d_11eb_90e4_0242ac110002row15_col11{\n",
       "            background-color:  #dcdcdc;\n",
       "            color:  #000000;\n",
       "        }#T_66ea2876_700d_11eb_90e4_0242ac110002row15_col12{\n",
       "            background-color:  #2f2f2f;\n",
       "            color:  #f1f1f1;\n",
       "        }#T_66ea2876_700d_11eb_90e4_0242ac110002row15_col15{\n",
       "            background-color:  #636363;\n",
       "            color:  #f1f1f1;\n",
       "        }</style><table id=\"T_66ea2876_700d_11eb_90e4_0242ac110002\" ><thead>    <tr>        <th class=\"blank level0\" ></th>        <th class=\"col_heading level0 col0\" >0</th>        <th class=\"col_heading level0 col1\" >1</th>        <th class=\"col_heading level0 col2\" >2</th>        <th class=\"col_heading level0 col3\" >3</th>        <th class=\"col_heading level0 col4\" >4</th>        <th class=\"col_heading level0 col5\" >5</th>        <th class=\"col_heading level0 col6\" >6</th>        <th class=\"col_heading level0 col7\" >7</th>        <th class=\"col_heading level0 col8\" >8</th>        <th class=\"col_heading level0 col9\" >9</th>        <th class=\"col_heading level0 col10\" >10</th>        <th class=\"col_heading level0 col11\" >11</th>        <th class=\"col_heading level0 col12\" >12</th>        <th class=\"col_heading level0 col13\" >13</th>        <th class=\"col_heading level0 col14\" >14</th>        <th class=\"col_heading level0 col15\" >15</th>    </tr></thead><tbody>\n",
       "                <tr>\n",
       "                        <th id=\"T_66ea2876_700d_11eb_90e4_0242ac110002level0_row0\" class=\"row_heading level0 row0\" >0</th>\n",
       "                        <td id=\"T_66ea2876_700d_11eb_90e4_0242ac110002row0_col0\" class=\"data row0 col0\" >0</td>\n",
       "                        <td id=\"T_66ea2876_700d_11eb_90e4_0242ac110002row0_col1\" class=\"data row0 col1\" >0</td>\n",
       "                        <td id=\"T_66ea2876_700d_11eb_90e4_0242ac110002row0_col2\" class=\"data row0 col2\" >0</td>\n",
       "                        <td id=\"T_66ea2876_700d_11eb_90e4_0242ac110002row0_col3\" class=\"data row0 col3\" >0</td>\n",
       "                        <td id=\"T_66ea2876_700d_11eb_90e4_0242ac110002row0_col4\" class=\"data row0 col4\" >0</td>\n",
       "                        <td id=\"T_66ea2876_700d_11eb_90e4_0242ac110002row0_col5\" class=\"data row0 col5\" >0</td>\n",
       "                        <td id=\"T_66ea2876_700d_11eb_90e4_0242ac110002row0_col6\" class=\"data row0 col6\" >0</td>\n",
       "                        <td id=\"T_66ea2876_700d_11eb_90e4_0242ac110002row0_col7\" class=\"data row0 col7\" >0</td>\n",
       "                        <td id=\"T_66ea2876_700d_11eb_90e4_0242ac110002row0_col8\" class=\"data row0 col8\" >0</td>\n",
       "                        <td id=\"T_66ea2876_700d_11eb_90e4_0242ac110002row0_col9\" class=\"data row0 col9\" >0</td>\n",
       "                        <td id=\"T_66ea2876_700d_11eb_90e4_0242ac110002row0_col10\" class=\"data row0 col10\" >0</td>\n",
       "                        <td id=\"T_66ea2876_700d_11eb_90e4_0242ac110002row0_col11\" class=\"data row0 col11\" >0</td>\n",
       "                        <td id=\"T_66ea2876_700d_11eb_90e4_0242ac110002row0_col12\" class=\"data row0 col12\" >0</td>\n",
       "                        <td id=\"T_66ea2876_700d_11eb_90e4_0242ac110002row0_col13\" class=\"data row0 col13\" >0</td>\n",
       "                        <td id=\"T_66ea2876_700d_11eb_90e4_0242ac110002row0_col14\" class=\"data row0 col14\" >0</td>\n",
       "                        <td id=\"T_66ea2876_700d_11eb_90e4_0242ac110002row0_col15\" class=\"data row0 col15\" >0</td>\n",
       "            </tr>\n",
       "            <tr>\n",
       "                        <th id=\"T_66ea2876_700d_11eb_90e4_0242ac110002level0_row1\" class=\"row_heading level0 row1\" >1</th>\n",
       "                        <td id=\"T_66ea2876_700d_11eb_90e4_0242ac110002row1_col0\" class=\"data row1 col0\" >0</td>\n",
       "                        <td id=\"T_66ea2876_700d_11eb_90e4_0242ac110002row1_col1\" class=\"data row1 col1\" >0</td>\n",
       "                        <td id=\"T_66ea2876_700d_11eb_90e4_0242ac110002row1_col2\" class=\"data row1 col2\" >0</td>\n",
       "                        <td id=\"T_66ea2876_700d_11eb_90e4_0242ac110002row1_col3\" class=\"data row1 col3\" >0</td>\n",
       "                        <td id=\"T_66ea2876_700d_11eb_90e4_0242ac110002row1_col4\" class=\"data row1 col4\" >0</td>\n",
       "                        <td id=\"T_66ea2876_700d_11eb_90e4_0242ac110002row1_col5\" class=\"data row1 col5\" >29</td>\n",
       "                        <td id=\"T_66ea2876_700d_11eb_90e4_0242ac110002row1_col6\" class=\"data row1 col6\" >150</td>\n",
       "                        <td id=\"T_66ea2876_700d_11eb_90e4_0242ac110002row1_col7\" class=\"data row1 col7\" >195</td>\n",
       "                        <td id=\"T_66ea2876_700d_11eb_90e4_0242ac110002row1_col8\" class=\"data row1 col8\" >254</td>\n",
       "                        <td id=\"T_66ea2876_700d_11eb_90e4_0242ac110002row1_col9\" class=\"data row1 col9\" >255</td>\n",
       "                        <td id=\"T_66ea2876_700d_11eb_90e4_0242ac110002row1_col10\" class=\"data row1 col10\" >254</td>\n",
       "                        <td id=\"T_66ea2876_700d_11eb_90e4_0242ac110002row1_col11\" class=\"data row1 col11\" >176</td>\n",
       "                        <td id=\"T_66ea2876_700d_11eb_90e4_0242ac110002row1_col12\" class=\"data row1 col12\" >193</td>\n",
       "                        <td id=\"T_66ea2876_700d_11eb_90e4_0242ac110002row1_col13\" class=\"data row1 col13\" >150</td>\n",
       "                        <td id=\"T_66ea2876_700d_11eb_90e4_0242ac110002row1_col14\" class=\"data row1 col14\" >96</td>\n",
       "                        <td id=\"T_66ea2876_700d_11eb_90e4_0242ac110002row1_col15\" class=\"data row1 col15\" >0</td>\n",
       "            </tr>\n",
       "            <tr>\n",
       "                        <th id=\"T_66ea2876_700d_11eb_90e4_0242ac110002level0_row2\" class=\"row_heading level0 row2\" >2</th>\n",
       "                        <td id=\"T_66ea2876_700d_11eb_90e4_0242ac110002row2_col0\" class=\"data row2 col0\" >0</td>\n",
       "                        <td id=\"T_66ea2876_700d_11eb_90e4_0242ac110002row2_col1\" class=\"data row2 col1\" >0</td>\n",
       "                        <td id=\"T_66ea2876_700d_11eb_90e4_0242ac110002row2_col2\" class=\"data row2 col2\" >0</td>\n",
       "                        <td id=\"T_66ea2876_700d_11eb_90e4_0242ac110002row2_col3\" class=\"data row2 col3\" >48</td>\n",
       "                        <td id=\"T_66ea2876_700d_11eb_90e4_0242ac110002row2_col4\" class=\"data row2 col4\" >166</td>\n",
       "                        <td id=\"T_66ea2876_700d_11eb_90e4_0242ac110002row2_col5\" class=\"data row2 col5\" >224</td>\n",
       "                        <td id=\"T_66ea2876_700d_11eb_90e4_0242ac110002row2_col6\" class=\"data row2 col6\" >253</td>\n",
       "                        <td id=\"T_66ea2876_700d_11eb_90e4_0242ac110002row2_col7\" class=\"data row2 col7\" >253</td>\n",
       "                        <td id=\"T_66ea2876_700d_11eb_90e4_0242ac110002row2_col8\" class=\"data row2 col8\" >234</td>\n",
       "                        <td id=\"T_66ea2876_700d_11eb_90e4_0242ac110002row2_col9\" class=\"data row2 col9\" >196</td>\n",
       "                        <td id=\"T_66ea2876_700d_11eb_90e4_0242ac110002row2_col10\" class=\"data row2 col10\" >253</td>\n",
       "                        <td id=\"T_66ea2876_700d_11eb_90e4_0242ac110002row2_col11\" class=\"data row2 col11\" >253</td>\n",
       "                        <td id=\"T_66ea2876_700d_11eb_90e4_0242ac110002row2_col12\" class=\"data row2 col12\" >253</td>\n",
       "                        <td id=\"T_66ea2876_700d_11eb_90e4_0242ac110002row2_col13\" class=\"data row2 col13\" >253</td>\n",
       "                        <td id=\"T_66ea2876_700d_11eb_90e4_0242ac110002row2_col14\" class=\"data row2 col14\" >233</td>\n",
       "                        <td id=\"T_66ea2876_700d_11eb_90e4_0242ac110002row2_col15\" class=\"data row2 col15\" >0</td>\n",
       "            </tr>\n",
       "            <tr>\n",
       "                        <th id=\"T_66ea2876_700d_11eb_90e4_0242ac110002level0_row3\" class=\"row_heading level0 row3\" >3</th>\n",
       "                        <td id=\"T_66ea2876_700d_11eb_90e4_0242ac110002row3_col0\" class=\"data row3 col0\" >0</td>\n",
       "                        <td id=\"T_66ea2876_700d_11eb_90e4_0242ac110002row3_col1\" class=\"data row3 col1\" >93</td>\n",
       "                        <td id=\"T_66ea2876_700d_11eb_90e4_0242ac110002row3_col2\" class=\"data row3 col2\" >244</td>\n",
       "                        <td id=\"T_66ea2876_700d_11eb_90e4_0242ac110002row3_col3\" class=\"data row3 col3\" >249</td>\n",
       "                        <td id=\"T_66ea2876_700d_11eb_90e4_0242ac110002row3_col4\" class=\"data row3 col4\" >253</td>\n",
       "                        <td id=\"T_66ea2876_700d_11eb_90e4_0242ac110002row3_col5\" class=\"data row3 col5\" >187</td>\n",
       "                        <td id=\"T_66ea2876_700d_11eb_90e4_0242ac110002row3_col6\" class=\"data row3 col6\" >46</td>\n",
       "                        <td id=\"T_66ea2876_700d_11eb_90e4_0242ac110002row3_col7\" class=\"data row3 col7\" >10</td>\n",
       "                        <td id=\"T_66ea2876_700d_11eb_90e4_0242ac110002row3_col8\" class=\"data row3 col8\" >8</td>\n",
       "                        <td id=\"T_66ea2876_700d_11eb_90e4_0242ac110002row3_col9\" class=\"data row3 col9\" >4</td>\n",
       "                        <td id=\"T_66ea2876_700d_11eb_90e4_0242ac110002row3_col10\" class=\"data row3 col10\" >10</td>\n",
       "                        <td id=\"T_66ea2876_700d_11eb_90e4_0242ac110002row3_col11\" class=\"data row3 col11\" >194</td>\n",
       "                        <td id=\"T_66ea2876_700d_11eb_90e4_0242ac110002row3_col12\" class=\"data row3 col12\" >253</td>\n",
       "                        <td id=\"T_66ea2876_700d_11eb_90e4_0242ac110002row3_col13\" class=\"data row3 col13\" >253</td>\n",
       "                        <td id=\"T_66ea2876_700d_11eb_90e4_0242ac110002row3_col14\" class=\"data row3 col14\" >233</td>\n",
       "                        <td id=\"T_66ea2876_700d_11eb_90e4_0242ac110002row3_col15\" class=\"data row3 col15\" >0</td>\n",
       "            </tr>\n",
       "            <tr>\n",
       "                        <th id=\"T_66ea2876_700d_11eb_90e4_0242ac110002level0_row4\" class=\"row_heading level0 row4\" >4</th>\n",
       "                        <td id=\"T_66ea2876_700d_11eb_90e4_0242ac110002row4_col0\" class=\"data row4 col0\" >0</td>\n",
       "                        <td id=\"T_66ea2876_700d_11eb_90e4_0242ac110002row4_col1\" class=\"data row4 col1\" >107</td>\n",
       "                        <td id=\"T_66ea2876_700d_11eb_90e4_0242ac110002row4_col2\" class=\"data row4 col2\" >253</td>\n",
       "                        <td id=\"T_66ea2876_700d_11eb_90e4_0242ac110002row4_col3\" class=\"data row4 col3\" >253</td>\n",
       "                        <td id=\"T_66ea2876_700d_11eb_90e4_0242ac110002row4_col4\" class=\"data row4 col4\" >230</td>\n",
       "                        <td id=\"T_66ea2876_700d_11eb_90e4_0242ac110002row4_col5\" class=\"data row4 col5\" >48</td>\n",
       "                        <td id=\"T_66ea2876_700d_11eb_90e4_0242ac110002row4_col6\" class=\"data row4 col6\" >0</td>\n",
       "                        <td id=\"T_66ea2876_700d_11eb_90e4_0242ac110002row4_col7\" class=\"data row4 col7\" >0</td>\n",
       "                        <td id=\"T_66ea2876_700d_11eb_90e4_0242ac110002row4_col8\" class=\"data row4 col8\" >0</td>\n",
       "                        <td id=\"T_66ea2876_700d_11eb_90e4_0242ac110002row4_col9\" class=\"data row4 col9\" >0</td>\n",
       "                        <td id=\"T_66ea2876_700d_11eb_90e4_0242ac110002row4_col10\" class=\"data row4 col10\" >0</td>\n",
       "                        <td id=\"T_66ea2876_700d_11eb_90e4_0242ac110002row4_col11\" class=\"data row4 col11\" >192</td>\n",
       "                        <td id=\"T_66ea2876_700d_11eb_90e4_0242ac110002row4_col12\" class=\"data row4 col12\" >253</td>\n",
       "                        <td id=\"T_66ea2876_700d_11eb_90e4_0242ac110002row4_col13\" class=\"data row4 col13\" >253</td>\n",
       "                        <td id=\"T_66ea2876_700d_11eb_90e4_0242ac110002row4_col14\" class=\"data row4 col14\" >156</td>\n",
       "                        <td id=\"T_66ea2876_700d_11eb_90e4_0242ac110002row4_col15\" class=\"data row4 col15\" >0</td>\n",
       "            </tr>\n",
       "            <tr>\n",
       "                        <th id=\"T_66ea2876_700d_11eb_90e4_0242ac110002level0_row5\" class=\"row_heading level0 row5\" >5</th>\n",
       "                        <td id=\"T_66ea2876_700d_11eb_90e4_0242ac110002row5_col0\" class=\"data row5 col0\" >0</td>\n",
       "                        <td id=\"T_66ea2876_700d_11eb_90e4_0242ac110002row5_col1\" class=\"data row5 col1\" >3</td>\n",
       "                        <td id=\"T_66ea2876_700d_11eb_90e4_0242ac110002row5_col2\" class=\"data row5 col2\" >20</td>\n",
       "                        <td id=\"T_66ea2876_700d_11eb_90e4_0242ac110002row5_col3\" class=\"data row5 col3\" >20</td>\n",
       "                        <td id=\"T_66ea2876_700d_11eb_90e4_0242ac110002row5_col4\" class=\"data row5 col4\" >15</td>\n",
       "                        <td id=\"T_66ea2876_700d_11eb_90e4_0242ac110002row5_col5\" class=\"data row5 col5\" >0</td>\n",
       "                        <td id=\"T_66ea2876_700d_11eb_90e4_0242ac110002row5_col6\" class=\"data row5 col6\" >0</td>\n",
       "                        <td id=\"T_66ea2876_700d_11eb_90e4_0242ac110002row5_col7\" class=\"data row5 col7\" >0</td>\n",
       "                        <td id=\"T_66ea2876_700d_11eb_90e4_0242ac110002row5_col8\" class=\"data row5 col8\" >0</td>\n",
       "                        <td id=\"T_66ea2876_700d_11eb_90e4_0242ac110002row5_col9\" class=\"data row5 col9\" >0</td>\n",
       "                        <td id=\"T_66ea2876_700d_11eb_90e4_0242ac110002row5_col10\" class=\"data row5 col10\" >43</td>\n",
       "                        <td id=\"T_66ea2876_700d_11eb_90e4_0242ac110002row5_col11\" class=\"data row5 col11\" >224</td>\n",
       "                        <td id=\"T_66ea2876_700d_11eb_90e4_0242ac110002row5_col12\" class=\"data row5 col12\" >253</td>\n",
       "                        <td id=\"T_66ea2876_700d_11eb_90e4_0242ac110002row5_col13\" class=\"data row5 col13\" >245</td>\n",
       "                        <td id=\"T_66ea2876_700d_11eb_90e4_0242ac110002row5_col14\" class=\"data row5 col14\" >74</td>\n",
       "                        <td id=\"T_66ea2876_700d_11eb_90e4_0242ac110002row5_col15\" class=\"data row5 col15\" >0</td>\n",
       "            </tr>\n",
       "            <tr>\n",
       "                        <th id=\"T_66ea2876_700d_11eb_90e4_0242ac110002level0_row6\" class=\"row_heading level0 row6\" >6</th>\n",
       "                        <td id=\"T_66ea2876_700d_11eb_90e4_0242ac110002row6_col0\" class=\"data row6 col0\" >0</td>\n",
       "                        <td id=\"T_66ea2876_700d_11eb_90e4_0242ac110002row6_col1\" class=\"data row6 col1\" >0</td>\n",
       "                        <td id=\"T_66ea2876_700d_11eb_90e4_0242ac110002row6_col2\" class=\"data row6 col2\" >0</td>\n",
       "                        <td id=\"T_66ea2876_700d_11eb_90e4_0242ac110002row6_col3\" class=\"data row6 col3\" >0</td>\n",
       "                        <td id=\"T_66ea2876_700d_11eb_90e4_0242ac110002row6_col4\" class=\"data row6 col4\" >0</td>\n",
       "                        <td id=\"T_66ea2876_700d_11eb_90e4_0242ac110002row6_col5\" class=\"data row6 col5\" >0</td>\n",
       "                        <td id=\"T_66ea2876_700d_11eb_90e4_0242ac110002row6_col6\" class=\"data row6 col6\" >0</td>\n",
       "                        <td id=\"T_66ea2876_700d_11eb_90e4_0242ac110002row6_col7\" class=\"data row6 col7\" >0</td>\n",
       "                        <td id=\"T_66ea2876_700d_11eb_90e4_0242ac110002row6_col8\" class=\"data row6 col8\" >0</td>\n",
       "                        <td id=\"T_66ea2876_700d_11eb_90e4_0242ac110002row6_col9\" class=\"data row6 col9\" >0</td>\n",
       "                        <td id=\"T_66ea2876_700d_11eb_90e4_0242ac110002row6_col10\" class=\"data row6 col10\" >249</td>\n",
       "                        <td id=\"T_66ea2876_700d_11eb_90e4_0242ac110002row6_col11\" class=\"data row6 col11\" >253</td>\n",
       "                        <td id=\"T_66ea2876_700d_11eb_90e4_0242ac110002row6_col12\" class=\"data row6 col12\" >245</td>\n",
       "                        <td id=\"T_66ea2876_700d_11eb_90e4_0242ac110002row6_col13\" class=\"data row6 col13\" >126</td>\n",
       "                        <td id=\"T_66ea2876_700d_11eb_90e4_0242ac110002row6_col14\" class=\"data row6 col14\" >0</td>\n",
       "                        <td id=\"T_66ea2876_700d_11eb_90e4_0242ac110002row6_col15\" class=\"data row6 col15\" >0</td>\n",
       "            </tr>\n",
       "            <tr>\n",
       "                        <th id=\"T_66ea2876_700d_11eb_90e4_0242ac110002level0_row7\" class=\"row_heading level0 row7\" >7</th>\n",
       "                        <td id=\"T_66ea2876_700d_11eb_90e4_0242ac110002row7_col0\" class=\"data row7 col0\" >0</td>\n",
       "                        <td id=\"T_66ea2876_700d_11eb_90e4_0242ac110002row7_col1\" class=\"data row7 col1\" >0</td>\n",
       "                        <td id=\"T_66ea2876_700d_11eb_90e4_0242ac110002row7_col2\" class=\"data row7 col2\" >0</td>\n",
       "                        <td id=\"T_66ea2876_700d_11eb_90e4_0242ac110002row7_col3\" class=\"data row7 col3\" >0</td>\n",
       "                        <td id=\"T_66ea2876_700d_11eb_90e4_0242ac110002row7_col4\" class=\"data row7 col4\" >0</td>\n",
       "                        <td id=\"T_66ea2876_700d_11eb_90e4_0242ac110002row7_col5\" class=\"data row7 col5\" >0</td>\n",
       "                        <td id=\"T_66ea2876_700d_11eb_90e4_0242ac110002row7_col6\" class=\"data row7 col6\" >0</td>\n",
       "                        <td id=\"T_66ea2876_700d_11eb_90e4_0242ac110002row7_col7\" class=\"data row7 col7\" >14</td>\n",
       "                        <td id=\"T_66ea2876_700d_11eb_90e4_0242ac110002row7_col8\" class=\"data row7 col8\" >101</td>\n",
       "                        <td id=\"T_66ea2876_700d_11eb_90e4_0242ac110002row7_col9\" class=\"data row7 col9\" >223</td>\n",
       "                        <td id=\"T_66ea2876_700d_11eb_90e4_0242ac110002row7_col10\" class=\"data row7 col10\" >253</td>\n",
       "                        <td id=\"T_66ea2876_700d_11eb_90e4_0242ac110002row7_col11\" class=\"data row7 col11\" >248</td>\n",
       "                        <td id=\"T_66ea2876_700d_11eb_90e4_0242ac110002row7_col12\" class=\"data row7 col12\" >124</td>\n",
       "                        <td id=\"T_66ea2876_700d_11eb_90e4_0242ac110002row7_col13\" class=\"data row7 col13\" >0</td>\n",
       "                        <td id=\"T_66ea2876_700d_11eb_90e4_0242ac110002row7_col14\" class=\"data row7 col14\" >0</td>\n",
       "                        <td id=\"T_66ea2876_700d_11eb_90e4_0242ac110002row7_col15\" class=\"data row7 col15\" >0</td>\n",
       "            </tr>\n",
       "            <tr>\n",
       "                        <th id=\"T_66ea2876_700d_11eb_90e4_0242ac110002level0_row8\" class=\"row_heading level0 row8\" >8</th>\n",
       "                        <td id=\"T_66ea2876_700d_11eb_90e4_0242ac110002row8_col0\" class=\"data row8 col0\" >0</td>\n",
       "                        <td id=\"T_66ea2876_700d_11eb_90e4_0242ac110002row8_col1\" class=\"data row8 col1\" >0</td>\n",
       "                        <td id=\"T_66ea2876_700d_11eb_90e4_0242ac110002row8_col2\" class=\"data row8 col2\" >0</td>\n",
       "                        <td id=\"T_66ea2876_700d_11eb_90e4_0242ac110002row8_col3\" class=\"data row8 col3\" >0</td>\n",
       "                        <td id=\"T_66ea2876_700d_11eb_90e4_0242ac110002row8_col4\" class=\"data row8 col4\" >0</td>\n",
       "                        <td id=\"T_66ea2876_700d_11eb_90e4_0242ac110002row8_col5\" class=\"data row8 col5\" >11</td>\n",
       "                        <td id=\"T_66ea2876_700d_11eb_90e4_0242ac110002row8_col6\" class=\"data row8 col6\" >166</td>\n",
       "                        <td id=\"T_66ea2876_700d_11eb_90e4_0242ac110002row8_col7\" class=\"data row8 col7\" >239</td>\n",
       "                        <td id=\"T_66ea2876_700d_11eb_90e4_0242ac110002row8_col8\" class=\"data row8 col8\" >253</td>\n",
       "                        <td id=\"T_66ea2876_700d_11eb_90e4_0242ac110002row8_col9\" class=\"data row8 col9\" >253</td>\n",
       "                        <td id=\"T_66ea2876_700d_11eb_90e4_0242ac110002row8_col10\" class=\"data row8 col10\" >253</td>\n",
       "                        <td id=\"T_66ea2876_700d_11eb_90e4_0242ac110002row8_col11\" class=\"data row8 col11\" >187</td>\n",
       "                        <td id=\"T_66ea2876_700d_11eb_90e4_0242ac110002row8_col12\" class=\"data row8 col12\" >30</td>\n",
       "                        <td id=\"T_66ea2876_700d_11eb_90e4_0242ac110002row8_col13\" class=\"data row8 col13\" >0</td>\n",
       "                        <td id=\"T_66ea2876_700d_11eb_90e4_0242ac110002row8_col14\" class=\"data row8 col14\" >0</td>\n",
       "                        <td id=\"T_66ea2876_700d_11eb_90e4_0242ac110002row8_col15\" class=\"data row8 col15\" >0</td>\n",
       "            </tr>\n",
       "            <tr>\n",
       "                        <th id=\"T_66ea2876_700d_11eb_90e4_0242ac110002level0_row9\" class=\"row_heading level0 row9\" >9</th>\n",
       "                        <td id=\"T_66ea2876_700d_11eb_90e4_0242ac110002row9_col0\" class=\"data row9 col0\" >0</td>\n",
       "                        <td id=\"T_66ea2876_700d_11eb_90e4_0242ac110002row9_col1\" class=\"data row9 col1\" >0</td>\n",
       "                        <td id=\"T_66ea2876_700d_11eb_90e4_0242ac110002row9_col2\" class=\"data row9 col2\" >0</td>\n",
       "                        <td id=\"T_66ea2876_700d_11eb_90e4_0242ac110002row9_col3\" class=\"data row9 col3\" >0</td>\n",
       "                        <td id=\"T_66ea2876_700d_11eb_90e4_0242ac110002row9_col4\" class=\"data row9 col4\" >0</td>\n",
       "                        <td id=\"T_66ea2876_700d_11eb_90e4_0242ac110002row9_col5\" class=\"data row9 col5\" >16</td>\n",
       "                        <td id=\"T_66ea2876_700d_11eb_90e4_0242ac110002row9_col6\" class=\"data row9 col6\" >248</td>\n",
       "                        <td id=\"T_66ea2876_700d_11eb_90e4_0242ac110002row9_col7\" class=\"data row9 col7\" >250</td>\n",
       "                        <td id=\"T_66ea2876_700d_11eb_90e4_0242ac110002row9_col8\" class=\"data row9 col8\" >253</td>\n",
       "                        <td id=\"T_66ea2876_700d_11eb_90e4_0242ac110002row9_col9\" class=\"data row9 col9\" >253</td>\n",
       "                        <td id=\"T_66ea2876_700d_11eb_90e4_0242ac110002row9_col10\" class=\"data row9 col10\" >253</td>\n",
       "                        <td id=\"T_66ea2876_700d_11eb_90e4_0242ac110002row9_col11\" class=\"data row9 col11\" >253</td>\n",
       "                        <td id=\"T_66ea2876_700d_11eb_90e4_0242ac110002row9_col12\" class=\"data row9 col12\" >232</td>\n",
       "                        <td id=\"T_66ea2876_700d_11eb_90e4_0242ac110002row9_col13\" class=\"data row9 col13\" >213</td>\n",
       "                        <td id=\"T_66ea2876_700d_11eb_90e4_0242ac110002row9_col14\" class=\"data row9 col14\" >111</td>\n",
       "                        <td id=\"T_66ea2876_700d_11eb_90e4_0242ac110002row9_col15\" class=\"data row9 col15\" >2</td>\n",
       "            </tr>\n",
       "            <tr>\n",
       "                        <th id=\"T_66ea2876_700d_11eb_90e4_0242ac110002level0_row10\" class=\"row_heading level0 row10\" >10</th>\n",
       "                        <td id=\"T_66ea2876_700d_11eb_90e4_0242ac110002row10_col0\" class=\"data row10 col0\" >0</td>\n",
       "                        <td id=\"T_66ea2876_700d_11eb_90e4_0242ac110002row10_col1\" class=\"data row10 col1\" >0</td>\n",
       "                        <td id=\"T_66ea2876_700d_11eb_90e4_0242ac110002row10_col2\" class=\"data row10 col2\" >0</td>\n",
       "                        <td id=\"T_66ea2876_700d_11eb_90e4_0242ac110002row10_col3\" class=\"data row10 col3\" >0</td>\n",
       "                        <td id=\"T_66ea2876_700d_11eb_90e4_0242ac110002row10_col4\" class=\"data row10 col4\" >0</td>\n",
       "                        <td id=\"T_66ea2876_700d_11eb_90e4_0242ac110002row10_col5\" class=\"data row10 col5\" >0</td>\n",
       "                        <td id=\"T_66ea2876_700d_11eb_90e4_0242ac110002row10_col6\" class=\"data row10 col6\" >0</td>\n",
       "                        <td id=\"T_66ea2876_700d_11eb_90e4_0242ac110002row10_col7\" class=\"data row10 col7\" >43</td>\n",
       "                        <td id=\"T_66ea2876_700d_11eb_90e4_0242ac110002row10_col8\" class=\"data row10 col8\" >98</td>\n",
       "                        <td id=\"T_66ea2876_700d_11eb_90e4_0242ac110002row10_col9\" class=\"data row10 col9\" >98</td>\n",
       "                        <td id=\"T_66ea2876_700d_11eb_90e4_0242ac110002row10_col10\" class=\"data row10 col10\" >208</td>\n",
       "                        <td id=\"T_66ea2876_700d_11eb_90e4_0242ac110002row10_col11\" class=\"data row10 col11\" >253</td>\n",
       "                        <td id=\"T_66ea2876_700d_11eb_90e4_0242ac110002row10_col12\" class=\"data row10 col12\" >253</td>\n",
       "                        <td id=\"T_66ea2876_700d_11eb_90e4_0242ac110002row10_col13\" class=\"data row10 col13\" >253</td>\n",
       "                        <td id=\"T_66ea2876_700d_11eb_90e4_0242ac110002row10_col14\" class=\"data row10 col14\" >253</td>\n",
       "                        <td id=\"T_66ea2876_700d_11eb_90e4_0242ac110002row10_col15\" class=\"data row10 col15\" >187</td>\n",
       "            </tr>\n",
       "            <tr>\n",
       "                        <th id=\"T_66ea2876_700d_11eb_90e4_0242ac110002level0_row11\" class=\"row_heading level0 row11\" >11</th>\n",
       "                        <td id=\"T_66ea2876_700d_11eb_90e4_0242ac110002row11_col0\" class=\"data row11 col0\" >0</td>\n",
       "                        <td id=\"T_66ea2876_700d_11eb_90e4_0242ac110002row11_col1\" class=\"data row11 col1\" >0</td>\n",
       "                        <td id=\"T_66ea2876_700d_11eb_90e4_0242ac110002row11_col2\" class=\"data row11 col2\" >0</td>\n",
       "                        <td id=\"T_66ea2876_700d_11eb_90e4_0242ac110002row11_col3\" class=\"data row11 col3\" >0</td>\n",
       "                        <td id=\"T_66ea2876_700d_11eb_90e4_0242ac110002row11_col4\" class=\"data row11 col4\" >0</td>\n",
       "                        <td id=\"T_66ea2876_700d_11eb_90e4_0242ac110002row11_col5\" class=\"data row11 col5\" >0</td>\n",
       "                        <td id=\"T_66ea2876_700d_11eb_90e4_0242ac110002row11_col6\" class=\"data row11 col6\" >0</td>\n",
       "                        <td id=\"T_66ea2876_700d_11eb_90e4_0242ac110002row11_col7\" class=\"data row11 col7\" >0</td>\n",
       "                        <td id=\"T_66ea2876_700d_11eb_90e4_0242ac110002row11_col8\" class=\"data row11 col8\" >0</td>\n",
       "                        <td id=\"T_66ea2876_700d_11eb_90e4_0242ac110002row11_col9\" class=\"data row11 col9\" >0</td>\n",
       "                        <td id=\"T_66ea2876_700d_11eb_90e4_0242ac110002row11_col10\" class=\"data row11 col10\" >9</td>\n",
       "                        <td id=\"T_66ea2876_700d_11eb_90e4_0242ac110002row11_col11\" class=\"data row11 col11\" >51</td>\n",
       "                        <td id=\"T_66ea2876_700d_11eb_90e4_0242ac110002row11_col12\" class=\"data row11 col12\" >119</td>\n",
       "                        <td id=\"T_66ea2876_700d_11eb_90e4_0242ac110002row11_col13\" class=\"data row11 col13\" >253</td>\n",
       "                        <td id=\"T_66ea2876_700d_11eb_90e4_0242ac110002row11_col14\" class=\"data row11 col14\" >253</td>\n",
       "                        <td id=\"T_66ea2876_700d_11eb_90e4_0242ac110002row11_col15\" class=\"data row11 col15\" >253</td>\n",
       "            </tr>\n",
       "            <tr>\n",
       "                        <th id=\"T_66ea2876_700d_11eb_90e4_0242ac110002level0_row12\" class=\"row_heading level0 row12\" >12</th>\n",
       "                        <td id=\"T_66ea2876_700d_11eb_90e4_0242ac110002row12_col0\" class=\"data row12 col0\" >0</td>\n",
       "                        <td id=\"T_66ea2876_700d_11eb_90e4_0242ac110002row12_col1\" class=\"data row12 col1\" >0</td>\n",
       "                        <td id=\"T_66ea2876_700d_11eb_90e4_0242ac110002row12_col2\" class=\"data row12 col2\" >0</td>\n",
       "                        <td id=\"T_66ea2876_700d_11eb_90e4_0242ac110002row12_col3\" class=\"data row12 col3\" >0</td>\n",
       "                        <td id=\"T_66ea2876_700d_11eb_90e4_0242ac110002row12_col4\" class=\"data row12 col4\" >0</td>\n",
       "                        <td id=\"T_66ea2876_700d_11eb_90e4_0242ac110002row12_col5\" class=\"data row12 col5\" >0</td>\n",
       "                        <td id=\"T_66ea2876_700d_11eb_90e4_0242ac110002row12_col6\" class=\"data row12 col6\" >0</td>\n",
       "                        <td id=\"T_66ea2876_700d_11eb_90e4_0242ac110002row12_col7\" class=\"data row12 col7\" >0</td>\n",
       "                        <td id=\"T_66ea2876_700d_11eb_90e4_0242ac110002row12_col8\" class=\"data row12 col8\" >0</td>\n",
       "                        <td id=\"T_66ea2876_700d_11eb_90e4_0242ac110002row12_col9\" class=\"data row12 col9\" >0</td>\n",
       "                        <td id=\"T_66ea2876_700d_11eb_90e4_0242ac110002row12_col10\" class=\"data row12 col10\" >0</td>\n",
       "                        <td id=\"T_66ea2876_700d_11eb_90e4_0242ac110002row12_col11\" class=\"data row12 col11\" >0</td>\n",
       "                        <td id=\"T_66ea2876_700d_11eb_90e4_0242ac110002row12_col12\" class=\"data row12 col12\" >1</td>\n",
       "                        <td id=\"T_66ea2876_700d_11eb_90e4_0242ac110002row12_col13\" class=\"data row12 col13\" >183</td>\n",
       "                        <td id=\"T_66ea2876_700d_11eb_90e4_0242ac110002row12_col14\" class=\"data row12 col14\" >253</td>\n",
       "                        <td id=\"T_66ea2876_700d_11eb_90e4_0242ac110002row12_col15\" class=\"data row12 col15\" >253</td>\n",
       "            </tr>\n",
       "            <tr>\n",
       "                        <th id=\"T_66ea2876_700d_11eb_90e4_0242ac110002level0_row13\" class=\"row_heading level0 row13\" >13</th>\n",
       "                        <td id=\"T_66ea2876_700d_11eb_90e4_0242ac110002row13_col0\" class=\"data row13 col0\" >0</td>\n",
       "                        <td id=\"T_66ea2876_700d_11eb_90e4_0242ac110002row13_col1\" class=\"data row13 col1\" >0</td>\n",
       "                        <td id=\"T_66ea2876_700d_11eb_90e4_0242ac110002row13_col2\" class=\"data row13 col2\" >0</td>\n",
       "                        <td id=\"T_66ea2876_700d_11eb_90e4_0242ac110002row13_col3\" class=\"data row13 col3\" >0</td>\n",
       "                        <td id=\"T_66ea2876_700d_11eb_90e4_0242ac110002row13_col4\" class=\"data row13 col4\" >0</td>\n",
       "                        <td id=\"T_66ea2876_700d_11eb_90e4_0242ac110002row13_col5\" class=\"data row13 col5\" >0</td>\n",
       "                        <td id=\"T_66ea2876_700d_11eb_90e4_0242ac110002row13_col6\" class=\"data row13 col6\" >0</td>\n",
       "                        <td id=\"T_66ea2876_700d_11eb_90e4_0242ac110002row13_col7\" class=\"data row13 col7\" >0</td>\n",
       "                        <td id=\"T_66ea2876_700d_11eb_90e4_0242ac110002row13_col8\" class=\"data row13 col8\" >0</td>\n",
       "                        <td id=\"T_66ea2876_700d_11eb_90e4_0242ac110002row13_col9\" class=\"data row13 col9\" >0</td>\n",
       "                        <td id=\"T_66ea2876_700d_11eb_90e4_0242ac110002row13_col10\" class=\"data row13 col10\" >0</td>\n",
       "                        <td id=\"T_66ea2876_700d_11eb_90e4_0242ac110002row13_col11\" class=\"data row13 col11\" >0</td>\n",
       "                        <td id=\"T_66ea2876_700d_11eb_90e4_0242ac110002row13_col12\" class=\"data row13 col12\" >0</td>\n",
       "                        <td id=\"T_66ea2876_700d_11eb_90e4_0242ac110002row13_col13\" class=\"data row13 col13\" >182</td>\n",
       "                        <td id=\"T_66ea2876_700d_11eb_90e4_0242ac110002row13_col14\" class=\"data row13 col14\" >253</td>\n",
       "                        <td id=\"T_66ea2876_700d_11eb_90e4_0242ac110002row13_col15\" class=\"data row13 col15\" >253</td>\n",
       "            </tr>\n",
       "            <tr>\n",
       "                        <th id=\"T_66ea2876_700d_11eb_90e4_0242ac110002level0_row14\" class=\"row_heading level0 row14\" >14</th>\n",
       "                        <td id=\"T_66ea2876_700d_11eb_90e4_0242ac110002row14_col0\" class=\"data row14 col0\" >0</td>\n",
       "                        <td id=\"T_66ea2876_700d_11eb_90e4_0242ac110002row14_col1\" class=\"data row14 col1\" >0</td>\n",
       "                        <td id=\"T_66ea2876_700d_11eb_90e4_0242ac110002row14_col2\" class=\"data row14 col2\" >0</td>\n",
       "                        <td id=\"T_66ea2876_700d_11eb_90e4_0242ac110002row14_col3\" class=\"data row14 col3\" >0</td>\n",
       "                        <td id=\"T_66ea2876_700d_11eb_90e4_0242ac110002row14_col4\" class=\"data row14 col4\" >0</td>\n",
       "                        <td id=\"T_66ea2876_700d_11eb_90e4_0242ac110002row14_col5\" class=\"data row14 col5\" >0</td>\n",
       "                        <td id=\"T_66ea2876_700d_11eb_90e4_0242ac110002row14_col6\" class=\"data row14 col6\" >0</td>\n",
       "                        <td id=\"T_66ea2876_700d_11eb_90e4_0242ac110002row14_col7\" class=\"data row14 col7\" >0</td>\n",
       "                        <td id=\"T_66ea2876_700d_11eb_90e4_0242ac110002row14_col8\" class=\"data row14 col8\" >0</td>\n",
       "                        <td id=\"T_66ea2876_700d_11eb_90e4_0242ac110002row14_col9\" class=\"data row14 col9\" >0</td>\n",
       "                        <td id=\"T_66ea2876_700d_11eb_90e4_0242ac110002row14_col10\" class=\"data row14 col10\" >0</td>\n",
       "                        <td id=\"T_66ea2876_700d_11eb_90e4_0242ac110002row14_col11\" class=\"data row14 col11\" >0</td>\n",
       "                        <td id=\"T_66ea2876_700d_11eb_90e4_0242ac110002row14_col12\" class=\"data row14 col12\" >85</td>\n",
       "                        <td id=\"T_66ea2876_700d_11eb_90e4_0242ac110002row14_col13\" class=\"data row14 col13\" >249</td>\n",
       "                        <td id=\"T_66ea2876_700d_11eb_90e4_0242ac110002row14_col14\" class=\"data row14 col14\" >253</td>\n",
       "                        <td id=\"T_66ea2876_700d_11eb_90e4_0242ac110002row14_col15\" class=\"data row14 col15\" >253</td>\n",
       "            </tr>\n",
       "            <tr>\n",
       "                        <th id=\"T_66ea2876_700d_11eb_90e4_0242ac110002level0_row15\" class=\"row_heading level0 row15\" >15</th>\n",
       "                        <td id=\"T_66ea2876_700d_11eb_90e4_0242ac110002row15_col0\" class=\"data row15 col0\" >0</td>\n",
       "                        <td id=\"T_66ea2876_700d_11eb_90e4_0242ac110002row15_col1\" class=\"data row15 col1\" >0</td>\n",
       "                        <td id=\"T_66ea2876_700d_11eb_90e4_0242ac110002row15_col2\" class=\"data row15 col2\" >0</td>\n",
       "                        <td id=\"T_66ea2876_700d_11eb_90e4_0242ac110002row15_col3\" class=\"data row15 col3\" >0</td>\n",
       "                        <td id=\"T_66ea2876_700d_11eb_90e4_0242ac110002row15_col4\" class=\"data row15 col4\" >0</td>\n",
       "                        <td id=\"T_66ea2876_700d_11eb_90e4_0242ac110002row15_col5\" class=\"data row15 col5\" >0</td>\n",
       "                        <td id=\"T_66ea2876_700d_11eb_90e4_0242ac110002row15_col6\" class=\"data row15 col6\" >0</td>\n",
       "                        <td id=\"T_66ea2876_700d_11eb_90e4_0242ac110002row15_col7\" class=\"data row15 col7\" >0</td>\n",
       "                        <td id=\"T_66ea2876_700d_11eb_90e4_0242ac110002row15_col8\" class=\"data row15 col8\" >0</td>\n",
       "                        <td id=\"T_66ea2876_700d_11eb_90e4_0242ac110002row15_col9\" class=\"data row15 col9\" >0</td>\n",
       "                        <td id=\"T_66ea2876_700d_11eb_90e4_0242ac110002row15_col10\" class=\"data row15 col10\" >0</td>\n",
       "                        <td id=\"T_66ea2876_700d_11eb_90e4_0242ac110002row15_col11\" class=\"data row15 col11\" >60</td>\n",
       "                        <td id=\"T_66ea2876_700d_11eb_90e4_0242ac110002row15_col12\" class=\"data row15 col12\" >214</td>\n",
       "                        <td id=\"T_66ea2876_700d_11eb_90e4_0242ac110002row15_col13\" class=\"data row15 col13\" >253</td>\n",
       "                        <td id=\"T_66ea2876_700d_11eb_90e4_0242ac110002row15_col14\" class=\"data row15 col14\" >253</td>\n",
       "                        <td id=\"T_66ea2876_700d_11eb_90e4_0242ac110002row15_col15\" class=\"data row15 col15\" >173</td>\n",
       "            </tr>\n",
       "    </tbody></table>"
      ],
      "text/plain": [
       "<pandas.io.formats.style.Styler at 0x7f10ee9e3bb0>"
      ]
     },
     "execution_count": 38,
     "metadata": {},
     "output_type": "execute_result"
    }
   ],
   "source": [
    "three_df = pd.DataFrame(tensor(im)[4:20,4:20])\n",
    "three_df.style.set_properties().background_gradient('Greys')"
   ]
  },
  {
   "cell_type": "code",
   "execution_count": null,
   "metadata": {},
   "outputs": [],
   "source": []
  },
  {
   "cell_type": "code",
   "execution_count": null,
   "metadata": {},
   "outputs": [],
   "source": []
  },
  {
   "cell_type": "code",
   "execution_count": null,
   "metadata": {},
   "outputs": [],
   "source": []
  },
  {
   "cell_type": "code",
   "execution_count": null,
   "metadata": {},
   "outputs": [],
   "source": []
  },
  {
   "cell_type": "code",
   "execution_count": null,
   "metadata": {},
   "outputs": [],
   "source": []
  },
  {
   "cell_type": "code",
   "execution_count": null,
   "metadata": {},
   "outputs": [],
   "source": []
  }
 ],
 "metadata": {
  "kernelspec": {
   "display_name": "Python 3",
   "language": "python",
   "name": "python3"
  },
  "language_info": {
   "codemirror_mode": {
    "name": "ipython",
    "version": 3
   },
   "file_extension": ".py",
   "mimetype": "text/x-python",
   "name": "python",
   "nbconvert_exporter": "python",
   "pygments_lexer": "ipython3",
   "version": "3.8.6"
  }
 },
 "nbformat": 4,
 "nbformat_minor": 4
}
