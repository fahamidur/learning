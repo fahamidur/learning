{
 "cells": [
  {
   "cell_type": "code",
   "execution_count": 1,
   "id": "e18059b4-e588-4e7e-abc4-cadc5a38a5fa",
   "metadata": {},
   "outputs": [],
   "source": [
    "using CSV, DataFrames"
   ]
  },
  {
   "cell_type": "code",
   "execution_count": 2,
   "id": "8758b04a-5487-4e89-b2d1-96b9b73d15ad",
   "metadata": {},
   "outputs": [],
   "source": [
    "using FreqTables\n",
    "using Statistics\n",
    "using Pipe\n",
    "using Dates"
   ]
  },
  {
   "cell_type": "code",
   "execution_count": 3,
   "id": "3a27c83f-549c-4b44-a7a6-9ad9693869e0",
   "metadata": {},
   "outputs": [],
   "source": [
    "# using Pkg; Pkg.add(\"PyPlot\")"
   ]
  },
  {
   "cell_type": "markdown",
   "id": "192c1e1f-c122-4b6f-b34e-56e6b56476a5",
   "metadata": {},
   "source": [
    "## Read Data"
   ]
  },
  {
   "cell_type": "code",
   "execution_count": 4,
   "id": "5b1fcd8c-d08d-4db4-b38f-7461dd9ae6c1",
   "metadata": {},
   "outputs": [],
   "source": [
    "df = CSV.read(\"police.csv\", DataFrame);"
   ]
  },
  {
   "cell_type": "markdown",
   "id": "79507b82-353e-4c96-af89-a7440c020446",
   "metadata": {},
   "source": [
    "## Understand Data"
   ]
  },
  {
   "cell_type": "code",
   "execution_count": 5,
   "id": "7adcbe45-b791-4678-8dfb-017c794d572f",
   "metadata": {},
   "outputs": [
    {
     "data": {
      "text/html": [
       "<div><div style = \"float: left;\"><span>5×15 DataFrame</span></div><div style = \"clear: both;\"></div></div><div class = \"data-frame\" style = \"overflow-x: scroll;\"><table class = \"data-frame\" style = \"margin-bottom: 6px;\"><thead><tr class = \"header\"><th class = \"rowNumber\" style = \"font-weight: bold; text-align: right;\">Row</th><th style = \"text-align: left;\">stop_date</th><th style = \"text-align: left;\">stop_time</th><th style = \"text-align: left;\">county_name</th><th style = \"text-align: left;\">driver_gender</th><th style = \"text-align: left;\">driver_age_raw</th><th style = \"text-align: left;\">driver_age</th><th style = \"text-align: left;\">driver_race</th><th style = \"text-align: left;\">violation_raw</th><th style = \"text-align: left;\">violation</th><th style = \"text-align: left;\">search_conducted</th><th style = \"text-align: left;\">search_type</th><th style = \"text-align: left;\">stop_outcome</th><th style = \"text-align: left;\">is_arrested</th><th style = \"text-align: left;\">stop_duration</th><th style = \"text-align: left;\">drugs_related_stop</th></tr><tr class = \"subheader headerLastRow\"><th class = \"rowNumber\" style = \"font-weight: bold; text-align: right;\"></th><th title = \"Date\" style = \"text-align: left;\">Date</th><th title = \"Time\" style = \"text-align: left;\">Time</th><th title = \"Missing\" style = \"text-align: left;\">Missing</th><th title = \"Union{Missing, String1}\" style = \"text-align: left;\">String1?</th><th title = \"Union{Missing, Float64}\" style = \"text-align: left;\">Float64?</th><th title = \"Union{Missing, Float64}\" style = \"text-align: left;\">Float64?</th><th title = \"Union{Missing, String15}\" style = \"text-align: left;\">String15?</th><th title = \"Union{Missing, String}\" style = \"text-align: left;\">String?</th><th title = \"Union{Missing, String31}\" style = \"text-align: left;\">String31?</th><th title = \"Bool\" style = \"text-align: left;\">Bool</th><th title = \"Union{Missing, String}\" style = \"text-align: left;\">String?</th><th title = \"Union{Missing, String31}\" style = \"text-align: left;\">String31?</th><th title = \"Union{Missing, Bool}\" style = \"text-align: left;\">Bool?</th><th title = \"Union{Missing, String15}\" style = \"text-align: left;\">String15?</th><th title = \"Bool\" style = \"text-align: left;\">Bool</th></tr></thead><tbody><tr><td class = \"rowNumber\" style = \"font-weight: bold; text-align: right;\">1</td><td style = \"text-align: left;\">2005-01-02</td><td style = \"text-align: left;\">01:55:00</td><td style = \"font-style: italic; text-align: right;\">missing</td><td style = \"text-align: left;\">M</td><td style = \"text-align: right;\">1985.0</td><td style = \"text-align: right;\">20.0</td><td style = \"text-align: left;\">White</td><td style = \"text-align: left;\">Speeding</td><td style = \"text-align: left;\">Speeding</td><td style = \"text-align: right;\">false</td><td style = \"font-style: italic; text-align: left;\">missing</td><td style = \"text-align: left;\">Citation</td><td style = \"text-align: right;\">false</td><td style = \"text-align: left;\">0-15 Min</td><td style = \"text-align: right;\">false</td></tr><tr><td class = \"rowNumber\" style = \"font-weight: bold; text-align: right;\">2</td><td style = \"text-align: left;\">2005-01-18</td><td style = \"text-align: left;\">08:15:00</td><td style = \"font-style: italic; text-align: right;\">missing</td><td style = \"text-align: left;\">M</td><td style = \"text-align: right;\">1965.0</td><td style = \"text-align: right;\">40.0</td><td style = \"text-align: left;\">White</td><td style = \"text-align: left;\">Speeding</td><td style = \"text-align: left;\">Speeding</td><td style = \"text-align: right;\">false</td><td style = \"font-style: italic; text-align: left;\">missing</td><td style = \"text-align: left;\">Citation</td><td style = \"text-align: right;\">false</td><td style = \"text-align: left;\">0-15 Min</td><td style = \"text-align: right;\">false</td></tr><tr><td class = \"rowNumber\" style = \"font-weight: bold; text-align: right;\">3</td><td style = \"text-align: left;\">2005-01-23</td><td style = \"text-align: left;\">23:15:00</td><td style = \"font-style: italic; text-align: right;\">missing</td><td style = \"text-align: left;\">M</td><td style = \"text-align: right;\">1972.0</td><td style = \"text-align: right;\">33.0</td><td style = \"text-align: left;\">White</td><td style = \"text-align: left;\">Speeding</td><td style = \"text-align: left;\">Speeding</td><td style = \"text-align: right;\">false</td><td style = \"font-style: italic; text-align: left;\">missing</td><td style = \"text-align: left;\">Citation</td><td style = \"text-align: right;\">false</td><td style = \"text-align: left;\">0-15 Min</td><td style = \"text-align: right;\">false</td></tr><tr><td class = \"rowNumber\" style = \"font-weight: bold; text-align: right;\">4</td><td style = \"text-align: left;\">2005-02-20</td><td style = \"text-align: left;\">17:15:00</td><td style = \"font-style: italic; text-align: right;\">missing</td><td style = \"text-align: left;\">M</td><td style = \"text-align: right;\">1986.0</td><td style = \"text-align: right;\">19.0</td><td style = \"text-align: left;\">White</td><td style = \"text-align: left;\">Call for Service</td><td style = \"text-align: left;\">Other</td><td style = \"text-align: right;\">false</td><td style = \"font-style: italic; text-align: left;\">missing</td><td style = \"text-align: left;\">Arrest Driver</td><td style = \"text-align: right;\">true</td><td style = \"text-align: left;\">16-30 Min</td><td style = \"text-align: right;\">false</td></tr><tr><td class = \"rowNumber\" style = \"font-weight: bold; text-align: right;\">5</td><td style = \"text-align: left;\">2005-03-14</td><td style = \"text-align: left;\">10:00:00</td><td style = \"font-style: italic; text-align: right;\">missing</td><td style = \"text-align: left;\">F</td><td style = \"text-align: right;\">1984.0</td><td style = \"text-align: right;\">21.0</td><td style = \"text-align: left;\">White</td><td style = \"text-align: left;\">Speeding</td><td style = \"text-align: left;\">Speeding</td><td style = \"text-align: right;\">false</td><td style = \"font-style: italic; text-align: left;\">missing</td><td style = \"text-align: left;\">Citation</td><td style = \"text-align: right;\">false</td><td style = \"text-align: left;\">0-15 Min</td><td style = \"text-align: right;\">false</td></tr></tbody></table></div>"
      ],
      "text/latex": [
       "\\begin{tabular}{r|cccccccc}\n",
       "\t& stop\\_date & stop\\_time & county\\_name & driver\\_gender & driver\\_age\\_raw & driver\\_age & driver\\_race & \\\\\n",
       "\t\\hline\n",
       "\t& Date & Time & Missing & String1? & Float64? & Float64? & String15? & \\\\\n",
       "\t\\hline\n",
       "\t1 & 2005-01-02 & 01:55:00 & \\emph{missing} & M & 1985.0 & 20.0 & White & $\\dots$ \\\\\n",
       "\t2 & 2005-01-18 & 08:15:00 & \\emph{missing} & M & 1965.0 & 40.0 & White & $\\dots$ \\\\\n",
       "\t3 & 2005-01-23 & 23:15:00 & \\emph{missing} & M & 1972.0 & 33.0 & White & $\\dots$ \\\\\n",
       "\t4 & 2005-02-20 & 17:15:00 & \\emph{missing} & M & 1986.0 & 19.0 & White & $\\dots$ \\\\\n",
       "\t5 & 2005-03-14 & 10:00:00 & \\emph{missing} & F & 1984.0 & 21.0 & White & $\\dots$ \\\\\n",
       "\\end{tabular}\n"
      ],
      "text/plain": [
       "\u001b[1m5×15 DataFrame\u001b[0m\n",
       "\u001b[1m Row \u001b[0m│\u001b[1m stop_date  \u001b[0m\u001b[1m stop_time \u001b[0m\u001b[1m county_name \u001b[0m\u001b[1m driver_gender \u001b[0m\u001b[1m driver_age_raw \u001b[0m\u001b[1m driv\u001b[0m ⋯\n",
       "     │\u001b[90m Date       \u001b[0m\u001b[90m Time      \u001b[0m\u001b[90m Missing     \u001b[0m\u001b[90m String1?      \u001b[0m\u001b[90m Float64?       \u001b[0m\u001b[90m Floa\u001b[0m ⋯\n",
       "─────┼──────────────────────────────────────────────────────────────────────────\n",
       "   1 │ 2005-01-02  01:55:00  \u001b[90m     missing \u001b[0m M                      1985.0       ⋯\n",
       "   2 │ 2005-01-18  08:15:00  \u001b[90m     missing \u001b[0m M                      1965.0\n",
       "   3 │ 2005-01-23  23:15:00  \u001b[90m     missing \u001b[0m M                      1972.0\n",
       "   4 │ 2005-02-20  17:15:00  \u001b[90m     missing \u001b[0m M                      1986.0\n",
       "   5 │ 2005-03-14  10:00:00  \u001b[90m     missing \u001b[0m F                      1984.0       ⋯\n",
       "\u001b[36m                                                              10 columns omitted\u001b[0m"
      ]
     },
     "execution_count": 5,
     "metadata": {},
     "output_type": "execute_result"
    }
   ],
   "source": [
    "first(df,5)"
   ]
  },
  {
   "cell_type": "code",
   "execution_count": 6,
   "id": "322c5f01-d803-4c92-a19a-c640c203967a",
   "metadata": {},
   "outputs": [
    {
     "data": {
      "text/plain": [
       "(91741, 15)"
      ]
     },
     "execution_count": 6,
     "metadata": {},
     "output_type": "execute_result"
    }
   ],
   "source": [
    "size(df)"
   ]
  },
  {
   "cell_type": "code",
   "execution_count": 7,
   "id": "2e6523a4-915d-4de1-bded-b3966746ac15",
   "metadata": {},
   "outputs": [
    {
     "data": {
      "text/plain": [
       "15-element Vector{String}:\n",
       " \"stop_date\"\n",
       " \"stop_time\"\n",
       " \"county_name\"\n",
       " \"driver_gender\"\n",
       " \"driver_age_raw\"\n",
       " \"driver_age\"\n",
       " \"driver_race\"\n",
       " \"violation_raw\"\n",
       " \"violation\"\n",
       " \"search_conducted\"\n",
       " \"search_type\"\n",
       " \"stop_outcome\"\n",
       " \"is_arrested\"\n",
       " \"stop_duration\"\n",
       " \"drugs_related_stop\""
      ]
     },
     "execution_count": 7,
     "metadata": {},
     "output_type": "execute_result"
    }
   ],
   "source": [
    "names(df)"
   ]
  },
  {
   "cell_type": "code",
   "execution_count": 8,
   "id": "f5a8bd7d-361a-4e80-9771-7d23e1820f43",
   "metadata": {},
   "outputs": [
    {
     "data": {
      "text/html": [
       "<div><div style = \"float: left;\"><span>15×7 DataFrame</span></div><div style = \"clear: both;\"></div></div><div class = \"data-frame\" style = \"overflow-x: scroll;\"><table class = \"data-frame\" style = \"margin-bottom: 6px;\"><thead><tr class = \"header\"><th class = \"rowNumber\" style = \"font-weight: bold; text-align: right;\">Row</th><th style = \"text-align: left;\">variable</th><th style = \"text-align: left;\">mean</th><th style = \"text-align: left;\">min</th><th style = \"text-align: left;\">median</th><th style = \"text-align: left;\">max</th><th style = \"text-align: left;\">nmissing</th><th style = \"text-align: left;\">eltype</th></tr><tr class = \"subheader headerLastRow\"><th class = \"rowNumber\" style = \"font-weight: bold; text-align: right;\"></th><th title = \"Symbol\" style = \"text-align: left;\">Symbol</th><th title = \"Union{Nothing, Float64}\" style = \"text-align: left;\">Union…</th><th title = \"Any\" style = \"text-align: left;\">Any</th><th title = \"Any\" style = \"text-align: left;\">Any</th><th title = \"Any\" style = \"text-align: left;\">Any</th><th title = \"Int64\" style = \"text-align: left;\">Int64</th><th title = \"Type\" style = \"text-align: left;\">Type</th></tr></thead><tbody><tr><td class = \"rowNumber\" style = \"font-weight: bold; text-align: right;\">1</td><td style = \"text-align: left;\">stop_date</td><td style = \"font-style: italic; text-align: left;\"></td><td style = \"text-align: left;\">2005-01-02</td><td style = \"text-align: left;\">2010-11-04</td><td style = \"text-align: left;\">2015-12-31</td><td style = \"text-align: right;\">0</td><td style = \"text-align: left;\">Date</td></tr><tr><td class = \"rowNumber\" style = \"font-weight: bold; text-align: right;\">2</td><td style = \"text-align: left;\">stop_time</td><td style = \"font-style: italic; text-align: left;\"></td><td style = \"text-align: left;\">00:00:00</td><td style = \"text-align: left;\">11:40:00</td><td style = \"text-align: left;\">23:59:00</td><td style = \"text-align: right;\">0</td><td style = \"text-align: left;\">Time</td></tr><tr><td class = \"rowNumber\" style = \"font-weight: bold; text-align: right;\">3</td><td style = \"text-align: left;\">county_name</td><td style = \"font-style: italic; text-align: left;\"></td><td style = \"font-style: italic; text-align: left;\"></td><td style = \"font-style: italic; text-align: left;\"></td><td style = \"font-style: italic; text-align: left;\"></td><td style = \"text-align: right;\">91741</td><td style = \"text-align: left;\">Missing</td></tr><tr><td class = \"rowNumber\" style = \"font-weight: bold; text-align: right;\">4</td><td style = \"text-align: left;\">driver_gender</td><td style = \"font-style: italic; text-align: left;\"></td><td style = \"text-align: left;\">F</td><td style = \"font-style: italic; text-align: left;\"></td><td style = \"text-align: left;\">M</td><td style = \"text-align: right;\">5335</td><td style = \"text-align: left;\">Union{Missing, String1}</td></tr><tr><td class = \"rowNumber\" style = \"font-weight: bold; text-align: right;\">5</td><td style = \"text-align: left;\">driver_age_raw</td><td style = \"text-align: left;\">1970.49</td><td style = \"text-align: left;\">0.0</td><td style = \"text-align: left;\">1980.0</td><td style = \"text-align: left;\">8801.0</td><td style = \"text-align: right;\">5327</td><td style = \"text-align: left;\">Union{Missing, Float64}</td></tr><tr><td class = \"rowNumber\" style = \"font-weight: bold; text-align: right;\">6</td><td style = \"text-align: left;\">driver_age</td><td style = \"text-align: left;\">34.0113</td><td style = \"text-align: left;\">15.0</td><td style = \"text-align: left;\">31.0</td><td style = \"text-align: left;\">99.0</td><td style = \"text-align: right;\">5621</td><td style = \"text-align: left;\">Union{Missing, Float64}</td></tr><tr><td class = \"rowNumber\" style = \"font-weight: bold; text-align: right;\">7</td><td style = \"text-align: left;\">driver_race</td><td style = \"font-style: italic; text-align: left;\"></td><td style = \"text-align: left;\">Asian</td><td style = \"font-style: italic; text-align: left;\"></td><td style = \"text-align: left;\">White</td><td style = \"text-align: right;\">5333</td><td style = \"text-align: left;\">Union{Missing, String15}</td></tr><tr><td class = \"rowNumber\" style = \"font-weight: bold; text-align: right;\">8</td><td style = \"text-align: left;\">violation_raw</td><td style = \"font-style: italic; text-align: left;\"></td><td style = \"text-align: left;\">APB</td><td style = \"font-style: italic; text-align: left;\"></td><td style = \"text-align: left;\">Warrant</td><td style = \"text-align: right;\">5333</td><td style = \"text-align: left;\">Union{Missing, String}</td></tr><tr><td class = \"rowNumber\" style = \"font-weight: bold; text-align: right;\">9</td><td style = \"text-align: left;\">violation</td><td style = \"font-style: italic; text-align: left;\"></td><td style = \"text-align: left;\">Equipment</td><td style = \"font-style: italic; text-align: left;\"></td><td style = \"text-align: left;\">Speeding</td><td style = \"text-align: right;\">5333</td><td style = \"text-align: left;\">Union{Missing, String31}</td></tr><tr><td class = \"rowNumber\" style = \"font-weight: bold; text-align: right;\">10</td><td style = \"text-align: left;\">search_conducted</td><td style = \"text-align: left;\">0.0348372</td><td style = \"text-align: left;\">false</td><td style = \"text-align: left;\">0.0</td><td style = \"text-align: left;\">true</td><td style = \"text-align: right;\">0</td><td style = \"text-align: left;\">Bool</td></tr><tr><td class = \"rowNumber\" style = \"font-weight: bold; text-align: right;\">11</td><td style = \"text-align: left;\">search_type</td><td style = \"font-style: italic; text-align: left;\"></td><td style = \"text-align: left;\">Incident to Arrest</td><td style = \"font-style: italic; text-align: left;\"></td><td style = \"text-align: left;\">Reasonable Suspicion</td><td style = \"text-align: right;\">88545</td><td style = \"text-align: left;\">Union{Missing, String}</td></tr><tr><td class = \"rowNumber\" style = \"font-weight: bold; text-align: right;\">12</td><td style = \"text-align: left;\">stop_outcome</td><td style = \"font-style: italic; text-align: left;\"></td><td style = \"text-align: left;\">Arrest Driver</td><td style = \"font-style: italic; text-align: left;\"></td><td style = \"text-align: left;\">Warning</td><td style = \"text-align: right;\">5333</td><td style = \"text-align: left;\">Union{Missing, String31}</td></tr><tr><td class = \"rowNumber\" style = \"font-weight: bold; text-align: right;\">13</td><td style = \"text-align: left;\">is_arrested</td><td style = \"text-align: left;\">0.0338973</td><td style = \"text-align: left;\">false</td><td style = \"text-align: left;\">0.0</td><td style = \"text-align: left;\">true</td><td style = \"text-align: right;\">5333</td><td style = \"text-align: left;\">Union{Missing, Bool}</td></tr><tr><td class = \"rowNumber\" style = \"font-weight: bold; text-align: right;\">14</td><td style = \"text-align: left;\">stop_duration</td><td style = \"font-style: italic; text-align: left;\"></td><td style = \"text-align: left;\">0-15 Min</td><td style = \"font-style: italic; text-align: left;\"></td><td style = \"text-align: left;\">30+ Min</td><td style = \"text-align: right;\">5333</td><td style = \"text-align: left;\">Union{Missing, String15}</td></tr><tr><td class = \"rowNumber\" style = \"font-weight: bold; text-align: right;\">15</td><td style = \"text-align: left;\">drugs_related_stop</td><td style = \"text-align: left;\">0.00888371</td><td style = \"text-align: left;\">false</td><td style = \"text-align: left;\">0.0</td><td style = \"text-align: left;\">true</td><td style = \"text-align: right;\">0</td><td style = \"text-align: left;\">Bool</td></tr></tbody></table></div>"
      ],
      "text/latex": [
       "\\begin{tabular}{r|cccccc}\n",
       "\t& variable & mean & min & median & max & \\\\\n",
       "\t\\hline\n",
       "\t& Symbol & Union… & Any & Any & Any & \\\\\n",
       "\t\\hline\n",
       "\t1 & stop\\_date &  & 2005-01-02 & 2010-11-04 & 2015-12-31 & $\\dots$ \\\\\n",
       "\t2 & stop\\_time &  & 00:00:00 & 11:40:00 & 23:59:00 & $\\dots$ \\\\\n",
       "\t3 & county\\_name &  &  &  &  & $\\dots$ \\\\\n",
       "\t4 & driver\\_gender &  & F &  & M & $\\dots$ \\\\\n",
       "\t5 & driver\\_age\\_raw & 1970.49 & 0.0 & 1980.0 & 8801.0 & $\\dots$ \\\\\n",
       "\t6 & driver\\_age & 34.0113 & 15.0 & 31.0 & 99.0 & $\\dots$ \\\\\n",
       "\t7 & driver\\_race &  & Asian &  & White & $\\dots$ \\\\\n",
       "\t8 & violation\\_raw &  & APB &  & Warrant & $\\dots$ \\\\\n",
       "\t9 & violation &  & Equipment &  & Speeding & $\\dots$ \\\\\n",
       "\t10 & search\\_conducted & 0.0348372 & 0 & 0.0 & 1 & $\\dots$ \\\\\n",
       "\t11 & search\\_type &  & Incident to Arrest &  & Reasonable Suspicion & $\\dots$ \\\\\n",
       "\t12 & stop\\_outcome &  & Arrest Driver &  & Warning & $\\dots$ \\\\\n",
       "\t13 & is\\_arrested & 0.0338973 & 0 & 0.0 & 1 & $\\dots$ \\\\\n",
       "\t14 & stop\\_duration &  & 0-15 Min &  & 30+ Min & $\\dots$ \\\\\n",
       "\t15 & drugs\\_related\\_stop & 0.00888371 & 0 & 0.0 & 1 & $\\dots$ \\\\\n",
       "\\end{tabular}\n"
      ],
      "text/plain": [
       "\u001b[1m15×7 DataFrame\u001b[0m\n",
       "\u001b[1m Row \u001b[0m│\u001b[1m variable           \u001b[0m\u001b[1m mean       \u001b[0m\u001b[1m min                \u001b[0m\u001b[1m median     \u001b[0m\u001b[1m max    \u001b[0m ⋯\n",
       "     │\u001b[90m Symbol             \u001b[0m\u001b[90m Union…     \u001b[0m\u001b[90m Any                \u001b[0m\u001b[90m Any        \u001b[0m\u001b[90m Any    \u001b[0m ⋯\n",
       "─────┼──────────────────────────────────────────────────────────────────────────\n",
       "   1 │ stop_date          \u001b[90m            \u001b[0m 2005-01-02          2010-11-04  2015-12 ⋯\n",
       "   2 │ stop_time          \u001b[90m            \u001b[0m 00:00:00            11:40:00    23:59:0\n",
       "   3 │ county_name        \u001b[90m            \u001b[0m\u001b[90m                    \u001b[0m\u001b[90m            \u001b[0m\u001b[90m        \u001b[0m\n",
       "   4 │ driver_gender      \u001b[90m            \u001b[0m F                  \u001b[90m            \u001b[0m M\n",
       "   5 │ driver_age_raw      1970.49     0.0                 1980.0      8801.0  ⋯\n",
       "   6 │ driver_age          34.0113     15.0                31.0        99.0\n",
       "   7 │ driver_race        \u001b[90m            \u001b[0m Asian              \u001b[90m            \u001b[0m White\n",
       "   8 │ violation_raw      \u001b[90m            \u001b[0m APB                \u001b[90m            \u001b[0m Warrant\n",
       "   9 │ violation          \u001b[90m            \u001b[0m Equipment          \u001b[90m            \u001b[0m Speedin ⋯\n",
       "  10 │ search_conducted    0.0348372   false               0.0         true\n",
       "  11 │ search_type        \u001b[90m            \u001b[0m Incident to Arrest \u001b[90m            \u001b[0m Reasona\n",
       "  12 │ stop_outcome       \u001b[90m            \u001b[0m Arrest Driver      \u001b[90m            \u001b[0m Warning\n",
       "  13 │ is_arrested         0.0338973   false               0.0         true    ⋯\n",
       "  14 │ stop_duration      \u001b[90m            \u001b[0m 0-15 Min           \u001b[90m            \u001b[0m 30+ Min\n",
       "  15 │ drugs_related_stop  0.00888371  false               0.0         true\n",
       "\u001b[36m                                                               3 columns omitted\u001b[0m"
      ]
     },
     "execution_count": 8,
     "metadata": {},
     "output_type": "execute_result"
    }
   ],
   "source": [
    "describe(df)"
   ]
  },
  {
   "cell_type": "code",
   "execution_count": 9,
   "id": "f8834831-f5e6-470d-9b2a-c95d9161ebeb",
   "metadata": {},
   "outputs": [
    {
     "data": {
      "text/html": [
       "<div><div style = \"float: left;\"><span>15×3 DataFrame</span></div><div style = \"clear: both;\"></div></div><div class = \"data-frame\" style = \"overflow-x: scroll;\"><table class = \"data-frame\" style = \"margin-bottom: 6px;\"><thead><tr class = \"header\"><th class = \"rowNumber\" style = \"font-weight: bold; text-align: right;\">Row</th><th style = \"text-align: left;\">variable</th><th style = \"text-align: left;\">mean</th><th style = \"text-align: left;\">median</th></tr><tr class = \"subheader headerLastRow\"><th class = \"rowNumber\" style = \"font-weight: bold; text-align: right;\"></th><th title = \"Symbol\" style = \"text-align: left;\">Symbol</th><th title = \"Union{Nothing, Float64}\" style = \"text-align: left;\">Union…</th><th title = \"Any\" style = \"text-align: left;\">Any</th></tr></thead><tbody><tr><td class = \"rowNumber\" style = \"font-weight: bold; text-align: right;\">1</td><td style = \"text-align: left;\">stop_date</td><td style = \"font-style: italic; text-align: left;\"></td><td style = \"text-align: left;\">2010-11-04</td></tr><tr><td class = \"rowNumber\" style = \"font-weight: bold; text-align: right;\">2</td><td style = \"text-align: left;\">stop_time</td><td style = \"font-style: italic; text-align: left;\"></td><td style = \"text-align: left;\">11:40:00</td></tr><tr><td class = \"rowNumber\" style = \"font-weight: bold; text-align: right;\">3</td><td style = \"text-align: left;\">county_name</td><td style = \"font-style: italic; text-align: left;\"></td><td style = \"font-style: italic; text-align: left;\"></td></tr><tr><td class = \"rowNumber\" style = \"font-weight: bold; text-align: right;\">4</td><td style = \"text-align: left;\">driver_gender</td><td style = \"font-style: italic; text-align: left;\"></td><td style = \"font-style: italic; text-align: left;\"></td></tr><tr><td class = \"rowNumber\" style = \"font-weight: bold; text-align: right;\">5</td><td style = \"text-align: left;\">driver_age_raw</td><td style = \"text-align: left;\">1970.49</td><td style = \"text-align: left;\">1980.0</td></tr><tr><td class = \"rowNumber\" style = \"font-weight: bold; text-align: right;\">6</td><td style = \"text-align: left;\">driver_age</td><td style = \"text-align: left;\">34.0113</td><td style = \"text-align: left;\">31.0</td></tr><tr><td class = \"rowNumber\" style = \"font-weight: bold; text-align: right;\">7</td><td style = \"text-align: left;\">driver_race</td><td style = \"font-style: italic; text-align: left;\"></td><td style = \"font-style: italic; text-align: left;\"></td></tr><tr><td class = \"rowNumber\" style = \"font-weight: bold; text-align: right;\">8</td><td style = \"text-align: left;\">violation_raw</td><td style = \"font-style: italic; text-align: left;\"></td><td style = \"font-style: italic; text-align: left;\"></td></tr><tr><td class = \"rowNumber\" style = \"font-weight: bold; text-align: right;\">9</td><td style = \"text-align: left;\">violation</td><td style = \"font-style: italic; text-align: left;\"></td><td style = \"font-style: italic; text-align: left;\"></td></tr><tr><td class = \"rowNumber\" style = \"font-weight: bold; text-align: right;\">10</td><td style = \"text-align: left;\">search_conducted</td><td style = \"text-align: left;\">0.0348372</td><td style = \"text-align: left;\">0.0</td></tr><tr><td class = \"rowNumber\" style = \"font-weight: bold; text-align: right;\">11</td><td style = \"text-align: left;\">search_type</td><td style = \"font-style: italic; text-align: left;\"></td><td style = \"font-style: italic; text-align: left;\"></td></tr><tr><td class = \"rowNumber\" style = \"font-weight: bold; text-align: right;\">12</td><td style = \"text-align: left;\">stop_outcome</td><td style = \"font-style: italic; text-align: left;\"></td><td style = \"font-style: italic; text-align: left;\"></td></tr><tr><td class = \"rowNumber\" style = \"font-weight: bold; text-align: right;\">13</td><td style = \"text-align: left;\">is_arrested</td><td style = \"text-align: left;\">0.0338973</td><td style = \"text-align: left;\">0.0</td></tr><tr><td class = \"rowNumber\" style = \"font-weight: bold; text-align: right;\">14</td><td style = \"text-align: left;\">stop_duration</td><td style = \"font-style: italic; text-align: left;\"></td><td style = \"font-style: italic; text-align: left;\"></td></tr><tr><td class = \"rowNumber\" style = \"font-weight: bold; text-align: right;\">15</td><td style = \"text-align: left;\">drugs_related_stop</td><td style = \"text-align: left;\">0.00888371</td><td style = \"text-align: left;\">0.0</td></tr></tbody></table></div>"
      ],
      "text/latex": [
       "\\begin{tabular}{r|ccc}\n",
       "\t& variable & mean & median\\\\\n",
       "\t\\hline\n",
       "\t& Symbol & Union… & Any\\\\\n",
       "\t\\hline\n",
       "\t1 & stop\\_date &  & 2010-11-04 \\\\\n",
       "\t2 & stop\\_time &  & 11:40:00 \\\\\n",
       "\t3 & county\\_name &  &  \\\\\n",
       "\t4 & driver\\_gender &  &  \\\\\n",
       "\t5 & driver\\_age\\_raw & 1970.49 & 1980.0 \\\\\n",
       "\t6 & driver\\_age & 34.0113 & 31.0 \\\\\n",
       "\t7 & driver\\_race &  &  \\\\\n",
       "\t8 & violation\\_raw &  &  \\\\\n",
       "\t9 & violation &  &  \\\\\n",
       "\t10 & search\\_conducted & 0.0348372 & 0.0 \\\\\n",
       "\t11 & search\\_type &  &  \\\\\n",
       "\t12 & stop\\_outcome &  &  \\\\\n",
       "\t13 & is\\_arrested & 0.0338973 & 0.0 \\\\\n",
       "\t14 & stop\\_duration &  &  \\\\\n",
       "\t15 & drugs\\_related\\_stop & 0.00888371 & 0.0 \\\\\n",
       "\\end{tabular}\n"
      ],
      "text/plain": [
       "\u001b[1m15×3 DataFrame\u001b[0m\n",
       "\u001b[1m Row \u001b[0m│\u001b[1m variable           \u001b[0m\u001b[1m mean       \u001b[0m\u001b[1m median     \u001b[0m\n",
       "     │\u001b[90m Symbol             \u001b[0m\u001b[90m Union…     \u001b[0m\u001b[90m Any        \u001b[0m\n",
       "─────┼────────────────────────────────────────────\n",
       "   1 │ stop_date          \u001b[90m            \u001b[0m 2010-11-04\n",
       "   2 │ stop_time          \u001b[90m            \u001b[0m 11:40:00\n",
       "   3 │ county_name        \u001b[90m            \u001b[0m\u001b[90m            \u001b[0m\n",
       "   4 │ driver_gender      \u001b[90m            \u001b[0m\u001b[90m            \u001b[0m\n",
       "   5 │ driver_age_raw      1970.49     1980.0\n",
       "   6 │ driver_age          34.0113     31.0\n",
       "   7 │ driver_race        \u001b[90m            \u001b[0m\u001b[90m            \u001b[0m\n",
       "   8 │ violation_raw      \u001b[90m            \u001b[0m\u001b[90m            \u001b[0m\n",
       "   9 │ violation          \u001b[90m            \u001b[0m\u001b[90m            \u001b[0m\n",
       "  10 │ search_conducted    0.0348372   0.0\n",
       "  11 │ search_type        \u001b[90m            \u001b[0m\u001b[90m            \u001b[0m\n",
       "  12 │ stop_outcome       \u001b[90m            \u001b[0m\u001b[90m            \u001b[0m\n",
       "  13 │ is_arrested         0.0338973   0.0\n",
       "  14 │ stop_duration      \u001b[90m            \u001b[0m\u001b[90m            \u001b[0m\n",
       "  15 │ drugs_related_stop  0.00888371  0.0"
      ]
     },
     "execution_count": 9,
     "metadata": {},
     "output_type": "execute_result"
    }
   ],
   "source": [
    "describe(df, :mean, :median)"
   ]
  },
  {
   "cell_type": "code",
   "execution_count": 10,
   "id": "cf5e6316-da16-471d-89f9-6358bc7f1e74",
   "metadata": {},
   "outputs": [
    {
     "data": {
      "text/html": [
       "<div><div style = \"float: left;\"><span>5×9 DataFrame</span></div><div style = \"clear: both;\"></div></div><div class = \"data-frame\" style = \"overflow-x: scroll;\"><table class = \"data-frame\" style = \"margin-bottom: 6px;\"><thead><tr class = \"header\"><th class = \"rowNumber\" style = \"font-weight: bold; text-align: right;\">Row</th><th style = \"text-align: left;\">stop_date</th><th style = \"text-align: left;\">stop_time</th><th style = \"text-align: left;\">driver_gender</th><th style = \"text-align: left;\">driver_age_raw</th><th style = \"text-align: left;\">driver_age</th><th style = \"text-align: left;\">driver_race</th><th style = \"text-align: left;\">violation_raw</th><th style = \"text-align: left;\">violation</th><th style = \"text-align: left;\">search_conducted</th></tr><tr class = \"subheader headerLastRow\"><th class = \"rowNumber\" style = \"font-weight: bold; text-align: right;\"></th><th title = \"Date\" style = \"text-align: left;\">Date</th><th title = \"Time\" style = \"text-align: left;\">Time</th><th title = \"Union{Missing, String1}\" style = \"text-align: left;\">String1?</th><th title = \"Union{Missing, Float64}\" style = \"text-align: left;\">Float64?</th><th title = \"Union{Missing, Float64}\" style = \"text-align: left;\">Float64?</th><th title = \"Union{Missing, String15}\" style = \"text-align: left;\">String15?</th><th title = \"Union{Missing, String}\" style = \"text-align: left;\">String?</th><th title = \"Union{Missing, String31}\" style = \"text-align: left;\">String31?</th><th title = \"Bool\" style = \"text-align: left;\">Bool</th></tr></thead><tbody><tr><td class = \"rowNumber\" style = \"font-weight: bold; text-align: right;\">1</td><td style = \"text-align: left;\">2005-01-02</td><td style = \"text-align: left;\">01:55:00</td><td style = \"text-align: left;\">M</td><td style = \"text-align: right;\">1985.0</td><td style = \"text-align: right;\">20.0</td><td style = \"text-align: left;\">White</td><td style = \"text-align: left;\">Speeding</td><td style = \"text-align: left;\">Speeding</td><td style = \"text-align: right;\">false</td></tr><tr><td class = \"rowNumber\" style = \"font-weight: bold; text-align: right;\">2</td><td style = \"text-align: left;\">2005-01-18</td><td style = \"text-align: left;\">08:15:00</td><td style = \"text-align: left;\">M</td><td style = \"text-align: right;\">1965.0</td><td style = \"text-align: right;\">40.0</td><td style = \"text-align: left;\">White</td><td style = \"text-align: left;\">Speeding</td><td style = \"text-align: left;\">Speeding</td><td style = \"text-align: right;\">false</td></tr><tr><td class = \"rowNumber\" style = \"font-weight: bold; text-align: right;\">3</td><td style = \"text-align: left;\">2005-01-23</td><td style = \"text-align: left;\">23:15:00</td><td style = \"text-align: left;\">M</td><td style = \"text-align: right;\">1972.0</td><td style = \"text-align: right;\">33.0</td><td style = \"text-align: left;\">White</td><td style = \"text-align: left;\">Speeding</td><td style = \"text-align: left;\">Speeding</td><td style = \"text-align: right;\">false</td></tr><tr><td class = \"rowNumber\" style = \"font-weight: bold; text-align: right;\">4</td><td style = \"text-align: left;\">2005-02-20</td><td style = \"text-align: left;\">17:15:00</td><td style = \"text-align: left;\">M</td><td style = \"text-align: right;\">1986.0</td><td style = \"text-align: right;\">19.0</td><td style = \"text-align: left;\">White</td><td style = \"text-align: left;\">Call for Service</td><td style = \"text-align: left;\">Other</td><td style = \"text-align: right;\">false</td></tr><tr><td class = \"rowNumber\" style = \"font-weight: bold; text-align: right;\">5</td><td style = \"text-align: left;\">2005-03-14</td><td style = \"text-align: left;\">10:00:00</td><td style = \"text-align: left;\">F</td><td style = \"text-align: right;\">1984.0</td><td style = \"text-align: right;\">21.0</td><td style = \"text-align: left;\">White</td><td style = \"text-align: left;\">Speeding</td><td style = \"text-align: left;\">Speeding</td><td style = \"text-align: right;\">false</td></tr></tbody></table></div>"
      ],
      "text/latex": [
       "\\begin{tabular}{r|cccccccc}\n",
       "\t& stop\\_date & stop\\_time & driver\\_gender & driver\\_age\\_raw & driver\\_age & driver\\_race & violation\\_raw & \\\\\n",
       "\t\\hline\n",
       "\t& Date & Time & String1? & Float64? & Float64? & String15? & String? & \\\\\n",
       "\t\\hline\n",
       "\t1 & 2005-01-02 & 01:55:00 & M & 1985.0 & 20.0 & White & Speeding & $\\dots$ \\\\\n",
       "\t2 & 2005-01-18 & 08:15:00 & M & 1965.0 & 40.0 & White & Speeding & $\\dots$ \\\\\n",
       "\t3 & 2005-01-23 & 23:15:00 & M & 1972.0 & 33.0 & White & Speeding & $\\dots$ \\\\\n",
       "\t4 & 2005-02-20 & 17:15:00 & M & 1986.0 & 19.0 & White & Call for Service & $\\dots$ \\\\\n",
       "\t5 & 2005-03-14 & 10:00:00 & F & 1984.0 & 21.0 & White & Speeding & $\\dots$ \\\\\n",
       "\\end{tabular}\n"
      ],
      "text/plain": [
       "\u001b[1m5×9 DataFrame\u001b[0m\n",
       "\u001b[1m Row \u001b[0m│\u001b[1m stop_date  \u001b[0m\u001b[1m stop_time \u001b[0m\u001b[1m driver_gender \u001b[0m\u001b[1m driver_age_raw \u001b[0m\u001b[1m driver_age \u001b[0m\u001b[1m drive\u001b[0m ⋯\n",
       "     │\u001b[90m Date       \u001b[0m\u001b[90m Time      \u001b[0m\u001b[90m String1?      \u001b[0m\u001b[90m Float64?       \u001b[0m\u001b[90m Float64?   \u001b[0m\u001b[90m Strin\u001b[0m ⋯\n",
       "─────┼──────────────────────────────────────────────────────────────────────────\n",
       "   1 │ 2005-01-02  01:55:00   M                      1985.0        20.0  White ⋯\n",
       "   2 │ 2005-01-18  08:15:00   M                      1965.0        40.0  White\n",
       "   3 │ 2005-01-23  23:15:00   M                      1972.0        33.0  White\n",
       "   4 │ 2005-02-20  17:15:00   M                      1986.0        19.0  White\n",
       "   5 │ 2005-03-14  10:00:00   F                      1984.0        21.0  White ⋯\n",
       "\u001b[36m                                                               4 columns omitted\u001b[0m"
      ]
     },
     "execution_count": 10,
     "metadata": {},
     "output_type": "execute_result"
    }
   ],
   "source": [
    "dft = select(df, Not([\"county_name\",\"stop_duration\",\"drugs_related_stop\",\"is_arrested\",\"stop_outcome\",\"search_type\"]))\n",
    "first(dft, 5)"
   ]
  },
  {
   "cell_type": "markdown",
   "id": "246bfd20-fd12-42e0-9228-8202a8eaac39",
   "metadata": {},
   "source": [
    "## freqtable"
   ]
  },
  {
   "cell_type": "code",
   "execution_count": 11,
   "id": "2fe05b4a-30b5-4b29-9e98-2166159ebbb3",
   "metadata": {},
   "outputs": [
    {
     "data": {
      "text/plain": [
       "6×3 Named Matrix{Int64}\n",
       "Dim1 ╲ Dim2 │       F        M  missing\n",
       "────────────┼──────────────────────────\n",
       "Asian       │     513     1746        0\n",
       "Black       │    2580     9664        0\n",
       "Hispanic    │    1871     7636        0\n",
       "Other       │      26      214        0\n",
       "White       │   18521    43635        2\n",
       "missing     │       0        0     5333"
      ]
     },
     "execution_count": 11,
     "metadata": {},
     "output_type": "execute_result"
    }
   ],
   "source": [
    "freqtable(df.driver_race, df.driver_gender)"
   ]
  },
  {
   "cell_type": "code",
   "execution_count": 12,
   "id": "6f647cf0-1d70-4ea5-a8eb-b0ccc8b669a9",
   "metadata": {},
   "outputs": [
    {
     "data": {
      "text/plain": [
       "5×2 Named Matrix{Int64}\n",
       "Dim1 ╲ Dim2 │     F      M\n",
       "────────────┼─────────────\n",
       "Asian       │   513   1746\n",
       "Black       │  2580   9664\n",
       "Hispanic    │  1871   7636\n",
       "Other       │    26    214\n",
       "White       │ 18521  43635"
      ]
     },
     "execution_count": 12,
     "metadata": {},
     "output_type": "execute_result"
    }
   ],
   "source": [
    "freqtable(df.driver_race, df.driver_gender, skipmissing=true)"
   ]
  },
  {
   "cell_type": "markdown",
   "id": "04b4cb47-a9b7-49d1-8e82-c30268744bdc",
   "metadata": {},
   "source": [
    "### prop (Proportion)"
   ]
  },
  {
   "cell_type": "code",
   "execution_count": 13,
   "id": "53f169c3-02c6-4ff9-ac0e-15dbb4fc96b1",
   "metadata": {},
   "outputs": [
    {
     "data": {
      "text/plain": [
       "6×3 Named Matrix{Float64}\n",
       "Dim1 ╲ Dim2 │           F            M      missing\n",
       "────────────┼──────────────────────────────────────\n",
       "Asian       │  0.00559183    0.0190318          0.0\n",
       "Black       │   0.0281226      0.10534          0.0\n",
       "Hispanic    │   0.0203944    0.0832343          0.0\n",
       "Other       │ 0.000283407   0.00233265          0.0\n",
       "White       │    0.201884     0.475632   2.18005e-5\n",
       "missing     │         0.0          0.0     0.058131"
      ]
     },
     "execution_count": 13,
     "metadata": {},
     "output_type": "execute_result"
    }
   ],
   "source": [
    "prop(freqtable(df.driver_race, df.driver_gender))"
   ]
  },
  {
   "cell_type": "code",
   "execution_count": 14,
   "id": "6522e372-5875-4225-b4e7-600d6b25267a",
   "metadata": {},
   "outputs": [
    {
     "data": {
      "text/plain": [
       "6×3 Named Matrix{Float64}\n",
       "Dim1 ╲ Dim2 │          F           M     missing\n",
       "────────────┼───────────────────────────────────\n",
       "Asian       │   0.227092    0.772908         0.0\n",
       "Black       │   0.210715    0.789285         0.0\n",
       "Hispanic    │   0.196802    0.803198         0.0\n",
       "Other       │   0.108333    0.891667         0.0\n",
       "White       │   0.297966    0.702001  3.21761e-5\n",
       "missing     │        0.0         0.0         1.0"
      ]
     },
     "execution_count": 14,
     "metadata": {},
     "output_type": "execute_result"
    }
   ],
   "source": [
    "prop(freqtable(df.driver_race, df.driver_gender), margins=1)"
   ]
  },
  {
   "cell_type": "code",
   "execution_count": 15,
   "id": "e5ab4f53-9c08-4c2b-a021-214bc2104fda",
   "metadata": {},
   "outputs": [
    {
     "data": {
      "text/plain": [
       "6×3 Named Matrix{Float64}\n",
       "Dim1 ╲ Dim2 │           F            M      missing\n",
       "────────────┼──────────────────────────────────────\n",
       "Asian       │   0.0218196    0.0277606          0.0\n",
       "Black       │    0.109736     0.153653          0.0\n",
       "Hispanic    │   0.0795798     0.121409          0.0\n",
       "Other       │  0.00110587    0.0034025          0.0\n",
       "White       │    0.787759     0.693775  0.000374883\n",
       "missing     │         0.0          0.0     0.999625"
      ]
     },
     "execution_count": 15,
     "metadata": {},
     "output_type": "execute_result"
    }
   ],
   "source": [
    "prop(freqtable(df.driver_race, df.driver_gender), margins=2)"
   ]
  },
  {
   "cell_type": "markdown",
   "id": "eaf067a5-e873-4cb1-929d-2f269e4547ab",
   "metadata": {},
   "source": [
    "## isequal"
   ]
  },
  {
   "cell_type": "code",
   "execution_count": 16,
   "id": "812087d0-776b-4c08-8bb6-20fad255ad5c",
   "metadata": {},
   "outputs": [
    {
     "data": {
      "text/html": [
       "<div><div style = \"float: left;\"><span>5×15 DataFrame</span></div><div style = \"clear: both;\"></div></div><div class = \"data-frame\" style = \"overflow-x: scroll;\"><table class = \"data-frame\" style = \"margin-bottom: 6px;\"><thead><tr class = \"header\"><th class = \"rowNumber\" style = \"font-weight: bold; text-align: right;\">Row</th><th style = \"text-align: left;\">stop_date</th><th style = \"text-align: left;\">stop_time</th><th style = \"text-align: left;\">county_name</th><th style = \"text-align: left;\">driver_gender</th><th style = \"text-align: left;\">driver_age_raw</th><th style = \"text-align: left;\">driver_age</th><th style = \"text-align: left;\">driver_race</th><th style = \"text-align: left;\">violation_raw</th><th style = \"text-align: left;\">violation</th><th style = \"text-align: left;\">search_conducted</th><th style = \"text-align: left;\">search_type</th><th style = \"text-align: left;\">stop_outcome</th><th style = \"text-align: left;\">is_arrested</th><th style = \"text-align: left;\">stop_duration</th><th style = \"text-align: left;\">drugs_related_stop</th></tr><tr class = \"subheader headerLastRow\"><th class = \"rowNumber\" style = \"font-weight: bold; text-align: right;\"></th><th title = \"Date\" style = \"text-align: left;\">Date</th><th title = \"Time\" style = \"text-align: left;\">Time</th><th title = \"Missing\" style = \"text-align: left;\">Missing</th><th title = \"Union{Missing, String1}\" style = \"text-align: left;\">String1?</th><th title = \"Union{Missing, Float64}\" style = \"text-align: left;\">Float64?</th><th title = \"Union{Missing, Float64}\" style = \"text-align: left;\">Float64?</th><th title = \"Union{Missing, String15}\" style = \"text-align: left;\">String15?</th><th title = \"Union{Missing, String}\" style = \"text-align: left;\">String?</th><th title = \"Union{Missing, String31}\" style = \"text-align: left;\">String31?</th><th title = \"Bool\" style = \"text-align: left;\">Bool</th><th title = \"Union{Missing, String}\" style = \"text-align: left;\">String?</th><th title = \"Union{Missing, String31}\" style = \"text-align: left;\">String31?</th><th title = \"Union{Missing, Bool}\" style = \"text-align: left;\">Bool?</th><th title = \"Union{Missing, String15}\" style = \"text-align: left;\">String15?</th><th title = \"Bool\" style = \"text-align: left;\">Bool</th></tr></thead><tbody><tr><td class = \"rowNumber\" style = \"font-weight: bold; text-align: right;\">1</td><td style = \"text-align: left;\">2005-07-13</td><td style = \"text-align: left;\">16:20:00</td><td style = \"font-style: italic; text-align: right;\">missing</td><td style = \"text-align: left;\">M</td><td style = \"text-align: right;\">1979.0</td><td style = \"text-align: right;\">26.0</td><td style = \"text-align: left;\">Asian</td><td style = \"text-align: left;\">Speeding</td><td style = \"text-align: left;\">Speeding</td><td style = \"text-align: right;\">false</td><td style = \"font-style: italic; text-align: left;\">missing</td><td style = \"text-align: left;\">Citation</td><td style = \"text-align: right;\">false</td><td style = \"text-align: left;\">0-15 Min</td><td style = \"text-align: right;\">false</td></tr><tr><td class = \"rowNumber\" style = \"font-weight: bold; text-align: right;\">2</td><td style = \"text-align: left;\">2005-07-28</td><td style = \"text-align: left;\">12:37:00</td><td style = \"font-style: italic; text-align: right;\">missing</td><td style = \"text-align: left;\">F</td><td style = \"text-align: right;\">1979.0</td><td style = \"text-align: right;\">26.0</td><td style = \"text-align: left;\">Asian</td><td style = \"text-align: left;\">Speeding</td><td style = \"text-align: left;\">Speeding</td><td style = \"text-align: right;\">false</td><td style = \"font-style: italic; text-align: left;\">missing</td><td style = \"text-align: left;\">Citation</td><td style = \"text-align: right;\">false</td><td style = \"text-align: left;\">0-15 Min</td><td style = \"text-align: right;\">false</td></tr><tr><td class = \"rowNumber\" style = \"font-weight: bold; text-align: right;\">3</td><td style = \"text-align: left;\">2005-09-30</td><td style = \"text-align: left;\">14:00:00</td><td style = \"font-style: italic; text-align: right;\">missing</td><td style = \"text-align: left;\">M</td><td style = \"text-align: right;\">1962.0</td><td style = \"text-align: right;\">43.0</td><td style = \"text-align: left;\">Asian</td><td style = \"text-align: left;\">Speeding</td><td style = \"text-align: left;\">Speeding</td><td style = \"text-align: right;\">false</td><td style = \"font-style: italic; text-align: left;\">missing</td><td style = \"text-align: left;\">Citation</td><td style = \"text-align: right;\">false</td><td style = \"text-align: left;\">0-15 Min</td><td style = \"text-align: right;\">false</td></tr><tr><td class = \"rowNumber\" style = \"font-weight: bold; text-align: right;\">4</td><td style = \"text-align: left;\">2005-10-01</td><td style = \"text-align: left;\">23:25:00</td><td style = \"font-style: italic; text-align: right;\">missing</td><td style = \"text-align: left;\">M</td><td style = \"text-align: right;\">1974.0</td><td style = \"text-align: right;\">31.0</td><td style = \"text-align: left;\">Asian</td><td style = \"text-align: left;\">Speeding</td><td style = \"text-align: left;\">Speeding</td><td style = \"text-align: right;\">false</td><td style = \"font-style: italic; text-align: left;\">missing</td><td style = \"text-align: left;\">Citation</td><td style = \"text-align: right;\">false</td><td style = \"text-align: left;\">16-30 Min</td><td style = \"text-align: right;\">false</td></tr><tr><td class = \"rowNumber\" style = \"font-weight: bold; text-align: right;\">5</td><td style = \"text-align: left;\">2005-10-03</td><td style = \"text-align: left;\">02:20:00</td><td style = \"font-style: italic; text-align: right;\">missing</td><td style = \"text-align: left;\">F</td><td style = \"text-align: right;\">1950.0</td><td style = \"text-align: right;\">55.0</td><td style = \"text-align: left;\">Asian</td><td style = \"text-align: left;\">Speeding</td><td style = \"text-align: left;\">Speeding</td><td style = \"text-align: right;\">false</td><td style = \"font-style: italic; text-align: left;\">missing</td><td style = \"text-align: left;\">Citation</td><td style = \"text-align: right;\">false</td><td style = \"text-align: left;\">0-15 Min</td><td style = \"text-align: right;\">false</td></tr></tbody></table></div>"
      ],
      "text/latex": [
       "\\begin{tabular}{r|cccccccc}\n",
       "\t& stop\\_date & stop\\_time & county\\_name & driver\\_gender & driver\\_age\\_raw & driver\\_age & driver\\_race & \\\\\n",
       "\t\\hline\n",
       "\t& Date & Time & Missing & String1? & Float64? & Float64? & String15? & \\\\\n",
       "\t\\hline\n",
       "\t1 & 2005-07-13 & 16:20:00 & \\emph{missing} & M & 1979.0 & 26.0 & Asian & $\\dots$ \\\\\n",
       "\t2 & 2005-07-28 & 12:37:00 & \\emph{missing} & F & 1979.0 & 26.0 & Asian & $\\dots$ \\\\\n",
       "\t3 & 2005-09-30 & 14:00:00 & \\emph{missing} & M & 1962.0 & 43.0 & Asian & $\\dots$ \\\\\n",
       "\t4 & 2005-10-01 & 23:25:00 & \\emph{missing} & M & 1974.0 & 31.0 & Asian & $\\dots$ \\\\\n",
       "\t5 & 2005-10-03 & 02:20:00 & \\emph{missing} & F & 1950.0 & 55.0 & Asian & $\\dots$ \\\\\n",
       "\\end{tabular}\n"
      ],
      "text/plain": [
       "\u001b[1m5×15 DataFrame\u001b[0m\n",
       "\u001b[1m Row \u001b[0m│\u001b[1m stop_date  \u001b[0m\u001b[1m stop_time \u001b[0m\u001b[1m county_name \u001b[0m\u001b[1m driver_gender \u001b[0m\u001b[1m driver_age_raw \u001b[0m\u001b[1m driv\u001b[0m ⋯\n",
       "     │\u001b[90m Date       \u001b[0m\u001b[90m Time      \u001b[0m\u001b[90m Missing     \u001b[0m\u001b[90m String1?      \u001b[0m\u001b[90m Float64?       \u001b[0m\u001b[90m Floa\u001b[0m ⋯\n",
       "─────┼──────────────────────────────────────────────────────────────────────────\n",
       "   1 │ 2005-07-13  16:20:00  \u001b[90m     missing \u001b[0m M                      1979.0       ⋯\n",
       "   2 │ 2005-07-28  12:37:00  \u001b[90m     missing \u001b[0m F                      1979.0\n",
       "   3 │ 2005-09-30  14:00:00  \u001b[90m     missing \u001b[0m M                      1962.0\n",
       "   4 │ 2005-10-01  23:25:00  \u001b[90m     missing \u001b[0m M                      1974.0\n",
       "   5 │ 2005-10-03  02:20:00  \u001b[90m     missing \u001b[0m F                      1950.0       ⋯\n",
       "\u001b[36m                                                              10 columns omitted\u001b[0m"
      ]
     },
     "execution_count": 16,
     "metadata": {},
     "output_type": "execute_result"
    }
   ],
   "source": [
    "dft = df[isequal.(df.driver_race, \"Asian\"), :];\n",
    "first(dft,5)"
   ]
  },
  {
   "cell_type": "code",
   "execution_count": 17,
   "id": "d226f2a0-4645-4667-96d0-8091ccde405d",
   "metadata": {},
   "outputs": [
    {
     "data": {
      "text/plain": [
       "6-element Named Vector{Int64}\n",
       "Dim1             │ \n",
       "─────────────────┼─────\n",
       "Arrest Driver    │   36\n",
       "Arrest Passenger │    5\n",
       "Citation         │ 2108\n",
       "N/D              │   11\n",
       "No Action        │   15\n",
       "Warning          │   84"
      ]
     },
     "execution_count": 17,
     "metadata": {},
     "output_type": "execute_result"
    }
   ],
   "source": [
    "df[isequal.(df.driver_race, \"Asian\"), \"stop_outcome\"] |> freqtable"
   ]
  },
  {
   "cell_type": "code",
   "execution_count": 18,
   "id": "81e86621-22e3-4792-b9b9-5418b4d4b84d",
   "metadata": {},
   "outputs": [
    {
     "data": {
      "text/plain": [
       "6-element Named Vector{Float64}\n",
       "Dim1             │ \n",
       "─────────────────┼───────────\n",
       "Arrest Driver    │  0.0159363\n",
       "Arrest Passenger │ 0.00221337\n",
       "Citation         │   0.933156\n",
       "N/D              │ 0.00486941\n",
       "No Action        │ 0.00664011\n",
       "Warning          │  0.0371846"
      ]
     },
     "execution_count": 18,
     "metadata": {},
     "output_type": "execute_result"
    }
   ],
   "source": [
    "df[isequal.(df.driver_race, \"Asian\"), \"stop_outcome\"] |> freqtable |> prop"
   ]
  },
  {
   "cell_type": "markdown",
   "id": "19a8c36b-bb06-4b0b-a542-0f3799b828ed",
   "metadata": {},
   "source": [
    "## groupby"
   ]
  },
  {
   "cell_type": "code",
   "execution_count": 19,
   "id": "9cc48980-4c9f-43a7-b73a-0760d9bd293e",
   "metadata": {
    "tags": []
   },
   "outputs": [
    {
     "data": {
      "text/html": [
       "<p><b>GroupedDataFrame with 6 groups based on key: driver_race</b></p><div><div style = \"float: left;\"><span>First Group (62158 rows): driver_race = &quot;White&quot;</span></div><div style = \"float: right;\"><span style = \"font-style: italic;\">62133 rows omitted</span></div><div style = \"clear: both;\"></div></div><div class = \"data-frame\" style = \"overflow-x: scroll;\"><table class = \"data-frame\" style = \"margin-bottom: 6px;\"><thead><tr class = \"header\"><th class = \"rowNumber\" style = \"font-weight: bold; text-align: right;\">Row</th><th style = \"text-align: left;\">stop_date</th><th style = \"text-align: left;\">stop_time</th><th style = \"text-align: left;\">county_name</th><th style = \"text-align: left;\">driver_gender</th><th style = \"text-align: left;\">driver_age_raw</th><th style = \"text-align: left;\">driver_age</th><th style = \"text-align: left;\">driver_race</th><th style = \"text-align: left;\">violation_raw</th><th style = \"text-align: left;\">violation</th><th style = \"text-align: left;\">search_conducted</th><th style = \"text-align: left;\">search_type</th><th style = \"text-align: left;\">stop_outcome</th><th style = \"text-align: left;\">is_arrested</th><th style = \"text-align: left;\">stop_duration</th><th style = \"text-align: left;\">drugs_related_stop</th></tr><tr class = \"subheader headerLastRow\"><th class = \"rowNumber\" style = \"font-weight: bold; text-align: right;\"></th><th title = \"Date\" style = \"text-align: left;\">Date</th><th title = \"Time\" style = \"text-align: left;\">Time</th><th title = \"Missing\" style = \"text-align: left;\">Missing</th><th title = \"Union{Missing, String1}\" style = \"text-align: left;\">String1?</th><th title = \"Union{Missing, Float64}\" style = \"text-align: left;\">Float64?</th><th title = \"Union{Missing, Float64}\" style = \"text-align: left;\">Float64?</th><th title = \"Union{Missing, String15}\" style = \"text-align: left;\">String15?</th><th title = \"Union{Missing, String}\" style = \"text-align: left;\">String?</th><th title = \"Union{Missing, String31}\" style = \"text-align: left;\">String31?</th><th title = \"Bool\" style = \"text-align: left;\">Bool</th><th title = \"Union{Missing, String}\" style = \"text-align: left;\">String?</th><th title = \"Union{Missing, String31}\" style = \"text-align: left;\">String31?</th><th title = \"Union{Missing, Bool}\" style = \"text-align: left;\">Bool?</th><th title = \"Union{Missing, String15}\" style = \"text-align: left;\">String15?</th><th title = \"Bool\" style = \"text-align: left;\">Bool</th></tr></thead><tbody><tr><td class = \"rowNumber\" style = \"font-weight: bold; text-align: right;\">1</td><td style = \"text-align: left;\">2005-01-02</td><td style = \"text-align: left;\">01:55:00</td><td style = \"font-style: italic; text-align: right;\">missing</td><td style = \"text-align: left;\">M</td><td style = \"text-align: right;\">1985.0</td><td style = \"text-align: right;\">20.0</td><td style = \"text-align: left;\">White</td><td style = \"text-align: left;\">Speeding</td><td style = \"text-align: left;\">Speeding</td><td style = \"text-align: right;\">false</td><td style = \"font-style: italic; text-align: left;\">missing</td><td style = \"text-align: left;\">Citation</td><td style = \"text-align: right;\">false</td><td style = \"text-align: left;\">0-15 Min</td><td style = \"text-align: right;\">false</td></tr><tr><td class = \"rowNumber\" style = \"font-weight: bold; text-align: right;\">2</td><td style = \"text-align: left;\">2005-01-18</td><td style = \"text-align: left;\">08:15:00</td><td style = \"font-style: italic; text-align: right;\">missing</td><td style = \"text-align: left;\">M</td><td style = \"text-align: right;\">1965.0</td><td style = \"text-align: right;\">40.0</td><td style = \"text-align: left;\">White</td><td style = \"text-align: left;\">Speeding</td><td style = \"text-align: left;\">Speeding</td><td style = \"text-align: right;\">false</td><td style = \"font-style: italic; text-align: left;\">missing</td><td style = \"text-align: left;\">Citation</td><td style = \"text-align: right;\">false</td><td style = \"text-align: left;\">0-15 Min</td><td style = \"text-align: right;\">false</td></tr><tr><td class = \"rowNumber\" style = \"font-weight: bold; text-align: right;\">3</td><td style = \"text-align: left;\">2005-01-23</td><td style = \"text-align: left;\">23:15:00</td><td style = \"font-style: italic; text-align: right;\">missing</td><td style = \"text-align: left;\">M</td><td style = \"text-align: right;\">1972.0</td><td style = \"text-align: right;\">33.0</td><td style = \"text-align: left;\">White</td><td style = \"text-align: left;\">Speeding</td><td style = \"text-align: left;\">Speeding</td><td style = \"text-align: right;\">false</td><td style = \"font-style: italic; text-align: left;\">missing</td><td style = \"text-align: left;\">Citation</td><td style = \"text-align: right;\">false</td><td style = \"text-align: left;\">0-15 Min</td><td style = \"text-align: right;\">false</td></tr><tr><td class = \"rowNumber\" style = \"font-weight: bold; text-align: right;\">4</td><td style = \"text-align: left;\">2005-02-20</td><td style = \"text-align: left;\">17:15:00</td><td style = \"font-style: italic; text-align: right;\">missing</td><td style = \"text-align: left;\">M</td><td style = \"text-align: right;\">1986.0</td><td style = \"text-align: right;\">19.0</td><td style = \"text-align: left;\">White</td><td style = \"text-align: left;\">Call for Service</td><td style = \"text-align: left;\">Other</td><td style = \"text-align: right;\">false</td><td style = \"font-style: italic; text-align: left;\">missing</td><td style = \"text-align: left;\">Arrest Driver</td><td style = \"text-align: right;\">true</td><td style = \"text-align: left;\">16-30 Min</td><td style = \"text-align: right;\">false</td></tr><tr><td class = \"rowNumber\" style = \"font-weight: bold; text-align: right;\">5</td><td style = \"text-align: left;\">2005-03-14</td><td style = \"text-align: left;\">10:00:00</td><td style = \"font-style: italic; text-align: right;\">missing</td><td style = \"text-align: left;\">F</td><td style = \"text-align: right;\">1984.0</td><td style = \"text-align: right;\">21.0</td><td style = \"text-align: left;\">White</td><td style = \"text-align: left;\">Speeding</td><td style = \"text-align: left;\">Speeding</td><td style = \"text-align: right;\">false</td><td style = \"font-style: italic; text-align: left;\">missing</td><td style = \"text-align: left;\">Citation</td><td style = \"text-align: right;\">false</td><td style = \"text-align: left;\">0-15 Min</td><td style = \"text-align: right;\">false</td></tr><tr><td class = \"rowNumber\" style = \"font-weight: bold; text-align: right;\">6</td><td style = \"text-align: left;\">2005-04-01</td><td style = \"text-align: left;\">17:30:00</td><td style = \"font-style: italic; text-align: right;\">missing</td><td style = \"text-align: left;\">M</td><td style = \"text-align: right;\">1969.0</td><td style = \"text-align: right;\">36.0</td><td style = \"text-align: left;\">White</td><td style = \"text-align: left;\">Speeding</td><td style = \"text-align: left;\">Speeding</td><td style = \"text-align: right;\">false</td><td style = \"font-style: italic; text-align: left;\">missing</td><td style = \"text-align: left;\">Citation</td><td style = \"text-align: right;\">false</td><td style = \"text-align: left;\">0-15 Min</td><td style = \"text-align: right;\">false</td></tr><tr><td class = \"rowNumber\" style = \"font-weight: bold; text-align: right;\">7</td><td style = \"text-align: left;\">2005-06-06</td><td style = \"text-align: left;\">13:20:00</td><td style = \"font-style: italic; text-align: right;\">missing</td><td style = \"text-align: left;\">F</td><td style = \"text-align: right;\">1986.0</td><td style = \"text-align: right;\">19.0</td><td style = \"text-align: left;\">White</td><td style = \"text-align: left;\">Speeding</td><td style = \"text-align: left;\">Speeding</td><td style = \"text-align: right;\">false</td><td style = \"font-style: italic; text-align: left;\">missing</td><td style = \"text-align: left;\">Citation</td><td style = \"text-align: right;\">false</td><td style = \"text-align: left;\">0-15 Min</td><td style = \"text-align: right;\">false</td></tr><tr><td class = \"rowNumber\" style = \"font-weight: bold; text-align: right;\">8</td><td style = \"text-align: left;\">2005-07-13</td><td style = \"text-align: left;\">15:45:00</td><td style = \"font-style: italic; text-align: right;\">missing</td><td style = \"text-align: left;\">M</td><td style = \"text-align: right;\">1970.0</td><td style = \"text-align: right;\">35.0</td><td style = \"text-align: left;\">White</td><td style = \"text-align: left;\">Speeding</td><td style = \"text-align: left;\">Speeding</td><td style = \"text-align: right;\">false</td><td style = \"font-style: italic; text-align: left;\">missing</td><td style = \"text-align: left;\">Citation</td><td style = \"text-align: right;\">false</td><td style = \"text-align: left;\">0-15 Min</td><td style = \"text-align: right;\">false</td></tr><tr><td class = \"rowNumber\" style = \"font-weight: bold; text-align: right;\">9</td><td style = \"text-align: left;\">2005-07-13</td><td style = \"text-align: left;\">19:00:00</td><td style = \"font-style: italic; text-align: right;\">missing</td><td style = \"text-align: left;\">F</td><td style = \"text-align: right;\">1966.0</td><td style = \"text-align: right;\">39.0</td><td style = \"text-align: left;\">White</td><td style = \"text-align: left;\">Speeding</td><td style = \"text-align: left;\">Speeding</td><td style = \"text-align: right;\">false</td><td style = \"font-style: italic; text-align: left;\">missing</td><td style = \"text-align: left;\">Citation</td><td style = \"text-align: right;\">false</td><td style = \"text-align: left;\">0-15 Min</td><td style = \"text-align: right;\">false</td></tr><tr><td class = \"rowNumber\" style = \"font-weight: bold; text-align: right;\">10</td><td style = \"text-align: left;\">2005-07-14</td><td style = \"text-align: left;\">19:55:00</td><td style = \"font-style: italic; text-align: right;\">missing</td><td style = \"text-align: left;\">M</td><td style = \"text-align: right;\">1979.0</td><td style = \"text-align: right;\">26.0</td><td style = \"text-align: left;\">White</td><td style = \"text-align: left;\">Speeding</td><td style = \"text-align: left;\">Speeding</td><td style = \"text-align: right;\">false</td><td style = \"font-style: italic; text-align: left;\">missing</td><td style = \"text-align: left;\">Citation</td><td style = \"text-align: right;\">false</td><td style = \"text-align: left;\">0-15 Min</td><td style = \"text-align: right;\">false</td></tr><tr><td class = \"rowNumber\" style = \"font-weight: bold; text-align: right;\">11</td><td style = \"text-align: left;\">2005-07-18</td><td style = \"text-align: left;\">19:30:00</td><td style = \"font-style: italic; text-align: right;\">missing</td><td style = \"text-align: left;\">F</td><td style = \"text-align: right;\">1984.0</td><td style = \"text-align: right;\">21.0</td><td style = \"text-align: left;\">White</td><td style = \"text-align: left;\">Speeding</td><td style = \"text-align: left;\">Speeding</td><td style = \"text-align: right;\">false</td><td style = \"font-style: italic; text-align: left;\">missing</td><td style = \"text-align: left;\">Citation</td><td style = \"text-align: right;\">false</td><td style = \"text-align: left;\">0-15 Min</td><td style = \"text-align: right;\">false</td></tr><tr><td class = \"rowNumber\" style = \"font-weight: bold; text-align: right;\">12</td><td style = \"text-align: left;\">2005-07-18</td><td style = \"text-align: left;\">19:45:00</td><td style = \"font-style: italic; text-align: right;\">missing</td><td style = \"text-align: left;\">M</td><td style = \"text-align: right;\">1969.0</td><td style = \"text-align: right;\">36.0</td><td style = \"text-align: left;\">White</td><td style = \"text-align: left;\">Speeding</td><td style = \"text-align: left;\">Speeding</td><td style = \"text-align: right;\">false</td><td style = \"font-style: italic; text-align: left;\">missing</td><td style = \"text-align: left;\">Citation</td><td style = \"text-align: right;\">false</td><td style = \"text-align: left;\">0-15 Min</td><td style = \"text-align: right;\">false</td></tr><tr><td class = \"rowNumber\" style = \"font-weight: bold; text-align: right;\">13</td><td style = \"text-align: left;\">2005-07-19</td><td style = \"text-align: left;\">00:30:00</td><td style = \"font-style: italic; text-align: right;\">missing</td><td style = \"text-align: left;\">M</td><td style = \"text-align: right;\">1982.0</td><td style = \"text-align: right;\">23.0</td><td style = \"text-align: left;\">White</td><td style = \"text-align: left;\">Speeding</td><td style = \"text-align: left;\">Speeding</td><td style = \"text-align: right;\">false</td><td style = \"font-style: italic; text-align: left;\">missing</td><td style = \"text-align: left;\">Citation</td><td style = \"text-align: right;\">false</td><td style = \"text-align: left;\">0-15 Min</td><td style = \"text-align: right;\">false</td></tr><tr><td style = \"text-align: right;\">&vellip;</td><td style = \"text-align: right;\">&vellip;</td><td style = \"text-align: right;\">&vellip;</td><td style = \"text-align: right;\">&vellip;</td><td style = \"text-align: right;\">&vellip;</td><td style = \"text-align: right;\">&vellip;</td><td style = \"text-align: right;\">&vellip;</td><td style = \"text-align: right;\">&vellip;</td><td style = \"text-align: right;\">&vellip;</td><td style = \"text-align: right;\">&vellip;</td><td style = \"text-align: right;\">&vellip;</td><td style = \"text-align: right;\">&vellip;</td><td style = \"text-align: right;\">&vellip;</td><td style = \"text-align: right;\">&vellip;</td><td style = \"text-align: right;\">&vellip;</td><td style = \"text-align: right;\">&vellip;</td></tr><tr><td class = \"rowNumber\" style = \"font-weight: bold; text-align: right;\">62147</td><td style = \"text-align: left;\">2015-12-31</td><td style = \"text-align: left;\">08:14:00</td><td style = \"font-style: italic; text-align: right;\">missing</td><td style = \"text-align: left;\">F</td><td style = \"text-align: right;\">1960.0</td><td style = \"text-align: right;\">55.0</td><td style = \"text-align: left;\">White</td><td style = \"text-align: left;\">Speeding</td><td style = \"text-align: left;\">Speeding</td><td style = \"text-align: right;\">false</td><td style = \"font-style: italic; text-align: left;\">missing</td><td style = \"text-align: left;\">Citation</td><td style = \"text-align: right;\">false</td><td style = \"text-align: left;\">0-15 Min</td><td style = \"text-align: right;\">false</td></tr><tr><td class = \"rowNumber\" style = \"font-weight: bold; text-align: right;\">62148</td><td style = \"text-align: left;\">2015-12-31</td><td style = \"text-align: left;\">08:41:00</td><td style = \"font-style: italic; text-align: right;\">missing</td><td style = \"text-align: left;\">M</td><td style = \"text-align: right;\">1992.0</td><td style = \"text-align: right;\">23.0</td><td style = \"text-align: left;\">White</td><td style = \"text-align: left;\">Speeding</td><td style = \"text-align: left;\">Speeding</td><td style = \"text-align: right;\">false</td><td style = \"font-style: italic; text-align: left;\">missing</td><td style = \"text-align: left;\">No Action</td><td style = \"text-align: right;\">false</td><td style = \"text-align: left;\">0-15 Min</td><td style = \"text-align: right;\">false</td></tr><tr><td class = \"rowNumber\" style = \"font-weight: bold; text-align: right;\">62149</td><td style = \"text-align: left;\">2015-12-31</td><td style = \"text-align: left;\">09:17:00</td><td style = \"font-style: italic; text-align: right;\">missing</td><td style = \"text-align: left;\">F</td><td style = \"text-align: right;\">1995.0</td><td style = \"text-align: right;\">20.0</td><td style = \"text-align: left;\">White</td><td style = \"text-align: left;\">Speeding</td><td style = \"text-align: left;\">Speeding</td><td style = \"text-align: right;\">false</td><td style = \"font-style: italic; text-align: left;\">missing</td><td style = \"text-align: left;\">Warning</td><td style = \"text-align: right;\">false</td><td style = \"text-align: left;\">16-30 Min</td><td style = \"text-align: right;\">false</td></tr><tr><td class = \"rowNumber\" style = \"font-weight: bold; text-align: right;\">62150</td><td style = \"text-align: left;\">2015-12-31</td><td style = \"text-align: left;\">14:21:00</td><td style = \"font-style: italic; text-align: right;\">missing</td><td style = \"text-align: left;\">F</td><td style = \"text-align: right;\">1988.0</td><td style = \"text-align: right;\">27.0</td><td style = \"text-align: left;\">White</td><td style = \"text-align: left;\">Equipment/Inspection Violation</td><td style = \"text-align: left;\">Equipment</td><td style = \"text-align: right;\">false</td><td style = \"font-style: italic; text-align: left;\">missing</td><td style = \"text-align: left;\">Citation</td><td style = \"text-align: right;\">false</td><td style = \"text-align: left;\">0-15 Min</td><td style = \"text-align: right;\">false</td></tr><tr><td class = \"rowNumber\" style = \"font-weight: bold; text-align: right;\">62151</td><td style = \"text-align: left;\">2015-12-31</td><td style = \"text-align: left;\">16:38:00</td><td style = \"font-style: italic; text-align: right;\">missing</td><td style = \"text-align: left;\">F</td><td style = \"text-align: right;\">1988.0</td><td style = \"text-align: right;\">27.0</td><td style = \"text-align: left;\">White</td><td style = \"text-align: left;\">Speeding</td><td style = \"text-align: left;\">Speeding</td><td style = \"text-align: right;\">false</td><td style = \"font-style: italic; text-align: left;\">missing</td><td style = \"text-align: left;\">Citation</td><td style = \"text-align: right;\">false</td><td style = \"text-align: left;\">0-15 Min</td><td style = \"text-align: right;\">false</td></tr><tr><td class = \"rowNumber\" style = \"font-weight: bold; text-align: right;\">62152</td><td style = \"text-align: left;\">2015-12-31</td><td style = \"text-align: left;\">19:44:00</td><td style = \"font-style: italic; text-align: right;\">missing</td><td style = \"text-align: left;\">F</td><td style = \"text-align: right;\">1969.0</td><td style = \"text-align: right;\">46.0</td><td style = \"text-align: left;\">White</td><td style = \"text-align: left;\">Speeding</td><td style = \"text-align: left;\">Speeding</td><td style = \"text-align: right;\">false</td><td style = \"font-style: italic; text-align: left;\">missing</td><td style = \"text-align: left;\">Warning</td><td style = \"text-align: right;\">false</td><td style = \"text-align: left;\">0-15 Min</td><td style = \"text-align: right;\">false</td></tr><tr><td class = \"rowNumber\" style = \"font-weight: bold; text-align: right;\">62153</td><td style = \"text-align: left;\">2015-12-31</td><td style = \"text-align: left;\">19:55:00</td><td style = \"font-style: italic; text-align: right;\">missing</td><td style = \"text-align: left;\">F</td><td style = \"text-align: right;\">1974.0</td><td style = \"text-align: right;\">41.0</td><td style = \"text-align: left;\">White</td><td style = \"text-align: left;\">Registration Violation</td><td style = \"text-align: left;\">Registration/plates</td><td style = \"text-align: right;\">false</td><td style = \"text-align: left;\">missing</td><td style = \"text-align: left;\">Citation</td><td style = \"text-align: right;\">false</td><td style = \"text-align: left;\">0-15 Min</td><td style = \"text-align: right;\">false</td></tr><tr><td class = \"rowNumber\" style = \"font-weight: bold; text-align: right;\">62154</td><td style = \"text-align: left;\">2015-12-31</td><td style = \"text-align: left;\">20:20:00</td><td style = \"font-style: italic; text-align: right;\">missing</td><td style = \"text-align: left;\">M</td><td style = \"text-align: right;\">1993.0</td><td style = \"text-align: right;\">22.0</td><td style = \"text-align: left;\">White</td><td style = \"text-align: left;\">Speeding</td><td style = \"text-align: left;\">Speeding</td><td style = \"text-align: right;\">false</td><td style = \"font-style: italic; text-align: left;\">missing</td><td style = \"text-align: left;\">Citation</td><td style = \"text-align: right;\">false</td><td style = \"text-align: left;\">0-15 Min</td><td style = \"text-align: right;\">false</td></tr><tr><td class = \"rowNumber\" style = \"font-weight: bold; text-align: right;\">62155</td><td style = \"text-align: left;\">2015-12-31</td><td style = \"text-align: left;\">20:27:00</td><td style = \"font-style: italic; text-align: right;\">missing</td><td style = \"text-align: left;\">M</td><td style = \"text-align: right;\">1986.0</td><td style = \"text-align: right;\">29.0</td><td style = \"text-align: left;\">White</td><td style = \"text-align: left;\">Speeding</td><td style = \"text-align: left;\">Speeding</td><td style = \"text-align: right;\">false</td><td style = \"font-style: italic; text-align: left;\">missing</td><td style = \"text-align: left;\">Warning</td><td style = \"text-align: right;\">false</td><td style = \"text-align: left;\">0-15 Min</td><td style = \"text-align: right;\">false</td></tr><tr><td class = \"rowNumber\" style = \"font-weight: bold; text-align: right;\">62156</td><td style = \"text-align: left;\">2015-12-31</td><td style = \"text-align: left;\">20:35:00</td><td style = \"font-style: italic; text-align: right;\">missing</td><td style = \"text-align: left;\">F</td><td style = \"text-align: right;\">1982.0</td><td style = \"text-align: right;\">33.0</td><td style = \"text-align: left;\">White</td><td style = \"text-align: left;\">Equipment/Inspection Violation</td><td style = \"text-align: left;\">Equipment</td><td style = \"text-align: right;\">false</td><td style = \"font-style: italic; text-align: left;\">missing</td><td style = \"text-align: left;\">Warning</td><td style = \"text-align: right;\">false</td><td style = \"text-align: left;\">0-15 Min</td><td style = \"text-align: right;\">false</td></tr><tr><td class = \"rowNumber\" style = \"font-weight: bold; text-align: right;\">62157</td><td style = \"text-align: left;\">2015-12-31</td><td style = \"text-align: left;\">20:45:00</td><td style = \"font-style: italic; text-align: right;\">missing</td><td style = \"text-align: left;\">M</td><td style = \"text-align: right;\">1992.0</td><td style = \"text-align: right;\">23.0</td><td style = \"text-align: left;\">White</td><td style = \"text-align: left;\">Other Traffic Violation</td><td style = \"text-align: left;\">Moving violation</td><td style = \"text-align: right;\">false</td><td style = \"font-style: italic; text-align: left;\">missing</td><td style = \"text-align: left;\">Warning</td><td style = \"text-align: right;\">false</td><td style = \"text-align: left;\">0-15 Min</td><td style = \"text-align: right;\">false</td></tr><tr><td class = \"rowNumber\" style = \"font-weight: bold; text-align: right;\">62158</td><td style = \"text-align: left;\">2015-12-31</td><td style = \"text-align: left;\">21:42:00</td><td style = \"font-style: italic; text-align: right;\">missing</td><td style = \"text-align: left;\">M</td><td style = \"text-align: right;\">1993.0</td><td style = \"text-align: right;\">22.0</td><td style = \"text-align: left;\">White</td><td style = \"text-align: left;\">Speeding</td><td style = \"text-align: left;\">Speeding</td><td style = \"text-align: right;\">false</td><td style = \"font-style: italic; text-align: left;\">missing</td><td style = \"text-align: left;\">Citation</td><td style = \"text-align: right;\">false</td><td style = \"text-align: left;\">0-15 Min</td><td style = \"text-align: right;\">false</td></tr></tbody></table></div><p>&vellip;</p><div><div style = \"float: left;\"><span>Last Group (240 rows): driver_race = &quot;Other&quot;</span></div><div style = \"float: right;\"><span style = \"font-style: italic;\">215 rows omitted</span></div><div style = \"clear: both;\"></div></div><div class = \"data-frame\" style = \"overflow-x: scroll;\"><table class = \"data-frame\" style = \"margin-bottom: 6px;\"><thead><tr class = \"header\"><th class = \"rowNumber\" style = \"font-weight: bold; text-align: right;\">Row</th><th style = \"text-align: left;\">stop_date</th><th style = \"text-align: left;\">stop_time</th><th style = \"text-align: left;\">county_name</th><th style = \"text-align: left;\">driver_gender</th><th style = \"text-align: left;\">driver_age_raw</th><th style = \"text-align: left;\">driver_age</th><th style = \"text-align: left;\">driver_race</th><th style = \"text-align: left;\">violation_raw</th><th style = \"text-align: left;\">violation</th><th style = \"text-align: left;\">search_conducted</th><th style = \"text-align: left;\">search_type</th><th style = \"text-align: left;\">stop_outcome</th><th style = \"text-align: left;\">is_arrested</th><th style = \"text-align: left;\">stop_duration</th><th style = \"text-align: left;\">drugs_related_stop</th></tr><tr class = \"subheader headerLastRow\"><th class = \"rowNumber\" style = \"font-weight: bold; text-align: right;\"></th><th title = \"Date\" style = \"text-align: left;\">Date</th><th title = \"Time\" style = \"text-align: left;\">Time</th><th title = \"Missing\" style = \"text-align: left;\">Missing</th><th title = \"Union{Missing, String1}\" style = \"text-align: left;\">String1?</th><th title = \"Union{Missing, Float64}\" style = \"text-align: left;\">Float64?</th><th title = \"Union{Missing, Float64}\" style = \"text-align: left;\">Float64?</th><th title = \"Union{Missing, String15}\" style = \"text-align: left;\">String15?</th><th title = \"Union{Missing, String}\" style = \"text-align: left;\">String?</th><th title = \"Union{Missing, String31}\" style = \"text-align: left;\">String31?</th><th title = \"Bool\" style = \"text-align: left;\">Bool</th><th title = \"Union{Missing, String}\" style = \"text-align: left;\">String?</th><th title = \"Union{Missing, String31}\" style = \"text-align: left;\">String31?</th><th title = \"Union{Missing, Bool}\" style = \"text-align: left;\">Bool?</th><th title = \"Union{Missing, String15}\" style = \"text-align: left;\">String15?</th><th title = \"Bool\" style = \"text-align: left;\">Bool</th></tr></thead><tbody><tr><td class = \"rowNumber\" style = \"font-weight: bold; text-align: right;\">1</td><td style = \"text-align: left;\">2005-10-04</td><td style = \"text-align: left;\">14:12:00</td><td style = \"font-style: italic; text-align: right;\">missing</td><td style = \"text-align: left;\">M</td><td style = \"text-align: right;\">1976.0</td><td style = \"text-align: right;\">29.0</td><td style = \"text-align: left;\">Other</td><td style = \"text-align: left;\">Speeding</td><td style = \"text-align: left;\">Speeding</td><td style = \"text-align: right;\">false</td><td style = \"font-style: italic; text-align: left;\">missing</td><td style = \"text-align: left;\">Citation</td><td style = \"text-align: right;\">false</td><td style = \"text-align: left;\">0-15 Min</td><td style = \"text-align: right;\">false</td></tr><tr><td class = \"rowNumber\" style = \"font-weight: bold; text-align: right;\">2</td><td style = \"text-align: left;\">2005-10-06</td><td style = \"text-align: left;\">11:53:00</td><td style = \"font-style: italic; text-align: right;\">missing</td><td style = \"text-align: left;\">M</td><td style = \"text-align: right;\">1980.0</td><td style = \"text-align: right;\">25.0</td><td style = \"text-align: left;\">Other</td><td style = \"text-align: left;\">Other Traffic Violation</td><td style = \"text-align: left;\">Moving violation</td><td style = \"text-align: right;\">false</td><td style = \"font-style: italic; text-align: left;\">missing</td><td style = \"text-align: left;\">Citation</td><td style = \"text-align: right;\">false</td><td style = \"text-align: left;\">0-15 Min</td><td style = \"text-align: right;\">false</td></tr><tr><td class = \"rowNumber\" style = \"font-weight: bold; text-align: right;\">3</td><td style = \"text-align: left;\">2005-11-01</td><td style = \"text-align: left;\">18:09:00</td><td style = \"font-style: italic; text-align: right;\">missing</td><td style = \"text-align: left;\">M</td><td style = \"text-align: right;\">1964.0</td><td style = \"text-align: right;\">41.0</td><td style = \"text-align: left;\">Other</td><td style = \"text-align: left;\">Other Traffic Violation</td><td style = \"text-align: left;\">Moving violation</td><td style = \"text-align: right;\">false</td><td style = \"font-style: italic; text-align: left;\">missing</td><td style = \"text-align: left;\">Citation</td><td style = \"text-align: right;\">false</td><td style = \"text-align: left;\">16-30 Min</td><td style = \"text-align: right;\">false</td></tr><tr><td class = \"rowNumber\" style = \"font-weight: bold; text-align: right;\">4</td><td style = \"text-align: left;\">2005-11-05</td><td style = \"text-align: left;\">10:05:00</td><td style = \"font-style: italic; text-align: right;\">missing</td><td style = \"text-align: left;\">M</td><td style = \"text-align: right;\">1975.0</td><td style = \"text-align: right;\">30.0</td><td style = \"text-align: left;\">Other</td><td style = \"text-align: left;\">Speeding</td><td style = \"text-align: left;\">Speeding</td><td style = \"text-align: right;\">false</td><td style = \"font-style: italic; text-align: left;\">missing</td><td style = \"text-align: left;\">Citation</td><td style = \"text-align: right;\">false</td><td style = \"text-align: left;\">0-15 Min</td><td style = \"text-align: right;\">false</td></tr><tr><td class = \"rowNumber\" style = \"font-weight: bold; text-align: right;\">5</td><td style = \"text-align: left;\">2005-11-19</td><td style = \"text-align: left;\">08:10:00</td><td style = \"font-style: italic; text-align: right;\">missing</td><td style = \"text-align: left;\">M</td><td style = \"text-align: right;\">1986.0</td><td style = \"text-align: right;\">19.0</td><td style = \"text-align: left;\">Other</td><td style = \"text-align: left;\">Speeding</td><td style = \"text-align: left;\">Speeding</td><td style = \"text-align: right;\">false</td><td style = \"font-style: italic; text-align: left;\">missing</td><td style = \"text-align: left;\">Citation</td><td style = \"text-align: right;\">false</td><td style = \"text-align: left;\">16-30 Min</td><td style = \"text-align: right;\">false</td></tr><tr><td class = \"rowNumber\" style = \"font-weight: bold; text-align: right;\">6</td><td style = \"text-align: left;\">2005-11-23</td><td style = \"text-align: left;\">07:05:00</td><td style = \"font-style: italic; text-align: right;\">missing</td><td style = \"text-align: left;\">M</td><td style = \"text-align: right;\">1980.0</td><td style = \"text-align: right;\">25.0</td><td style = \"text-align: left;\">Other</td><td style = \"text-align: left;\">Speeding</td><td style = \"text-align: left;\">Speeding</td><td style = \"text-align: right;\">false</td><td style = \"font-style: italic; text-align: left;\">missing</td><td style = \"text-align: left;\">Citation</td><td style = \"text-align: right;\">false</td><td style = \"text-align: left;\">0-15 Min</td><td style = \"text-align: right;\">false</td></tr><tr><td class = \"rowNumber\" style = \"font-weight: bold; text-align: right;\">7</td><td style = \"text-align: left;\">2005-12-02</td><td style = \"text-align: left;\">20:45:00</td><td style = \"font-style: italic; text-align: right;\">missing</td><td style = \"text-align: left;\">M</td><td style = \"text-align: right;\">1980.0</td><td style = \"text-align: right;\">25.0</td><td style = \"text-align: left;\">Other</td><td style = \"text-align: left;\">Speeding</td><td style = \"text-align: left;\">Speeding</td><td style = \"text-align: right;\">false</td><td style = \"font-style: italic; text-align: left;\">missing</td><td style = \"text-align: left;\">Citation</td><td style = \"text-align: right;\">false</td><td style = \"text-align: left;\">0-15 Min</td><td style = \"text-align: right;\">false</td></tr><tr><td class = \"rowNumber\" style = \"font-weight: bold; text-align: right;\">8</td><td style = \"text-align: left;\">2005-12-13</td><td style = \"text-align: left;\">09:45:00</td><td style = \"font-style: italic; text-align: right;\">missing</td><td style = \"text-align: left;\">M</td><td style = \"text-align: right;\">1985.0</td><td style = \"text-align: right;\">20.0</td><td style = \"text-align: left;\">Other</td><td style = \"text-align: left;\">Speeding</td><td style = \"text-align: left;\">Speeding</td><td style = \"text-align: right;\">false</td><td style = \"font-style: italic; text-align: left;\">missing</td><td style = \"text-align: left;\">Citation</td><td style = \"text-align: right;\">false</td><td style = \"text-align: left;\">0-15 Min</td><td style = \"text-align: right;\">false</td></tr><tr><td class = \"rowNumber\" style = \"font-weight: bold; text-align: right;\">9</td><td style = \"text-align: left;\">2005-12-17</td><td style = \"text-align: left;\">01:15:00</td><td style = \"font-style: italic; text-align: right;\">missing</td><td style = \"text-align: left;\">M</td><td style = \"text-align: right;\">1964.0</td><td style = \"text-align: right;\">41.0</td><td style = \"text-align: left;\">Other</td><td style = \"text-align: left;\">Speeding</td><td style = \"text-align: left;\">Speeding</td><td style = \"text-align: right;\">false</td><td style = \"font-style: italic; text-align: left;\">missing</td><td style = \"text-align: left;\">Citation</td><td style = \"text-align: right;\">false</td><td style = \"text-align: left;\">0-15 Min</td><td style = \"text-align: right;\">false</td></tr><tr><td class = \"rowNumber\" style = \"font-weight: bold; text-align: right;\">10</td><td style = \"text-align: left;\">2006-01-06</td><td style = \"text-align: left;\">09:20:00</td><td style = \"font-style: italic; text-align: right;\">missing</td><td style = \"text-align: left;\">M</td><td style = \"text-align: right;\">1982.0</td><td style = \"text-align: right;\">24.0</td><td style = \"text-align: left;\">Other</td><td style = \"text-align: left;\">Speeding</td><td style = \"text-align: left;\">Speeding</td><td style = \"text-align: right;\">false</td><td style = \"font-style: italic; text-align: left;\">missing</td><td style = \"text-align: left;\">Citation</td><td style = \"text-align: right;\">false</td><td style = \"text-align: left;\">0-15 Min</td><td style = \"text-align: right;\">false</td></tr><tr><td class = \"rowNumber\" style = \"font-weight: bold; text-align: right;\">11</td><td style = \"text-align: left;\">2006-01-10</td><td style = \"text-align: left;\">21:10:00</td><td style = \"font-style: italic; text-align: right;\">missing</td><td style = \"text-align: left;\">M</td><td style = \"text-align: right;\">1983.0</td><td style = \"text-align: right;\">23.0</td><td style = \"text-align: left;\">Other</td><td style = \"text-align: left;\">Speeding</td><td style = \"text-align: left;\">Speeding</td><td style = \"text-align: right;\">false</td><td style = \"font-style: italic; text-align: left;\">missing</td><td style = \"text-align: left;\">Citation</td><td style = \"text-align: right;\">false</td><td style = \"text-align: left;\">16-30 Min</td><td style = \"text-align: right;\">false</td></tr><tr><td class = \"rowNumber\" style = \"font-weight: bold; text-align: right;\">12</td><td style = \"text-align: left;\">2006-01-12</td><td style = \"text-align: left;\">08:40:00</td><td style = \"font-style: italic; text-align: right;\">missing</td><td style = \"text-align: left;\">M</td><td style = \"text-align: right;\">1981.0</td><td style = \"text-align: right;\">25.0</td><td style = \"text-align: left;\">Other</td><td style = \"text-align: left;\">Other Traffic Violation</td><td style = \"text-align: left;\">Moving violation</td><td style = \"text-align: right;\">false</td><td style = \"font-style: italic; text-align: left;\">missing</td><td style = \"text-align: left;\">Citation</td><td style = \"text-align: right;\">false</td><td style = \"text-align: left;\">0-15 Min</td><td style = \"text-align: right;\">false</td></tr><tr><td class = \"rowNumber\" style = \"font-weight: bold; text-align: right;\">13</td><td style = \"text-align: left;\">2006-01-19</td><td style = \"text-align: left;\">20:29:00</td><td style = \"font-style: italic; text-align: right;\">missing</td><td style = \"text-align: left;\">M</td><td style = \"text-align: right;\">1982.0</td><td style = \"text-align: right;\">24.0</td><td style = \"text-align: left;\">Other</td><td style = \"text-align: left;\">Speeding</td><td style = \"text-align: left;\">Speeding</td><td style = \"text-align: right;\">false</td><td style = \"font-style: italic; text-align: left;\">missing</td><td style = \"text-align: left;\">Citation</td><td style = \"text-align: right;\">false</td><td style = \"text-align: left;\">0-15 Min</td><td style = \"text-align: right;\">false</td></tr><tr><td style = \"text-align: right;\">&vellip;</td><td style = \"text-align: right;\">&vellip;</td><td style = \"text-align: right;\">&vellip;</td><td style = \"text-align: right;\">&vellip;</td><td style = \"text-align: right;\">&vellip;</td><td style = \"text-align: right;\">&vellip;</td><td style = \"text-align: right;\">&vellip;</td><td style = \"text-align: right;\">&vellip;</td><td style = \"text-align: right;\">&vellip;</td><td style = \"text-align: right;\">&vellip;</td><td style = \"text-align: right;\">&vellip;</td><td style = \"text-align: right;\">&vellip;</td><td style = \"text-align: right;\">&vellip;</td><td style = \"text-align: right;\">&vellip;</td><td style = \"text-align: right;\">&vellip;</td><td style = \"text-align: right;\">&vellip;</td></tr><tr><td class = \"rowNumber\" style = \"font-weight: bold; text-align: right;\">229</td><td style = \"text-align: left;\">2014-07-09</td><td style = \"text-align: left;\">00:06:00</td><td style = \"font-style: italic; text-align: right;\">missing</td><td style = \"text-align: left;\">M</td><td style = \"text-align: right;\">1980.0</td><td style = \"text-align: right;\">34.0</td><td style = \"text-align: left;\">Other</td><td style = \"text-align: left;\">Speeding</td><td style = \"text-align: left;\">Speeding</td><td style = \"text-align: right;\">false</td><td style = \"font-style: italic; text-align: left;\">missing</td><td style = \"text-align: left;\">Citation</td><td style = \"text-align: right;\">false</td><td style = \"text-align: left;\">16-30 Min</td><td style = \"text-align: right;\">false</td></tr><tr><td class = \"rowNumber\" style = \"font-weight: bold; text-align: right;\">230</td><td style = \"text-align: left;\">2014-07-29</td><td style = \"text-align: left;\">19:56:00</td><td style = \"font-style: italic; text-align: right;\">missing</td><td style = \"text-align: left;\">M</td><td style = \"text-align: right;\">1991.0</td><td style = \"text-align: right;\">23.0</td><td style = \"text-align: left;\">Other</td><td style = \"text-align: left;\">Seatbelt Violation</td><td style = \"text-align: left;\">Seat belt</td><td style = \"text-align: right;\">true</td><td style = \"font-style: italic; text-align: left;\">Probable Cause</td><td style = \"text-align: left;\">Citation</td><td style = \"text-align: right;\">false</td><td style = \"text-align: left;\">30+ Min</td><td style = \"text-align: right;\">true</td></tr><tr><td class = \"rowNumber\" style = \"font-weight: bold; text-align: right;\">231</td><td style = \"text-align: left;\">2014-08-05</td><td style = \"text-align: left;\">10:46:00</td><td style = \"font-style: italic; text-align: right;\">missing</td><td style = \"text-align: left;\">M</td><td style = \"text-align: right;\">1982.0</td><td style = \"text-align: right;\">32.0</td><td style = \"text-align: left;\">Other</td><td style = \"text-align: left;\">Speeding</td><td style = \"text-align: left;\">Speeding</td><td style = \"text-align: right;\">false</td><td style = \"font-style: italic; text-align: left;\">missing</td><td style = \"text-align: left;\">Citation</td><td style = \"text-align: right;\">false</td><td style = \"text-align: left;\">0-15 Min</td><td style = \"text-align: right;\">false</td></tr><tr><td class = \"rowNumber\" style = \"font-weight: bold; text-align: right;\">232</td><td style = \"text-align: left;\">2014-12-11</td><td style = \"text-align: left;\">19:32:00</td><td style = \"font-style: italic; text-align: right;\">missing</td><td style = \"text-align: left;\">F</td><td style = \"text-align: right;\">1994.0</td><td style = \"text-align: right;\">20.0</td><td style = \"text-align: left;\">Other</td><td style = \"text-align: left;\">Speeding</td><td style = \"text-align: left;\">Speeding</td><td style = \"text-align: right;\">false</td><td style = \"font-style: italic; text-align: left;\">missing</td><td style = \"text-align: left;\">Citation</td><td style = \"text-align: right;\">false</td><td style = \"text-align: left;\">0-15 Min</td><td style = \"text-align: right;\">false</td></tr><tr><td class = \"rowNumber\" style = \"font-weight: bold; text-align: right;\">233</td><td style = \"text-align: left;\">2014-12-30</td><td style = \"text-align: left;\">23:08:00</td><td style = \"font-style: italic; text-align: right;\">missing</td><td style = \"text-align: left;\">M</td><td style = \"text-align: right;\">1988.0</td><td style = \"text-align: right;\">26.0</td><td style = \"text-align: left;\">Other</td><td style = \"text-align: left;\">Equipment/Inspection Violation</td><td style = \"text-align: left;\">Equipment</td><td style = \"text-align: right;\">false</td><td style = \"font-style: italic; text-align: left;\">missing</td><td style = \"text-align: left;\">Citation</td><td style = \"text-align: right;\">false</td><td style = \"text-align: left;\">0-15 Min</td><td style = \"text-align: right;\">false</td></tr><tr><td class = \"rowNumber\" style = \"font-weight: bold; text-align: right;\">234</td><td style = \"text-align: left;\">2015-03-11</td><td style = \"text-align: left;\">22:14:00</td><td style = \"font-style: italic; text-align: right;\">missing</td><td style = \"text-align: left;\">M</td><td style = \"text-align: right;\">1991.0</td><td style = \"text-align: right;\">24.0</td><td style = \"text-align: left;\">Other</td><td style = \"text-align: left;\">Speeding</td><td style = \"text-align: left;\">Speeding</td><td style = \"text-align: right;\">false</td><td style = \"font-style: italic; text-align: left;\">missing</td><td style = \"text-align: left;\">Citation</td><td style = \"text-align: right;\">false</td><td style = \"text-align: left;\">0-15 Min</td><td style = \"text-align: right;\">false</td></tr><tr><td class = \"rowNumber\" style = \"font-weight: bold; text-align: right;\">235</td><td style = \"text-align: left;\">2015-04-27</td><td style = \"text-align: left;\">06:42:00</td><td style = \"font-style: italic; text-align: right;\">missing</td><td style = \"text-align: left;\">M</td><td style = \"text-align: right;\">1981.0</td><td style = \"text-align: right;\">34.0</td><td style = \"text-align: left;\">Other</td><td style = \"text-align: left;\">Speeding</td><td style = \"text-align: left;\">Speeding</td><td style = \"text-align: right;\">false</td><td style = \"font-style: italic; text-align: left;\">missing</td><td style = \"text-align: left;\">Citation</td><td style = \"text-align: right;\">false</td><td style = \"text-align: left;\">0-15 Min</td><td style = \"text-align: right;\">false</td></tr><tr><td class = \"rowNumber\" style = \"font-weight: bold; text-align: right;\">236</td><td style = \"text-align: left;\">2015-06-24</td><td style = \"text-align: left;\">15:27:00</td><td style = \"font-style: italic; text-align: right;\">missing</td><td style = \"text-align: left;\">M</td><td style = \"text-align: right;\">1993.0</td><td style = \"text-align: right;\">22.0</td><td style = \"text-align: left;\">Other</td><td style = \"text-align: left;\">Speeding</td><td style = \"text-align: left;\">Speeding</td><td style = \"text-align: right;\">false</td><td style = \"font-style: italic; text-align: left;\">missing</td><td style = \"text-align: left;\">Citation</td><td style = \"text-align: right;\">false</td><td style = \"text-align: left;\">0-15 Min</td><td style = \"text-align: right;\">false</td></tr><tr><td class = \"rowNumber\" style = \"font-weight: bold; text-align: right;\">237</td><td style = \"text-align: left;\">2015-09-07</td><td style = \"text-align: left;\">09:45:00</td><td style = \"font-style: italic; text-align: right;\">missing</td><td style = \"text-align: left;\">M</td><td style = \"text-align: right;\">1980.0</td><td style = \"text-align: right;\">35.0</td><td style = \"text-align: left;\">Other</td><td style = \"text-align: left;\">Speeding</td><td style = \"text-align: left;\">Speeding</td><td style = \"text-align: right;\">false</td><td style = \"font-style: italic; text-align: left;\">missing</td><td style = \"text-align: left;\">Warning</td><td style = \"text-align: right;\">false</td><td style = \"text-align: left;\">0-15 Min</td><td style = \"text-align: right;\">false</td></tr><tr><td class = \"rowNumber\" style = \"font-weight: bold; text-align: right;\">238</td><td style = \"text-align: left;\">2015-09-12</td><td style = \"text-align: left;\">07:52:00</td><td style = \"font-style: italic; text-align: right;\">missing</td><td style = \"text-align: left;\">F</td><td style = \"text-align: right;\">1985.0</td><td style = \"text-align: right;\">30.0</td><td style = \"text-align: left;\">Other</td><td style = \"text-align: left;\">Speeding</td><td style = \"text-align: left;\">Speeding</td><td style = \"text-align: right;\">false</td><td style = \"font-style: italic; text-align: left;\">missing</td><td style = \"text-align: left;\">Citation</td><td style = \"text-align: right;\">false</td><td style = \"text-align: left;\">0-15 Min</td><td style = \"text-align: right;\">false</td></tr><tr><td class = \"rowNumber\" style = \"font-weight: bold; text-align: right;\">239</td><td style = \"text-align: left;\">2015-09-16</td><td style = \"text-align: left;\">14:20:00</td><td style = \"font-style: italic; text-align: right;\">missing</td><td style = \"text-align: left;\">M</td><td style = \"text-align: right;\">1974.0</td><td style = \"text-align: right;\">41.0</td><td style = \"text-align: left;\">Other</td><td style = \"text-align: left;\">Other Traffic Violation</td><td style = \"text-align: left;\">Moving violation</td><td style = \"text-align: right;\">true</td><td style = \"font-style: italic; text-align: left;\">Inventory</td><td style = \"text-align: left;\">Citation</td><td style = \"text-align: right;\">false</td><td style = \"text-align: left;\">30+ Min</td><td style = \"text-align: right;\">false</td></tr><tr><td class = \"rowNumber\" style = \"font-weight: bold; text-align: right;\">240</td><td style = \"text-align: left;\">2015-10-29</td><td style = \"text-align: left;\">11:08:00</td><td style = \"font-style: italic; text-align: right;\">missing</td><td style = \"text-align: left;\">M</td><td style = \"text-align: right;\">1984.0</td><td style = \"text-align: right;\">31.0</td><td style = \"text-align: left;\">Other</td><td style = \"text-align: left;\">Speeding</td><td style = \"text-align: left;\">Speeding</td><td style = \"text-align: right;\">false</td><td style = \"font-style: italic; text-align: left;\">missing</td><td style = \"text-align: left;\">Citation</td><td style = \"text-align: right;\">false</td><td style = \"text-align: left;\">0-15 Min</td><td style = \"text-align: right;\">false</td></tr></tbody></table></div>"
      ],
      "text/latex": [
       "GroupedDataFrame with 6 groups based on key: driver\\_race\n",
       "\n",
       "First Group (62158 rows): driver\\_race = \"White\"\n",
       "\n",
       "\\begin{tabular}{r|cccccccc}\n",
       "\t& stop\\_date & stop\\_time & county\\_name & driver\\_gender & driver\\_age\\_raw & driver\\_age & driver\\_race & \\\\\n",
       "\t\\hline\n",
       "\t& Date & Time & Missing & String1? & Float64? & Float64? & String15? & \\\\\n",
       "\t\\hline\n",
       "\t1 & 2005-01-02 & 01:55:00 & \\emph{missing} & M & 1985.0 & 20.0 & White & $\\dots$ \\\\\n",
       "\t2 & 2005-01-18 & 08:15:00 & \\emph{missing} & M & 1965.0 & 40.0 & White & $\\dots$ \\\\\n",
       "\t3 & 2005-01-23 & 23:15:00 & \\emph{missing} & M & 1972.0 & 33.0 & White & $\\dots$ \\\\\n",
       "\t4 & 2005-02-20 & 17:15:00 & \\emph{missing} & M & 1986.0 & 19.0 & White & $\\dots$ \\\\\n",
       "\t5 & 2005-03-14 & 10:00:00 & \\emph{missing} & F & 1984.0 & 21.0 & White & $\\dots$ \\\\\n",
       "\t6 & 2005-04-01 & 17:30:00 & \\emph{missing} & M & 1969.0 & 36.0 & White & $\\dots$ \\\\\n",
       "\t7 & 2005-06-06 & 13:20:00 & \\emph{missing} & F & 1986.0 & 19.0 & White & $\\dots$ \\\\\n",
       "\t8 & 2005-07-13 & 15:45:00 & \\emph{missing} & M & 1970.0 & 35.0 & White & $\\dots$ \\\\\n",
       "\t9 & 2005-07-13 & 19:00:00 & \\emph{missing} & F & 1966.0 & 39.0 & White & $\\dots$ \\\\\n",
       "\t10 & 2005-07-14 & 19:55:00 & \\emph{missing} & M & 1979.0 & 26.0 & White & $\\dots$ \\\\\n",
       "\t11 & 2005-07-18 & 19:30:00 & \\emph{missing} & F & 1984.0 & 21.0 & White & $\\dots$ \\\\\n",
       "\t12 & 2005-07-18 & 19:45:00 & \\emph{missing} & M & 1969.0 & 36.0 & White & $\\dots$ \\\\\n",
       "\t13 & 2005-07-19 & 00:30:00 & \\emph{missing} & M & 1982.0 & 23.0 & White & $\\dots$ \\\\\n",
       "\t14 & 2005-07-19 & 00:30:00 & \\emph{missing} & M & 1982.0 & 23.0 & White & $\\dots$ \\\\\n",
       "\t15 & 2005-07-19 & 23:30:00 & \\emph{missing} & M & 1979.0 & 26.0 & White & $\\dots$ \\\\\n",
       "\t16 & 2005-07-20 & 00:05:00 & \\emph{missing} & M & 1955.0 & 50.0 & White & $\\dots$ \\\\\n",
       "\t17 & 2005-07-24 & 20:10:00 & \\emph{missing} & F & 1958.0 & 47.0 & White & $\\dots$ \\\\\n",
       "\t18 & 2005-08-07 & 16:50:00 & \\emph{missing} & M & 1953.0 & 52.0 & White & $\\dots$ \\\\\n",
       "\t19 & 2005-08-18 & 10:57:00 & \\emph{missing} & F & 1967.0 & 38.0 & White & $\\dots$ \\\\\n",
       "\t20 & 2005-08-28 & 01:00:00 & \\emph{missing} & M & 1979.0 & 26.0 & White & $\\dots$ \\\\\n",
       "\t21 & 2005-09-17 & 10:54:00 & \\emph{missing} & M & 1964.0 & 41.0 & White & $\\dots$ \\\\\n",
       "\t22 & 2005-09-21 & 13:30:00 & \\emph{missing} & F & 1977.0 & 28.0 & White & $\\dots$ \\\\\n",
       "\t23 & 2005-09-22 & 22:34:00 & \\emph{missing} & M & 1984.0 & 21.0 & White & $\\dots$ \\\\\n",
       "\t24 & 2005-09-28 & 06:20:00 & \\emph{missing} & M & 1982.0 & 23.0 & White & $\\dots$ \\\\\n",
       "\t25 & 2005-09-28 & 07:15:00 & \\emph{missing} & M & 1973.0 & 32.0 & White & $\\dots$ \\\\\n",
       "\t26 & 2005-09-28 & 07:45:00 & \\emph{missing} & M & 1953.0 & 52.0 & White & $\\dots$ \\\\\n",
       "\t27 & 2005-09-29 & 23:45:00 & \\emph{missing} & M & 1947.0 & 58.0 & White & $\\dots$ \\\\\n",
       "\t28 & 2005-09-30 & 00:15:00 & \\emph{missing} & M & 1978.0 & 27.0 & White & $\\dots$ \\\\\n",
       "\t29 & 2005-09-30 & 09:30:00 & \\emph{missing} & F & 1986.0 & 19.0 & White & $\\dots$ \\\\\n",
       "\t30 & 2005-09-30 & 19:25:00 & \\emph{missing} & M & 1981.0 & 24.0 & White & $\\dots$ \\\\\n",
       "\t$\\dots$ & $\\dots$ & $\\dots$ & $\\dots$ & $\\dots$ & $\\dots$ & $\\dots$ & $\\dots$ &  \\\\\n",
       "\\end{tabular}\n",
       "\n",
       "$\\dots$\n",
       "\n",
       "Last Group (240 rows): driver\\_race = \"Other\"\n",
       "\n",
       "\\begin{tabular}{r|cccccccc}\n",
       "\t& stop\\_date & stop\\_time & county\\_name & driver\\_gender & driver\\_age\\_raw & driver\\_age & driver\\_race & \\\\\n",
       "\t\\hline\n",
       "\t& Date & Time & Missing & String1? & Float64? & Float64? & String15? & \\\\\n",
       "\t\\hline\n",
       "\t1 & 2005-10-04 & 14:12:00 & \\emph{missing} & M & 1976.0 & 29.0 & Other & $\\dots$ \\\\\n",
       "\t2 & 2005-10-06 & 11:53:00 & \\emph{missing} & M & 1980.0 & 25.0 & Other & $\\dots$ \\\\\n",
       "\t3 & 2005-11-01 & 18:09:00 & \\emph{missing} & M & 1964.0 & 41.0 & Other & $\\dots$ \\\\\n",
       "\t4 & 2005-11-05 & 10:05:00 & \\emph{missing} & M & 1975.0 & 30.0 & Other & $\\dots$ \\\\\n",
       "\t5 & 2005-11-19 & 08:10:00 & \\emph{missing} & M & 1986.0 & 19.0 & Other & $\\dots$ \\\\\n",
       "\t6 & 2005-11-23 & 07:05:00 & \\emph{missing} & M & 1980.0 & 25.0 & Other & $\\dots$ \\\\\n",
       "\t7 & 2005-12-02 & 20:45:00 & \\emph{missing} & M & 1980.0 & 25.0 & Other & $\\dots$ \\\\\n",
       "\t8 & 2005-12-13 & 09:45:00 & \\emph{missing} & M & 1985.0 & 20.0 & Other & $\\dots$ \\\\\n",
       "\t9 & 2005-12-17 & 01:15:00 & \\emph{missing} & M & 1964.0 & 41.0 & Other & $\\dots$ \\\\\n",
       "\t10 & 2006-01-06 & 09:20:00 & \\emph{missing} & M & 1982.0 & 24.0 & Other & $\\dots$ \\\\\n",
       "\t11 & 2006-01-10 & 21:10:00 & \\emph{missing} & M & 1983.0 & 23.0 & Other & $\\dots$ \\\\\n",
       "\t12 & 2006-01-12 & 08:40:00 & \\emph{missing} & M & 1981.0 & 25.0 & Other & $\\dots$ \\\\\n",
       "\t13 & 2006-01-19 & 20:29:00 & \\emph{missing} & M & 1982.0 & 24.0 & Other & $\\dots$ \\\\\n",
       "\t14 & 2006-02-26 & 03:45:00 & \\emph{missing} & M & 1981.0 & 25.0 & Other & $\\dots$ \\\\\n",
       "\t15 & 2006-02-28 & 15:00:00 & \\emph{missing} & M & 1966.0 & 40.0 & Other & $\\dots$ \\\\\n",
       "\t16 & 2006-03-17 & 14:23:00 & \\emph{missing} & F & 1979.0 & 27.0 & Other & $\\dots$ \\\\\n",
       "\t17 & 2006-03-18 & 16:00:00 & \\emph{missing} & M & 1976.0 & 30.0 & Other & $\\dots$ \\\\\n",
       "\t18 & 2006-03-29 & 10:56:00 & \\emph{missing} & M & 1975.0 & 31.0 & Other & $\\dots$ \\\\\n",
       "\t19 & 2006-04-15 & 16:20:00 & \\emph{missing} & M & 1967.0 & 39.0 & Other & $\\dots$ \\\\\n",
       "\t20 & 2006-05-04 & 22:40:00 & \\emph{missing} & M & 1985.0 & 21.0 & Other & $\\dots$ \\\\\n",
       "\t21 & 2006-05-07 & 09:20:00 & \\emph{missing} & M & 1967.0 & 39.0 & Other & $\\dots$ \\\\\n",
       "\t22 & 2006-06-19 & 01:29:00 & \\emph{missing} & M & 1975.0 & 31.0 & Other & $\\dots$ \\\\\n",
       "\t23 & 2006-07-07 & 16:30:00 & \\emph{missing} & M & 1969.0 & 37.0 & Other & $\\dots$ \\\\\n",
       "\t24 & 2006-07-07 & 21:00:00 & \\emph{missing} & M & 1964.0 & 42.0 & Other & $\\dots$ \\\\\n",
       "\t25 & 2006-07-08 & 07:27:00 & \\emph{missing} & M & 1982.0 & 24.0 & Other & $\\dots$ \\\\\n",
       "\t26 & 2006-07-26 & 23:10:00 & \\emph{missing} & M & 1959.0 & 47.0 & Other & $\\dots$ \\\\\n",
       "\t27 & 2006-08-28 & 15:10:00 & \\emph{missing} & M & 1988.0 & 18.0 & Other & $\\dots$ \\\\\n",
       "\t28 & 2006-09-07 & 08:50:00 & \\emph{missing} & M & 1986.0 & 20.0 & Other & $\\dots$ \\\\\n",
       "\t29 & 2006-10-07 & 11:10:00 & \\emph{missing} & F & 1983.0 & 23.0 & Other & $\\dots$ \\\\\n",
       "\t30 & 2006-10-21 & 14:40:00 & \\emph{missing} & F & 1983.0 & 23.0 & Other & $\\dots$ \\\\\n",
       "\t$\\dots$ & $\\dots$ & $\\dots$ & $\\dots$ & $\\dots$ & $\\dots$ & $\\dots$ & $\\dots$ &  \\\\\n",
       "\\end{tabular}\n"
      ],
      "text/plain": [
       "GroupedDataFrame with 6 groups based on key: driver_race\n",
       "First Group (62158 rows): driver_race = \"White\"\n",
       "\u001b[1m   Row \u001b[0m│\u001b[1m stop_date  \u001b[0m\u001b[1m stop_time \u001b[0m\u001b[1m county_name \u001b[0m\u001b[1m driver_gender \u001b[0m\u001b[1m driver_age_raw \u001b[0m\u001b[1m dr\u001b[0m ⋯\n",
       "       │\u001b[90m Date       \u001b[0m\u001b[90m Time      \u001b[0m\u001b[90m Missing     \u001b[0m\u001b[90m String1?      \u001b[0m\u001b[90m Float64?       \u001b[0m\u001b[90m Fl\u001b[0m ⋯\n",
       "───────┼────────────────────────────────────────────────────────────────────────\n",
       "     1 │ 2005-01-02  01:55:00  \u001b[90m     missing \u001b[0m M                      1985.0     ⋯\n",
       "     2 │ 2005-01-18  08:15:00  \u001b[90m     missing \u001b[0m M                      1965.0\n",
       "     3 │ 2005-01-23  23:15:00  \u001b[90m     missing \u001b[0m M                      1972.0\n",
       "     4 │ 2005-02-20  17:15:00  \u001b[90m     missing \u001b[0m M                      1986.0\n",
       "   ⋮   │     ⋮           ⋮           ⋮             ⋮              ⋮            ⋱\n",
       " 62156 │ 2015-12-31  20:35:00  \u001b[90m     missing \u001b[0m F                      1982.0     ⋯\n",
       " 62157 │ 2015-12-31  20:45:00  \u001b[90m     missing \u001b[0m M                      1992.0\n",
       " 62158 │ 2015-12-31  21:42:00  \u001b[90m     missing \u001b[0m M                      1993.0\n",
       "\u001b[36m                                               10 columns and 62151 rows omitted\u001b[0m\n",
       "⋮\n",
       "Last Group (240 rows): driver_race = \"Other\"\n",
       "\u001b[1m Row \u001b[0m│\u001b[1m stop_date  \u001b[0m\u001b[1m stop_time \u001b[0m\u001b[1m county_name \u001b[0m\u001b[1m driver_gender \u001b[0m\u001b[1m driver_age_raw \u001b[0m\u001b[1m driv\u001b[0m ⋯\n",
       "     │\u001b[90m Date       \u001b[0m\u001b[90m Time      \u001b[0m\u001b[90m Missing     \u001b[0m\u001b[90m String1?      \u001b[0m\u001b[90m Float64?       \u001b[0m\u001b[90m Floa\u001b[0m ⋯\n",
       "─────┼──────────────────────────────────────────────────────────────────────────\n",
       "   1 │ 2005-10-04  14:12:00  \u001b[90m     missing \u001b[0m M                      1976.0       ⋯\n",
       "   2 │ 2005-10-06  11:53:00  \u001b[90m     missing \u001b[0m M                      1980.0\n",
       "   3 │ 2005-11-01  18:09:00  \u001b[90m     missing \u001b[0m M                      1964.0\n",
       "  ⋮  │     ⋮           ⋮           ⋮             ⋮              ⋮              ⋱\n",
       " 238 │ 2015-09-12  07:52:00  \u001b[90m     missing \u001b[0m F                      1985.0\n",
       " 239 │ 2015-09-16  14:20:00  \u001b[90m     missing \u001b[0m M                      1974.0       ⋯\n",
       " 240 │ 2015-10-29  11:08:00  \u001b[90m     missing \u001b[0m M                      1984.0\n",
       "\u001b[36m                                                 10 columns and 234 rows omitted\u001b[0m"
      ]
     },
     "execution_count": 19,
     "metadata": {},
     "output_type": "execute_result"
    }
   ],
   "source": [
    "groupby(df, \"driver_race\")"
   ]
  },
  {
   "cell_type": "code",
   "execution_count": 20,
   "id": "3eb50a5f-673d-4a7d-bc90-a29ff7ee4f28",
   "metadata": {},
   "outputs": [
    {
     "data": {
      "text/html": [
       "<div><div style = \"float: left;\"><span>5×15 DataFrame</span></div><div style = \"clear: both;\"></div></div><div class = \"data-frame\" style = \"overflow-x: scroll;\"><table class = \"data-frame\" style = \"margin-bottom: 6px;\"><thead><tr class = \"header\"><th class = \"rowNumber\" style = \"font-weight: bold; text-align: right;\">Row</th><th style = \"text-align: left;\">stop_date</th><th style = \"text-align: left;\">stop_time</th><th style = \"text-align: left;\">county_name</th><th style = \"text-align: left;\">driver_gender</th><th style = \"text-align: left;\">driver_age_raw</th><th style = \"text-align: left;\">driver_age</th><th style = \"text-align: left;\">driver_race</th><th style = \"text-align: left;\">violation_raw</th><th style = \"text-align: left;\">violation</th><th style = \"text-align: left;\">search_conducted</th><th style = \"text-align: left;\">search_type</th><th style = \"text-align: left;\">stop_outcome</th><th style = \"text-align: left;\">is_arrested</th><th style = \"text-align: left;\">stop_duration</th><th style = \"text-align: left;\">drugs_related_stop</th></tr><tr class = \"subheader headerLastRow\"><th class = \"rowNumber\" style = \"font-weight: bold; text-align: right;\"></th><th title = \"Date\" style = \"text-align: left;\">Date</th><th title = \"Time\" style = \"text-align: left;\">Time</th><th title = \"Missing\" style = \"text-align: left;\">Missing</th><th title = \"Union{Missing, String1}\" style = \"text-align: left;\">String1?</th><th title = \"Union{Missing, Float64}\" style = \"text-align: left;\">Float64?</th><th title = \"Union{Missing, Float64}\" style = \"text-align: left;\">Float64?</th><th title = \"Union{Missing, String15}\" style = \"text-align: left;\">String15?</th><th title = \"Union{Missing, String}\" style = \"text-align: left;\">String?</th><th title = \"Union{Missing, String31}\" style = \"text-align: left;\">String31?</th><th title = \"Bool\" style = \"text-align: left;\">Bool</th><th title = \"Union{Missing, String}\" style = \"text-align: left;\">String?</th><th title = \"Union{Missing, String31}\" style = \"text-align: left;\">String31?</th><th title = \"Union{Missing, Bool}\" style = \"text-align: left;\">Bool?</th><th title = \"Union{Missing, String15}\" style = \"text-align: left;\">String15?</th><th title = \"Bool\" style = \"text-align: left;\">Bool</th></tr></thead><tbody><tr><td class = \"rowNumber\" style = \"font-weight: bold; text-align: right;\">1</td><td style = \"text-align: left;\">2005-07-13</td><td style = \"text-align: left;\">16:20:00</td><td style = \"font-style: italic; text-align: right;\">missing</td><td style = \"text-align: left;\">M</td><td style = \"text-align: right;\">1979.0</td><td style = \"text-align: right;\">26.0</td><td style = \"text-align: left;\">Asian</td><td style = \"text-align: left;\">Speeding</td><td style = \"text-align: left;\">Speeding</td><td style = \"text-align: right;\">false</td><td style = \"font-style: italic; text-align: left;\">missing</td><td style = \"text-align: left;\">Citation</td><td style = \"text-align: right;\">false</td><td style = \"text-align: left;\">0-15 Min</td><td style = \"text-align: right;\">false</td></tr><tr><td class = \"rowNumber\" style = \"font-weight: bold; text-align: right;\">2</td><td style = \"text-align: left;\">2005-07-28</td><td style = \"text-align: left;\">12:37:00</td><td style = \"font-style: italic; text-align: right;\">missing</td><td style = \"text-align: left;\">F</td><td style = \"text-align: right;\">1979.0</td><td style = \"text-align: right;\">26.0</td><td style = \"text-align: left;\">Asian</td><td style = \"text-align: left;\">Speeding</td><td style = \"text-align: left;\">Speeding</td><td style = \"text-align: right;\">false</td><td style = \"font-style: italic; text-align: left;\">missing</td><td style = \"text-align: left;\">Citation</td><td style = \"text-align: right;\">false</td><td style = \"text-align: left;\">0-15 Min</td><td style = \"text-align: right;\">false</td></tr><tr><td class = \"rowNumber\" style = \"font-weight: bold; text-align: right;\">3</td><td style = \"text-align: left;\">2005-09-30</td><td style = \"text-align: left;\">14:00:00</td><td style = \"font-style: italic; text-align: right;\">missing</td><td style = \"text-align: left;\">M</td><td style = \"text-align: right;\">1962.0</td><td style = \"text-align: right;\">43.0</td><td style = \"text-align: left;\">Asian</td><td style = \"text-align: left;\">Speeding</td><td style = \"text-align: left;\">Speeding</td><td style = \"text-align: right;\">false</td><td style = \"font-style: italic; text-align: left;\">missing</td><td style = \"text-align: left;\">Citation</td><td style = \"text-align: right;\">false</td><td style = \"text-align: left;\">0-15 Min</td><td style = \"text-align: right;\">false</td></tr><tr><td class = \"rowNumber\" style = \"font-weight: bold; text-align: right;\">4</td><td style = \"text-align: left;\">2005-10-01</td><td style = \"text-align: left;\">23:25:00</td><td style = \"font-style: italic; text-align: right;\">missing</td><td style = \"text-align: left;\">M</td><td style = \"text-align: right;\">1974.0</td><td style = \"text-align: right;\">31.0</td><td style = \"text-align: left;\">Asian</td><td style = \"text-align: left;\">Speeding</td><td style = \"text-align: left;\">Speeding</td><td style = \"text-align: right;\">false</td><td style = \"font-style: italic; text-align: left;\">missing</td><td style = \"text-align: left;\">Citation</td><td style = \"text-align: right;\">false</td><td style = \"text-align: left;\">16-30 Min</td><td style = \"text-align: right;\">false</td></tr><tr><td class = \"rowNumber\" style = \"font-weight: bold; text-align: right;\">5</td><td style = \"text-align: left;\">2005-10-03</td><td style = \"text-align: left;\">02:20:00</td><td style = \"font-style: italic; text-align: right;\">missing</td><td style = \"text-align: left;\">F</td><td style = \"text-align: right;\">1950.0</td><td style = \"text-align: right;\">55.0</td><td style = \"text-align: left;\">Asian</td><td style = \"text-align: left;\">Speeding</td><td style = \"text-align: left;\">Speeding</td><td style = \"text-align: right;\">false</td><td style = \"font-style: italic; text-align: left;\">missing</td><td style = \"text-align: left;\">Citation</td><td style = \"text-align: right;\">false</td><td style = \"text-align: left;\">0-15 Min</td><td style = \"text-align: right;\">false</td></tr></tbody></table></div>"
      ],
      "text/latex": [
       "\\begin{tabular}{r|cccccccc}\n",
       "\t& stop\\_date & stop\\_time & county\\_name & driver\\_gender & driver\\_age\\_raw & driver\\_age & driver\\_race & \\\\\n",
       "\t\\hline\n",
       "\t& Date & Time & Missing & String1? & Float64? & Float64? & String15? & \\\\\n",
       "\t\\hline\n",
       "\t1 & 2005-07-13 & 16:20:00 & \\emph{missing} & M & 1979.0 & 26.0 & Asian & $\\dots$ \\\\\n",
       "\t2 & 2005-07-28 & 12:37:00 & \\emph{missing} & F & 1979.0 & 26.0 & Asian & $\\dots$ \\\\\n",
       "\t3 & 2005-09-30 & 14:00:00 & \\emph{missing} & M & 1962.0 & 43.0 & Asian & $\\dots$ \\\\\n",
       "\t4 & 2005-10-01 & 23:25:00 & \\emph{missing} & M & 1974.0 & 31.0 & Asian & $\\dots$ \\\\\n",
       "\t5 & 2005-10-03 & 02:20:00 & \\emph{missing} & F & 1950.0 & 55.0 & Asian & $\\dots$ \\\\\n",
       "\\end{tabular}\n"
      ],
      "text/plain": [
       "\u001b[1m5×15 DataFrame\u001b[0m\n",
       "\u001b[1m Row \u001b[0m│\u001b[1m stop_date  \u001b[0m\u001b[1m stop_time \u001b[0m\u001b[1m county_name \u001b[0m\u001b[1m driver_gender \u001b[0m\u001b[1m driver_age_raw \u001b[0m\u001b[1m driv\u001b[0m ⋯\n",
       "     │\u001b[90m Date       \u001b[0m\u001b[90m Time      \u001b[0m\u001b[90m Missing     \u001b[0m\u001b[90m String1?      \u001b[0m\u001b[90m Float64?       \u001b[0m\u001b[90m Floa\u001b[0m ⋯\n",
       "─────┼──────────────────────────────────────────────────────────────────────────\n",
       "   1 │ 2005-07-13  16:20:00  \u001b[90m     missing \u001b[0m M                      1979.0       ⋯\n",
       "   2 │ 2005-07-28  12:37:00  \u001b[90m     missing \u001b[0m F                      1979.0\n",
       "   3 │ 2005-09-30  14:00:00  \u001b[90m     missing \u001b[0m M                      1962.0\n",
       "   4 │ 2005-10-01  23:25:00  \u001b[90m     missing \u001b[0m M                      1974.0\n",
       "   5 │ 2005-10-03  02:20:00  \u001b[90m     missing \u001b[0m F                      1950.0       ⋯\n",
       "\u001b[36m                                                              10 columns omitted\u001b[0m"
      ]
     },
     "execution_count": 20,
     "metadata": {},
     "output_type": "execute_result"
    }
   ],
   "source": [
    "dft = groupby(df, \"driver_race\")[(\"Asian\",)]\n",
    "first(dft, 5)"
   ]
  },
  {
   "cell_type": "code",
   "execution_count": 21,
   "id": "76b558a7-b7b7-45e5-922f-b5b92dd34679",
   "metadata": {},
   "outputs": [
    {
     "data": {
      "text/html": [
       "<div><div style = \"float: left;\"><span>5×3 DataFrame</span></div><div style = \"clear: both;\"></div></div><div class = \"data-frame\" style = \"overflow-x: scroll;\"><table class = \"data-frame\" style = \"margin-bottom: 6px;\"><thead><tr class = \"header\"><th class = \"rowNumber\" style = \"font-weight: bold; text-align: right;\">Row</th><th style = \"text-align: left;\">driver_race</th><th style = \"text-align: left;\">search_conducted_mean</th><th style = \"text-align: left;\">nrow</th></tr><tr class = \"subheader headerLastRow\"><th class = \"rowNumber\" style = \"font-weight: bold; text-align: right;\"></th><th title = \"Union{Missing, String15}\" style = \"text-align: left;\">String15?</th><th title = \"Float64\" style = \"text-align: left;\">Float64</th><th title = \"Int64\" style = \"text-align: left;\">Int64</th></tr></thead><tbody><tr><td class = \"rowNumber\" style = \"font-weight: bold; text-align: right;\">1</td><td style = \"text-align: left;\">White</td><td style = \"text-align: right;\">0.0284436</td><td style = \"text-align: right;\">62158</td></tr><tr><td class = \"rowNumber\" style = \"font-weight: bold; text-align: right;\">2</td><td style = \"text-align: left;\">Black</td><td style = \"text-align: right;\">0.0645214</td><td style = \"text-align: right;\">12244</td></tr><tr><td class = \"rowNumber\" style = \"font-weight: bold; text-align: right;\">3</td><td style = \"text-align: left;\">Asian</td><td style = \"text-align: right;\">0.0225764</td><td style = \"text-align: right;\">2259</td></tr><tr><td class = \"rowNumber\" style = \"font-weight: bold; text-align: right;\">4</td><td style = \"text-align: left;\">Hispanic</td><td style = \"text-align: right;\">0.0614284</td><td style = \"text-align: right;\">9507</td></tr><tr><td class = \"rowNumber\" style = \"font-weight: bold; text-align: right;\">5</td><td style = \"text-align: left;\">Other</td><td style = \"text-align: right;\">0.0125</td><td style = \"text-align: right;\">240</td></tr></tbody></table></div>"
      ],
      "text/latex": [
       "\\begin{tabular}{r|ccc}\n",
       "\t& driver\\_race & search\\_conducted\\_mean & nrow\\\\\n",
       "\t\\hline\n",
       "\t& String15? & Float64 & Int64\\\\\n",
       "\t\\hline\n",
       "\t1 & White & 0.0284436 & 62158 \\\\\n",
       "\t2 & Black & 0.0645214 & 12244 \\\\\n",
       "\t3 & Asian & 0.0225764 & 2259 \\\\\n",
       "\t4 & Hispanic & 0.0614284 & 9507 \\\\\n",
       "\t5 & Other & 0.0125 & 240 \\\\\n",
       "\\end{tabular}\n"
      ],
      "text/plain": [
       "\u001b[1m5×3 DataFrame\u001b[0m\n",
       "\u001b[1m Row \u001b[0m│\u001b[1m driver_race \u001b[0m\u001b[1m search_conducted_mean \u001b[0m\u001b[1m nrow  \u001b[0m\n",
       "     │\u001b[90m String15?   \u001b[0m\u001b[90m Float64               \u001b[0m\u001b[90m Int64 \u001b[0m\n",
       "─────┼───────────────────────────────────────────\n",
       "   1 │ White                    0.0284436  62158\n",
       "   2 │ Black                    0.0645214  12244\n",
       "   3 │ Asian                    0.0225764   2259\n",
       "   4 │ Hispanic                 0.0614284   9507\n",
       "   5 │ Other                    0.0125       240"
      ]
     },
     "execution_count": 21,
     "metadata": {},
     "output_type": "execute_result"
    }
   ],
   "source": [
    "df_grp = groupby(df, \"driver_race\", skipmissing=true)\n",
    "combine(df_grp, \"search_conducted\" => mean, nrow)"
   ]
  },
  {
   "cell_type": "code",
   "execution_count": 22,
   "id": "43734975-caae-4027-95e0-3dcb31f2f96c",
   "metadata": {},
   "outputs": [
    {
     "data": {
      "text/html": [
       "<div><div style = \"float: left;\"><span>5×3 DataFrame</span></div><div style = \"clear: both;\"></div></div><div class = \"data-frame\" style = \"overflow-x: scroll;\"><table class = \"data-frame\" style = \"margin-bottom: 6px;\"><thead><tr class = \"header\"><th class = \"rowNumber\" style = \"font-weight: bold; text-align: right;\">Row</th><th style = \"text-align: left;\">driver_race</th><th style = \"text-align: left;\">search_conducted_mean</th><th style = \"text-align: left;\">nrow</th></tr><tr class = \"subheader headerLastRow\"><th class = \"rowNumber\" style = \"font-weight: bold; text-align: right;\"></th><th title = \"Union{Missing, String15}\" style = \"text-align: left;\">String15?</th><th title = \"Float64\" style = \"text-align: left;\">Float64</th><th title = \"Int64\" style = \"text-align: left;\">Int64</th></tr></thead><tbody><tr><td class = \"rowNumber\" style = \"font-weight: bold; text-align: right;\">1</td><td style = \"text-align: left;\">White</td><td style = \"text-align: right;\">0.0284436</td><td style = \"text-align: right;\">62158</td></tr><tr><td class = \"rowNumber\" style = \"font-weight: bold; text-align: right;\">2</td><td style = \"text-align: left;\">Black</td><td style = \"text-align: right;\">0.0645214</td><td style = \"text-align: right;\">12244</td></tr><tr><td class = \"rowNumber\" style = \"font-weight: bold; text-align: right;\">3</td><td style = \"text-align: left;\">Asian</td><td style = \"text-align: right;\">0.0225764</td><td style = \"text-align: right;\">2259</td></tr><tr><td class = \"rowNumber\" style = \"font-weight: bold; text-align: right;\">4</td><td style = \"text-align: left;\">Hispanic</td><td style = \"text-align: right;\">0.0614284</td><td style = \"text-align: right;\">9507</td></tr><tr><td class = \"rowNumber\" style = \"font-weight: bold; text-align: right;\">5</td><td style = \"text-align: left;\">Other</td><td style = \"text-align: right;\">0.0125</td><td style = \"text-align: right;\">240</td></tr></tbody></table></div>"
      ],
      "text/latex": [
       "\\begin{tabular}{r|ccc}\n",
       "\t& driver\\_race & search\\_conducted\\_mean & nrow\\\\\n",
       "\t\\hline\n",
       "\t& String15? & Float64 & Int64\\\\\n",
       "\t\\hline\n",
       "\t1 & White & 0.0284436 & 62158 \\\\\n",
       "\t2 & Black & 0.0645214 & 12244 \\\\\n",
       "\t3 & Asian & 0.0225764 & 2259 \\\\\n",
       "\t4 & Hispanic & 0.0614284 & 9507 \\\\\n",
       "\t5 & Other & 0.0125 & 240 \\\\\n",
       "\\end{tabular}\n"
      ],
      "text/plain": [
       "\u001b[1m5×3 DataFrame\u001b[0m\n",
       "\u001b[1m Row \u001b[0m│\u001b[1m driver_race \u001b[0m\u001b[1m search_conducted_mean \u001b[0m\u001b[1m nrow  \u001b[0m\n",
       "     │\u001b[90m String15?   \u001b[0m\u001b[90m Float64               \u001b[0m\u001b[90m Int64 \u001b[0m\n",
       "─────┼───────────────────────────────────────────\n",
       "   1 │ White                    0.0284436  62158\n",
       "   2 │ Black                    0.0645214  12244\n",
       "   3 │ Asian                    0.0225764   2259\n",
       "   4 │ Hispanic                 0.0614284   9507\n",
       "   5 │ Other                    0.0125       240"
      ]
     },
     "execution_count": 22,
     "metadata": {},
     "output_type": "execute_result"
    }
   ],
   "source": [
    "@pipe groupby(df, \"driver_race\", skipmissing=true) |>\n",
    "      combine(_, \"search_conducted\" => mean, nrow)"
   ]
  },
  {
   "cell_type": "markdown",
   "id": "ce0fba15-8d5d-47d7-a98c-07801eb6221a",
   "metadata": {},
   "source": [
    "## Column modifications"
   ]
  },
  {
   "cell_type": "code",
   "execution_count": 23,
   "id": "ccead325-d283-4245-98a6-6e4e421f0b07",
   "metadata": {},
   "outputs": [
    {
     "data": {
      "text/plain": [
       "2-element Vector{Date}:\n",
       " 2005-01-02\n",
       " 2005-01-18"
      ]
     },
     "execution_count": 23,
     "metadata": {},
     "output_type": "execute_result"
    }
   ],
   "source": [
    "first(df.stop_date, 2)"
   ]
  },
  {
   "cell_type": "code",
   "execution_count": 24,
   "id": "ac46c8af-fb5a-49b2-bcb7-1d32ef63e902",
   "metadata": {},
   "outputs": [
    {
     "data": {
      "text/plain": [
       "2-element Vector{Date}:\n",
       " 2015-12-31\n",
       " 2015-12-31"
      ]
     },
     "execution_count": 24,
     "metadata": {},
     "output_type": "execute_result"
    }
   ],
   "source": [
    "last(df.stop_date, 2)"
   ]
  },
  {
   "cell_type": "code",
   "execution_count": 25,
   "id": "a4815dd8-6655-40a1-941f-b883895059c6",
   "metadata": {},
   "outputs": [
    {
     "data": {
      "text/plain": [
       "(\u001b[1m2×1 DataFrame\u001b[0m\n",
       "\u001b[1m Row \u001b[0m│\u001b[1m stop_date_year \u001b[0m\n",
       "     │\u001b[90m Int64          \u001b[0m\n",
       "─────┼────────────────\n",
       "   1 │           2005\n",
       "   2 │           2005, \u001b[1m2×1 DataFrame\u001b[0m\n",
       "\u001b[1m Row \u001b[0m│\u001b[1m stop_date_year \u001b[0m\n",
       "     │\u001b[90m Int64          \u001b[0m\n",
       "─────┼────────────────\n",
       "   1 │           2015\n",
       "   2 │           2015)"
      ]
     },
     "execution_count": 25,
     "metadata": {},
     "output_type": "execute_result"
    }
   ],
   "source": [
    "dft = select(df, :stop_date => ByRow(year))\n",
    "first(dft,2), last(dft, 2)"
   ]
  },
  {
   "cell_type": "markdown",
   "id": "55724d38-401c-4a02-afb4-4359c30be89d",
   "metadata": {},
   "source": [
    "Rename column"
   ]
  },
  {
   "cell_type": "code",
   "execution_count": 26,
   "id": "64614c68-907e-4467-9d5b-24c200a080ee",
   "metadata": {},
   "outputs": [
    {
     "data": {
      "text/html": [
       "<div><div style = \"float: left;\"><span>2×1 DataFrame</span></div><div style = \"clear: both;\"></div></div><div class = \"data-frame\" style = \"overflow-x: scroll;\"><table class = \"data-frame\" style = \"margin-bottom: 6px;\"><thead><tr class = \"header\"><th class = \"rowNumber\" style = \"font-weight: bold; text-align: right;\">Row</th><th style = \"text-align: left;\">year</th></tr><tr class = \"subheader headerLastRow\"><th class = \"rowNumber\" style = \"font-weight: bold; text-align: right;\"></th><th title = \"Int64\" style = \"text-align: left;\">Int64</th></tr></thead><tbody><tr><td class = \"rowNumber\" style = \"font-weight: bold; text-align: right;\">1</td><td style = \"text-align: right;\">2005</td></tr><tr><td class = \"rowNumber\" style = \"font-weight: bold; text-align: right;\">2</td><td style = \"text-align: right;\">2005</td></tr></tbody></table></div>"
      ],
      "text/latex": [
       "\\begin{tabular}{r|c}\n",
       "\t& year\\\\\n",
       "\t\\hline\n",
       "\t& Int64\\\\\n",
       "\t\\hline\n",
       "\t1 & 2005 \\\\\n",
       "\t2 & 2005 \\\\\n",
       "\\end{tabular}\n"
      ],
      "text/plain": [
       "\u001b[1m2×1 DataFrame\u001b[0m\n",
       "\u001b[1m Row \u001b[0m│\u001b[1m year  \u001b[0m\n",
       "     │\u001b[90m Int64 \u001b[0m\n",
       "─────┼───────\n",
       "   1 │  2005\n",
       "   2 │  2005"
      ]
     },
     "execution_count": 26,
     "metadata": {},
     "output_type": "execute_result"
    }
   ],
   "source": [
    "dft = select(df, :stop_date => ByRow(year) => :year)\n",
    "first(dft,2)"
   ]
  },
  {
   "cell_type": "markdown",
   "id": "cb3eef32-0e7a-4c7b-8e3d-3bc70eebd4c4",
   "metadata": {},
   "source": [
    "Complex transformation using everything seen till now"
   ]
  },
  {
   "cell_type": "code",
   "execution_count": 27,
   "id": "9d60dcbe-efdb-4be4-aa8a-e16780475ec6",
   "metadata": {},
   "outputs": [
    {
     "data": {
      "text/html": [
       "<div><div style = \"float: left;\"><span>11×3 DataFrame</span></div><div style = \"clear: both;\"></div></div><div class = \"data-frame\" style = \"overflow-x: scroll;\"><table class = \"data-frame\" style = \"margin-bottom: 6px;\"><thead><tr class = \"header\"><th class = \"rowNumber\" style = \"font-weight: bold; text-align: right;\">Row</th><th style = \"text-align: left;\">year</th><th style = \"text-align: left;\">search_conducted_sum</th><th style = \"text-align: left;\">count</th></tr><tr class = \"subheader headerLastRow\"><th class = \"rowNumber\" style = \"font-weight: bold; text-align: right;\"></th><th title = \"Int64\" style = \"text-align: left;\">Int64</th><th title = \"Int64\" style = \"text-align: left;\">Int64</th><th title = \"Int64\" style = \"text-align: left;\">Int64</th></tr></thead><tbody><tr><td class = \"rowNumber\" style = \"font-weight: bold; text-align: right;\">1</td><td style = \"text-align: right;\">2005</td><td style = \"text-align: right;\">128</td><td style = \"text-align: right;\">2558</td></tr><tr><td class = \"rowNumber\" style = \"font-weight: bold; text-align: right;\">2</td><td style = \"text-align: right;\">2006</td><td style = \"text-align: right;\">407</td><td style = \"text-align: right;\">10639</td></tr><tr><td class = \"rowNumber\" style = \"font-weight: bold; text-align: right;\">3</td><td style = \"text-align: right;\">2007</td><td style = \"text-align: right;\">364</td><td style = \"text-align: right;\">9476</td></tr><tr><td class = \"rowNumber\" style = \"font-weight: bold; text-align: right;\">4</td><td style = \"text-align: right;\">2008</td><td style = \"text-align: right;\">294</td><td style = \"text-align: right;\">8752</td></tr><tr><td class = \"rowNumber\" style = \"font-weight: bold; text-align: right;\">5</td><td style = \"text-align: right;\">2009</td><td style = \"text-align: right;\">381</td><td style = \"text-align: right;\">7908</td></tr><tr><td class = \"rowNumber\" style = \"font-weight: bold; text-align: right;\">6</td><td style = \"text-align: right;\">2010</td><td style = \"text-align: right;\">290</td><td style = \"text-align: right;\">7561</td></tr><tr><td class = \"rowNumber\" style = \"font-weight: bold; text-align: right;\">7</td><td style = \"text-align: right;\">2011</td><td style = \"text-align: right;\">276</td><td style = \"text-align: right;\">8126</td></tr><tr><td class = \"rowNumber\" style = \"font-weight: bold; text-align: right;\">8</td><td style = \"text-align: right;\">2012</td><td style = \"text-align: right;\">354</td><td style = \"text-align: right;\">10970</td></tr><tr><td class = \"rowNumber\" style = \"font-weight: bold; text-align: right;\">9</td><td style = \"text-align: right;\">2013</td><td style = \"text-align: right;\">205</td><td style = \"text-align: right;\">7924</td></tr><tr><td class = \"rowNumber\" style = \"font-weight: bold; text-align: right;\">10</td><td style = \"text-align: right;\">2014</td><td style = \"text-align: right;\">264</td><td style = \"text-align: right;\">9228</td></tr><tr><td class = \"rowNumber\" style = \"font-weight: bold; text-align: right;\">11</td><td style = \"text-align: right;\">2015</td><td style = \"text-align: right;\">233</td><td style = \"text-align: right;\">8599</td></tr></tbody></table></div>"
      ],
      "text/latex": [
       "\\begin{tabular}{r|ccc}\n",
       "\t& year & search\\_conducted\\_sum & count\\\\\n",
       "\t\\hline\n",
       "\t& Int64 & Int64 & Int64\\\\\n",
       "\t\\hline\n",
       "\t1 & 2005 & 128 & 2558 \\\\\n",
       "\t2 & 2006 & 407 & 10639 \\\\\n",
       "\t3 & 2007 & 364 & 9476 \\\\\n",
       "\t4 & 2008 & 294 & 8752 \\\\\n",
       "\t5 & 2009 & 381 & 7908 \\\\\n",
       "\t6 & 2010 & 290 & 7561 \\\\\n",
       "\t7 & 2011 & 276 & 8126 \\\\\n",
       "\t8 & 2012 & 354 & 10970 \\\\\n",
       "\t9 & 2013 & 205 & 7924 \\\\\n",
       "\t10 & 2014 & 264 & 9228 \\\\\n",
       "\t11 & 2015 & 233 & 8599 \\\\\n",
       "\\end{tabular}\n"
      ],
      "text/plain": [
       "\u001b[1m11×3 DataFrame\u001b[0m\n",
       "\u001b[1m Row \u001b[0m│\u001b[1m year  \u001b[0m\u001b[1m search_conducted_sum \u001b[0m\u001b[1m count \u001b[0m\n",
       "     │\u001b[90m Int64 \u001b[0m\u001b[90m Int64                \u001b[0m\u001b[90m Int64 \u001b[0m\n",
       "─────┼────────────────────────────────────\n",
       "   1 │  2005                   128   2558\n",
       "   2 │  2006                   407  10639\n",
       "   3 │  2007                   364   9476\n",
       "   4 │  2008                   294   8752\n",
       "   5 │  2009                   381   7908\n",
       "   6 │  2010                   290   7561\n",
       "   7 │  2011                   276   8126\n",
       "   8 │  2012                   354  10970\n",
       "   9 │  2013                   205   7924\n",
       "  10 │  2014                   264   9228\n",
       "  11 │  2015                   233   8599"
      ]
     },
     "execution_count": 27,
     "metadata": {},
     "output_type": "execute_result"
    }
   ],
   "source": [
    "dft = @pipe select(df, :stop_date => ByRow(year) => :year, :search_conducted ) |>\n",
    "            groupby(_, :year) |>\n",
    "            combine(_, \"search_conducted\" => sum, nrow => :count)"
   ]
  },
  {
   "cell_type": "markdown",
   "id": "b2a54118-efeb-4bda-9239-ce68922d7ab5",
   "metadata": {},
   "source": [
    "### transform"
   ]
  },
  {
   "cell_type": "code",
   "execution_count": 28,
   "id": "7139f231-018f-4fdf-bfd6-bded2fbd071b",
   "metadata": {},
   "outputs": [
    {
     "data": {
      "text/html": [
       "<div><div style = \"float: left;\"><span>5×2 DataFrame</span></div><div style = \"clear: both;\"></div></div><div class = \"data-frame\" style = \"overflow-x: scroll;\"><table class = \"data-frame\" style = \"margin-bottom: 6px;\"><thead><tr class = \"header\"><th class = \"rowNumber\" style = \"font-weight: bold; text-align: right;\">Row</th><th style = \"text-align: left;\">stop_time</th><th style = \"text-align: left;\">hour</th></tr><tr class = \"subheader headerLastRow\"><th class = \"rowNumber\" style = \"font-weight: bold; text-align: right;\"></th><th title = \"Time\" style = \"text-align: left;\">Time</th><th title = \"Int64\" style = \"text-align: left;\">Int64</th></tr></thead><tbody><tr><td class = \"rowNumber\" style = \"font-weight: bold; text-align: right;\">1</td><td style = \"text-align: left;\">01:55:00</td><td style = \"text-align: right;\">1</td></tr><tr><td class = \"rowNumber\" style = \"font-weight: bold; text-align: right;\">2</td><td style = \"text-align: left;\">08:15:00</td><td style = \"text-align: right;\">8</td></tr><tr><td class = \"rowNumber\" style = \"font-weight: bold; text-align: right;\">3</td><td style = \"text-align: left;\">23:15:00</td><td style = \"text-align: right;\">23</td></tr><tr><td class = \"rowNumber\" style = \"font-weight: bold; text-align: right;\">4</td><td style = \"text-align: left;\">17:15:00</td><td style = \"text-align: right;\">17</td></tr><tr><td class = \"rowNumber\" style = \"font-weight: bold; text-align: right;\">5</td><td style = \"text-align: left;\">10:00:00</td><td style = \"text-align: right;\">10</td></tr></tbody></table></div>"
      ],
      "text/latex": [
       "\\begin{tabular}{r|cc}\n",
       "\t& stop\\_time & hour\\\\\n",
       "\t\\hline\n",
       "\t& Time & Int64\\\\\n",
       "\t\\hline\n",
       "\t1 & 01:55:00 & 1 \\\\\n",
       "\t2 & 08:15:00 & 8 \\\\\n",
       "\t3 & 23:15:00 & 23 \\\\\n",
       "\t4 & 17:15:00 & 17 \\\\\n",
       "\t5 & 10:00:00 & 10 \\\\\n",
       "\\end{tabular}\n"
      ],
      "text/plain": [
       "\u001b[1m5×2 DataFrame\u001b[0m\n",
       "\u001b[1m Row \u001b[0m│\u001b[1m stop_time \u001b[0m\u001b[1m hour  \u001b[0m\n",
       "     │\u001b[90m Time      \u001b[0m\u001b[90m Int64 \u001b[0m\n",
       "─────┼──────────────────\n",
       "   1 │ 01:55:00       1\n",
       "   2 │ 08:15:00       8\n",
       "   3 │ 23:15:00      23\n",
       "   4 │ 17:15:00      17\n",
       "   5 │ 10:00:00      10"
      ]
     },
     "execution_count": 28,
     "metadata": {},
     "output_type": "execute_result"
    }
   ],
   "source": [
    "dft = transform(df, :stop_time => ByRow(hour) => :hour)\n",
    "\n",
    "first(dft[!, [:stop_time, :hour]], 5)"
   ]
  },
  {
   "cell_type": "code",
   "execution_count": 29,
   "id": "46851ec1-b177-4918-bcbf-44bd7cc6599f",
   "metadata": {},
   "outputs": [
    {
     "data": {
      "text/html": [
       "<div><div style = \"float: left;\"><span>5×2 DataFrame</span></div><div style = \"clear: both;\"></div></div><div class = \"data-frame\" style = \"overflow-x: scroll;\"><table class = \"data-frame\" style = \"margin-bottom: 6px;\"><thead><tr class = \"header\"><th class = \"rowNumber\" style = \"font-weight: bold; text-align: right;\">Row</th><th style = \"text-align: left;\">stop_time</th><th style = \"text-align: left;\">hour</th></tr><tr class = \"subheader headerLastRow\"><th class = \"rowNumber\" style = \"font-weight: bold; text-align: right;\"></th><th title = \"Time\" style = \"text-align: left;\">Time</th><th title = \"Int64\" style = \"text-align: left;\">Int64</th></tr></thead><tbody><tr><td class = \"rowNumber\" style = \"font-weight: bold; text-align: right;\">1</td><td style = \"text-align: left;\">01:55:00</td><td style = \"text-align: right;\">1</td></tr><tr><td class = \"rowNumber\" style = \"font-weight: bold; text-align: right;\">2</td><td style = \"text-align: left;\">08:15:00</td><td style = \"text-align: right;\">8</td></tr><tr><td class = \"rowNumber\" style = \"font-weight: bold; text-align: right;\">3</td><td style = \"text-align: left;\">23:15:00</td><td style = \"text-align: right;\">23</td></tr><tr><td class = \"rowNumber\" style = \"font-weight: bold; text-align: right;\">4</td><td style = \"text-align: left;\">17:15:00</td><td style = \"text-align: right;\">17</td></tr><tr><td class = \"rowNumber\" style = \"font-weight: bold; text-align: right;\">5</td><td style = \"text-align: left;\">10:00:00</td><td style = \"text-align: right;\">10</td></tr></tbody></table></div>"
      ],
      "text/latex": [
       "\\begin{tabular}{r|cc}\n",
       "\t& stop\\_time & hour\\\\\n",
       "\t\\hline\n",
       "\t& Time & Int64\\\\\n",
       "\t\\hline\n",
       "\t1 & 01:55:00 & 1 \\\\\n",
       "\t2 & 08:15:00 & 8 \\\\\n",
       "\t3 & 23:15:00 & 23 \\\\\n",
       "\t4 & 17:15:00 & 17 \\\\\n",
       "\t5 & 10:00:00 & 10 \\\\\n",
       "\\end{tabular}\n"
      ],
      "text/plain": [
       "\u001b[1m5×2 DataFrame\u001b[0m\n",
       "\u001b[1m Row \u001b[0m│\u001b[1m stop_time \u001b[0m\u001b[1m hour  \u001b[0m\n",
       "     │\u001b[90m Time      \u001b[0m\u001b[90m Int64 \u001b[0m\n",
       "─────┼──────────────────\n",
       "   1 │ 01:55:00       1\n",
       "   2 │ 08:15:00       8\n",
       "   3 │ 23:15:00      23\n",
       "   4 │ 17:15:00      17\n",
       "   5 │ 10:00:00      10"
      ]
     },
     "execution_count": 29,
     "metadata": {},
     "output_type": "execute_result"
    }
   ],
   "source": [
    "dft = transform(df, :stop_time => ByRow(hour) => :hour)\n",
    "\n",
    "first(dft[!, [:stop_time, :hour]], 5)"
   ]
  },
  {
   "cell_type": "code",
   "execution_count": null,
   "id": "f64a5aa1-5c81-41c7-8aa2-e0eab6b0ded6",
   "metadata": {},
   "outputs": [],
   "source": []
  },
  {
   "cell_type": "code",
   "execution_count": null,
   "id": "82ab2432-213d-4c8d-8ca1-a38147b413e2",
   "metadata": {},
   "outputs": [],
   "source": []
  },
  {
   "cell_type": "code",
   "execution_count": null,
   "id": "027e40fb-1297-489b-8559-f47dc51ae0b4",
   "metadata": {},
   "outputs": [],
   "source": []
  },
  {
   "cell_type": "code",
   "execution_count": null,
   "id": "264b286d-450f-4e28-8f0b-0c1901fce61e",
   "metadata": {},
   "outputs": [],
   "source": []
  },
  {
   "cell_type": "code",
   "execution_count": null,
   "id": "b905663b-85e1-4b73-a451-a957e7cc1de0",
   "metadata": {},
   "outputs": [],
   "source": []
  },
  {
   "cell_type": "code",
   "execution_count": null,
   "id": "d2594ada-d03c-4c07-8e27-e71edd280f02",
   "metadata": {},
   "outputs": [],
   "source": []
  }
 ],
 "metadata": {
  "kernelspec": {
   "display_name": "Julia 1.9.3",
   "language": "julia",
   "name": "julia-1.9"
  },
  "language_info": {
   "file_extension": ".jl",
   "mimetype": "application/julia",
   "name": "julia",
   "version": "1.9.3"
  }
 },
 "nbformat": 4,
 "nbformat_minor": 5
}
