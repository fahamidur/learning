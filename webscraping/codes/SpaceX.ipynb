{
 "cells": [
  {
   "cell_type": "markdown",
   "metadata": {},
   "source": [
    "# Job Postings from SpaceX\n",
    "\n",
    "This code allows you to easily scrap all the jobs postings from SpaceX website"
   ]
  },
  {
   "cell_type": "markdown",
   "metadata": {},
   "source": [
    "Let us first begin by importing the relevant libraries"
   ]
  },
  {
   "cell_type": "code",
   "execution_count": 134,
   "metadata": {},
   "outputs": [],
   "source": [
    "from selenium import webdriver\n",
    "import datetime \n",
    "import pandas as pd"
   ]
  },
  {
   "cell_type": "markdown",
   "metadata": {},
   "source": [
    "Initialize Chome Drive"
   ]
  },
  {
   "cell_type": "code",
   "execution_count": 1,
   "metadata": {
    "collapsed": true
   },
   "outputs": [
    {
     "ename": "NameError",
     "evalue": "name 'webdriver' is not defined",
     "output_type": "error",
     "traceback": [
      "\u001b[0;31m---------------------------------------------------------------------------\u001b[0m",
      "\u001b[0;31mNameError\u001b[0m                                 Traceback (most recent call last)",
      "\u001b[0;32m<ipython-input-1-812ff0683266>\u001b[0m in \u001b[0;36m<module>\u001b[0;34m\u001b[0m\n\u001b[0;32m----> 1\u001b[0;31m \u001b[0mdriver\u001b[0m \u001b[0;34m=\u001b[0m \u001b[0mwebdriver\u001b[0m\u001b[0;34m.\u001b[0m\u001b[0mChrome\u001b[0m\u001b[0;34m(\u001b[0m\u001b[0;34m\"/home/harsh/Documents/Web_Scraping/chromedriver\"\u001b[0m\u001b[0;34m)\u001b[0m\u001b[0;34m\u001b[0m\u001b[0;34m\u001b[0m\u001b[0m\n\u001b[0m",
      "\u001b[0;31mNameError\u001b[0m: name 'webdriver' is not defined"
     ]
    }
   ],
   "source": [
    "driver = webdriver.Chrome(\"/home/harsh/Documents/Web_Scraping/chromedriver\")"
   ]
  },
  {
   "cell_type": "markdown",
   "metadata": {},
   "source": [
    "Open SpaceX Careers Page"
   ]
  },
  {
   "cell_type": "code",
   "execution_count": 136,
   "metadata": {},
   "outputs": [],
   "source": [
    "driver.get(\"https://www.spacex.com/careers/?department=\")"
   ]
  },
  {
   "cell_type": "markdown",
   "metadata": {},
   "source": [
    "Job postings for SpaceX are available in the form of a table.\n",
    "\n",
    "So, let us get all the rows of that table in a list called `jobs`\n",
    "\n",
    "When we do this, the first element of the list is just the column headings, so remove that in the next step."
   ]
  },
  {
   "cell_type": "code",
   "execution_count": 137,
   "metadata": {},
   "outputs": [
    {
     "data": {
      "text/plain": [
       "498"
      ]
     },
     "execution_count": 137,
     "metadata": {},
     "output_type": "execute_result"
    }
   ],
   "source": [
    "jobs = driver.find_elements_by_xpath('//*[@id=\"jobs-list\"]/table/tbody/tr')\n",
    "len(jobs)"
   ]
  },
  {
   "cell_type": "code",
   "execution_count": 138,
   "metadata": {},
   "outputs": [
    {
     "data": {
      "text/plain": [
       "497"
      ]
     },
     "execution_count": 138,
     "metadata": {},
     "output_type": "execute_result"
    }
   ],
   "source": [
    "# Top element is just the heading, so remove it\n",
    "jobs = jobs[1:]\n",
    "len(jobs)"
   ]
  },
  {
   "cell_type": "markdown",
   "metadata": {},
   "source": [
    "Initialize a pandas table to store the data. Name of the table is `jobs_data`"
   ]
  },
  {
   "cell_type": "code",
   "execution_count": 139,
   "metadata": {},
   "outputs": [],
   "source": [
    "jobs_data = pd.DataFrame(columns=['job_title','location','employment_type','url'])"
   ]
  },
  {
   "cell_type": "markdown",
   "metadata": {},
   "source": [
    "This loop will go through each item in the list and get 4 fields, which will be stored in pandas table\n",
    "\n",
    "* Job Title\n",
    "* Location\n",
    "* Employment Type\n",
    "* URL with JD"
   ]
  },
  {
   "cell_type": "code",
   "execution_count": 140,
   "metadata": {},
   "outputs": [],
   "source": [
    "for job in jobs:\n",
    "    job_details = job.find_elements_by_tag_name(\"td\")\n",
    "    \n",
    "    title = job_details[0].text\n",
    "    loc = job_details[1].text\n",
    "    emp_type = job_details[2].text\n",
    "    url = job_details[0].find_element_by_tag_name(\"a\").get_attribute(\"href\")\n",
    "\n",
    "    df = pd.DataFrame({'job_title':title,\n",
    "                       'location': loc,\n",
    "                       'employment_type': emp_type,\n",
    "                       'url': url\n",
    "                      }, index=[0])\n",
    "    \n",
    "    jobs_data=jobs_data.append(df,ignore_index=True)"
   ]
  },
  {
   "cell_type": "code",
   "execution_count": 141,
   "metadata": {},
   "outputs": [
    {
     "data": {
      "text/html": [
       "<div>\n",
       "<style scoped>\n",
       "    .dataframe tbody tr th:only-of-type {\n",
       "        vertical-align: middle;\n",
       "    }\n",
       "\n",
       "    .dataframe tbody tr th {\n",
       "        vertical-align: top;\n",
       "    }\n",
       "\n",
       "    .dataframe thead th {\n",
       "        text-align: right;\n",
       "    }\n",
       "</style>\n",
       "<table border=\"1\" class=\"dataframe\">\n",
       "  <thead>\n",
       "    <tr style=\"text-align: right;\">\n",
       "      <th></th>\n",
       "      <th>job_title</th>\n",
       "      <th>location</th>\n",
       "      <th>employment_type</th>\n",
       "      <th>url</th>\n",
       "    </tr>\n",
       "  </thead>\n",
       "  <tbody>\n",
       "    <tr>\n",
       "      <th>0</th>\n",
       "      <td>Avionics Harness Design Engineer (Starship)</td>\n",
       "      <td>Brownsville, TX, United States</td>\n",
       "      <td>Full-Time</td>\n",
       "      <td>https://boards.greenhouse.io/spacex/jobs/47145...</td>\n",
       "    </tr>\n",
       "    <tr>\n",
       "      <th>1</th>\n",
       "      <td>Avionics Integration Engineer (Falcon)</td>\n",
       "      <td>Hawthorne, CA, United States</td>\n",
       "      <td>Full-Time</td>\n",
       "      <td>https://boards.greenhouse.io/spacex/jobs/46380...</td>\n",
       "    </tr>\n",
       "    <tr>\n",
       "      <th>2</th>\n",
       "      <td>Communication Systems Engineer</td>\n",
       "      <td>Hawthorne, CA, United States</td>\n",
       "      <td>Full-Time</td>\n",
       "      <td>https://boards.greenhouse.io/spacex/jobs/47787...</td>\n",
       "    </tr>\n",
       "    <tr>\n",
       "      <th>3</th>\n",
       "      <td>EEE Interconnect Component Engineer</td>\n",
       "      <td>Hawthorne, CA, United States</td>\n",
       "      <td>Full-Time</td>\n",
       "      <td>https://boards.greenhouse.io/spacex/jobs/46798...</td>\n",
       "    </tr>\n",
       "    <tr>\n",
       "      <th>4</th>\n",
       "      <td>EEE Parts Reliability Engineer, Senior</td>\n",
       "      <td>Hawthorne, CA, United States</td>\n",
       "      <td>Full-Time</td>\n",
       "      <td>https://boards.greenhouse.io/spacex/jobs/46864...</td>\n",
       "    </tr>\n",
       "    <tr>\n",
       "      <th>...</th>\n",
       "      <td>...</td>\n",
       "      <td>...</td>\n",
       "      <td>...</td>\n",
       "      <td>...</td>\n",
       "    </tr>\n",
       "    <tr>\n",
       "      <th>492</th>\n",
       "      <td>Structures Designer (Vehicle Engineering)</td>\n",
       "      <td>Hawthorne, CA, United States</td>\n",
       "      <td>Full-Time</td>\n",
       "      <td>https://boards.greenhouse.io/spacex/jobs/47235...</td>\n",
       "    </tr>\n",
       "    <tr>\n",
       "      <th>493</th>\n",
       "      <td>Structures Engineer (Fabrication)</td>\n",
       "      <td>Brownsville, TX, United States</td>\n",
       "      <td>Full-Time</td>\n",
       "      <td>https://boards.greenhouse.io/spacex/jobs/47174...</td>\n",
       "    </tr>\n",
       "    <tr>\n",
       "      <th>494</th>\n",
       "      <td>Structures Technician (Starship)</td>\n",
       "      <td>Hawthorne, CA, United States</td>\n",
       "      <td>Full-Time</td>\n",
       "      <td>https://boards.greenhouse.io/spacex/jobs/47503...</td>\n",
       "    </tr>\n",
       "    <tr>\n",
       "      <th>495</th>\n",
       "      <td>Welder (Starship)</td>\n",
       "      <td>Hawthorne, CA, United States</td>\n",
       "      <td>Full-Time</td>\n",
       "      <td>https://boards.greenhouse.io/spacex/jobs/47503...</td>\n",
       "    </tr>\n",
       "    <tr>\n",
       "      <th>496</th>\n",
       "      <td>Welding Supervisor (Starship)</td>\n",
       "      <td>Brownsville, TX, United States</td>\n",
       "      <td>Full-Time</td>\n",
       "      <td>https://boards.greenhouse.io/spacex/jobs/46642...</td>\n",
       "    </tr>\n",
       "  </tbody>\n",
       "</table>\n",
       "<p>497 rows × 4 columns</p>\n",
       "</div>"
      ],
      "text/plain": [
       "                                       job_title  \\\n",
       "0    Avionics Harness Design Engineer (Starship)   \n",
       "1         Avionics Integration Engineer (Falcon)   \n",
       "2                 Communication Systems Engineer   \n",
       "3            EEE Interconnect Component Engineer   \n",
       "4         EEE Parts Reliability Engineer, Senior   \n",
       "..                                           ...   \n",
       "492    Structures Designer (Vehicle Engineering)   \n",
       "493            Structures Engineer (Fabrication)   \n",
       "494             Structures Technician (Starship)   \n",
       "495                            Welder (Starship)   \n",
       "496                Welding Supervisor (Starship)   \n",
       "\n",
       "                           location employment_type  \\\n",
       "0    Brownsville, TX, United States       Full-Time   \n",
       "1      Hawthorne, CA, United States       Full-Time   \n",
       "2      Hawthorne, CA, United States       Full-Time   \n",
       "3      Hawthorne, CA, United States       Full-Time   \n",
       "4      Hawthorne, CA, United States       Full-Time   \n",
       "..                              ...             ...   \n",
       "492    Hawthorne, CA, United States       Full-Time   \n",
       "493  Brownsville, TX, United States       Full-Time   \n",
       "494    Hawthorne, CA, United States       Full-Time   \n",
       "495    Hawthorne, CA, United States       Full-Time   \n",
       "496  Brownsville, TX, United States       Full-Time   \n",
       "\n",
       "                                                   url  \n",
       "0    https://boards.greenhouse.io/spacex/jobs/47145...  \n",
       "1    https://boards.greenhouse.io/spacex/jobs/46380...  \n",
       "2    https://boards.greenhouse.io/spacex/jobs/47787...  \n",
       "3    https://boards.greenhouse.io/spacex/jobs/46798...  \n",
       "4    https://boards.greenhouse.io/spacex/jobs/46864...  \n",
       "..                                                 ...  \n",
       "492  https://boards.greenhouse.io/spacex/jobs/47235...  \n",
       "493  https://boards.greenhouse.io/spacex/jobs/47174...  \n",
       "494  https://boards.greenhouse.io/spacex/jobs/47503...  \n",
       "495  https://boards.greenhouse.io/spacex/jobs/47503...  \n",
       "496  https://boards.greenhouse.io/spacex/jobs/46642...  \n",
       "\n",
       "[497 rows x 4 columns]"
      ]
     },
     "execution_count": 141,
     "metadata": {},
     "output_type": "execute_result"
    }
   ],
   "source": [
    "jobs_data"
   ]
  },
  {
   "cell_type": "markdown",
   "metadata": {},
   "source": [
    "Now save the scraped data with current time stamp"
   ]
  },
  {
   "cell_type": "code",
   "execution_count": 142,
   "metadata": {},
   "outputs": [],
   "source": [
    "curr_time = datetime.datetime.now()\n",
    "curr_time_str = str(curr_time).split('.')[0].replace('-','_').replace(':','').replace(' ','_')\n",
    "\n",
    "jobs_data.to_csv(\"spacex_jobs_\" + curr_time_str + \".csv\")"
   ]
  }
 ],
 "metadata": {
  "kernelspec": {
   "display_name": "Python 3",
   "language": "python",
   "name": "python3"
  },
  "language_info": {
   "codemirror_mode": {
    "name": "ipython",
    "version": 3
   },
   "file_extension": ".py",
   "mimetype": "text/x-python",
   "name": "python",
   "nbconvert_exporter": "python",
   "pygments_lexer": "ipython3",
   "version": "3.6.9"
  }
 },
 "nbformat": 4,
 "nbformat_minor": 4
}
