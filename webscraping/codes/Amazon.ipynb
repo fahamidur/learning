{
 "cells": [
  {
   "cell_type": "markdown",
   "metadata": {},
   "source": [
    "# Amazon Product Details\n",
    "\n",
    "This code scraps product details from Amazon"
   ]
  },
  {
   "cell_type": "code",
   "execution_count": 33,
   "metadata": {},
   "outputs": [],
   "source": [
    "from selenium import webdriver\n",
    "from selenium.webdriver.chrome.options import Options\n",
    "\n",
    "import pandas as pd\n",
    "import datetime\n",
    "import os.path"
   ]
  },
  {
   "cell_type": "markdown",
   "metadata": {},
   "source": [
    "**Function** `get_product_data`\n",
    "\n",
    "    Returns production information from a particular URL\n",
    "\n",
    "    Input: Product Page URL\n",
    "    Output: Scraped product information in dict"
   ]
  },
  {
   "cell_type": "code",
   "execution_count": 34,
   "metadata": {},
   "outputs": [],
   "source": [
    "def get_product_data(url):\n",
    "    driver.get(url)\n",
    "    prod_title = driver.find_element_by_id(\"productTitle\").text\n",
    "\n",
    "    try:\n",
    "        by_info = driver.find_element_by_id(\"bylineInfo\").text\n",
    "    except:\n",
    "        by_info =  ''\n",
    "\n",
    "    try:\n",
    "        avg_cust_review = driver.find_element_by_id(\"acrPopover\").get_attribute(\"title\")\n",
    "    except:\n",
    "        avg_cust_review = ''\n",
    "\n",
    "\n",
    "    try:\n",
    "        num_reviews = driver.find_element_by_id(\"acrCustomerReviewText\").text.split(\" \")[0]\n",
    "    except:\n",
    "        num_reviews = ''\n",
    "\n",
    "    try:\n",
    "        price = driver.find_element_by_id(\"priceblock_ourprice\").text\n",
    "    except:\n",
    "        price = ''\n",
    "\n",
    "    if price ==  '':\n",
    "        try:\n",
    "            price = driver.find_element_by_id(\"priceblock_saleprice\").text\n",
    "        except:\n",
    "            price = ''\n",
    "    \n",
    "    try:\n",
    "        seller_name = driver.find_element_by_id('sellerProfileTriggerId').text\n",
    "    except:\n",
    "        seller_name = ''\n",
    "    \n",
    "    try:\n",
    "        details = [icon.text for icon in driver.find_elements_by_xpath('//div[@id=\"icon-farm-container\"]//span[@class=\"a-size-small\"]')]\n",
    "        details = \", \".join(details)\n",
    "    except:\n",
    "        details = ''\n",
    "    \n",
    "    product_data = {'prod_title': prod_title,\n",
    "                    'by_info' : by_info,\n",
    "                    'price': price,\n",
    "                    'avg_cust_review': avg_cust_review,\n",
    "                    'num_reviews': num_reviews,\n",
    "                    'seller_name': seller_name,\n",
    "                    'details': details,\n",
    "                    'url' : url}\n",
    "    \n",
    "    print(\"Scraped: \" + prod_title, by_info, price, avg_cust_review, num_reviews, seller_name, details, '\\n')\n",
    "    \n",
    "    return product_data"
   ]
  },
  {
   "cell_type": "markdown",
   "metadata": {},
   "source": [
    "**Function** `get_search_result_urls`\n",
    "\n",
    "    Returns list of URLs from a search page\n",
    "\n",
    "    Input: None\n",
    "    Output: Links of product URLs from the search page"
   ]
  },
  {
   "cell_type": "code",
   "execution_count": 35,
   "metadata": {},
   "outputs": [],
   "source": [
    "#if \"slredirect\" in link:\n",
    "    #    prod_links_sponsored.append(link)\n",
    "\n",
    "def get_search_result_urls():\n",
    "    urls = []\n",
    "    count=1\n",
    "    \n",
    "    while True:\n",
    "        # Get list of all urls on the page\n",
    "        urls += [result.get_attribute('href')\n",
    "                 for result in driver.find_elements_by_xpath('//div[@data-component-type=\"s-search-result\"]//h2/a')]\n",
    "        \n",
    "        print('Urls till Page' + str(count) + ': ' + str(len(urls)) + '')\n",
    "        \n",
    "        # Click on Next Button\n",
    "        try:\n",
    "            next_page_link = driver.find_element_by_xpath('//li[@class=\"a-last\"]/a').get_attribute('href')\n",
    "            driver.get(next_page_link)\n",
    "            count += 1\n",
    "        except:\n",
    "            break\n",
    "    \n",
    "    print(\"\\n\\n\")\n",
    "    \n",
    "    for url in urls:\n",
    "        if \"redirect\" in url:\n",
    "            urls.remove(url)\n",
    "    \n",
    "    print(\"Total URLs: \" + str(len(urls)) + \"\\n\\n\")\n",
    "    \n",
    "    return urls"
   ]
  },
  {
   "cell_type": "markdown",
   "metadata": {},
   "source": [
    "#### User Inputs\n",
    "\n",
    "1. Term which would be searched on Amazon.in\n",
    "2. The output file is of the format: `amazon_{search_term}.csv`"
   ]
  },
  {
   "cell_type": "code",
   "execution_count": 36,
   "metadata": {},
   "outputs": [],
   "source": [
    "search_term = \"redmi 6a phone\"\n",
    "\n",
    "output_file_name = '../data/amazon_' + search_term + '.csv'"
   ]
  },
  {
   "cell_type": "markdown",
   "metadata": {},
   "source": [
    "#### Output File\n",
    "\n",
    "If the file exists then read it, else create the file"
   ]
  },
  {
   "cell_type": "code",
   "execution_count": 44,
   "metadata": {},
   "outputs": [
    {
     "name": "stdout",
     "output_type": "stream",
     "text": [
      "File exists\n"
     ]
    },
    {
     "data": {
      "text/plain": [
       "171"
      ]
     },
     "execution_count": 44,
     "metadata": {},
     "output_type": "execute_result"
    }
   ],
   "source": [
    "if os.path.isfile(output_file_name):\n",
    "    print(\"File exists\")\n",
    "    product_data_df = pd.read_csv(output_file_name)\n",
    "    num_urls_scraped = len(product_data_df)\n",
    "\n",
    "else:\n",
    "    print(\"File not exists\")\n",
    "    product_data_df = pd.DataFrame(columns=['prod_title','by_info','price','avg_cust_review',\n",
    "                                  'num_reviews','seller_name','details','url'])\n",
    "    \n",
    "    product_data_df.to_csv(output_file_name, index=False)\n",
    "    num_urls_scraped = 0\n",
    "\n",
    "num_urls_scraped"
   ]
  },
  {
   "cell_type": "markdown",
   "metadata": {},
   "source": [
    "Initialize Chome Drive"
   ]
  },
  {
   "cell_type": "code",
   "execution_count": 38,
   "metadata": {},
   "outputs": [],
   "source": [
    "driver = webdriver.Chrome(\"/home/harsh/Documents/Web_Scraping/chromedriver\")"
   ]
  },
  {
   "cell_type": "markdown",
   "metadata": {},
   "source": [
    "Open Amazon.in website"
   ]
  },
  {
   "cell_type": "code",
   "execution_count": 39,
   "metadata": {},
   "outputs": [],
   "source": [
    "driver.get('https://www.amazon.in/')"
   ]
  },
  {
   "cell_type": "markdown",
   "metadata": {},
   "source": [
    "Put the search term in search bar and go to results page"
   ]
  },
  {
   "cell_type": "code",
   "execution_count": 40,
   "metadata": {},
   "outputs": [],
   "source": [
    "search_box = driver.find_element_by_id('twotabsearchtextbox')\n",
    "search_box.clear()\n",
    "search_box.click()\n",
    "search_box.send_keys(search_term)\n",
    "driver.find_element_by_xpath('//input[@type=\"submit\"]').click()\n",
    "driver.implicitly_wait(5)"
   ]
  },
  {
   "cell_type": "markdown",
   "metadata": {},
   "source": [
    "Get the list of URLs for from the search results"
   ]
  },
  {
   "cell_type": "code",
   "execution_count": 41,
   "metadata": {},
   "outputs": [
    {
     "name": "stdout",
     "output_type": "stream",
     "text": [
      "Urls till Page1: 13\n",
      "Urls till Page2: 30\n",
      "Urls till Page3: 47\n",
      "Urls till Page4: 64\n",
      "Urls till Page5: 80\n",
      "Urls till Page6: 96\n",
      "Urls till Page7: 112\n",
      "Urls till Page8: 128\n",
      "Urls till Page9: 144\n",
      "Urls till Page10: 160\n",
      "Urls till Page11: 176\n",
      "Urls till Page12: 192\n",
      "Urls till Page13: 208\n",
      "Urls till Page14: 224\n",
      "Urls till Page15: 226\n",
      "\n",
      "\n",
      "\n",
      "Total URLs: 221\n",
      "\n",
      "\n"
     ]
    }
   ],
   "source": [
    "urls = get_search_result_urls()"
   ]
  },
  {
   "cell_type": "markdown",
   "metadata": {},
   "source": [
    "Scrap the data on product URLs by looping through the list of URLs"
   ]
  },
  {
   "cell_type": "code",
   "execution_count": 45,
   "metadata": {},
   "outputs": [
    {
     "name": "stdout",
     "output_type": "stream",
     "text": [
      "Scraped: Gionee P7 (White, 16 GB)- Brand: Gionee  2.0 out of 5 stars 9  7 Days Replacement \n",
      "\n",
      "Scraped: itel itL6005 Vision1 (Gradation Blue, 2GB RAM, 32GB Storage) Brand: itel  5.0 out of 5 stars 2  7 Days Replacement, 1 Year Warranty \n",
      "\n",
      "Scraped: Douzo Knight D51 (8GB ROM) (1GB RAM) (Gold) Brand: Douzo ₹ 4,900.00 3.9 out of 5 stars 3 Shivansh mobile No-Contact Delivery, 7 Days Replacement, Amazon Delivered, 1 Year Warranty \n",
      "\n",
      "Scraped: Vivo Y15 4 GB ROM (White) Brand: Vivo  3.0 out of 5 stars 3  7 Days Replacement, Warranty Policy \n",
      "\n",
      "Scraped: Nillkin Case for Apple iPhone X (5.8\" Inch) Air Case PC Material Matte Finish Ventilated Scratch Resist with Logo Cut Red Color Brand: Nillkin ₹ 1,799.00   Daily Shoppers 10 days Returnable, 1 Year Warranty \n",
      "\n",
      "Scraped: Gionee P5 Mini (Blue) Brand: Gionee  3.3 out of 5 stars 13  7 Days Replacement, 1 Year Warranty \n",
      "\n",
      "Scraped: Micromax Canvas 4 Plus A315 (White-Gold, 16GB)-3G Visit the Micromax Store  3.1 out of 5 stars 218  7 Days Replacement, 1 Year Warranty \n",
      "\n",
      "Scraped: Lenovo K6 Note (Dark Grey) Visit the Lenovo Store  3.8 out of 5 stars 189  7 Days Replacement, 1 Year Warranty \n",
      "\n",
      "Scraped: Gionee Pioneer P5L (Yellow) Brand: Gionee     7 Days Replacement, 1 Year Warranty \n",
      "\n",
      "Scraped: Xolo A500 Club (Blue) Brand: XOLO  3.2 out of 5 stars 17  7 Days Replacement, 1 Year Warranty \n",
      "\n",
      "Scraped: Lava Iris X8 (Black, 2GB RAM, 16GB) Brand: Lava  3.7 out of 5 stars 405  7 Days Replacement, 1 Year Warranty \n",
      "\n",
      "Scraped: Generic Rubber All Sides Protection Back Cover for Samsung A10 (Transparent) Shockproof Brand: Generic ₹ 194.00   GADGETS. No-Contact Delivery, 10 Days Returnable, Amazon Delivered, 5 Year Warranty \n",
      "\n",
      "Scraped: Honor Bee 4G (White, 8GB) Visit the Honor Store     7 Days Replacement \n",
      "\n",
      "Scraped: Nillkin Case for Xiaomi Mi A3 A 3 Qin Genuine Classic Leather Flip Folio + Card Slot Red Color Brand: Nillkin ₹ 1,499.00   Daily Shoppers 7 Days Replacement, 1 Year Warranty \n",
      "\n",
      "Scraped: Gionee P5W (Blue) Brand: Gionee  3.3 out of 5 stars 208  7 Days Replacement, 1 Year Warranty \n",
      "\n",
      "Scraped: (Renewed) Xiaomi Mi A3 (Not Just Blue, 4GB RAM, 64GB Storage) Brand: Amazon Renewed ₹ 14,999.00 5.0 out of 5 stars 1 YNEW No-Contact Delivery, 7 Days Replacement, Amazon Delivered, 6 Month Warranty \n",
      "\n",
      "Scraped: Do Mobile Mate-1 Dual Sim, Volte, Android, 4G Smartphone - (Gold) Brand: Do Mobile  2.3 out of 5 stars 6  7 Days Replacement, 1 Year Warranty \n",
      "\n",
      "Scraped: Honor Bee 4G (White) Visit the Honor Store  3.4 out of 5 stars 36  7 Days Replacement, 1 Year Warranty \n",
      "\n",
      "Scraped: Nillkin Case for Xiaomi Redmi Note 9 Pro/Note 9 Pro Max/Poco M2 Pro (6.67\" Inch) CamShield Camera Close & Open Case Protect Black Color PC Finish Brand: Nillkin ₹ 990.00   iAccessorize India No-Contact Delivery, 7 Days Replacement, Amazon Delivered, 1 Year Warranty \n",
      "\n",
      "Scraped: Nillkin Case for Xiaomi Redmi Note 8 (6.3\" Inch) Qin Genuine Classic Leather Flip Folio + Card Slot Brown Color Brand: Nillkin ₹ 1,499.00   Daily Shoppers 7 Days Replacement, 1 Year Warranty \n",
      "\n",
      "Scraped: Gionee A1 (Black, 64GB) Brand: Gionee  3.5 out of 5 stars 744  7 Days Replacement, 2 Year Warranty \n",
      "\n",
      "Scraped: Lava Z90 (Gold, 32GB) Brand: Lava  3.7 out of 5 stars 86  7 Days Replacement, 2 Year Warranty \n",
      "\n",
      "Scraped: Nillkin Case for Oppo Realme Real Me 6 (6.5\" Inch) Super Frosted Hard Back Cover PC Black Color Brand: Nillkin ₹ 1,199.00   Daily Shoppers 7 Days Replacement, 1 Year Warranty \n",
      "\n",
      "Scraped: Lava V2 3GB (Gold) Brand: Lava  3.2 out of 5 stars 77  7 Days Replacement, 1 Year Warranty \n",
      "\n",
      "Scraped: Honor Bee 4G (Gold, 8GB) Visit the Honor Store  3.8 out of 5 stars 674  7 Days Replacement, 1 Year Warranty \n",
      "\n",
      "Scraped: OtterBox Symmetry Clear Series 77-54566 Smartphone Case for Samsung Galaxy S8 (Clear) Visit the OtterBox Store  4.1 out of 5 stars 192  10 days Returnable, 1 Year Warranty \n",
      "\n",
      "Scraped: Lenovo A6600 (Black) Visit the Lenovo Store  3.0 out of 5 stars 103  7 Days Replacement, 1 Year Warranty \n",
      "\n",
      "Scraped: Nillkin Case for Nokia 7.2/6.2 (6.3\" Inch) Super Frosted Hard Back Cover PC White Color Brand: Nillkin ₹ 1,299.00   Daily Shoppers 7 Days Replacement, 1 Year Warranty \n",
      "\n",
      "Scraped: Panasonic T50 (Midnight Blue) Visit the Panasonic Store  2.5 out of 5 stars 70  7 Days Replacement, 1 Year Warranty \n",
      "\n",
      "Scraped: GIONEE S10 LITE (BLACK 4GB,32GB) Brand: Gionee ₹ 10,999.00 3.2 out of 5 stars 52 Technogazet No-Contact Delivery, 7 Days Replacement, Amazon Delivered, 1 Year Warranty \n",
      "\n",
      "Scraped: Honor 9 Lite (Sapphire Blue, 4GB RAM, 64GB Storage) Visit the Honor Store  3.9 out of 5 stars 261  7 Days Replacement, 1 Year Warranty \n",
      "\n",
      "Scraped: LYF C 459 Blue Mobile Phone Brand: LYF  3.2 out of 5 stars 18  10 Days Returnable, 1 Year Warranty \n",
      "\n",
      "Scraped: Honor 5X (Gold, 16GB) Visit the Honor Store  3.5 out of 5 stars 20  7 Days Replacement \n",
      "\n",
      "Scraped: Gionee F103 Pro (Grey) Brand: Gionee ₹ 9,699.00 3.4 out of 5 stars 88 online mkt No-Contact Delivery, 7 Days Replacement, Amazon Delivered, 1 Year Warranty \n",
      "\n",
      "Scraped: Lenovo A680 (Black) Visit the Lenovo Store  3.7 out of 5 stars 329  7 Days Replacement, 1 Year Warranty \n",
      "\n",
      "Scraped: Yu Yunicorn (Silver Rush, 32 GB) Brand: YU  3.4 out of 5 stars 116  7 Days Replacement, Warranty Policy \n",
      "\n",
      "Scraped: Lava A97 (Black-Gold, Volte) Brand: Lava  3.0 out of 5 stars 74  7 Days Replacement, 2 Year Warranty \n",
      "\n",
      "Scraped: Lenovo A2010 (Grey) Visit the Lenovo Store  3.7 out of 5 stars 113  7 Days Replacement, 1 Year Warranty \n",
      "\n",
      "Scraped: Lenovo K3 Note Music (Onyx Black) Visit the Lenovo Store  3.2 out of 5 stars 41  7 Days Replacement, 1 Year Warranty \n",
      "\n",
      "Scraped: Lava X10 (White) Brand: Lava  3.4 out of 5 stars 73  7 Days Replacement, 1 Year Warranty \n",
      "\n",
      "Scraped: Gionee F103 (White) Brand: Gionee  2.7 out of 5 stars 35  7 Days Replacement \n",
      "\n",
      "Scraped: Itel it5613 Mobile Phone(Champagne Gold) Brand: itel  3.0 out of 5 stars 5  7 Days Replacement, Warranty Policy \n",
      "\n",
      "Scraped: Lava Iris X8 (White, 2GB RAM, 16GB) Brand: Lava  3.7 out of 5 stars 405  7 Days Replacement, 1 Year Warranty \n",
      "\n",
      "Scraped: YUHO Y1 Mobile - Sky Grey Android 6.0, Android Smart Phone Metallic Design Brand: YUHO  1.0 out of 5 stars 1  7 Days Replacement, Warranty Policy \n",
      "\n",
      "Scraped: Otterbox Symmetry Clear Series Case With Drop/Shock Protection For iPhone X - Grey Visit the OtterBox Store ₹ 2,999.00 4.4 out of 5 stars 812 Daily Shoppers No-Contact Delivery, 10 Days Returnable, Amazon Delivered, Warranty Policy \n",
      "\n",
      "Scraped: Panasonic P65 Flash (1GB RAM, 8GB ROM, Silver) Visit the Panasonic Store  3.2 out of 5 stars 8  7 Days Replacement \n",
      "\n",
      "Scraped: Kult Ambition (Black, 32GB) Brand: Kult  2.6 out of 5 stars 119  7 Days Replacement, 1 Year Warranty \n",
      "\n",
      "Scraped: Gionee S6 Pro (Rose Gold) Brand: Gionee  3.1 out of 5 stars 90  7 Days Replacement, 1 Year Warranty \n",
      "\n",
      "Scraped: Gionee s6 Smartphone (Gold) Brand: Gionee ₹ 15,999.00 3.2 out of 5 stars 71 jain_electronics No-Contact Delivery, 7 Days Replacement, Amazon Delivered, 1 Year Warranty \n",
      "\n",
      "Scraped: Panasonic Eluga Arc 2 (Rose Gold) Visit the Panasonic Store  3.0 out of 5 stars 132  7 Days Replacement, 1 Year Warranty \n",
      "\n"
     ]
    }
   ],
   "source": [
    "i = num_urls_scraped\n",
    "\n",
    "while i<len(urls):\n",
    "    url = urls[i]\n",
    "    product_data = get_product_data(url)\n",
    "    \n",
    "    product_data_df = pd.DataFrame(product_data, index=[0])\n",
    "    product_data_df.to_csv(output_file_name, mode='a', index=False, header=False)\n",
    "    \n",
    "    i+=1"
   ]
  },
  {
   "cell_type": "code",
   "execution_count": null,
   "metadata": {},
   "outputs": [],
   "source": []
  }
 ],
 "metadata": {
  "kernelspec": {
   "display_name": "Python 3",
   "language": "python",
   "name": "python3"
  },
  "language_info": {
   "codemirror_mode": {
    "name": "ipython",
    "version": 3
   },
   "file_extension": ".py",
   "mimetype": "text/x-python",
   "name": "python",
   "nbconvert_exporter": "python",
   "pygments_lexer": "ipython3",
   "version": "3.6.9"
  }
 },
 "nbformat": 4,
 "nbformat_minor": 4
}
